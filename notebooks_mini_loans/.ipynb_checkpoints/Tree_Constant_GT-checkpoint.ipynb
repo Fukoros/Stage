{
 "cells": [
  {
   "cell_type": "code",
   "execution_count": 1,
   "metadata": {},
   "outputs": [],
   "source": [
    "import pandas as pd\n",
    "import numpy as np\n",
    "import sklearn.tree as tree\n",
    "from sklearn.model_selection import train_test_split\n",
    "import matplotlib.pyplot as plt\n",
    "import os.path\n",
    "from os import path\n",
    "from sklearn.model_selection import KFold\n",
    "from multiprocessing import Process, Manager, SimpleQueue\n",
    "import multiprocessing\n",
    "import shutil\n",
    "import sys\n",
    "import time\n",
    "from sklearn.metrics import accuracy_score\n",
    "from rules import *\n",
    "from vote import *\n",
    "from save_amie_data import *\n",
    "from precision import *\n",
    "from amie import *\n",
    "\n",
    "root = \"./../../Tree_Constant_GT/\"\n",
    "cv = 3\n",
    "limit_tree = 0.7\n",
    "\n",
    "colors_to_print = [\"red\",  \"blue\", \"orange\",  \"violet\", \"darkgrey\", \"darkred\", \"darkblue\", \"darkorange\", \"darkviolet\", \"grey\"]"
   ]
  },
  {
   "cell_type": "markdown",
   "metadata": {},
   "source": [
    "# 1° Load data"
   ]
  },
  {
   "cell_type": "code",
   "execution_count": 2,
   "metadata": {},
   "outputs": [],
   "source": [
    "data = pd.read_csv(\"./../Data/miniloan-decisions-100K.csv\")"
   ]
  },
  {
   "cell_type": "code",
   "execution_count": 3,
   "metadata": {},
   "outputs": [
    {
     "data": {
      "text/html": [
       "<div>\n",
       "<style scoped>\n",
       "    .dataframe tbody tr th:only-of-type {\n",
       "        vertical-align: middle;\n",
       "    }\n",
       "\n",
       "    .dataframe tbody tr th {\n",
       "        vertical-align: top;\n",
       "    }\n",
       "\n",
       "    .dataframe thead th {\n",
       "        text-align: right;\n",
       "    }\n",
       "</style>\n",
       "<table border=\"1\" class=\"dataframe\">\n",
       "  <thead>\n",
       "    <tr style=\"text-align: right;\">\n",
       "      <th></th>\n",
       "      <th>name</th>\n",
       "      <th>creditScore</th>\n",
       "      <th>income</th>\n",
       "      <th>loanAmount</th>\n",
       "      <th>monthDuration</th>\n",
       "      <th>rate</th>\n",
       "      <th>approval</th>\n",
       "      <th>yearlyReimbursement</th>\n",
       "    </tr>\n",
       "  </thead>\n",
       "  <tbody>\n",
       "    <tr>\n",
       "      <th>0</th>\n",
       "      <td>John Doe</td>\n",
       "      <td>736</td>\n",
       "      <td>113243</td>\n",
       "      <td>783440</td>\n",
       "      <td>162</td>\n",
       "      <td>0.030005</td>\n",
       "      <td>false</td>\n",
       "      <td>70648</td>\n",
       "    </tr>\n",
       "    <tr>\n",
       "      <th>1</th>\n",
       "      <td>John Doe</td>\n",
       "      <td>527</td>\n",
       "      <td>224186</td>\n",
       "      <td>1787385</td>\n",
       "      <td>183</td>\n",
       "      <td>0.054819</td>\n",
       "      <td>false</td>\n",
       "      <td>173197</td>\n",
       "    </tr>\n",
       "    <tr>\n",
       "      <th>2</th>\n",
       "      <td>John Doe</td>\n",
       "      <td>460</td>\n",
       "      <td>39954</td>\n",
       "      <td>1733494</td>\n",
       "      <td>75</td>\n",
       "      <td>0.055183</td>\n",
       "      <td>false</td>\n",
       "      <td>328563</td>\n",
       "    </tr>\n",
       "    <tr>\n",
       "      <th>3</th>\n",
       "      <td>John Doe</td>\n",
       "      <td>751</td>\n",
       "      <td>219998</td>\n",
       "      <td>1350004</td>\n",
       "      <td>72</td>\n",
       "      <td>0.043400</td>\n",
       "      <td>false</td>\n",
       "      <td>255970</td>\n",
       "    </tr>\n",
       "    <tr>\n",
       "      <th>4</th>\n",
       "      <td>John Doe</td>\n",
       "      <td>684</td>\n",
       "      <td>72470</td>\n",
       "      <td>1210944</td>\n",
       "      <td>160</td>\n",
       "      <td>0.037772</td>\n",
       "      <td>false</td>\n",
       "      <td>115742</td>\n",
       "    </tr>\n",
       "    <tr>\n",
       "      <th>...</th>\n",
       "      <td>...</td>\n",
       "      <td>...</td>\n",
       "      <td>...</td>\n",
       "      <td>...</td>\n",
       "      <td>...</td>\n",
       "      <td>...</td>\n",
       "      <td>...</td>\n",
       "      <td>...</td>\n",
       "    </tr>\n",
       "    <tr>\n",
       "      <th>99995</th>\n",
       "      <td>John Doe</td>\n",
       "      <td>366</td>\n",
       "      <td>83851</td>\n",
       "      <td>1718571</td>\n",
       "      <td>168</td>\n",
       "      <td>0.053737</td>\n",
       "      <td>false</td>\n",
       "      <td>174928</td>\n",
       "    </tr>\n",
       "    <tr>\n",
       "      <th>99996</th>\n",
       "      <td>John Doe</td>\n",
       "      <td>395</td>\n",
       "      <td>184259</td>\n",
       "      <td>1599473</td>\n",
       "      <td>90</td>\n",
       "      <td>0.040564</td>\n",
       "      <td>false</td>\n",
       "      <td>247703</td>\n",
       "    </tr>\n",
       "    <tr>\n",
       "      <th>99997</th>\n",
       "      <td>John Doe</td>\n",
       "      <td>674</td>\n",
       "      <td>242620</td>\n",
       "      <td>1099790</td>\n",
       "      <td>260</td>\n",
       "      <td>0.040825</td>\n",
       "      <td>false</td>\n",
       "      <td>76557</td>\n",
       "    </tr>\n",
       "    <tr>\n",
       "      <th>99998</th>\n",
       "      <td>John Doe</td>\n",
       "      <td>420</td>\n",
       "      <td>180957</td>\n",
       "      <td>1645870</td>\n",
       "      <td>203</td>\n",
       "      <td>0.049558</td>\n",
       "      <td>false</td>\n",
       "      <td>143897</td>\n",
       "    </tr>\n",
       "    <tr>\n",
       "      <th>99999</th>\n",
       "      <td>John Doe</td>\n",
       "      <td>699</td>\n",
       "      <td>102769</td>\n",
       "      <td>665190</td>\n",
       "      <td>244</td>\n",
       "      <td>0.058460</td>\n",
       "      <td>false</td>\n",
       "      <td>55993</td>\n",
       "    </tr>\n",
       "  </tbody>\n",
       "</table>\n",
       "<p>100000 rows × 8 columns</p>\n",
       "</div>"
      ],
      "text/plain": [
       "           name  creditScore  income  loanAmount  monthDuration      rate  \\\n",
       "0      John Doe          736  113243      783440            162  0.030005   \n",
       "1      John Doe          527  224186     1787385            183  0.054819   \n",
       "2      John Doe          460   39954     1733494             75  0.055183   \n",
       "3      John Doe          751  219998     1350004             72  0.043400   \n",
       "4      John Doe          684   72470     1210944            160  0.037772   \n",
       "...         ...          ...     ...         ...            ...       ...   \n",
       "99995  John Doe          366   83851     1718571            168  0.053737   \n",
       "99996  John Doe          395  184259     1599473             90  0.040564   \n",
       "99997  John Doe          674  242620     1099790            260  0.040825   \n",
       "99998  John Doe          420  180957     1645870            203  0.049558   \n",
       "99999  John Doe          699  102769      665190            244  0.058460   \n",
       "\n",
       "      approval  yearlyReimbursement  \n",
       "0        false                70648  \n",
       "1        false               173197  \n",
       "2        false               328563  \n",
       "3        false               255970  \n",
       "4        false               115742  \n",
       "...        ...                  ...  \n",
       "99995    false               174928  \n",
       "99996    false               247703  \n",
       "99997    false                76557  \n",
       "99998    false               143897  \n",
       "99999    false                55993  \n",
       "\n",
       "[100000 rows x 8 columns]"
      ]
     },
     "execution_count": 3,
     "metadata": {},
     "output_type": "execute_result"
    }
   ],
   "source": [
    "data"
   ]
  },
  {
   "cell_type": "markdown",
   "metadata": {},
   "source": [
    "# Ratios"
   ]
  },
  {
   "cell_type": "code",
   "execution_count": 4,
   "metadata": {},
   "outputs": [],
   "source": [
    "ratio_names = [(\"income\",\"yearlyReimbursement\"), (\"income\",\"loanAmount\"), (\"loanAmount\",\"rate\")]"
   ]
  },
  {
   "cell_type": "code",
   "execution_count": 5,
   "metadata": {},
   "outputs": [],
   "source": [
    "# Takes two features and will create the ratio f_0/f_1\n",
    "def create_features_ratio(data):\n",
    "    if data[data.index[1]] == 0:\n",
    "        return 2147483647\n",
    "    return np.round(data[data.index[0]]/data[data.index[1]], decimals=2)"
   ]
  },
  {
   "cell_type": "code",
   "execution_count": 6,
   "metadata": {},
   "outputs": [],
   "source": [
    "for ratio_name in ratio_names:\n",
    "    data[f\"{ratio_name[0]}/{ratio_name[1]}\"] = data[[ratio_name[0], ratio_name[1]]].apply(create_features_ratio, axis=1)"
   ]
  },
  {
   "cell_type": "code",
   "execution_count": 7,
   "metadata": {},
   "outputs": [
    {
     "data": {
      "text/html": [
       "<div>\n",
       "<style scoped>\n",
       "    .dataframe tbody tr th:only-of-type {\n",
       "        vertical-align: middle;\n",
       "    }\n",
       "\n",
       "    .dataframe tbody tr th {\n",
       "        vertical-align: top;\n",
       "    }\n",
       "\n",
       "    .dataframe thead th {\n",
       "        text-align: right;\n",
       "    }\n",
       "</style>\n",
       "<table border=\"1\" class=\"dataframe\">\n",
       "  <thead>\n",
       "    <tr style=\"text-align: right;\">\n",
       "      <th></th>\n",
       "      <th>name</th>\n",
       "      <th>creditScore</th>\n",
       "      <th>income</th>\n",
       "      <th>loanAmount</th>\n",
       "      <th>monthDuration</th>\n",
       "      <th>rate</th>\n",
       "      <th>approval</th>\n",
       "      <th>yearlyReimbursement</th>\n",
       "      <th>income/yearlyReimbursement</th>\n",
       "      <th>income/loanAmount</th>\n",
       "      <th>loanAmount/rate</th>\n",
       "    </tr>\n",
       "  </thead>\n",
       "  <tbody>\n",
       "    <tr>\n",
       "      <th>0</th>\n",
       "      <td>John Doe</td>\n",
       "      <td>736</td>\n",
       "      <td>113243</td>\n",
       "      <td>783440</td>\n",
       "      <td>162</td>\n",
       "      <td>0.030005</td>\n",
       "      <td>false</td>\n",
       "      <td>70648</td>\n",
       "      <td>1.60</td>\n",
       "      <td>0.14</td>\n",
       "      <td>26110372.80</td>\n",
       "    </tr>\n",
       "    <tr>\n",
       "      <th>1</th>\n",
       "      <td>John Doe</td>\n",
       "      <td>527</td>\n",
       "      <td>224186</td>\n",
       "      <td>1787385</td>\n",
       "      <td>183</td>\n",
       "      <td>0.054819</td>\n",
       "      <td>false</td>\n",
       "      <td>173197</td>\n",
       "      <td>1.29</td>\n",
       "      <td>0.13</td>\n",
       "      <td>32605003.59</td>\n",
       "    </tr>\n",
       "    <tr>\n",
       "      <th>2</th>\n",
       "      <td>John Doe</td>\n",
       "      <td>460</td>\n",
       "      <td>39954</td>\n",
       "      <td>1733494</td>\n",
       "      <td>75</td>\n",
       "      <td>0.055183</td>\n",
       "      <td>false</td>\n",
       "      <td>328563</td>\n",
       "      <td>0.12</td>\n",
       "      <td>0.02</td>\n",
       "      <td>31413368.70</td>\n",
       "    </tr>\n",
       "    <tr>\n",
       "      <th>3</th>\n",
       "      <td>John Doe</td>\n",
       "      <td>751</td>\n",
       "      <td>219998</td>\n",
       "      <td>1350004</td>\n",
       "      <td>72</td>\n",
       "      <td>0.043400</td>\n",
       "      <td>false</td>\n",
       "      <td>255970</td>\n",
       "      <td>0.86</td>\n",
       "      <td>0.16</td>\n",
       "      <td>31106073.81</td>\n",
       "    </tr>\n",
       "    <tr>\n",
       "      <th>4</th>\n",
       "      <td>John Doe</td>\n",
       "      <td>684</td>\n",
       "      <td>72470</td>\n",
       "      <td>1210944</td>\n",
       "      <td>160</td>\n",
       "      <td>0.037772</td>\n",
       "      <td>false</td>\n",
       "      <td>115742</td>\n",
       "      <td>0.63</td>\n",
       "      <td>0.06</td>\n",
       "      <td>32059172.14</td>\n",
       "    </tr>\n",
       "    <tr>\n",
       "      <th>...</th>\n",
       "      <td>...</td>\n",
       "      <td>...</td>\n",
       "      <td>...</td>\n",
       "      <td>...</td>\n",
       "      <td>...</td>\n",
       "      <td>...</td>\n",
       "      <td>...</td>\n",
       "      <td>...</td>\n",
       "      <td>...</td>\n",
       "      <td>...</td>\n",
       "      <td>...</td>\n",
       "    </tr>\n",
       "    <tr>\n",
       "      <th>99995</th>\n",
       "      <td>John Doe</td>\n",
       "      <td>366</td>\n",
       "      <td>83851</td>\n",
       "      <td>1718571</td>\n",
       "      <td>168</td>\n",
       "      <td>0.053737</td>\n",
       "      <td>false</td>\n",
       "      <td>174928</td>\n",
       "      <td>0.48</td>\n",
       "      <td>0.05</td>\n",
       "      <td>31981153.44</td>\n",
       "    </tr>\n",
       "    <tr>\n",
       "      <th>99996</th>\n",
       "      <td>John Doe</td>\n",
       "      <td>395</td>\n",
       "      <td>184259</td>\n",
       "      <td>1599473</td>\n",
       "      <td>90</td>\n",
       "      <td>0.040564</td>\n",
       "      <td>false</td>\n",
       "      <td>247703</td>\n",
       "      <td>0.74</td>\n",
       "      <td>0.12</td>\n",
       "      <td>39430859.20</td>\n",
       "    </tr>\n",
       "    <tr>\n",
       "      <th>99997</th>\n",
       "      <td>John Doe</td>\n",
       "      <td>674</td>\n",
       "      <td>242620</td>\n",
       "      <td>1099790</td>\n",
       "      <td>260</td>\n",
       "      <td>0.040825</td>\n",
       "      <td>false</td>\n",
       "      <td>76557</td>\n",
       "      <td>3.17</td>\n",
       "      <td>0.22</td>\n",
       "      <td>26938940.88</td>\n",
       "    </tr>\n",
       "    <tr>\n",
       "      <th>99998</th>\n",
       "      <td>John Doe</td>\n",
       "      <td>420</td>\n",
       "      <td>180957</td>\n",
       "      <td>1645870</td>\n",
       "      <td>203</td>\n",
       "      <td>0.049558</td>\n",
       "      <td>false</td>\n",
       "      <td>143897</td>\n",
       "      <td>1.26</td>\n",
       "      <td>0.11</td>\n",
       "      <td>33211031.24</td>\n",
       "    </tr>\n",
       "    <tr>\n",
       "      <th>99999</th>\n",
       "      <td>John Doe</td>\n",
       "      <td>699</td>\n",
       "      <td>102769</td>\n",
       "      <td>665190</td>\n",
       "      <td>244</td>\n",
       "      <td>0.058460</td>\n",
       "      <td>false</td>\n",
       "      <td>55993</td>\n",
       "      <td>1.84</td>\n",
       "      <td>0.15</td>\n",
       "      <td>11378481.46</td>\n",
       "    </tr>\n",
       "  </tbody>\n",
       "</table>\n",
       "<p>100000 rows × 11 columns</p>\n",
       "</div>"
      ],
      "text/plain": [
       "           name  creditScore  income  loanAmount  monthDuration      rate  \\\n",
       "0      John Doe          736  113243      783440            162  0.030005   \n",
       "1      John Doe          527  224186     1787385            183  0.054819   \n",
       "2      John Doe          460   39954     1733494             75  0.055183   \n",
       "3      John Doe          751  219998     1350004             72  0.043400   \n",
       "4      John Doe          684   72470     1210944            160  0.037772   \n",
       "...         ...          ...     ...         ...            ...       ...   \n",
       "99995  John Doe          366   83851     1718571            168  0.053737   \n",
       "99996  John Doe          395  184259     1599473             90  0.040564   \n",
       "99997  John Doe          674  242620     1099790            260  0.040825   \n",
       "99998  John Doe          420  180957     1645870            203  0.049558   \n",
       "99999  John Doe          699  102769      665190            244  0.058460   \n",
       "\n",
       "      approval  yearlyReimbursement  income/yearlyReimbursement  \\\n",
       "0        false                70648                        1.60   \n",
       "1        false               173197                        1.29   \n",
       "2        false               328563                        0.12   \n",
       "3        false               255970                        0.86   \n",
       "4        false               115742                        0.63   \n",
       "...        ...                  ...                         ...   \n",
       "99995    false               174928                        0.48   \n",
       "99996    false               247703                        0.74   \n",
       "99997    false                76557                        3.17   \n",
       "99998    false               143897                        1.26   \n",
       "99999    false                55993                        1.84   \n",
       "\n",
       "       income/loanAmount  loanAmount/rate  \n",
       "0                   0.14      26110372.80  \n",
       "1                   0.13      32605003.59  \n",
       "2                   0.02      31413368.70  \n",
       "3                   0.16      31106073.81  \n",
       "4                   0.06      32059172.14  \n",
       "...                  ...              ...  \n",
       "99995               0.05      31981153.44  \n",
       "99996               0.12      39430859.20  \n",
       "99997               0.22      26938940.88  \n",
       "99998               0.11      33211031.24  \n",
       "99999               0.15      11378481.46  \n",
       "\n",
       "[100000 rows x 11 columns]"
      ]
     },
     "execution_count": 7,
     "metadata": {},
     "output_type": "execute_result"
    }
   ],
   "source": [
    "data"
   ]
  },
  {
   "cell_type": "markdown",
   "metadata": {},
   "source": [
    "# 2° Find the best thresholds"
   ]
  },
  {
   "cell_type": "code",
   "execution_count": 8,
   "metadata": {},
   "outputs": [],
   "source": [
    "data_raw = data.drop(columns=[\"name\"])\n",
    "false_data = data_raw[data_raw[\"approval\"] == \" false\"]\n",
    "true_data = data_raw[data_raw[\"approval\"] == \" true\"]\n",
    "\n",
    "nb_launch_tree = 10"
   ]
  },
  {
   "cell_type": "code",
   "execution_count": 9,
   "metadata": {},
   "outputs": [
    {
     "name": "stdout",
     "output_type": "stream",
     "text": [
      "\t\tcreditScore\n",
      "Train Score : 0.5050785233530491\n",
      "Test Score : 0.4992684610075915\n",
      "\t\tincome\n",
      "Train Score : 0.6474301448093004\n",
      "Test Score : 0.6457418909592822\n",
      "\t\tloanAmount\n",
      "Train Score : 0.8437487252702427\n",
      "Test Score : 0.8424361628709456\n",
      "\t\tmonthDuration\n",
      "Train Score : 0.607430824665171\n",
      "Test Score : 0.6044306418219462\n",
      "\t\trate\n",
      "Train Score : 0.5099666870623428\n",
      "Test Score : 0.5091097308488612\n",
      "\t\tyearlyReimbursement\n",
      "Train Score : 0.8990414032225168\n",
      "Test Score : 0.8990752242926157\n",
      "\t\tincome/yearlyReimbursement\n",
      "Train Score : 0.9931470528248012\n",
      "Test Score : 0.9933057280883368\n",
      "\t\tincome/loanAmount\n",
      "Train Score : 0.9239751172751378\n",
      "Test Score : 0.9224154589371981\n",
      "\t\tloanAmount/rate\n",
      "Train Score : 0.8278638928547147\n",
      "Test Score : 0.827342995169082\n",
      "[('loanAmount', 'lte', 845703.5), ('yearlyReimbursement', 'lte', 67991.0), ('income/yearlyReimbursement', 'lte', 3.33), ('income/loanAmount', 'lte', 0.24), ('loanAmount/rate', 'lte', 17693415.0)]\n",
      "CPU times: user 8.59 s, sys: 31.2 ms, total: 8.62 s\n",
      "Wall time: 8.63 s\n"
     ]
    }
   ],
   "source": [
    "%%time\n",
    "\n",
    "def returnSplitValue(stringToSplit):\n",
    "    res = []\n",
    "    tp = \"\"\n",
    "    spliters = [(\"lt\", \"< \"), (\"lte\", \"<= \"), (\"gt\", \"> \"), (\"gte\", \">= \")]\n",
    "    i=0\n",
    "    \n",
    "    while i < len(spliters):\n",
    "        splited = stringToSplit.split(spliters[i][1]) \n",
    "        if len(splited) == 2:\n",
    "            return  spliters[i][0], float(splited[1])\n",
    "        i += 1\n",
    "    print(\"C'est casse\")\n",
    "    return None \n",
    "\n",
    "\n",
    "best_threshold = []\n",
    "for key in data.drop(columns=[\"name\"]).columns:\n",
    "    if key != \"approval\":\n",
    "        res_accuracy_train = []\n",
    "        res_accuracy_test = []\n",
    "        model = None\n",
    "        print(\"\\t\\t\"+key)\n",
    "        for i in range(nb_launch_tree):\n",
    "            data_equilibrium = true_data.append(false_data.sample(n=len(true_data)))\n",
    "            X = data_equilibrium[[key]]\n",
    "\n",
    "            Y = data_equilibrium[\"approval\"]\n",
    "\n",
    "            X_train, X_test, y_train, y_test = train_test_split(X, Y, test_size=0.33)\n",
    "\n",
    "            model = tree.DecisionTreeClassifier(max_depth=1)\n",
    "            model.fit(X_train, y_train)    \n",
    "            \n",
    "            res_accuracy_train.append(accuracy_score(y_train, model.predict(X_train)))\n",
    "            res_accuracy_test.append(accuracy_score(y_test, model.predict(X_test)))\n",
    "        print(f\"Train Score : {np.mean(res_accuracy_train)}\")\n",
    "        print(f\"Test Score : {np.mean(res_accuracy_test)}\")\n",
    "\n",
    "        if np.mean(res_accuracy_train) > limit_tree and np.mean(res_accuracy_test) > limit_tree:\n",
    "            best_threshold.append((key,)+ returnSplitValue(tree.export_text(model, spacing=1, feature_names=[key]).split(\"\\n\")[0]))\n",
    "print(best_threshold)"
   ]
  },
  {
   "cell_type": "markdown",
   "metadata": {},
   "source": [
    "# 3° Create the thresholds"
   ]
  },
  {
   "cell_type": "markdown",
   "metadata": {},
   "source": [
    "Define the thresholds"
   ]
  },
  {
   "cell_type": "code",
   "execution_count": 10,
   "metadata": {},
   "outputs": [],
   "source": [
    "def GTE_prep_df(value, valueToCompareTo):\n",
    "    return value >= valueToCompareTo\n",
    "\n",
    "def LTE_prep_df(value, valueToCompareTo):\n",
    "    return value <= valueToCompareTo\n",
    "\n",
    "def GT_prep_df(value, valueToCompareTo):\n",
    "    return value > valueToCompareTo\n",
    "\n",
    "def LT_prep_df(value, valueToCompareTo):\n",
    "    return value < valueToCompareTo"
   ]
  },
  {
   "cell_type": "code",
   "execution_count": 11,
   "metadata": {},
   "outputs": [],
   "source": [
    "columns = list(data.drop(columns=[\"name\", \"approval\"]).columns)\n",
    "\n",
    "booleanDF = pd.DataFrame()\n",
    "\n",
    "for column, comparator, value in best_threshold:\n",
    "    if comparator == \"lte\" or comparator == \"gt\":\n",
    "        booleanDF[column+\"-GT-\"+str(value)] = data[column].map(lambda x : GT_prep_df(x, value))\n",
    "#         booleanDF[column+\"-LTE-\"+str(value)] = data[column].map(lambda x : LTE_prep_df(x, value))\n",
    "    else:\n",
    "        booleanDF[column+\"-GTE-\"+str(value)] = data[column].map(lambda x : GTE_prep_df(x, value))\n",
    "#         booleanDF[column+\"-LT-\"+str(value)] = data[column].map(lambda x : LT_prep_df(x, value))\n",
    "    columns.remove(column)"
   ]
  },
  {
   "cell_type": "code",
   "execution_count": 12,
   "metadata": {},
   "outputs": [
    {
     "data": {
      "text/html": [
       "<div>\n",
       "<style scoped>\n",
       "    .dataframe tbody tr th:only-of-type {\n",
       "        vertical-align: middle;\n",
       "    }\n",
       "\n",
       "    .dataframe tbody tr th {\n",
       "        vertical-align: top;\n",
       "    }\n",
       "\n",
       "    .dataframe thead th {\n",
       "        text-align: right;\n",
       "    }\n",
       "</style>\n",
       "<table border=\"1\" class=\"dataframe\">\n",
       "  <thead>\n",
       "    <tr style=\"text-align: right;\">\n",
       "      <th></th>\n",
       "      <th>loanAmount-GT-845703.5</th>\n",
       "      <th>yearlyReimbursement-GT-67991.0</th>\n",
       "      <th>income/yearlyReimbursement-GT-3.33</th>\n",
       "      <th>income/loanAmount-GT-0.24</th>\n",
       "      <th>loanAmount/rate-GT-17693415.0</th>\n",
       "      <th>approval</th>\n",
       "    </tr>\n",
       "  </thead>\n",
       "  <tbody>\n",
       "    <tr>\n",
       "      <th>0</th>\n",
       "      <td>False</td>\n",
       "      <td>True</td>\n",
       "      <td>False</td>\n",
       "      <td>False</td>\n",
       "      <td>True</td>\n",
       "      <td>False</td>\n",
       "    </tr>\n",
       "    <tr>\n",
       "      <th>1</th>\n",
       "      <td>True</td>\n",
       "      <td>True</td>\n",
       "      <td>False</td>\n",
       "      <td>False</td>\n",
       "      <td>True</td>\n",
       "      <td>False</td>\n",
       "    </tr>\n",
       "    <tr>\n",
       "      <th>2</th>\n",
       "      <td>True</td>\n",
       "      <td>True</td>\n",
       "      <td>False</td>\n",
       "      <td>False</td>\n",
       "      <td>True</td>\n",
       "      <td>False</td>\n",
       "    </tr>\n",
       "    <tr>\n",
       "      <th>3</th>\n",
       "      <td>True</td>\n",
       "      <td>True</td>\n",
       "      <td>False</td>\n",
       "      <td>False</td>\n",
       "      <td>True</td>\n",
       "      <td>False</td>\n",
       "    </tr>\n",
       "    <tr>\n",
       "      <th>4</th>\n",
       "      <td>True</td>\n",
       "      <td>True</td>\n",
       "      <td>False</td>\n",
       "      <td>False</td>\n",
       "      <td>True</td>\n",
       "      <td>False</td>\n",
       "    </tr>\n",
       "    <tr>\n",
       "      <th>...</th>\n",
       "      <td>...</td>\n",
       "      <td>...</td>\n",
       "      <td>...</td>\n",
       "      <td>...</td>\n",
       "      <td>...</td>\n",
       "      <td>...</td>\n",
       "    </tr>\n",
       "    <tr>\n",
       "      <th>99995</th>\n",
       "      <td>True</td>\n",
       "      <td>True</td>\n",
       "      <td>False</td>\n",
       "      <td>False</td>\n",
       "      <td>True</td>\n",
       "      <td>False</td>\n",
       "    </tr>\n",
       "    <tr>\n",
       "      <th>99996</th>\n",
       "      <td>True</td>\n",
       "      <td>True</td>\n",
       "      <td>False</td>\n",
       "      <td>False</td>\n",
       "      <td>True</td>\n",
       "      <td>False</td>\n",
       "    </tr>\n",
       "    <tr>\n",
       "      <th>99997</th>\n",
       "      <td>True</td>\n",
       "      <td>True</td>\n",
       "      <td>False</td>\n",
       "      <td>False</td>\n",
       "      <td>True</td>\n",
       "      <td>False</td>\n",
       "    </tr>\n",
       "    <tr>\n",
       "      <th>99998</th>\n",
       "      <td>True</td>\n",
       "      <td>True</td>\n",
       "      <td>False</td>\n",
       "      <td>False</td>\n",
       "      <td>True</td>\n",
       "      <td>False</td>\n",
       "    </tr>\n",
       "    <tr>\n",
       "      <th>99999</th>\n",
       "      <td>False</td>\n",
       "      <td>False</td>\n",
       "      <td>False</td>\n",
       "      <td>False</td>\n",
       "      <td>False</td>\n",
       "      <td>False</td>\n",
       "    </tr>\n",
       "  </tbody>\n",
       "</table>\n",
       "<p>100000 rows × 6 columns</p>\n",
       "</div>"
      ],
      "text/plain": [
       "       loanAmount-GT-845703.5  yearlyReimbursement-GT-67991.0  \\\n",
       "0                       False                            True   \n",
       "1                        True                            True   \n",
       "2                        True                            True   \n",
       "3                        True                            True   \n",
       "4                        True                            True   \n",
       "...                       ...                             ...   \n",
       "99995                    True                            True   \n",
       "99996                    True                            True   \n",
       "99997                    True                            True   \n",
       "99998                    True                            True   \n",
       "99999                   False                           False   \n",
       "\n",
       "       income/yearlyReimbursement-GT-3.33  income/loanAmount-GT-0.24  \\\n",
       "0                                   False                      False   \n",
       "1                                   False                      False   \n",
       "2                                   False                      False   \n",
       "3                                   False                      False   \n",
       "4                                   False                      False   \n",
       "...                                   ...                        ...   \n",
       "99995                               False                      False   \n",
       "99996                               False                      False   \n",
       "99997                               False                      False   \n",
       "99998                               False                      False   \n",
       "99999                               False                      False   \n",
       "\n",
       "       loanAmount/rate-GT-17693415.0  approval  \n",
       "0                               True     False  \n",
       "1                               True     False  \n",
       "2                               True     False  \n",
       "3                               True     False  \n",
       "4                               True     False  \n",
       "...                              ...       ...  \n",
       "99995                           True     False  \n",
       "99996                           True     False  \n",
       "99997                           True     False  \n",
       "99998                           True     False  \n",
       "99999                          False     False  \n",
       "\n",
       "[100000 rows x 6 columns]"
      ]
     },
     "execution_count": 12,
     "metadata": {},
     "output_type": "execute_result"
    }
   ],
   "source": [
    "booleanDF[\"approval\"] = data[\"approval\"].map({' true': True, ' false': False})\n",
    "booleanDF"
   ]
  },
  {
   "cell_type": "markdown",
   "metadata": {},
   "source": [
    "Create the folder where the data will be stored."
   ]
  },
  {
   "cell_type": "code",
   "execution_count": 13,
   "metadata": {},
   "outputs": [],
   "source": [
    "if not path.isdir(root):\n",
    "    os.mkdir(root)\n",
    "else : \n",
    "    shutil.rmtree(root)\n",
    "    os.mkdir(root)"
   ]
  },
  {
   "cell_type": "code",
   "execution_count": 14,
   "metadata": {},
   "outputs": [],
   "source": [
    "booleanDF.to_csv(root+\"dfSave.csv\")"
   ]
  },
  {
   "cell_type": "markdown",
   "metadata": {},
   "source": [
    "# 4° Save the best data"
   ]
  },
  {
   "cell_type": "code",
   "execution_count": 15,
   "metadata": {},
   "outputs": [],
   "source": [
    "# Transform an integer id to a string id\n",
    "def int_to_str_id(idsInt):\n",
    "    res = chr(97+idsInt%26)\n",
    "    idsReducted = int(idsInt/26)\n",
    "    while idsReducted != 0:\n",
    "        res = chr(97+(idsReducted-1)%26) + res\n",
    "        idsReducted = int(idsReducted/26)\n",
    "    return res\n",
    "\n",
    "# Syntax of Amie data\n",
    "def syntax(subject, predicate, objectD):\n",
    "    return f\"{subject}\\t{predicate}\\t{objectD} \\n\" # Integer id\n",
    "    #return f\"{int_to_str_id(subject)}\\t{predicate}\\t{objectD} \\n\" #String id\n",
    "\n",
    "# Create the text for each feature and finally write it to the file\n",
    "def formatData(f, idData, data):\n",
    "    toWrite = \"\"\n",
    "    for i in data.index:\n",
    "        toWrite += syntax(idData, i, data.loc[i])\n",
    "    f.write(toWrite)"
   ]
  },
  {
   "cell_type": "markdown",
   "metadata": {},
   "source": [
    "We store the data in the Amie format. "
   ]
  },
  {
   "cell_type": "code",
   "execution_count": 16,
   "metadata": {},
   "outputs": [],
   "source": [
    "f = open(root+\"Knowledge_Data.tsv\", \"w\")\n",
    "\n",
    "booleanDF_to_Save = booleanDF\n",
    "booleanDF_to_Save[\"approval\"] = data[\"approval\"].map({' true': True, ' false': False})\n",
    "\n",
    "for idData in booleanDF_to_Save.index:\n",
    "    formatData(f, idData, booleanDF_to_Save.iloc[idData])\n",
    "    \n",
    "f.close()"
   ]
  },
  {
   "cell_type": "markdown",
   "metadata": {},
   "source": [
    "## Save in cross validation"
   ]
  },
  {
   "cell_type": "code",
   "execution_count": 17,
   "metadata": {},
   "outputs": [
    {
     "name": "stdout",
     "output_type": "stream",
     "text": [
      "Train repartition :\n",
      " False    52004\n",
      "True     14662\n",
      "Name: approval, dtype: int64\n",
      "Train repartition :\n",
      " False    52007\n",
      "True     14660\n",
      "Name: approval, dtype: int64\n",
      "Train repartition :\n",
      " False    52081\n",
      "True     14586\n",
      "Name: approval, dtype: int64\n"
     ]
    }
   ],
   "source": [
    "booleanDF_to_Save = booleanDF\n",
    "booleanDF_to_Save[\"approval\"] = data[\"approval\"].map({' true': True, ' false': False})\n",
    "\n",
    "kf = KFold(n_splits=cv, shuffle=True, random_state=42)\n",
    "kf.get_n_splits(booleanDF_to_Save)\n",
    "\n",
    "cp = 0\n",
    "\n",
    "for train_index, test_index in kf.split(booleanDF_to_Save):\n",
    "    \n",
    "    f = open(root+f\"CV_train_{cp}.tsv\", \"w\")\n",
    "\n",
    "    for idData in train_index:\n",
    "        formatData(f, idData, booleanDF_to_Save.iloc[idData])\n",
    "\n",
    "    f.close()\n",
    "    \n",
    "    print(\"Train repartition :\\n\",booleanDF_to_Save.iloc[train_index][\"approval\"].value_counts())\n",
    "    \n",
    "    f = open(root+f\"CV_valid_{cp}.tsv\", \"w\")\n",
    "\n",
    "    for idData in test_index:\n",
    "        formatData(f, idData, booleanDF_to_Save.iloc[idData])\n",
    "\n",
    "    f.close()\n",
    "    \n",
    "    f = open(root+f\"index_{cp}.tsv\", \"w\")\n",
    "\n",
    "    f.write(str(train_index[0]))\n",
    "    for i in range(1,len(train_index)):\n",
    "        f.write(\",\"+str(train_index[i]))\n",
    "    f.write(\"\\n\")\n",
    "    f.write(str(test_index[0]))\n",
    "    for i in range(1,len(test_index)):\n",
    "        f.write(\",\"+str(test_index[i]))\n",
    "\n",
    "    f.close()\n",
    "    \n",
    "    cp += 1"
   ]
  },
  {
   "cell_type": "markdown",
   "metadata": {},
   "source": [
    "# 5° Launch Amie"
   ]
  },
  {
   "cell_type": "markdown",
   "metadata": {},
   "source": [
    "Describe the parameters."
   ]
  },
  {
   "cell_type": "code",
   "execution_count": 18,
   "metadata": {},
   "outputs": [],
   "source": [
    "atom_LIST = [2,3]\n",
    "minc_LIST = [0, 0.4, 0.8]\n",
    "minhc_LIST = [0, 0.4, 0.8]"
   ]
  },
  {
   "cell_type": "code",
   "execution_count": null,
   "metadata": {},
   "outputs": [],
   "source": [
    "def prediction_right(X, variables, rule, translation=identity):\n",
    "    map_variable = {}\n",
    "    for i, variable in enumerate(variables): \n",
    "        #If we have ?b \n",
    "        if variable:\n",
    "            if not rule.hypotheses[i].objectD in map_variable.keys():\n",
    "                map_variable[rule.hypotheses[i].objectD] = str(X.iloc[i])\n",
    "            elif map_variable[rule.hypotheses[i].objectD] != str(X.iloc[i]):\n",
    "                return \"Can't say anything\"\n",
    "        #If we have a True or False\n",
    "        else:\n",
    "            if rule.hypotheses[i].objectD != str(X.iloc[i]):\n",
    "                return \"Can't say anything\"\n",
    "            \n",
    "    if not (rule.conclusion.objectD == \"False\" or rule.conclusion.objectD == \"True\"):\n",
    "        return map_variable[rule.conclusion.objectD]\n",
    "    else:\n",
    "        return rule.conclusion.objectD"
   ]
  },
  {
   "cell_type": "markdown",
   "metadata": {},
   "source": [
    "Launch Amie."
   ]
  },
  {
   "cell_type": "code",
   "execution_count": 19,
   "metadata": {
    "tags": []
   },
   "outputs": [
    {
     "name": "stdout",
     "output_type": "stream",
     "text": [
      "Process n°0 : Launched\n",
      "Process n°1 : Launched\n",
      "Process n°2 : Launched\n",
      "Process n°3 : Launched\n",
      "Process n°4 : LaunchedProcess n°3 : Finished\n",
      "\n",
      "Process n°5 : LaunchedProcess n°4 : Finished\n",
      "\n",
      "Process n°6 : LaunchedProcess n°5 : Finished\n",
      "\n",
      "Process n°6 : FinishedProcess n°7 : Launched\n",
      "\n",
      "Process n°7 : FinishedProcess n°8 : Launched\n",
      "\n",
      "Process n°8 : FinishedProcess n°9 : Launched\n",
      "\n",
      "Process n°10 : LaunchedProcess n°9 : Finished\n",
      "\n",
      "Process n°11 : LaunchedProcess n°10 : Finished\n",
      "Process n°11 : Finished\n",
      "\n",
      "Process n°12 : Launched\n",
      "Process n°12 : Finished\n",
      "Process n°1 : Finished\n",
      "Process n°2 : Finished\n",
      "Process n°0 : Finished\n",
      "CPU times: user 31.2 ms, sys: 484 ms, total: 516 ms\n",
      "Wall time: 4min 10s\n"
     ]
    }
   ],
   "source": [
    "%%time\n",
    "\n",
    "res_rules_raw = run_amie(atom_LIST, root, cv, True)"
   ]
  },
  {
   "cell_type": "markdown",
   "metadata": {},
   "source": [
    "### Save raw results"
   ]
  },
  {
   "cell_type": "code",
   "execution_count": 93,
   "metadata": {},
   "outputs": [
    {
     "name": "stdout",
     "output_type": "stream",
     "text": [
      "CV=1-A=2\n",
      "CV=2-A=2\n",
      "CV=0-A=2\n",
      "CV=0-A=3\n",
      "CV=1-A=3\n",
      "CV=2-A=3\n"
     ]
    }
   ],
   "source": [
    "for i in res_rules_raw:\n",
    "    f = open(root+\"Save_raw/\"+i+\".txt\", \"w\")\n",
    "    f.write(res_rules_raw[i].decode())\n",
    "    f.close()"
   ]
  },
  {
   "cell_type": "markdown",
   "metadata": {},
   "source": [
    "### Read raw results"
   ]
  },
  {
   "cell_type": "code",
   "execution_count": 6,
   "metadata": {},
   "outputs": [],
   "source": [
    "res_rules_raw = {}\n",
    "for a in atom_LIST:\n",
    "    for i in range(cv):\n",
    "        f = open(root+\"Save_raw/\"+f\"CV={i}-A={a}\"+\".txt\", \"r\")\n",
    "        res_rules_raw[f\"CV={i}-A={a}\"] = f.read().encode()\n",
    "        f.close()"
   ]
  },
  {
   "cell_type": "markdown",
   "metadata": {},
   "source": [
    "Transform the raw output into sets of rules. "
   ]
  },
  {
   "cell_type": "code",
   "execution_count": 7,
   "metadata": {},
   "outputs": [],
   "source": [
    "rules_per_cv = parse_amie(res_rules_raw)"
   ]
  },
  {
   "cell_type": "markdown",
   "metadata": {},
   "source": [
    "Retrieve the indexes for each CV."
   ]
  },
  {
   "cell_type": "code",
   "execution_count": 8,
   "metadata": {},
   "outputs": [],
   "source": [
    "indexes = retrieve_indexes(root, cv)\n",
    "df = pd.read_csv(root+\"dfSave.csv\")"
   ]
  },
  {
   "cell_type": "markdown",
   "metadata": {},
   "source": [
    "# 5° Precision"
   ]
  },
  {
   "cell_type": "code",
   "execution_count": 9,
   "metadata": {
    "collapsed": true,
    "jupyter": {
     "outputs_hidden": true
    },
    "tags": []
   },
   "outputs": [
    {
     "name": "stdout",
     "output_type": "stream",
     "text": [
      "Process n°0 : Launched\n",
      "Process n°1 : Launched\n",
      "Process n°2 : Launched\n",
      "Process n°3 : Launched\n",
      "Process n°4 : Launched\n",
      "Process n°5 : Launched\n",
      "Process n°6 : Launched\n",
      "Process n°7 : Launched\n",
      "Process n°8 : Launched\n",
      "Process n°9 : Launched\n",
      "Process n°10 : Launched\n",
      "Process n°11 : Launched\n",
      "Process n°12 : Launched\n",
      "Process n°0 : Finished\n",
      "Process n°1 : Finished\n",
      "Process n°3 : Finished\n",
      "Process n°7 : Finished\n",
      "Process n°5 : Finished\n",
      "Process n°9 : Finished\n",
      "Process n°11 : Finished\n",
      "Process n°2 : Finished\n",
      "Process n°4 : Finished\n",
      "Process n°6 : Finished\n",
      "Process n°8 : Finished\n",
      "Process n°10 : Finished\n",
      "Process n°12 : Finished\n",
      "Process n°0 : Launched\n",
      "Process n°1 : Launched\n",
      "Process n°2 : Launched\n",
      "Process n°3 : Launched\n",
      "Process n°4 : Launched\n",
      "Process n°5 : Launched\n",
      "Process n°6 : Launched\n",
      "Process n°7 : Launched\n",
      "Process n°8 : Launched\n",
      "Process n°9 : Launched\n",
      "Process n°10 : LaunchedProcess n°11 : Launched\n",
      "\n",
      "Process n°12 : Launched\n",
      "Process n°0 : Finished\n",
      "Process n°1 : Finished\n",
      "Process n°3 : Finished\n",
      "Process n°7 : Finished\n",
      "Process n°5 : Finished\n",
      "Process n°9 : Finished\n",
      "Process n°11 : Finished\n",
      "Process n°4 : Finished\n",
      "Process n°2 : Finished\n",
      "Process n°6 : Finished\n",
      "Process n°8 : Finished\n",
      "Process n°12 : Finished\n",
      "Process n°10 : Finished\n",
      "Process n°0 : Launched\n",
      "Process n°1 : Launched\n",
      "Process n°2 : Launched\n",
      "Process n°3 : Launched\n",
      "Process n°4 : Launched\n",
      "Process n°5 : Launched\n",
      "Process n°6 : Launched\n",
      "Process n°7 : Launched\n",
      "Process n°8 : Launched\n",
      "Process n°9 : Launched\n",
      "Process n°10 : Launched\n",
      "Process n°11 : Launched\n",
      "Process n°12 : Launched\n",
      "Process n°0 : Finished\n",
      "Process n°1 : Finished\n",
      "Process n°3 : Finished\n",
      "Process n°7 : FinishedProcess n°5 : Finished\n",
      "\n",
      "Process n°11 : Finished\n",
      "Process n°9 : Finished\n",
      "Process n°2 : Finished\n",
      "Process n°6 : Finished\n",
      "Process n°4 : Finished\n",
      "Process n°8 : Finished\n",
      "Process n°12 : Finished\n",
      "Process n°10 : Finished\n",
      "Process n°0 : Launched\n",
      "Process n°1 : Launched\n",
      "Process n°2 : Launched\n",
      "Process n°3 : Launched\n",
      "Process n°4 : Launched\n",
      "Process n°5 : Launched\n",
      "Process n°6 : Launched\n",
      "Process n°7 : Launched\n",
      "Process n°8 : Launched\n",
      "Process n°9 : Launched\n",
      "Process n°10 : Launched\n",
      "Process n°11 : Launched\n",
      "Process n°12 : Launched\n",
      "Process n°5 : Finished\n",
      "Process n°10 : Finished\n",
      "Process n°0 : Finished\n",
      "Process n°7 : Finished\n",
      "Process n°2 : Finished\n",
      "Process n°1 : Finished\n",
      "Process n°12 : Finished\n",
      "Process n°6 : Finished\n",
      "Process n°3 : Finished\n",
      "Process n°9 : Finished\n",
      "Process n°4 : Finished\n",
      "Process n°8 : Finished\n",
      "Process n°11 : Finished\n",
      "Process n°0 : Launched\n",
      "Process n°1 : Launched\n",
      "Process n°2 : Launched\n",
      "Process n°3 : Launched\n",
      "Process n°4 : LaunchedProcess n°5 : Launched\n",
      "\n",
      "Process n°6 : Launched\n",
      "Process n°7 : Launched\n",
      "Process n°8 : Launched\n",
      "Process n°9 : Launched\n",
      "Process n°10 : Launched\n",
      "Process n°11 : Launched\n",
      "Process n°12 : Launched\n",
      "Process n°9 : Finished\n",
      "Process n°0 : Finished\n",
      "Process n°6 : Finished\n",
      "Process n°3 : Finished\n",
      "Process n°5 : Finished\n",
      "Process n°1 : Finished\n",
      "Process n°12 : Finished\n",
      "Process n°4 : Finished\n",
      "Process n°7 : Finished\n",
      "Process n°10 : Finished\n",
      "Process n°2 : Finished\n",
      "Process n°8 : Finished\n",
      "Process n°11 : Finished\n",
      "Process n°0 : Launched\n",
      "Process n°1 : Launched\n",
      "Process n°2 : Launched\n",
      "Process n°3 : Launched\n",
      "Process n°4 : Launched\n",
      "Process n°5 : Launched\n",
      "Process n°6 : Launched\n",
      "Process n°7 : Launched\n",
      "Process n°8 : Launched\n",
      "Process n°9 : Launched\n",
      "Process n°10 : Launched\n",
      "Process n°11 : Launched\n",
      "Process n°12 : Launched\n",
      "Process n°9 : Finished\n",
      "Process n°6 : Finished\n",
      "Process n°0 : Finished\n",
      "Process n°3 : Finished\n",
      "Process n°5 : Finished\n",
      "Process n°1 : Finished\n",
      "Process n°12 : Finished\n",
      "Process n°4 : Finished\n",
      "Process n°2 : Finished\n",
      "Process n°7 : Finished\n",
      "Process n°11 : Finished\n",
      "Process n°10 : Finished\n",
      "Process n°8 : Finished\n",
      "CPU times: user 172 ms, sys: 2.59 s, total: 2.77 s\n",
      "Wall time: 1min 6s\n"
     ]
    }
   ],
   "source": [
    "%%time\n",
    "\n",
    "rules_per_para = run_precision(root, indexes, rules_per_cv)"
   ]
  },
  {
   "cell_type": "markdown",
   "metadata": {},
   "source": [
    "### Add parameters"
   ]
  },
  {
   "cell_type": "markdown",
   "metadata": {},
   "source": [
    "Describe the combinaison of these new parameters."
   ]
  },
  {
   "cell_type": "code",
   "execution_count": 10,
   "metadata": {},
   "outputs": [
    {
     "name": "stdout",
     "output_type": "stream",
     "text": [
      "[[('stdConfidence', 0), ('headCoverage', 0)], [('stdConfidence', 0), ('headCoverage', 0.4)], [('stdConfidence', 0), ('headCoverage', 0.8)], [('stdConfidence', 0.4), ('headCoverage', 0)], [('stdConfidence', 0.4), ('headCoverage', 0.4)], [('stdConfidence', 0.4), ('headCoverage', 0.8)], [('stdConfidence', 0.8), ('headCoverage', 0)], [('stdConfidence', 0.8), ('headCoverage', 0.4)], [('stdConfidence', 0.8), ('headCoverage', 0.8)]]\n"
     ]
    }
   ],
   "source": [
    "new_parameters = []\n",
    "for minc in minc_LIST:\n",
    "    for minhc in minhc_LIST:\n",
    "        new_parameters.append([(\"stdConfidence\", minc), (\"headCoverage\", minhc)])\n",
    "print(new_parameters)"
   ]
  },
  {
   "cell_type": "markdown",
   "metadata": {},
   "source": [
    "Create the DataFrames corresponding to these parameters."
   ]
  },
  {
   "cell_type": "code",
   "execution_count": 11,
   "metadata": {},
   "outputs": [],
   "source": [
    "new_dfs = add_parameters(rules_per_para, new_parameters)"
   ]
  },
  {
   "cell_type": "markdown",
   "metadata": {},
   "source": [
    "Print the precision for each parameters."
   ]
  },
  {
   "cell_type": "code",
   "execution_count": 12,
   "metadata": {},
   "outputs": [
    {
     "data": {
      "text/plain": [
       "<AxesSubplot:>"
      ]
     },
     "execution_count": 12,
     "metadata": {},
     "output_type": "execute_result"
    },
    {
     "data": {
      "image/png": "[encoded data removed]",
      "text/plain": [
       "<Figure size 2160x720 with 1 Axes>"
      ]
     },
     "metadata": {
      "needs_background": "light"
     },
     "output_type": "display_data"
    }
   ],
   "source": [
    "fig, _axs = plt.subplots(nrows=1, ncols=1, figsize=(30,10)) \n",
    "to_print, to_print_std = mean_and_std_precision(new_dfs, cv)\n",
    "\n",
    "to_print.plot.bar(ax=_axs, rot=0, yerr=to_print_std, ylim=[0,1])"
   ]
  },
  {
   "cell_type": "markdown",
   "metadata": {},
   "source": [
    "# 6° Prediction"
   ]
  },
  {
   "cell_type": "code",
   "execution_count": 14,
   "metadata": {},
   "outputs": [],
   "source": [
    "to_print_save =  []\n",
    "to_print_std_save = []"
   ]
  },
  {
   "cell_type": "code",
   "execution_count": 15,
   "metadata": {},
   "outputs": [
    {
     "name": "stdout",
     "output_type": "stream",
     "text": [
      "Process n°0 : Launched\n",
      "Process n°1 : Launched\n",
      "Process n°2 : Launched\n",
      "Process n°3 : Launched\n",
      "Process n°4 : Launched\n",
      "Process n°5 : Launched\n",
      "Process n°6 : Launched\n",
      "Process n°7 : Launched\n",
      "Process n°8 : Launched\n",
      "Process n°9 : Launched\n",
      "Process n°10 : Launched\n",
      "Process n°11 : Launched\n",
      "Process n°12 : Launched\n",
      "Value('d', 10)\n",
      "Value('d', 20)\n",
      "Value('d', 30)\n",
      "Value('d', 40)\n",
      "Process n°7 : Finished\n",
      "Process n°2 : Finished\n",
      "Process n°6 : Finished\n",
      "Process n°5 : Finished\n",
      "Process n°10 : Finished\n",
      "Process n°3 : Finished\n",
      "Process n°1 : Finished\n",
      "Process n°0 : Finished\n",
      "Value('d', 50)\n",
      "Process n°12 : Finished\n",
      "Process n°11 : Finished\n",
      "Process n°4 : Finished\n",
      "Process n°9 : Finished\n",
      "Process n°8 : Finished\n",
      "54\n",
      "CPU times: user 12 s, sys: 38.8 s, total: 50.8 s\n",
      "Wall time: 10min 20s\n"
     ]
    },
    {
     "data": {
      "image/png": "[encoded data removed]",
      "text/plain": [
       "<Figure size 2160x720 with 2 Axes>"
      ]
     },
     "metadata": {
      "needs_background": "light"
     },
     "output_type": "display_data"
    }
   ],
   "source": [
    "%%time\n",
    "\n",
    "# prediction_per_rules_count, prediction_per_rules_raw = prediction_test(root, cv, new_dfs, democracy_proportional, indexes, True)\n",
    "prediction_per_rules_count, prediction_per_rules_raw = prediction_test(root, cv, new_dfs, democracy, indexes, True)\n",
    "\n",
    "accuracy_prediction = compute_accuracy_prediction(prediction_per_rules_raw, df, indexes)\n",
    "\n",
    "to_print, to_print_std = mean_and_std_vote(accuracy_prediction, \"Demo\", cv)\n",
    "to_print_save.append(to_print)\n",
    "to_print_std_save.append(to_print_std)\n",
    "\n",
    "max_possible = bestScorePossible(prediction_per_rules_count, cv)\n",
    "print_accuracy(to_print_save[-1], to_print_std_save[-1], max_possible, colors_to_print)"
   ]
  },
  {
   "cell_type": "code",
   "execution_count": 16,
   "metadata": {},
   "outputs": [
    {
     "name": "stdout",
     "output_type": "stream",
     "text": [
      "Process n°0 : Launched\n",
      "Process n°1 : Launched\n",
      "Process n°2 : Launched\n",
      "Process n°3 : Launched\n",
      "Process n°4 : Launched\n",
      "Process n°5 : Launched\n",
      "Process n°6 : Launched\n",
      "Process n°7 : Launched\n",
      "Process n°8 : Launched\n",
      "Process n°9 : Launched\n",
      "Process n°10 : Launched\n",
      "Process n°11 : Launched\n",
      "Process n°12 : Launched\n",
      "Value('d', 10)\n",
      "Value('d', 20)\n",
      "Value('d', 30)\n",
      "Value('d', 40)\n",
      "Process n°8 : Finished\n",
      "Process n°1 : Finished\n",
      "Process n°9 : Finished\n",
      "Process n°6 : Finished\n",
      "Process n°0 : Finished\n",
      "Process n°4 : Finished\n",
      "Process n°2 : Finished\n",
      "Process n°10 : Finished\n",
      "Value('d', 50)\n",
      "Process n°12 : Finished\n",
      "Process n°3 : Finished\n",
      "Process n°7 : Finished\n",
      "Process n°5 : Finished\n",
      "Process n°11 : Finished\n",
      "54\n",
      "CPU times: user 11.8 s, sys: 39 s, total: 50.8 s\n",
      "Wall time: 2min\n"
     ]
    },
    {
     "data": {
      "image/png": "[encoded data removed]",
      "text/plain": [
       "<Figure size 2160x720 with 2 Axes>"
      ]
     },
     "metadata": {
      "needs_background": "light"
     },
     "output_type": "display_data"
    }
   ],
   "source": [
    "%%time\n",
    "\n",
    "# prediction_per_rules_count, prediction_per_rules_raw = prediction_test(root, cv, new_dfs, democracy, indexes, True)\n",
    "prediction_per_rules_count, prediction_per_rules_raw = prediction_test(root, cv, new_dfs, safe, indexes, True)\n",
    "\n",
    "accuracy_prediction = compute_accuracy_prediction(prediction_per_rules_raw, df, indexes)\n",
    "\n",
    "to_print, to_print_std = mean_and_std_vote(accuracy_prediction, \"Safe\", cv)\n",
    "to_print, to_print_std = merge(to_print_save[-1], to_print, to_print_std_save[-1], to_print_std)\n",
    "to_print_save.append(to_print)\n",
    "to_print_std_save.append(to_print_std)\n",
    "\n",
    "print_accuracy(to_print_save[-1], to_print_std_save[-1], max_possible, colors_to_print)"
   ]
  },
  {
   "cell_type": "code",
   "execution_count": 17,
   "metadata": {},
   "outputs": [
    {
     "name": "stdout",
     "output_type": "stream",
     "text": [
      "Process n°0 : Launched\n",
      "Process n°1 : Launched\n",
      "Process n°2 : Launched\n",
      "Process n°3 : Launched\n",
      "Process n°4 : Launched\n",
      "Process n°5 : Launched\n",
      "Process n°6 : Launched\n",
      "Process n°7 : Launched\n",
      "Process n°8 : Launched\n",
      "Process n°9 : Launched\n",
      "Process n°10 : Launched\n",
      "Process n°11 : Launched\n",
      "Process n°12 : Launched\n",
      "Value('d', 10)\n",
      "Value('d', 20)\n",
      "Value('d', 30)\n",
      "Value('d', 40)\n",
      "Process n°2 : Finished\n",
      "Process n°8 : Finished\n",
      "Process n°10 : Finished\n",
      "Process n°6 : Finished\n",
      "Process n°4 : Finished\n",
      "Process n°3 : Finished\n",
      "Process n°5 : Finished\n",
      "Process n°11 : Finished\n",
      "Value('d', 50)\n",
      "Process n°7 : Finished\n",
      "Process n°0 : Finished\n",
      "Process n°1 : Finished\n",
      "Process n°9 : Finished\n",
      "Process n°12 : Finished\n",
      "54\n",
      "CPU times: user 11.9 s, sys: 39.2 s, total: 51 s\n",
      "Wall time: 3min 55s\n"
     ]
    },
    {
     "data": {
      "image/png": "[encoded data removed]",
      "text/plain": [
       "<Figure size 2160x720 with 2 Axes>"
      ]
     },
     "metadata": {
      "needs_background": "light"
     },
     "output_type": "display_data"
    }
   ],
   "source": [
    "%%time\n",
    "\n",
    "prediction_per_rules_count, prediction_per_rules_raw = prediction_test(root, cv, new_dfs, expert, indexes, True, ranking=([\"precision_train\", \"precision_test\"], [False, False]))\n",
    "\n",
    "accuracy_prediction = compute_accuracy_prediction(prediction_per_rules_raw, df, indexes)\n",
    "\n",
    "to_print, to_print_std = mean_and_std_vote(accuracy_prediction, \"expert-precision\", cv)\n",
    "to_print, to_print_std = merge(to_print_save[-1], to_print, to_print_std_save[-1], to_print_std)\n",
    "to_print_save.append(to_print)\n",
    "to_print_std_save.append(to_print_std)\n",
    "\n",
    "print_accuracy(to_print_save[-1], to_print_std_save[-1], max_possible, colors_to_print)"
   ]
  },
  {
   "cell_type": "code",
   "execution_count": 18,
   "metadata": {
    "tags": []
   },
   "outputs": [
    {
     "name": "stdout",
     "output_type": "stream",
     "text": [
      "Process n°0 : Launched\n",
      "Process n°1 : Launched\n",
      "Process n°2 : Launched\n",
      "Process n°3 : Launched\n",
      "Process n°4 : Launched\n",
      "Process n°5 : Launched\n",
      "Process n°6 : LaunchedProcess n°7 : Launched\n",
      "\n",
      "Process n°8 : Launched\n",
      "Process n°9 : Launched\n",
      "Process n°12 : Launched\n",
      "Process n°10 : Launched\n",
      "Process n°11 : Launched\n",
      "Value('d', 10)\n",
      "Value('d', 20)\n",
      "Value('d', 30)\n",
      "Value('d', 40)\n",
      "Process n°5 : Finished\n",
      "Process n°6 : Finished\n",
      "Process n°2 : Finished\n",
      "Process n°3 : Finished\n",
      "Process n°7 : Finished\n",
      "Process n°4 : Finished\n",
      "Process n°10 : Finished\n",
      "Process n°0 : Finished\n",
      "Value('d', 50)\n",
      "Process n°1 : Finished\n",
      "Process n°12 : Finished\n",
      "Process n°9 : Finished\n",
      "Process n°11 : Finished\n",
      "Process n°8 : Finished\n",
      "54\n",
      "CPU times: user 12 s, sys: 39.2 s, total: 51.2 s\n",
      "Wall time: 3min 35s\n"
     ]
    },
    {
     "data": {
      "image/png": "[encoded data removed]",
      "text/plain": [
       "<Figure size 2160x720 with 2 Axes>"
      ]
     },
     "metadata": {
      "needs_background": "light"
     },
     "output_type": "display_data"
    }
   ],
   "source": [
    "%%time\n",
    "\n",
    "prediction_per_rules_count, prediction_per_rules_raw = prediction_test(root, cv, new_dfs, expert, indexes, True, ranking=([\"headCoverage\", \"precision_train\", \"precision_test\"], [True, False, False]))\n",
    "\n",
    "accuracy_prediction = compute_accuracy_prediction(prediction_per_rules_raw, df, indexes)\n",
    "\n",
    "to_print, to_print_std = mean_and_std_vote(accuracy_prediction, \"expert-coverage\", cv)\n",
    "to_print, to_print_std = merge(to_print_save[-1], to_print, to_print_std_save[-1], to_print_std)\n",
    "to_print_save.append(to_print)\n",
    "to_print_std_save.append(to_print_std)\n",
    "\n",
    "print_accuracy(to_print_save[-1], to_print_std_save[-1], max_possible, colors_to_print)"
   ]
  },
  {
   "cell_type": "code",
   "execution_count": 19,
   "metadata": {
    "tags": []
   },
   "outputs": [
    {
     "name": "stdout",
     "output_type": "stream",
     "text": [
      "Process n°0 : Launched\n",
      "Process n°1 : Launched\n",
      "Process n°2 : Launched\n",
      "Process n°3 : Launched\n",
      "Process n°4 : LaunchedProcess n°5 : Launched\n",
      "\n",
      "Process n°6 : Launched\n",
      "Process n°7 : Launched\n",
      "Process n°8 : Launched\n",
      "Process n°9 : Launched\n",
      "Process n°10 : Launched\n",
      "Process n°11 : Launched\n",
      "Process n°12 : Launched\n",
      "Value('d', 10)\n",
      "Value('d', 20)\n",
      "Value('d', 30)\n",
      "Value('d', 40)\n",
      "Process n°10 : Finished\n",
      "Process n°12 : Finished\n",
      "Process n°4 : Finished\n",
      "Process n°6 : Finished\n",
      "Process n°7 : Finished\n",
      "Process n°0 : Finished\n",
      "Process n°5 : Finished\n",
      "Process n°11 : Finished\n",
      "Value('d', 50)\n",
      "Process n°9 : Finished\n",
      "Process n°8 : Finished\n",
      "Process n°3 : Finished\n",
      "Process n°2 : Finished\n",
      "Process n°1 : Finished\n",
      "54\n",
      "CPU times: user 12 s, sys: 39.2 s, total: 51.2 s\n",
      "Wall time: 4min 38s\n"
     ]
    },
    {
     "data": {
      "image/png": "[encoded data removed]",
      "text/plain": [
       "<Figure size 2160x720 with 2 Axes>"
      ]
     },
     "metadata": {
      "needs_background": "light"
     },
     "output_type": "display_data"
    }
   ],
   "source": [
    "%%time\n",
    "\n",
    "prediction_per_rules_count, prediction_per_rules_raw = prediction_test(root, cv, new_dfs, expert, indexes, True, ranking=([\"size_hypothese\", \"precision_train\", \"precision_test\"], [False, False, False]))\n",
    "\n",
    "accuracy_prediction = compute_accuracy_prediction(prediction_per_rules_raw, df, indexes)\n",
    "\n",
    "to_print, to_print_std = mean_and_std_vote(accuracy_prediction, \"expert-length\", cv)\n",
    "to_print, to_print_std = merge(to_print_save[-1], to_print, to_print_std_save[-1], to_print_std)\n",
    "to_print_save.append(to_print)\n",
    "to_print_std_save.append(to_print_std)\n",
    "\n",
    "print_accuracy(to_print_save[-1], to_print_std_save[-1], max_possible, colors_to_print)"
   ]
  }
 ],
 "metadata": {
  "kernelspec": {
   "display_name": "Python 3",
   "language": "python",
   "name": "python3"
  },
  "language_info": {
   "codemirror_mode": {
    "name": "ipython",
    "version": 3
   },
   "file_extension": ".py",
   "mimetype": "text/x-python",
   "name": "python",
   "nbconvert_exporter": "python",
   "pygments_lexer": "ipython3",
   "version": "3.8.8"
  }
 },
 "nbformat": 4,
 "nbformat_minor": 4
}
