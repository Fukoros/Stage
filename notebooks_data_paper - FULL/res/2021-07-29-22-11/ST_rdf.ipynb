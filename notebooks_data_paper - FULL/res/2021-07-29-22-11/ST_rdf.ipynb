{
 "cells": [
  {
   "cell_type": "code",
   "execution_count": 1,
   "id": "5ccfe1be-27ef-4c58-9b1f-d17590588ad7",
   "metadata": {
    "execution": {
     "iopub.execute_input": "2021-07-29T20:11:58.768139Z",
     "iopub.status.busy": "2021-07-29T20:11:58.759305Z",
     "iopub.status.idle": "2021-07-29T20:12:00.338482Z",
     "shell.execute_reply": "2021-07-29T20:12:00.337936Z"
    },
    "papermill": {
     "duration": 1.630916,
     "end_time": "2021-07-29T20:12:00.338595",
     "exception": false,
     "start_time": "2021-07-29T20:11:58.707679",
     "status": "completed"
    },
    "tags": []
   },
   "outputs": [],
   "source": [
    "import pandas as pd \n",
    "import numpy as np\n",
    "import os\n",
    "from subprocess import check_output\n",
    "import shutil\n",
    "import rdflib\n",
    "from multiprocessing import Process, Manager, Queue\n",
    "import multiprocessing\n",
    "\n",
    "from rule import *\n",
    "from amie import *\n",
    "from experiment import *"
   ]
  },
  {
   "cell_type": "code",
   "execution_count": 2,
   "id": "4d339699-ef25-4e14-ab90-1539b8a65b1c",
   "metadata": {
    "execution": {
     "iopub.execute_input": "2021-07-29T20:12:00.398498Z",
     "iopub.status.busy": "2021-07-29T20:12:00.397585Z",
     "iopub.status.idle": "2021-07-29T20:12:00.400745Z",
     "shell.execute_reply": "2021-07-29T20:12:00.401435Z"
    },
    "papermill": {
     "duration": 0.04716,
     "end_time": "2021-07-29T20:12:00.401675",
     "exception": false,
     "start_time": "2021-07-29T20:12:00.354515",
     "status": "completed"
    },
    "tags": []
   },
   "outputs": [],
   "source": [
    "root_source_FB = \"./../../FB15k_mail/\"\n",
    "root_source_DB = \"./../../DB15k_mail/\"\n",
    "\n",
    "root_data_FB = \"./../../Data_mail/FB_ST_\"\n",
    "root_data_DB = \"./../../Data_mail/DB_ST_\""
   ]
  },
  {
   "cell_type": "markdown",
   "id": "c45cd6d1-909f-4936-bccc-67dfdac2e699",
   "metadata": {
    "papermill": {
     "duration": 0.025254,
     "end_time": "2021-07-29T20:12:00.455780",
     "exception": false,
     "start_time": "2021-07-29T20:12:00.430526",
     "status": "completed"
    },
    "tags": []
   },
   "source": [
    "# FB15K"
   ]
  },
  {
   "cell_type": "code",
   "execution_count": 3,
   "id": "6e4e20cb-244b-494b-8a4e-7c10cf6e3dec",
   "metadata": {
    "execution": {
     "iopub.execute_input": "2021-07-29T20:12:00.508042Z",
     "iopub.status.busy": "2021-07-29T20:12:00.507466Z",
     "iopub.status.idle": "2021-07-29T20:12:00.511733Z",
     "shell.execute_reply": "2021-07-29T20:12:00.512227Z"
    },
    "papermill": {
     "duration": 0.033311,
     "end_time": "2021-07-29T20:12:00.512378",
     "exception": false,
     "start_time": "2021-07-29T20:12:00.479067",
     "status": "completed"
    },
    "tags": []
   },
   "outputs": [],
   "source": [
    "data = open(root_source_FB+\"numericals.txt\", \"r\")\n",
    "\n",
    "numerical_predicate = set()\n",
    "\n",
    "for predicate in data:\n",
    "    numerical_predicate.add(predicate.split(\"\\n\")[0])\n",
    "    \n",
    "data.close()"
   ]
  },
  {
   "cell_type": "code",
   "execution_count": 4,
   "id": "59a8103d-e0bc-4278-9d31-b087111ca0c7",
   "metadata": {
    "execution": {
     "iopub.execute_input": "2021-07-29T20:12:00.556149Z",
     "iopub.status.busy": "2021-07-29T20:12:00.555532Z",
     "iopub.status.idle": "2021-07-29T20:12:00.560464Z",
     "shell.execute_reply": "2021-07-29T20:12:00.560067Z"
    },
    "papermill": {
     "duration": 0.029582,
     "end_time": "2021-07-29T20:12:00.560572",
     "exception": false,
     "start_time": "2021-07-29T20:12:00.530990",
     "status": "completed"
    },
    "tags": []
   },
   "outputs": [],
   "source": [
    "thresholds = np.arange(0.25,1,0.25) #[0.25, 0.50, 0.75]\n",
    "thresholds_str = [\"-\"+(str(int(i*100))) for i in thresholds]"
   ]
  },
  {
   "cell_type": "code",
   "execution_count": 5,
   "id": "950b8375-1b3e-442d-be5e-cceee402303d",
   "metadata": {
    "execution": {
     "iopub.execute_input": "2021-07-29T20:12:00.601517Z",
     "iopub.status.busy": "2021-07-29T20:12:00.601103Z",
     "iopub.status.idle": "2021-07-29T20:12:00.605323Z",
     "shell.execute_reply": "2021-07-29T20:12:00.604975Z"
    },
    "papermill": {
     "duration": 0.028588,
     "end_time": "2021-07-29T20:12:00.605418",
     "exception": false,
     "start_time": "2021-07-29T20:12:00.576830",
     "status": "completed"
    },
    "tags": []
   },
   "outputs": [],
   "source": [
    "def give_group(value, groups):\n",
    "    for i, value_group in enumerate(groups):\n",
    "        if value < value_group:\n",
    "            return i\n",
    "    return i+1\n",
    "\n",
    "def write_file(X, f, groups):\n",
    "    f.write(f\"<http:{X['Subject']}>\\t{X['Predicate']}\\t<http:/{give_group(X['Object'], groups)}>\\n\")"
   ]
  },
  {
   "cell_type": "code",
   "execution_count": 6,
   "id": "4177a3a8-4698-4281-af44-b03a18c5b5be",
   "metadata": {
    "execution": {
     "iopub.execute_input": "2021-07-29T20:12:00.648914Z",
     "iopub.status.busy": "2021-07-29T20:12:00.648405Z",
     "iopub.status.idle": "2021-07-29T20:12:01.487885Z",
     "shell.execute_reply": "2021-07-29T20:12:01.486783Z"
    },
    "papermill": {
     "duration": 0.867327,
     "end_time": "2021-07-29T20:12:01.488141",
     "exception": false,
     "start_time": "2021-07-29T20:12:00.620814",
     "status": "completed"
    },
    "tags": []
   },
   "outputs": [],
   "source": [
    "data = open(root_source_FB+\"train.txt\", \"r\")\n",
    "f = open(root_data_FB+\"train.tsv\", \"w\")\n",
    "\n",
    "dic_predicate = {}\n",
    "\n",
    "for line in data: \n",
    "    line_split = line.split(\"\\n\")[0].split(\"\\t\")\n",
    "    if line_split[1] in numerical_predicate:\n",
    "        line_split[2] = float(line_split[2]) \n",
    "        line_split = tuple(line_split)\n",
    "        if line_split[1] in dic_predicate.keys():\n",
    "            dic_predicate[line_split[1]].add(line_split)\n",
    "        else : \n",
    "            dic_predicate[line_split[1]] = {line_split}\n",
    "    else:\n",
    "        f.write('<http:'+line_split[0]+'>\\t<http:'+line_split[1]+'>\\t'+'<http:'+line_split[2]+'>\\n')\n",
    "    \n",
    "data.close()\n",
    "f.close()"
   ]
  },
  {
   "cell_type": "code",
   "execution_count": 7,
   "id": "3a06f084-388f-408b-96ca-5fe8743869ca",
   "metadata": {
    "execution": {
     "iopub.execute_input": "2021-07-29T20:12:01.568484Z",
     "iopub.status.busy": "2021-07-29T20:12:01.567712Z",
     "iopub.status.idle": "2021-07-29T20:12:02.422948Z",
     "shell.execute_reply": "2021-07-29T20:12:02.421837Z"
    },
    "papermill": {
     "duration": 0.893654,
     "end_time": "2021-07-29T20:12:02.423205",
     "exception": false,
     "start_time": "2021-07-29T20:12:01.529551",
     "status": "completed"
    },
    "tags": []
   },
   "outputs": [],
   "source": [
    "f = open(root_data_FB+\"train.tsv\", \"a\")\n",
    "\n",
    "for key in dic_predicate.keys():\n",
    "    tp_df = pd.DataFrame.from_dict(dic_predicate[key]).rename(columns={0: \"Subject\", 1: \"Predicate\", 2: \"Object\"})\n",
    "    tp_df_describe = tp_df[\"Object\"].quantile(thresholds)\n",
    "    tp_df.apply(write_file, args=(f, tp_df_describe), axis=1)\n",
    "\n",
    "f.close()"
   ]
  },
  {
   "cell_type": "code",
   "execution_count": 8,
   "id": "c961d454-55af-4ff5-9dac-f3300c616fe5",
   "metadata": {
    "execution": {
     "iopub.execute_input": "2021-07-29T20:12:02.503985Z",
     "iopub.status.busy": "2021-07-29T20:12:02.500270Z",
     "iopub.status.idle": "2021-07-29T20:12:54.153058Z",
     "shell.execute_reply": "2021-07-29T20:12:54.151959Z"
    },
    "papermill": {
     "duration": 51.690581,
     "end_time": "2021-07-29T20:12:54.153319",
     "exception": false,
     "start_time": "2021-07-29T20:12:02.462738",
     "status": "completed"
    },
    "tags": []
   },
   "outputs": [
    {
     "name": "stderr",
     "output_type": "stream",
     "text": [
      "Using the default schema relations\n"
     ]
    }
   ],
   "source": [
    "res = check_output(f'java -jar ./../amie3.jar {root_data_FB+\"train.tsv\"}', shell=True)\n",
    "\n",
    "res_parsed = parse_amie(res)"
   ]
  },
  {
   "cell_type": "code",
   "execution_count": 9,
   "id": "140341d9-47b6-4074-9995-d736d6627217",
   "metadata": {
    "execution": {
     "iopub.execute_input": "2021-07-29T20:12:54.241076Z",
     "iopub.status.busy": "2021-07-29T20:12:54.240132Z",
     "iopub.status.idle": "2021-07-29T20:12:54.244504Z",
     "shell.execute_reply": "2021-07-29T20:12:54.243865Z"
    },
    "papermill": {
     "duration": 0.050349,
     "end_time": "2021-07-29T20:12:54.244666",
     "exception": false,
     "start_time": "2021-07-29T20:12:54.194317",
     "status": "completed"
    },
    "tags": []
   },
   "outputs": [
    {
     "data": {
      "text/plain": [
       "46163"
      ]
     },
     "execution_count": 9,
     "metadata": {},
     "output_type": "execute_result"
    }
   ],
   "source": [
    "len(res_parsed)"
   ]
  },
  {
   "cell_type": "code",
   "execution_count": 10,
   "id": "d6174c2c-7d25-49b9-8052-53504d8d63e5",
   "metadata": {
    "execution": {
     "iopub.execute_input": "2021-07-29T20:12:54.286656Z",
     "iopub.status.busy": "2021-07-29T20:12:54.285969Z",
     "iopub.status.idle": "2021-07-29T20:12:54.288287Z",
     "shell.execute_reply": "2021-07-29T20:12:54.287834Z"
    },
    "papermill": {
     "duration": 0.023697,
     "end_time": "2021-07-29T20:12:54.288390",
     "exception": false,
     "start_time": "2021-07-29T20:12:54.264693",
     "status": "completed"
    },
    "tags": []
   },
   "outputs": [],
   "source": [
    "# res_parsed"
   ]
  },
  {
   "cell_type": "markdown",
   "id": "321fb741-b154-4724-97ab-3c1ad7e830aa",
   "metadata": {
    "papermill": {
     "duration": 0.015728,
     "end_time": "2021-07-29T20:12:54.321010",
     "exception": false,
     "start_time": "2021-07-29T20:12:54.305282",
     "status": "completed"
    },
    "tags": []
   },
   "source": [
    "### Number of numericals in the rules"
   ]
  },
  {
   "cell_type": "code",
   "execution_count": 11,
   "id": "9c1e63fa-de23-4b4e-95a7-6eca19eda177",
   "metadata": {
    "execution": {
     "iopub.execute_input": "2021-07-29T20:12:54.358490Z",
     "iopub.status.busy": "2021-07-29T20:12:54.357983Z",
     "iopub.status.idle": "2021-07-29T20:12:54.665753Z",
     "shell.execute_reply": "2021-07-29T20:12:54.665292Z"
    },
    "papermill": {
     "duration": 0.329536,
     "end_time": "2021-07-29T20:12:54.665859",
     "exception": false,
     "start_time": "2021-07-29T20:12:54.336323",
     "status": "completed"
    },
    "tags": []
   },
   "outputs": [
    {
     "name": "stdout",
     "output_type": "stream",
     "text": [
      "Rule with numerical :  6281\n",
      "Rule without numerical :  39882\n",
      "Rule with numerical in hypotheses :  6281\n",
      "Rule with numerical in conclusion :  6059\n"
     ]
    }
   ],
   "source": [
    "num_f = open(\"ST_num_rules.txt\", \"w\")\n",
    "symb_f = open(\"ST_symb_rules.txt\", \"w\")\n",
    "\n",
    "def predicate_is_numerical(atom, numerical_predicate):\n",
    "    return atom.predicate in numerical_predicate\n",
    "\n",
    "rule_with_numerical_in_hyp = 0\n",
    "rule_with_numerical_in_conc = 0\n",
    "rule_with_numerical = 0\n",
    "\n",
    "for rule in res_parsed:\n",
    "    num = False\n",
    "    for hyp in rule.hypotheses:\n",
    "        if predicate_is_numerical(hyp, numerical_predicate):\n",
    "            rule_with_numerical_in_hyp+=1\n",
    "            num = True\n",
    "            break\n",
    "    if predicate_is_numerical(rule.conclusion, numerical_predicate):\n",
    "        rule_with_numerical_in_conc+=1\n",
    "        num=True\n",
    "    if num:\n",
    "        rule_with_numerical += 1\n",
    "        num_f.write(str(rule)+\"\\n\")\n",
    "    else:\n",
    "        symb_f.write(str(rule)+\"\\n\")\n",
    "    \n",
    "print(\"Rule with numerical : \", rule_with_numerical)\n",
    "print(\"Rule without numerical : \", len(res_parsed) - rule_with_numerical)\n",
    "print(\"Rule with numerical in hypotheses : \", rule_with_numerical_in_hyp)\n",
    "print(\"Rule with numerical in conclusion : \", rule_with_numerical_in_conc)\n",
    "\n",
    "num_f.close()\n",
    "symb_f.close()"
   ]
  },
  {
   "cell_type": "markdown",
   "id": "c555a35b-ad79-498b-bfd7-9876754725cf",
   "metadata": {
    "papermill": {
     "duration": 0.015391,
     "end_time": "2021-07-29T20:12:54.697536",
     "exception": false,
     "start_time": "2021-07-29T20:12:54.682145",
     "status": "completed"
    },
    "tags": []
   },
   "source": [
    "### Test the rules through test"
   ]
  },
  {
   "cell_type": "code",
   "execution_count": 12,
   "id": "9794da5d-edf0-4c0b-8c7f-959747bf7d9e",
   "metadata": {
    "execution": {
     "iopub.execute_input": "2021-07-29T20:12:54.733998Z",
     "iopub.status.busy": "2021-07-29T20:12:54.733521Z",
     "iopub.status.idle": "2021-07-29T20:12:55.111670Z",
     "shell.execute_reply": "2021-07-29T20:12:55.111270Z"
    },
    "papermill": {
     "duration": 0.398741,
     "end_time": "2021-07-29T20:12:55.111774",
     "exception": false,
     "start_time": "2021-07-29T20:12:54.713033",
     "status": "completed"
    },
    "tags": []
   },
   "outputs": [],
   "source": [
    "data = open(root_data_FB+\"train.tsv\", \"r\")\n",
    "f = open(root_data_FB+\"train_rdflib.nt\", \"w\")\n",
    "\n",
    "for line in data:\n",
    "    f.write(line.split(\"\\n\")[0]+\" . \\n\")\n",
    "\n",
    "data.close()\n",
    "f.close()"
   ]
  },
  {
   "cell_type": "code",
   "execution_count": 13,
   "id": "8e30cdc7-25e0-408a-a5b1-308ca5d32652",
   "metadata": {
    "execution": {
     "iopub.execute_input": "2021-07-29T20:12:55.147994Z",
     "iopub.status.busy": "2021-07-29T20:12:55.147305Z",
     "iopub.status.idle": "2021-07-29T20:12:55.287036Z",
     "shell.execute_reply": "2021-07-29T20:12:55.286623Z"
    },
    "papermill": {
     "duration": 0.159761,
     "end_time": "2021-07-29T20:12:55.287151",
     "exception": false,
     "start_time": "2021-07-29T20:12:55.127390",
     "status": "completed"
    },
    "tags": []
   },
   "outputs": [],
   "source": [
    "data = open(root_source_FB+\"test.txt\", \"r\")\n",
    "\n",
    "set_instances_to_predict = set()\n",
    "\n",
    "for line in data:\n",
    "    line_splited = line.split(\"\\n\")[0].split(\"\\t\")\n",
    "    for i in range(len(line_splited)):\n",
    "        line_splited[i] = \"<http:\"+line_splited[i]+\">\"\n",
    "    set_instances_to_predict.add(tuple(line_splited))\n",
    "        \n",
    "data.close()"
   ]
  },
  {
   "cell_type": "code",
   "execution_count": 14,
   "id": "d6f95c12-527b-41ba-9909-604b5b7833f6",
   "metadata": {
    "execution": {
     "iopub.execute_input": "2021-07-29T20:12:55.324145Z",
     "iopub.status.busy": "2021-07-29T20:12:55.323641Z",
     "iopub.status.idle": "2021-07-29T20:12:55.326459Z",
     "shell.execute_reply": "2021-07-29T20:12:55.326041Z"
    },
    "papermill": {
     "duration": 0.022504,
     "end_time": "2021-07-29T20:12:55.326554",
     "exception": false,
     "start_time": "2021-07-29T20:12:55.304050",
     "status": "completed"
    },
    "tags": []
   },
   "outputs": [
    {
     "name": "stdout",
     "output_type": "stream",
     "text": [
      "59250\n"
     ]
    }
   ],
   "source": [
    "print(len(set_instances_to_predict))"
   ]
  },
  {
   "cell_type": "code",
   "execution_count": 15,
   "id": "3ebd2d77-2fb2-4549-80a9-4a6e446ca529",
   "metadata": {
    "execution": {
     "iopub.execute_input": "2021-07-29T20:12:55.440594Z",
     "iopub.status.busy": "2021-07-29T20:12:55.403894Z",
     "iopub.status.idle": "2021-07-29T20:12:55.524362Z",
     "shell.execute_reply": "2021-07-29T20:12:55.523918Z"
    },
    "papermill": {
     "duration": 0.181896,
     "end_time": "2021-07-29T20:12:55.524459",
     "exception": false,
     "start_time": "2021-07-29T20:12:55.342563",
     "status": "completed"
    },
    "tags": []
   },
   "outputs": [],
   "source": [
    "rules_associated_to_query = {}\n",
    "\n",
    "for rule in res_parsed:\n",
    "    if rule.conclusion.predicate in rules_associated_to_query.keys():\n",
    "        rules_associated_to_query[rule.conclusion.predicate].add(rule)\n",
    "    else:\n",
    "        rules_associated_to_query[rule.conclusion.predicate] = set()\n",
    "        rules_associated_to_query[rule.conclusion.predicate].add(rule)"
   ]
  },
  {
   "cell_type": "code",
   "execution_count": 16,
   "id": "24a12c08-c4b6-458c-bc34-88061112a617",
   "metadata": {
    "execution": {
     "iopub.execute_input": "2021-07-29T20:12:55.561326Z",
     "iopub.status.busy": "2021-07-29T20:12:55.560803Z",
     "iopub.status.idle": "2021-07-29T20:13:08.546639Z",
     "shell.execute_reply": "2021-07-29T20:13:08.546990Z"
    },
    "papermill": {
     "duration": 13.006042,
     "end_time": "2021-07-29T20:13:08.547273",
     "exception": false,
     "start_time": "2021-07-29T20:12:55.541231",
     "status": "completed"
    },
    "tags": []
   },
   "outputs": [
    {
     "data": {
      "text/plain": [
       "<Graph identifier=N36233337e5ed43709985ef8ed6bd57db (<class 'rdflib.graph.Graph'>)>"
      ]
     },
     "execution_count": 16,
     "metadata": {},
     "output_type": "execute_result"
    }
   ],
   "source": [
    "g = rdflib.Graph()\n",
    "g.parse(root_data_FB+\"train_rdflib.nt\")"
   ]
  },
  {
   "cell_type": "code",
   "execution_count": 17,
   "id": "4d8518f7-0d2c-4aa6-a683-4aa92ce70be8",
   "metadata": {
    "execution": {
     "iopub.execute_input": "2021-07-29T20:13:08.593236Z",
     "iopub.status.busy": "2021-07-29T20:13:08.592535Z",
     "iopub.status.idle": "2021-07-29T20:13:08.594883Z",
     "shell.execute_reply": "2021-07-29T20:13:08.594472Z"
    },
    "papermill": {
     "duration": 0.025614,
     "end_time": "2021-07-29T20:13:08.594996",
     "exception": false,
     "start_time": "2021-07-29T20:13:08.569382",
     "status": "completed"
    },
    "tags": []
   },
   "outputs": [],
   "source": [
    "def print_rules_nicely(rule):\n",
    "    toprint = \"\"\n",
    "    for hyp in rule.hypotheses:\n",
    "        toprint += hyp.predicate+\" & \"\n",
    "    toprint = toprint[:-2]\n",
    "    toprint += \"=>\"+rule.conclusion.predicate\n",
    "    print(toprint)"
   ]
  },
  {
   "cell_type": "code",
   "execution_count": 18,
   "id": "25e7fc40-3ff5-4a16-a495-dcd05b24c25c",
   "metadata": {
    "execution": {
     "iopub.execute_input": "2021-07-29T20:13:08.638338Z",
     "iopub.status.busy": "2021-07-29T20:13:08.637750Z",
     "iopub.status.idle": "2021-07-30T06:13:53.441269Z",
     "shell.execute_reply": "2021-07-30T06:13:53.442231Z"
    },
    "papermill": {
     "duration": 36044.831494,
     "end_time": "2021-07-30T06:13:53.442711",
     "exception": false,
     "start_time": "2021-07-29T20:13:08.611217",
     "status": "completed"
    },
    "tags": []
   },
   "outputs": [
    {
     "name": "stdout",
     "output_type": "stream",
     "text": [
      "Queue finished\n"
     ]
    },
    {
     "name": "stdout",
     "output_type": "stream",
     "text": [
      "Process n°0 : Launched"
     ]
    },
    {
     "name": "stdout",
     "output_type": "stream",
     "text": [
      "\n"
     ]
    },
    {
     "name": "stdout",
     "output_type": "stream",
     "text": [
      "Process n°1 : Launched"
     ]
    },
    {
     "name": "stdout",
     "output_type": "stream",
     "text": [
      "\n"
     ]
    },
    {
     "name": "stdout",
     "output_type": "stream",
     "text": [
      "Process n°2 : Launched"
     ]
    },
    {
     "name": "stdout",
     "output_type": "stream",
     "text": [
      "\n"
     ]
    },
    {
     "name": "stdout",
     "output_type": "stream",
     "text": [
      "Process n°3 : Launched"
     ]
    },
    {
     "name": "stdout",
     "output_type": "stream",
     "text": [
      "\n"
     ]
    },
    {
     "name": "stdout",
     "output_type": "stream",
     "text": [
      "Process n°4 : Launched"
     ]
    },
    {
     "name": "stdout",
     "output_type": "stream",
     "text": [
      "\n"
     ]
    },
    {
     "name": "stdout",
     "output_type": "stream",
     "text": [
      "Process n°5 : Launched"
     ]
    },
    {
     "name": "stdout",
     "output_type": "stream",
     "text": [
      "\n"
     ]
    },
    {
     "name": "stdout",
     "output_type": "stream",
     "text": [
      "Process n°6 : Launched"
     ]
    },
    {
     "name": "stdout",
     "output_type": "stream",
     "text": [
      "\n"
     ]
    },
    {
     "name": "stdout",
     "output_type": "stream",
     "text": [
      "Process n°7 : Launched"
     ]
    },
    {
     "name": "stdout",
     "output_type": "stream",
     "text": [
      "\n"
     ]
    },
    {
     "name": "stdout",
     "output_type": "stream",
     "text": [
      "Process n°8 : Launched"
     ]
    },
    {
     "name": "stdout",
     "output_type": "stream",
     "text": [
      "\n"
     ]
    },
    {
     "name": "stdout",
     "output_type": "stream",
     "text": [
      "Process n°9 : Launched"
     ]
    },
    {
     "name": "stdout",
     "output_type": "stream",
     "text": [
      "\n"
     ]
    },
    {
     "name": "stdout",
     "output_type": "stream",
     "text": [
      "Process n°11 : Launched"
     ]
    },
    {
     "name": "stdout",
     "output_type": "stream",
     "text": [
      "Process n°12 : Launched"
     ]
    },
    {
     "name": "stdout",
     "output_type": "stream",
     "text": [
      "\n"
     ]
    },
    {
     "name": "stdout",
     "output_type": "stream",
     "text": [
      "Process n°10 : Launched"
     ]
    },
    {
     "name": "stdout",
     "output_type": "stream",
     "text": [
      "Process n°13 : Launched"
     ]
    },
    {
     "name": "stdout",
     "output_type": "stream",
     "text": [
      "\n"
     ]
    },
    {
     "name": "stdout",
     "output_type": "stream",
     "text": [
      "\n"
     ]
    },
    {
     "name": "stdout",
     "output_type": "stream",
     "text": [
      "Process n°14 : Launched"
     ]
    },
    {
     "name": "stdout",
     "output_type": "stream",
     "text": [
      "Process n°17 : Launched"
     ]
    },
    {
     "name": "stdout",
     "output_type": "stream",
     "text": [
      "Process n°16 : Launched"
     ]
    },
    {
     "name": "stdout",
     "output_type": "stream",
     "text": [
      "Process n°18 : Launched"
     ]
    },
    {
     "name": "stdout",
     "output_type": "stream",
     "text": [
      "\n"
     ]
    },
    {
     "name": "stdout",
     "output_type": "stream",
     "text": [
      "\n"
     ]
    },
    {
     "name": "stdout",
     "output_type": "stream",
     "text": [
      "Process n°15 : Launched"
     ]
    },
    {
     "name": "stdout",
     "output_type": "stream",
     "text": [
      "\n"
     ]
    },
    {
     "name": "stdout",
     "output_type": "stream",
     "text": [
      "Process n°19 : Launched"
     ]
    },
    {
     "name": "stdout",
     "output_type": "stream",
     "text": [
      "Process n°20 : Launched"
     ]
    },
    {
     "name": "stdout",
     "output_type": "stream",
     "text": [
      "\n"
     ]
    },
    {
     "name": "stdout",
     "output_type": "stream",
     "text": [
      "\n"
     ]
    },
    {
     "name": "stdout",
     "output_type": "stream",
     "text": [
      "\n"
     ]
    },
    {
     "name": "stdout",
     "output_type": "stream",
     "text": [
      "\n"
     ]
    },
    {
     "name": "stdout",
     "output_type": "stream",
     "text": [
      "\n"
     ]
    },
    {
     "name": "stdout",
     "output_type": "stream",
     "text": [
      "Process n°21 : Launched"
     ]
    },
    {
     "name": "stdout",
     "output_type": "stream",
     "text": [
      "\n"
     ]
    },
    {
     "name": "stdout",
     "output_type": "stream",
     "text": [
      "Process n°22 : Launched"
     ]
    },
    {
     "name": "stdout",
     "output_type": "stream",
     "text": [
      "Process n°23 : Launched"
     ]
    },
    {
     "name": "stdout",
     "output_type": "stream",
     "text": [
      "Process n°24 : Launched"
     ]
    },
    {
     "name": "stdout",
     "output_type": "stream",
     "text": [
      "\n"
     ]
    },
    {
     "name": "stdout",
     "output_type": "stream",
     "text": [
      "\n"
     ]
    },
    {
     "name": "stdout",
     "output_type": "stream",
     "text": [
      "\n"
     ]
    },
    {
     "name": "stdout",
     "output_type": "stream",
     "text": [
      "Process n°26 : Launched"
     ]
    },
    {
     "name": "stdout",
     "output_type": "stream",
     "text": [
      "\n"
     ]
    },
    {
     "name": "stdout",
     "output_type": "stream",
     "text": [
      "Process n°25 : Launched"
     ]
    },
    {
     "name": "stdout",
     "output_type": "stream",
     "text": [
      "0"
     ]
    },
    {
     "name": "stdout",
     "output_type": "stream",
     "text": [
      "\n"
     ]
    },
    {
     "name": "stdout",
     "output_type": "stream",
     "text": [
      "Process n°27 : Launched"
     ]
    },
    {
     "name": "stdout",
     "output_type": "stream",
     "text": [
      " "
     ]
    },
    {
     "name": "stdout",
     "output_type": "stream",
     "text": [
      "Process n°28 : Launched"
     ]
    },
    {
     "name": "stdout",
     "output_type": "stream",
     "text": [
      "\n"
     ]
    },
    {
     "name": "stdout",
     "output_type": "stream",
     "text": [
      "Process n°30 : Launched"
     ]
    },
    {
     "name": "stdout",
     "output_type": "stream",
     "text": [
      " %"
     ]
    },
    {
     "name": "stdout",
     "output_type": "stream",
     "text": [
      "\n"
     ]
    },
    {
     "name": "stdout",
     "output_type": "stream",
     "text": [
      "Process n°29 : Launched"
     ]
    },
    {
     "name": "stdout",
     "output_type": "stream",
     "text": [
      "\n"
     ]
    },
    {
     "name": "stdout",
     "output_type": "stream",
     "text": [
      "\n"
     ]
    },
    {
     "name": "stdout",
     "output_type": "stream",
     "text": [
      "Process n°31 : Launched"
     ]
    },
    {
     "name": "stdout",
     "output_type": "stream",
     "text": [
      "\n"
     ]
    },
    {
     "name": "stdout",
     "output_type": "stream",
     "text": [
      "\n"
     ]
    },
    {
     "name": "stdout",
     "output_type": "stream",
     "text": [
      "Process n°32 : Launched"
     ]
    },
    {
     "name": "stdout",
     "output_type": "stream",
     "text": [
      "Process n°33 : Launched"
     ]
    },
    {
     "name": "stdout",
     "output_type": "stream",
     "text": [
      "\n"
     ]
    },
    {
     "name": "stdout",
     "output_type": "stream",
     "text": [
      "\n"
     ]
    },
    {
     "name": "stdout",
     "output_type": "stream",
     "text": [
      "Process n°34 : Launched"
     ]
    },
    {
     "name": "stdout",
     "output_type": "stream",
     "text": [
      "\n"
     ]
    },
    {
     "name": "stdout",
     "output_type": "stream",
     "text": [
      "Process n°36 : Launched"
     ]
    },
    {
     "name": "stdout",
     "output_type": "stream",
     "text": [
      "\n"
     ]
    },
    {
     "name": "stdout",
     "output_type": "stream",
     "text": [
      "Process n°35 : Launched"
     ]
    },
    {
     "name": "stdout",
     "output_type": "stream",
     "text": [
      "Process n°37 : Launched"
     ]
    },
    {
     "name": "stdout",
     "output_type": "stream",
     "text": [
      "\n"
     ]
    },
    {
     "name": "stdout",
     "output_type": "stream",
     "text": [
      "Process n°38 : Launched"
     ]
    },
    {
     "name": "stdout",
     "output_type": "stream",
     "text": [
      "\n"
     ]
    },
    {
     "name": "stdout",
     "output_type": "stream",
     "text": [
      "Process n°40 : Launched"
     ]
    },
    {
     "name": "stdout",
     "output_type": "stream",
     "text": [
      "\n"
     ]
    },
    {
     "name": "stdout",
     "output_type": "stream",
     "text": [
      "Process n°39 : Launched"
     ]
    },
    {
     "name": "stdout",
     "output_type": "stream",
     "text": [
      "\n"
     ]
    },
    {
     "name": "stdout",
     "output_type": "stream",
     "text": [
      "\n"
     ]
    },
    {
     "name": "stdout",
     "output_type": "stream",
     "text": [
      "Process n°41 : Launched"
     ]
    },
    {
     "name": "stdout",
     "output_type": "stream",
     "text": [
      "\n"
     ]
    },
    {
     "name": "stdout",
     "output_type": "stream",
     "text": [
      "Process n°42 : Launched"
     ]
    },
    {
     "name": "stdout",
     "output_type": "stream",
     "text": [
      "\n"
     ]
    },
    {
     "name": "stdout",
     "output_type": "stream",
     "text": [
      "Process n°43 : Launched"
     ]
    },
    {
     "name": "stdout",
     "output_type": "stream",
     "text": [
      "\n"
     ]
    },
    {
     "name": "stdout",
     "output_type": "stream",
     "text": [
      "Process n°44 : Launched"
     ]
    },
    {
     "name": "stdout",
     "output_type": "stream",
     "text": [
      "\n"
     ]
    },
    {
     "name": "stdout",
     "output_type": "stream",
     "text": [
      "Process n°47 : Launched"
     ]
    },
    {
     "name": "stdout",
     "output_type": "stream",
     "text": [
      "Process n°45 : Launched"
     ]
    },
    {
     "name": "stdout",
     "output_type": "stream",
     "text": [
      "\n"
     ]
    },
    {
     "name": "stdout",
     "output_type": "stream",
     "text": [
      "\n"
     ]
    },
    {
     "name": "stdout",
     "output_type": "stream",
     "text": [
      "Process n°46 : Launched"
     ]
    },
    {
     "name": "stdout",
     "output_type": "stream",
     "text": [
      "Process n°48 : Launched"
     ]
    },
    {
     "name": "stdout",
     "output_type": "stream",
     "text": [
      "\n"
     ]
    },
    {
     "name": "stdout",
     "output_type": "stream",
     "text": [
      "Process n°49 : Launched"
     ]
    },
    {
     "name": "stdout",
     "output_type": "stream",
     "text": [
      "\n"
     ]
    },
    {
     "name": "stdout",
     "output_type": "stream",
     "text": [
      "Process n°50 : Launched"
     ]
    },
    {
     "name": "stdout",
     "output_type": "stream",
     "text": [
      "\n"
     ]
    },
    {
     "name": "stdout",
     "output_type": "stream",
     "text": [
      "\n"
     ]
    },
    {
     "name": "stdout",
     "output_type": "stream",
     "text": [
      "Process n°51 : Launched"
     ]
    },
    {
     "name": "stdout",
     "output_type": "stream",
     "text": [
      "\n"
     ]
    },
    {
     "name": "stdout",
     "output_type": "stream",
     "text": [
      "Process n°52 : Launched"
     ]
    },
    {
     "name": "stdout",
     "output_type": "stream",
     "text": [
      "\n"
     ]
    },
    {
     "name": "stdout",
     "output_type": "stream",
     "text": [
      "Process n°53 : Launched"
     ]
    },
    {
     "name": "stdout",
     "output_type": "stream",
     "text": [
      "Process n°54 : Launched"
     ]
    },
    {
     "name": "stdout",
     "output_type": "stream",
     "text": [
      "\n"
     ]
    },
    {
     "name": "stdout",
     "output_type": "stream",
     "text": [
      "\n"
     ]
    },
    {
     "name": "stdout",
     "output_type": "stream",
     "text": [
      "Process n°55 : Launched"
     ]
    },
    {
     "name": "stdout",
     "output_type": "stream",
     "text": [
      "\n"
     ]
    },
    {
     "name": "stdout",
     "output_type": "stream",
     "text": [
      "Process n°57 : Launched"
     ]
    },
    {
     "name": "stdout",
     "output_type": "stream",
     "text": [
      "Process n°56 : Launched"
     ]
    },
    {
     "name": "stdout",
     "output_type": "stream",
     "text": [
      "\n"
     ]
    },
    {
     "name": "stdout",
     "output_type": "stream",
     "text": [
      "\n"
     ]
    },
    {
     "name": "stdout",
     "output_type": "stream",
     "text": [
      "Process n°58 : Launched"
     ]
    },
    {
     "name": "stdout",
     "output_type": "stream",
     "text": [
      "\n"
     ]
    },
    {
     "name": "stdout",
     "output_type": "stream",
     "text": [
      "Process n°59 : Launched"
     ]
    },
    {
     "name": "stdout",
     "output_type": "stream",
     "text": [
      "\n"
     ]
    },
    {
     "name": "stdout",
     "output_type": "stream",
     "text": [
      "Process n°60 : Launched"
     ]
    },
    {
     "name": "stdout",
     "output_type": "stream",
     "text": [
      "\n"
     ]
    },
    {
     "name": "stdout",
     "output_type": "stream",
     "text": [
      "Process n°61 : Launched"
     ]
    },
    {
     "name": "stdout",
     "output_type": "stream",
     "text": [
      "\n"
     ]
    },
    {
     "name": "stdout",
     "output_type": "stream",
     "text": [
      "Process n°63 : Launched"
     ]
    },
    {
     "name": "stdout",
     "output_type": "stream",
     "text": [
      "Process n°62 : Launched"
     ]
    },
    {
     "name": "stdout",
     "output_type": "stream",
     "text": [
      "\n"
     ]
    },
    {
     "name": "stdout",
     "output_type": "stream",
     "text": [
      "\n"
     ]
    },
    {
     "name": "stdout",
     "output_type": "stream",
     "text": [
      "Process n°64 : Launched"
     ]
    },
    {
     "name": "stdout",
     "output_type": "stream",
     "text": [
      "\n"
     ]
    },
    {
     "name": "stdout",
     "output_type": "stream",
     "text": [
      "Process n°65 : Launched"
     ]
    },
    {
     "name": "stdout",
     "output_type": "stream",
     "text": [
      "\n"
     ]
    },
    {
     "name": "stdout",
     "output_type": "stream",
     "text": [
      "Process n°66 : Launched"
     ]
    },
    {
     "name": "stdout",
     "output_type": "stream",
     "text": [
      "Process n°67 : Launched"
     ]
    },
    {
     "name": "stdout",
     "output_type": "stream",
     "text": [
      "\n"
     ]
    },
    {
     "name": "stdout",
     "output_type": "stream",
     "text": [
      "\n"
     ]
    },
    {
     "name": "stdout",
     "output_type": "stream",
     "text": [
      "Process n°68 : Launched"
     ]
    },
    {
     "name": "stdout",
     "output_type": "stream",
     "text": [
      "\n"
     ]
    },
    {
     "name": "stdout",
     "output_type": "stream",
     "text": [
      "Process n°69 : Launched"
     ]
    },
    {
     "name": "stdout",
     "output_type": "stream",
     "text": [
      "Process n°70 : Launched"
     ]
    },
    {
     "name": "stdout",
     "output_type": "stream",
     "text": [
      "\n"
     ]
    },
    {
     "name": "stdout",
     "output_type": "stream",
     "text": [
      "\n"
     ]
    },
    {
     "name": "stdout",
     "output_type": "stream",
     "text": [
      "Process n°71 : Launched"
     ]
    },
    {
     "name": "stdout",
     "output_type": "stream",
     "text": [
      "\n"
     ]
    },
    {
     "name": "stdout",
     "output_type": "stream",
     "text": [
      "Process n°72 : Launched"
     ]
    },
    {
     "name": "stdout",
     "output_type": "stream",
     "text": [
      "\n"
     ]
    },
    {
     "name": "stdout",
     "output_type": "stream",
     "text": [
      "Process n°74 : Launched"
     ]
    },
    {
     "name": "stdout",
     "output_type": "stream",
     "text": [
      "Process n°73 : Launched"
     ]
    },
    {
     "name": "stdout",
     "output_type": "stream",
     "text": [
      "Process n°75 : Launched"
     ]
    },
    {
     "name": "stdout",
     "output_type": "stream",
     "text": [
      "\n"
     ]
    },
    {
     "name": "stdout",
     "output_type": "stream",
     "text": [
      "\n"
     ]
    },
    {
     "name": "stdout",
     "output_type": "stream",
     "text": [
      "\n"
     ]
    },
    {
     "name": "stdout",
     "output_type": "stream",
     "text": [
      "Process n°76 : Launched"
     ]
    },
    {
     "name": "stdout",
     "output_type": "stream",
     "text": [
      "\n"
     ]
    },
    {
     "name": "stdout",
     "output_type": "stream",
     "text": [
      "10.0"
     ]
    },
    {
     "name": "stdout",
     "output_type": "stream",
     "text": [
      " "
     ]
    },
    {
     "name": "stdout",
     "output_type": "stream",
     "text": [
      " %"
     ]
    },
    {
     "name": "stdout",
     "output_type": "stream",
     "text": [
      "10.0"
     ]
    },
    {
     "name": "stdout",
     "output_type": "stream",
     "text": [
      "\n"
     ]
    },
    {
     "name": "stdout",
     "output_type": "stream",
     "text": [
      " "
     ]
    },
    {
     "name": "stdout",
     "output_type": "stream",
     "text": [
      " %"
     ]
    },
    {
     "name": "stdout",
     "output_type": "stream",
     "text": [
      "\n"
     ]
    },
    {
     "name": "stdout",
     "output_type": "stream",
     "text": [
      "30.000000000000004"
     ]
    },
    {
     "name": "stdout",
     "output_type": "stream",
     "text": [
      " "
     ]
    },
    {
     "name": "stdout",
     "output_type": "stream",
     "text": [
      " %"
     ]
    },
    {
     "name": "stdout",
     "output_type": "stream",
     "text": [
      "\n"
     ]
    },
    {
     "name": "stdout",
     "output_type": "stream",
     "text": [
      "40.0"
     ]
    },
    {
     "name": "stdout",
     "output_type": "stream",
     "text": [
      " "
     ]
    },
    {
     "name": "stdout",
     "output_type": "stream",
     "text": [
      " %"
     ]
    },
    {
     "name": "stdout",
     "output_type": "stream",
     "text": [
      "\n"
     ]
    },
    {
     "name": "stdout",
     "output_type": "stream",
     "text": [
      "50.0"
     ]
    },
    {
     "name": "stdout",
     "output_type": "stream",
     "text": [
      " "
     ]
    },
    {
     "name": "stdout",
     "output_type": "stream",
     "text": [
      " %"
     ]
    },
    {
     "name": "stdout",
     "output_type": "stream",
     "text": [
      "\n"
     ]
    },
    {
     "name": "stdout",
     "output_type": "stream",
     "text": [
      "60.0"
     ]
    },
    {
     "name": "stdout",
     "output_type": "stream",
     "text": [
      "60.0"
     ]
    },
    {
     "name": "stdout",
     "output_type": "stream",
     "text": [
      " "
     ]
    },
    {
     "name": "stdout",
     "output_type": "stream",
     "text": [
      " "
     ]
    },
    {
     "name": "stdout",
     "output_type": "stream",
     "text": [
      " %"
     ]
    },
    {
     "name": "stdout",
     "output_type": "stream",
     "text": [
      " %"
     ]
    },
    {
     "name": "stdout",
     "output_type": "stream",
     "text": [
      "60.0"
     ]
    },
    {
     "name": "stdout",
     "output_type": "stream",
     "text": [
      "\n"
     ]
    },
    {
     "name": "stdout",
     "output_type": "stream",
     "text": [
      " "
     ]
    },
    {
     "name": "stdout",
     "output_type": "stream",
     "text": [
      "\n"
     ]
    },
    {
     "name": "stdout",
     "output_type": "stream",
     "text": [
      " %"
     ]
    },
    {
     "name": "stdout",
     "output_type": "stream",
     "text": [
      "\n"
     ]
    },
    {
     "name": "stdout",
     "output_type": "stream",
     "text": [
      "89.99999999999999"
     ]
    },
    {
     "name": "stdout",
     "output_type": "stream",
     "text": [
      " "
     ]
    },
    {
     "name": "stdout",
     "output_type": "stream",
     "text": [
      " %"
     ]
    },
    {
     "name": "stdout",
     "output_type": "stream",
     "text": [
      "89.99999999999999"
     ]
    },
    {
     "name": "stdout",
     "output_type": "stream",
     "text": [
      "\n"
     ]
    },
    {
     "name": "stdout",
     "output_type": "stream",
     "text": [
      "89.99999999999999"
     ]
    },
    {
     "name": "stdout",
     "output_type": "stream",
     "text": [
      " "
     ]
    },
    {
     "name": "stdout",
     "output_type": "stream",
     "text": [
      "90.0"
     ]
    },
    {
     "name": "stdout",
     "output_type": "stream",
     "text": [
      " "
     ]
    },
    {
     "name": "stdout",
     "output_type": "stream",
     "text": [
      " %"
     ]
    },
    {
     "name": "stdout",
     "output_type": "stream",
     "text": [
      " "
     ]
    },
    {
     "name": "stdout",
     "output_type": "stream",
     "text": [
      " %"
     ]
    },
    {
     "name": "stdout",
     "output_type": "stream",
     "text": [
      "\n"
     ]
    },
    {
     "name": "stdout",
     "output_type": "stream",
     "text": [
      " %"
     ]
    },
    {
     "name": "stdout",
     "output_type": "stream",
     "text": [
      "\n"
     ]
    },
    {
     "name": "stdout",
     "output_type": "stream",
     "text": [
      "90.0"
     ]
    },
    {
     "name": "stdout",
     "output_type": "stream",
     "text": [
      "90.0"
     ]
    },
    {
     "name": "stdout",
     "output_type": "stream",
     "text": [
      "90.0"
     ]
    },
    {
     "name": "stdout",
     "output_type": "stream",
     "text": [
      "\n"
     ]
    },
    {
     "name": "stdout",
     "output_type": "stream",
     "text": [
      " "
     ]
    },
    {
     "name": "stdout",
     "output_type": "stream",
     "text": [
      " "
     ]
    },
    {
     "name": "stdout",
     "output_type": "stream",
     "text": [
      " "
     ]
    },
    {
     "name": "stdout",
     "output_type": "stream",
     "text": [
      " %"
     ]
    },
    {
     "name": "stdout",
     "output_type": "stream",
     "text": [
      " %"
     ]
    },
    {
     "name": "stdout",
     "output_type": "stream",
     "text": [
      "\n"
     ]
    },
    {
     "name": "stdout",
     "output_type": "stream",
     "text": [
      " %"
     ]
    },
    {
     "name": "stdout",
     "output_type": "stream",
     "text": [
      "\n"
     ]
    },
    {
     "name": "stdout",
     "output_type": "stream",
     "text": [
      "\n"
     ]
    },
    {
     "name": "stdout",
     "output_type": "stream",
     "text": [
      "94.0"
     ]
    },
    {
     "name": "stdout",
     "output_type": "stream",
     "text": [
      "94.0"
     ]
    },
    {
     "name": "stdout",
     "output_type": "stream",
     "text": [
      " "
     ]
    },
    {
     "name": "stdout",
     "output_type": "stream",
     "text": [
      " "
     ]
    },
    {
     "name": "stdout",
     "output_type": "stream",
     "text": [
      " %"
     ]
    },
    {
     "name": "stdout",
     "output_type": "stream",
     "text": [
      " %"
     ]
    },
    {
     "name": "stdout",
     "output_type": "stream",
     "text": [
      "\n"
     ]
    },
    {
     "name": "stdout",
     "output_type": "stream",
     "text": [
      "94.0"
     ]
    },
    {
     "name": "stdout",
     "output_type": "stream",
     "text": [
      "\n"
     ]
    },
    {
     "name": "stdout",
     "output_type": "stream",
     "text": [
      " "
     ]
    },
    {
     "name": "stdout",
     "output_type": "stream",
     "text": [
      " %"
     ]
    },
    {
     "name": "stdout",
     "output_type": "stream",
     "text": [
      "\n"
     ]
    },
    {
     "name": "stdout",
     "output_type": "stream",
     "text": [
      "97.00000000000001"
     ]
    },
    {
     "name": "stdout",
     "output_type": "stream",
     "text": [
      " "
     ]
    },
    {
     "name": "stdout",
     "output_type": "stream",
     "text": [
      " %"
     ]
    },
    {
     "name": "stdout",
     "output_type": "stream",
     "text": [
      "\n"
     ]
    },
    {
     "name": "stdout",
     "output_type": "stream",
     "text": [
      "Process n°8 : Finished"
     ]
    },
    {
     "name": "stdout",
     "output_type": "stream",
     "text": [
      "Process n°64 : Finished"
     ]
    },
    {
     "name": "stdout",
     "output_type": "stream",
     "text": [
      "\n"
     ]
    },
    {
     "name": "stdout",
     "output_type": "stream",
     "text": [
      "\n"
     ]
    },
    {
     "name": "stdout",
     "output_type": "stream",
     "text": [
      "Process n°59 : Finished"
     ]
    },
    {
     "name": "stdout",
     "output_type": "stream",
     "text": [
      "\n"
     ]
    },
    {
     "name": "stdout",
     "output_type": "stream",
     "text": [
      "Process n°17 : Finished"
     ]
    },
    {
     "name": "stdout",
     "output_type": "stream",
     "text": [
      "Process n°34 : Finished"
     ]
    },
    {
     "name": "stdout",
     "output_type": "stream",
     "text": [
      "Process n°23 : Finished"
     ]
    },
    {
     "name": "stdout",
     "output_type": "stream",
     "text": [
      "Process n°15 : Finished"
     ]
    },
    {
     "name": "stdout",
     "output_type": "stream",
     "text": [
      "\n"
     ]
    },
    {
     "name": "stdout",
     "output_type": "stream",
     "text": [
      "\n"
     ]
    },
    {
     "name": "stdout",
     "output_type": "stream",
     "text": [
      "\n"
     ]
    },
    {
     "name": "stdout",
     "output_type": "stream",
     "text": [
      "\n"
     ]
    },
    {
     "name": "stdout",
     "output_type": "stream",
     "text": [
      "Process n°58 : Finished"
     ]
    },
    {
     "name": "stdout",
     "output_type": "stream",
     "text": [
      "\n"
     ]
    },
    {
     "name": "stdout",
     "output_type": "stream",
     "text": [
      "Process n°30 : Finished"
     ]
    },
    {
     "name": "stdout",
     "output_type": "stream",
     "text": [
      "\n"
     ]
    },
    {
     "name": "stdout",
     "output_type": "stream",
     "text": [
      "Process n°42 : Finished"
     ]
    },
    {
     "name": "stdout",
     "output_type": "stream",
     "text": [
      "\n"
     ]
    },
    {
     "name": "stdout",
     "output_type": "stream",
     "text": [
      "Process n°27 : Finished"
     ]
    },
    {
     "name": "stdout",
     "output_type": "stream",
     "text": [
      "\n"
     ]
    },
    {
     "name": "stdout",
     "output_type": "stream",
     "text": [
      "Process n°55 : Finished"
     ]
    },
    {
     "name": "stdout",
     "output_type": "stream",
     "text": [
      "Process n°13 : Finished"
     ]
    },
    {
     "name": "stdout",
     "output_type": "stream",
     "text": [
      "\n"
     ]
    },
    {
     "name": "stdout",
     "output_type": "stream",
     "text": [
      "\n"
     ]
    },
    {
     "name": "stdout",
     "output_type": "stream",
     "text": [
      "Process n°18 : Finished"
     ]
    },
    {
     "name": "stdout",
     "output_type": "stream",
     "text": [
      "\n"
     ]
    },
    {
     "name": "stdout",
     "output_type": "stream",
     "text": [
      "Process n°3 : Finished"
     ]
    },
    {
     "name": "stdout",
     "output_type": "stream",
     "text": [
      "Process n°0 : Finished"
     ]
    },
    {
     "name": "stdout",
     "output_type": "stream",
     "text": [
      "\n"
     ]
    },
    {
     "name": "stdout",
     "output_type": "stream",
     "text": [
      "Process n°71 : Finished"
     ]
    },
    {
     "name": "stdout",
     "output_type": "stream",
     "text": [
      "\n"
     ]
    },
    {
     "name": "stdout",
     "output_type": "stream",
     "text": [
      "\n"
     ]
    },
    {
     "name": "stdout",
     "output_type": "stream",
     "text": [
      "Process n°38 : Finished"
     ]
    },
    {
     "name": "stdout",
     "output_type": "stream",
     "text": [
      "\n"
     ]
    },
    {
     "name": "stdout",
     "output_type": "stream",
     "text": [
      "Process n°29 : Finished"
     ]
    },
    {
     "name": "stdout",
     "output_type": "stream",
     "text": [
      "\n"
     ]
    },
    {
     "name": "stdout",
     "output_type": "stream",
     "text": [
      "Process n°14 : Finished"
     ]
    },
    {
     "name": "stdout",
     "output_type": "stream",
     "text": [
      "\n"
     ]
    },
    {
     "name": "stdout",
     "output_type": "stream",
     "text": [
      "Process n°20 : Finished"
     ]
    },
    {
     "name": "stdout",
     "output_type": "stream",
     "text": [
      "\n"
     ]
    },
    {
     "name": "stdout",
     "output_type": "stream",
     "text": [
      "Process n°61 : Finished"
     ]
    },
    {
     "name": "stdout",
     "output_type": "stream",
     "text": [
      "\n"
     ]
    },
    {
     "name": "stdout",
     "output_type": "stream",
     "text": [
      "Process n°37 : Finished"
     ]
    },
    {
     "name": "stdout",
     "output_type": "stream",
     "text": [
      "\n"
     ]
    },
    {
     "name": "stdout",
     "output_type": "stream",
     "text": [
      "Process n°36 : Finished"
     ]
    },
    {
     "name": "stdout",
     "output_type": "stream",
     "text": [
      "\n"
     ]
    },
    {
     "name": "stdout",
     "output_type": "stream",
     "text": [
      "Process n°43 : Finished"
     ]
    },
    {
     "name": "stdout",
     "output_type": "stream",
     "text": [
      "\n"
     ]
    },
    {
     "name": "stdout",
     "output_type": "stream",
     "text": [
      "Process n°54 : Finished"
     ]
    },
    {
     "name": "stdout",
     "output_type": "stream",
     "text": [
      "\n"
     ]
    },
    {
     "name": "stdout",
     "output_type": "stream",
     "text": [
      "Process n°40 : Finished"
     ]
    },
    {
     "name": "stdout",
     "output_type": "stream",
     "text": [
      "\n"
     ]
    },
    {
     "name": "stdout",
     "output_type": "stream",
     "text": [
      "Process n°52 : Finished"
     ]
    },
    {
     "name": "stdout",
     "output_type": "stream",
     "text": [
      "\n"
     ]
    },
    {
     "name": "stdout",
     "output_type": "stream",
     "text": [
      "Process n°2 : Finished"
     ]
    },
    {
     "name": "stdout",
     "output_type": "stream",
     "text": [
      "\n"
     ]
    },
    {
     "name": "stdout",
     "output_type": "stream",
     "text": [
      "Process n°16 : Finished"
     ]
    },
    {
     "name": "stdout",
     "output_type": "stream",
     "text": [
      "\n"
     ]
    },
    {
     "name": "stdout",
     "output_type": "stream",
     "text": [
      "Process n°25 : Finished"
     ]
    },
    {
     "name": "stdout",
     "output_type": "stream",
     "text": [
      "\n"
     ]
    },
    {
     "name": "stdout",
     "output_type": "stream",
     "text": [
      "Process n°9 : Finished"
     ]
    },
    {
     "name": "stdout",
     "output_type": "stream",
     "text": [
      "\n"
     ]
    },
    {
     "name": "stdout",
     "output_type": "stream",
     "text": [
      "Process n°32 : Finished"
     ]
    },
    {
     "name": "stdout",
     "output_type": "stream",
     "text": [
      "\n"
     ]
    },
    {
     "name": "stdout",
     "output_type": "stream",
     "text": [
      "Process n°75 : Finished"
     ]
    },
    {
     "name": "stdout",
     "output_type": "stream",
     "text": [
      "\n"
     ]
    },
    {
     "name": "stdout",
     "output_type": "stream",
     "text": [
      "Process n°46 : Finished"
     ]
    },
    {
     "name": "stdout",
     "output_type": "stream",
     "text": [
      "\n"
     ]
    },
    {
     "name": "stdout",
     "output_type": "stream",
     "text": [
      "Process n°12 : Finished"
     ]
    },
    {
     "name": "stdout",
     "output_type": "stream",
     "text": [
      "\n"
     ]
    },
    {
     "name": "stdout",
     "output_type": "stream",
     "text": [
      "Process n°10 : Finished"
     ]
    },
    {
     "name": "stdout",
     "output_type": "stream",
     "text": [
      "Process n°48 : Finished"
     ]
    },
    {
     "name": "stdout",
     "output_type": "stream",
     "text": [
      "\n"
     ]
    },
    {
     "name": "stdout",
     "output_type": "stream",
     "text": [
      "\n"
     ]
    },
    {
     "name": "stdout",
     "output_type": "stream",
     "text": [
      "Process n°72 : Finished"
     ]
    },
    {
     "name": "stdout",
     "output_type": "stream",
     "text": [
      "\n"
     ]
    },
    {
     "name": "stdout",
     "output_type": "stream",
     "text": [
      "Process n°24 : Finished"
     ]
    },
    {
     "name": "stdout",
     "output_type": "stream",
     "text": [
      "\n"
     ]
    },
    {
     "name": "stdout",
     "output_type": "stream",
     "text": [
      "Process n°39 : Finished"
     ]
    },
    {
     "name": "stdout",
     "output_type": "stream",
     "text": [
      "\n"
     ]
    },
    {
     "name": "stdout",
     "output_type": "stream",
     "text": [
      "Process n°66 : Finished"
     ]
    },
    {
     "name": "stdout",
     "output_type": "stream",
     "text": [
      "\n"
     ]
    },
    {
     "name": "stdout",
     "output_type": "stream",
     "text": [
      "Process n°56 : Finished"
     ]
    },
    {
     "name": "stdout",
     "output_type": "stream",
     "text": [
      "\n"
     ]
    },
    {
     "name": "stdout",
     "output_type": "stream",
     "text": [
      "Process n°51 : Finished"
     ]
    },
    {
     "name": "stdout",
     "output_type": "stream",
     "text": [
      "\n"
     ]
    },
    {
     "name": "stdout",
     "output_type": "stream",
     "text": [
      "Process n°35 : Finished"
     ]
    },
    {
     "name": "stdout",
     "output_type": "stream",
     "text": [
      "\n"
     ]
    },
    {
     "name": "stdout",
     "output_type": "stream",
     "text": [
      "Process n°6 : Finished"
     ]
    },
    {
     "name": "stdout",
     "output_type": "stream",
     "text": [
      "\n"
     ]
    },
    {
     "name": "stdout",
     "output_type": "stream",
     "text": [
      "Process n°41 : Finished"
     ]
    },
    {
     "name": "stdout",
     "output_type": "stream",
     "text": [
      "\n"
     ]
    },
    {
     "name": "stdout",
     "output_type": "stream",
     "text": [
      "Process n°53 : Finished"
     ]
    },
    {
     "name": "stdout",
     "output_type": "stream",
     "text": [
      "\n"
     ]
    },
    {
     "name": "stdout",
     "output_type": "stream",
     "text": [
      "Process n°21 : Finished"
     ]
    },
    {
     "name": "stdout",
     "output_type": "stream",
     "text": [
      "\n"
     ]
    },
    {
     "name": "stdout",
     "output_type": "stream",
     "text": [
      "Process n°33 : Finished"
     ]
    },
    {
     "name": "stdout",
     "output_type": "stream",
     "text": [
      "\n"
     ]
    },
    {
     "name": "stdout",
     "output_type": "stream",
     "text": [
      "Process n°63 : Finished"
     ]
    },
    {
     "name": "stdout",
     "output_type": "stream",
     "text": [
      "\n"
     ]
    },
    {
     "name": "stdout",
     "output_type": "stream",
     "text": [
      "Process n°49 : Finished"
     ]
    },
    {
     "name": "stdout",
     "output_type": "stream",
     "text": [
      "\n"
     ]
    },
    {
     "name": "stdout",
     "output_type": "stream",
     "text": [
      "Process n°73 : Finished"
     ]
    },
    {
     "name": "stdout",
     "output_type": "stream",
     "text": [
      "\n"
     ]
    },
    {
     "name": "stdout",
     "output_type": "stream",
     "text": [
      "Process n°74 : Finished"
     ]
    },
    {
     "name": "stdout",
     "output_type": "stream",
     "text": [
      "\n"
     ]
    },
    {
     "name": "stdout",
     "output_type": "stream",
     "text": [
      "Process n°50 : Finished"
     ]
    },
    {
     "name": "stdout",
     "output_type": "stream",
     "text": [
      "\n"
     ]
    },
    {
     "name": "stdout",
     "output_type": "stream",
     "text": [
      "Process n°57 : Finished"
     ]
    },
    {
     "name": "stdout",
     "output_type": "stream",
     "text": [
      "\n"
     ]
    },
    {
     "name": "stdout",
     "output_type": "stream",
     "text": [
      "Process n°11 : Finished"
     ]
    },
    {
     "name": "stdout",
     "output_type": "stream",
     "text": [
      "\n"
     ]
    },
    {
     "name": "stdout",
     "output_type": "stream",
     "text": [
      "Process n°47 : Finished"
     ]
    },
    {
     "name": "stdout",
     "output_type": "stream",
     "text": [
      "\n"
     ]
    },
    {
     "name": "stdout",
     "output_type": "stream",
     "text": [
      "Process n°70 : Finished"
     ]
    },
    {
     "name": "stdout",
     "output_type": "stream",
     "text": [
      "\n"
     ]
    },
    {
     "name": "stdout",
     "output_type": "stream",
     "text": [
      "Process n°1 : Finished"
     ]
    },
    {
     "name": "stdout",
     "output_type": "stream",
     "text": [
      "\n"
     ]
    },
    {
     "name": "stdout",
     "output_type": "stream",
     "text": [
      "Process n°5 : Finished"
     ]
    },
    {
     "name": "stdout",
     "output_type": "stream",
     "text": [
      "\n"
     ]
    },
    {
     "name": "stdout",
     "output_type": "stream",
     "text": [
      "Process n°7 : Finished"
     ]
    },
    {
     "name": "stdout",
     "output_type": "stream",
     "text": [
      "\n"
     ]
    },
    {
     "name": "stdout",
     "output_type": "stream",
     "text": [
      "Process n°26 : Finished"
     ]
    },
    {
     "name": "stdout",
     "output_type": "stream",
     "text": [
      "\n"
     ]
    },
    {
     "name": "stdout",
     "output_type": "stream",
     "text": [
      "Process n°67 : Finished"
     ]
    },
    {
     "name": "stdout",
     "output_type": "stream",
     "text": [
      "\n"
     ]
    },
    {
     "name": "stdout",
     "output_type": "stream",
     "text": [
      "Process n°22 : Finished"
     ]
    },
    {
     "name": "stdout",
     "output_type": "stream",
     "text": [
      "\n"
     ]
    },
    {
     "name": "stdout",
     "output_type": "stream",
     "text": [
      "Process n°60 : Finished"
     ]
    },
    {
     "name": "stdout",
     "output_type": "stream",
     "text": [
      "\n"
     ]
    },
    {
     "name": "stdout",
     "output_type": "stream",
     "text": [
      "Process n°28 : Finished"
     ]
    },
    {
     "name": "stdout",
     "output_type": "stream",
     "text": [
      "\n"
     ]
    },
    {
     "name": "stdout",
     "output_type": "stream",
     "text": [
      "Process n°19 : Finished"
     ]
    },
    {
     "name": "stdout",
     "output_type": "stream",
     "text": [
      "\n"
     ]
    },
    {
     "name": "stdout",
     "output_type": "stream",
     "text": [
      "Process n°44 : Finished"
     ]
    },
    {
     "name": "stdout",
     "output_type": "stream",
     "text": [
      "\n"
     ]
    },
    {
     "name": "stdout",
     "output_type": "stream",
     "text": [
      "Process n°45 : Finished"
     ]
    },
    {
     "name": "stdout",
     "output_type": "stream",
     "text": [
      "\n"
     ]
    },
    {
     "name": "stdout",
     "output_type": "stream",
     "text": [
      "Process n°31 : Finished"
     ]
    },
    {
     "name": "stdout",
     "output_type": "stream",
     "text": [
      "\n"
     ]
    },
    {
     "name": "stdout",
     "output_type": "stream",
     "text": [
      "Process n°62 : Finished"
     ]
    },
    {
     "name": "stdout",
     "output_type": "stream",
     "text": [
      "\n"
     ]
    },
    {
     "name": "stdout",
     "output_type": "stream",
     "text": [
      "Process n°68 : Finished"
     ]
    },
    {
     "name": "stdout",
     "output_type": "stream",
     "text": [
      "\n"
     ]
    },
    {
     "name": "stdout",
     "output_type": "stream",
     "text": [
      "Process n°69 : Finished"
     ]
    },
    {
     "name": "stdout",
     "output_type": "stream",
     "text": [
      "\n"
     ]
    },
    {
     "name": "stdout",
     "output_type": "stream",
     "text": [
      "Process n°76 : Finished"
     ]
    },
    {
     "name": "stdout",
     "output_type": "stream",
     "text": [
      "\n"
     ]
    },
    {
     "name": "stdout",
     "output_type": "stream",
     "text": [
      "Process n°4 : Finished"
     ]
    },
    {
     "name": "stdout",
     "output_type": "stream",
     "text": [
      "\n"
     ]
    },
    {
     "name": "stdout",
     "output_type": "stream",
     "text": [
      "Process n°65 : Finished"
     ]
    },
    {
     "name": "stdout",
     "output_type": "stream",
     "text": [
      "\n"
     ]
    },
    {
     "name": "stdout",
     "output_type": "stream",
     "text": [
      "copy\n"
     ]
    },
    {
     "name": "stdout",
     "output_type": "stream",
     "text": [
      "10.0 %\n"
     ]
    },
    {
     "name": "stdout",
     "output_type": "stream",
     "text": [
      "20.0 %\n"
     ]
    },
    {
     "name": "stdout",
     "output_type": "stream",
     "text": [
      "30.000000000000004 %\n"
     ]
    },
    {
     "name": "stdout",
     "output_type": "stream",
     "text": [
      "40.0 %\n"
     ]
    },
    {
     "name": "stdout",
     "output_type": "stream",
     "text": [
      "50.0 %\n"
     ]
    },
    {
     "name": "stdout",
     "output_type": "stream",
     "text": [
      "60.0 %\n"
     ]
    },
    {
     "name": "stdout",
     "output_type": "stream",
     "text": [
      "70.0 %\n"
     ]
    },
    {
     "name": "stdout",
     "output_type": "stream",
     "text": [
      "80.0 %\n"
     ]
    },
    {
     "name": "stdout",
     "output_type": "stream",
     "text": [
      "89.99999999999999 %\n"
     ]
    },
    {
     "name": "stdout",
     "output_type": "stream",
     "text": [
      "99.99999999999999 %\n",
      "----- Democracy -----\n"
     ]
    },
    {
     "name": "stdout",
     "output_type": "stream",
     "text": [
      "0.13665822784810128\n"
     ]
    },
    {
     "name": "stdout",
     "output_type": "stream",
     "text": [
      "0.33336708860759495\n"
     ]
    },
    {
     "name": "stdout",
     "output_type": "stream",
     "text": [
      "0.43016033755274263\n"
     ]
    },
    {
     "name": "stdout",
     "output_type": "stream",
     "text": [
      "0.8468523206751055\n",
      "----- Expert -----\n"
     ]
    },
    {
     "name": "stdout",
     "output_type": "stream",
     "text": [
      "0.104084388185654\n"
     ]
    },
    {
     "name": "stdout",
     "output_type": "stream",
     "text": [
      "0.17875105485232068\n"
     ]
    },
    {
     "name": "stdout",
     "output_type": "stream",
     "text": [
      "0.2049113924050633\n"
     ]
    },
    {
     "name": "stdout",
     "output_type": "stream",
     "text": [
      "0.2826160337552743\n"
     ]
    },
    {
     "name": "stdout",
     "output_type": "stream",
     "text": [
      "CPU times: user 4h 7min 42s, sys: 11min 38s, total: 4h 19min 21s\n",
      "Wall time: 10h 44s\n"
     ]
    }
   ],
   "source": [
    "%%time\n",
    "\n",
    "def predict_instance(name, g, queue, prediction_per_instance_man, rules_associated_to_query, cpt, total_length, print_advancment, print_advancment_precise):\n",
    "    \n",
    "    print(f\"Process n°{name} : Launched\")\n",
    "    \n",
    "    while not queue.empty():\n",
    "        \n",
    "        instance = queue.get()\n",
    "        \n",
    "        dict_tp = {}\n",
    "        \n",
    "        if instance[1] in rules_associated_to_query.keys():\n",
    "            for rule in rules_associated_to_query[instance[1]]:\n",
    "                try:\n",
    "                    qres = g.query(create_query(rule, instance[2]))\n",
    "\n",
    "                    set_res = set()\n",
    "                    bool_res = False\n",
    "                    for row in qres:\n",
    "                        bool_res = True\n",
    "                        set_res.add(str(row.a))\n",
    "\n",
    "                    if bool_res:\n",
    "                        dict_tp[rule] = set_res\n",
    "            \n",
    "                except:\n",
    "                    print(create_query(rule, instance[2]))\n",
    "                    \n",
    "            prediction_per_instance_man[instance] = dict_tp\n",
    "            \n",
    "        else:\n",
    "            prediction_per_instance_man[instance] = {}\n",
    "        \n",
    "        cpt.value += 1\n",
    "        if (cpt.value/total_length > print_advancment.value ):\n",
    "            print(print_advancment.value*100,\" %\")\n",
    "            print_advancment.value+=0.1\n",
    "        if (cpt.value/total_length > print_advancment_precise.value):\n",
    "            print(print_advancment_precise.value*100,\" %\")\n",
    "            print_advancment_precise.value+=0.01\n",
    "        \n",
    "    print(f\"Process n°{name} : Finished\")   \n",
    "    \n",
    "q = Queue()\n",
    "prediction_per_instance = {}\n",
    "\n",
    "for instance in list(set_instances_to_predict):\n",
    "    q.put(instance)\n",
    "\n",
    "size_queue = q.qsize()\n",
    "\n",
    "print(\"Queue finished\")\n",
    "\n",
    "with Manager() as manager:\n",
    "\n",
    "    processes_to_create = multiprocessing.cpu_count()-3\n",
    "    processes = list()\n",
    "\n",
    "    prediction_per_instance_man = manager.dict()\n",
    "    cpt = manager.Value(\"cpt\",0)\n",
    "    print_advancment = manager.Value(\"print_advancment\", 0)\n",
    "    print_advancment_precise = manager.Value(\"print_advancment_precise\", 0.9)\n",
    "\n",
    "    for name in range(processes_to_create):\n",
    "        x = Process(target=predict_instance, args=(name, g, q, prediction_per_instance_man, rules_associated_to_query, cpt, size_queue, print_advancment, print_advancment_precise))\n",
    "        processes.append(x)\n",
    "        x.start()\n",
    "        \n",
    "    for index, process in enumerate(processes):\n",
    "        process.join()\n",
    "        \n",
    "    \n",
    "        \n",
    "    print(\"copy\")\n",
    "    \n",
    "    df_prediction = {}\n",
    "    \n",
    "    cpt = 0\n",
    "    advcement = 0.1\n",
    "    total_length = len(prediction_per_instance_man)\n",
    "    \n",
    "    del g\n",
    "\n",
    "    for prediction_instance in prediction_per_instance_man:\n",
    "        df_rules = {}\n",
    "        cpt += 1\n",
    "        for rule in prediction_per_instance_man[prediction_instance]:\n",
    "            df_rules[rule] = [set(prediction_per_instance_man[prediction_instance][rule]), rule.stdConfidence, rule.pcaConfidence]\n",
    "        df_prediction[prediction_instance] = pd.DataFrame.from_dict(df_rules, orient=\"index\", columns=[\"Prediction\", \"Std Confidence\", \"Pca Confidence\"])\n",
    "        \n",
    "        if (cpt/total_length > advcement):\n",
    "            print(advcement *100, \"%\")\n",
    "            advcement+=0.1\n",
    "        \n",
    "    print(\"----- Democracy -----\")\n",
    "    hit_at(df_prediction, democracy, 1)\n",
    "    hit_at(df_prediction, democracy, 5)\n",
    "    hit_at(df_prediction, democracy, 10)\n",
    "    hit_at(df_prediction, democracy, 1000)\n",
    "\n",
    "    print(\"----- Expert -----\")\n",
    "    hit_at(df_prediction, expert, 1)\n",
    "    hit_at(df_prediction, expert, 5)\n",
    "    hit_at(df_prediction, expert, 10)\n",
    "    hit_at(df_prediction, expert, 1000)"
   ]
  },
  {
   "cell_type": "markdown",
   "id": "2989ea3d-6939-4612-beed-efd85a654a37",
   "metadata": {
    "papermill": {
     "duration": 0.123523,
     "end_time": "2021-07-30T06:13:53.765236",
     "exception": false,
     "start_time": "2021-07-30T06:13:53.641713",
     "status": "completed"
    },
    "tags": []
   },
   "source": [
    "len(prediction_per_instance.keys())"
   ]
  },
  {
   "cell_type": "markdown",
   "id": "c83b2547-9b2e-4049-b0f0-91babf0468e4",
   "metadata": {
    "papermill": {
     "duration": 0.093778,
     "end_time": "2021-07-30T06:13:53.952924",
     "exception": false,
     "start_time": "2021-07-30T06:13:53.859146",
     "status": "completed"
    },
    "tags": []
   },
   "source": [
    "df_prediction = {}\n",
    "\n",
    "for prediction_instance in prediction_per_instance:\n",
    "    df_rules = {}\n",
    "    for rule in prediction_per_instance[prediction_instance]:\n",
    "        df_rules[rule] = [set(prediction_per_instance[prediction_instance][rule]), rule.stdConfidence, rule.pcaConfidence]\n",
    "    df_prediction[prediction_instance] = pd.DataFrame.from_dict(df_rules, orient=\"index\", columns=[\"Prediction\", \"Std Confidence\", \"Pca Confidence\"])"
   ]
  },
  {
   "cell_type": "markdown",
   "id": "59a3b651-ea37-4f86-9aa2-4d90c59b5cea",
   "metadata": {
    "papermill": {
     "duration": 0.092883,
     "end_time": "2021-07-30T06:13:54.138865",
     "exception": false,
     "start_time": "2021-07-30T06:13:54.045982",
     "status": "completed"
    },
    "tags": []
   },
   "source": [
    "print(\"----- Democracy -----\")\n",
    "hit_at(df_prediction, democracy, 2)\n",
    "hit_at(df_prediction, democracy, 5)\n",
    "hit_at(df_prediction, democracy, 10)\n",
    "hit_at(df_prediction, democracy, 1000)\n",
    "\n",
    "print(\"----- Expert -----\")\n",
    "hit_at(df_prediction, expert, 2)\n",
    "hit_at(df_prediction, expert, 5)\n",
    "hit_at(df_prediction, expert, 10)\n",
    "hit_at(df_prediction, expert, 1000)"
   ]
  },
  {
   "cell_type": "markdown",
   "id": "ad82855a-420c-46e5-85bc-42d89517380f",
   "metadata": {
    "papermill": {
     "duration": 0.092276,
     "end_time": "2021-07-30T06:13:54.324237",
     "exception": false,
     "start_time": "2021-07-30T06:13:54.231961",
     "status": "completed"
    },
    "tags": []
   },
   "source": [
    "test"
   ]
  },
  {
   "cell_type": "markdown",
   "id": "14773090-9e2a-40cb-a18d-feda54c81ad0",
   "metadata": {
    "jupyter": {
     "outputs_hidden": true
    },
    "papermill": {
     "duration": 0.091137,
     "end_time": "2021-07-30T06:13:54.508186",
     "exception": false,
     "start_time": "2021-07-30T06:13:54.417049",
     "status": "completed"
    },
    "tags": []
   },
   "source": [
    "%%time\n",
    "\n",
    "def predict_instance(name, g, instances, prediction_per_instance_man, rules_associated_to_query, cpt, total_length, print_advancment):\n",
    "    \n",
    "    print(f\"Process n°{name} : Launched\")\n",
    "    \n",
    "    for instance in instances:\n",
    "        \n",
    "        dict_tp = {}\n",
    "        if instance[1] in rules_associated_to_query.keys():\n",
    "            for rule in rules_associated_to_query[instance[1]]:\n",
    "                try:\n",
    "                    qres = g.query(create_query(rule, instance[2]))\n",
    "                    print(create_query(rule, instance[2]))\n",
    "\n",
    "                    set_res = set()\n",
    "                    bool_res = False\n",
    "                    for row in qres:\n",
    "                        bool_res = True\n",
    "                        set_res.add(str(row.a))\n",
    "\n",
    "                    if bool_res:\n",
    "                        dict_tp[rule] = set_res\n",
    "            \n",
    "                except:\n",
    "                    print(create_query(rule, instance[2]))\n",
    "                    \n",
    "            prediction_per_instance_man[instance] = dict_tp\n",
    "            \n",
    "        else:\n",
    "            prediction_per_instance_man[instance] = {}\n",
    "        \n",
    "        cpt.value += 1\n",
    "        if (cpt.value/total_length > print_advancment.value):\n",
    "            print(cpt)\n",
    "            print_advancment.value+=0.1\n",
    "        \n",
    "    print(f\"Process n°{name} : Finished\")\n",
    "\n",
    "prediction_per_instance_test = {}\n",
    "\n",
    "size_queue = len(list(set_instances_to_predict)[:10])\n",
    "\n",
    "with Manager() as manager:\n",
    "\n",
    "    processes_to_create = 1#multiprocessing.cpu_count()-3\n",
    "    processes = list()\n",
    "\n",
    "    prediction_per_instance_man = manager.dict()\n",
    "    cpt = manager.Value(\"cpt\",0)\n",
    "    print_advancment = manager.Value(\"print_advancment\",0)\n",
    "    \n",
    "    instances_list = list(set_instances_to_predict)[:1]\n",
    "\n",
    "    for name in range(processes_to_create):\n",
    "        x = Process(target=predict_instance, args=(name, g, instances_list[int(np.floor(name*len(instances_list)/processes_to_create)): int(np.floor((name+1)*len(instances_list)/processes_to_create))], \n",
    "                                                   prediction_per_instance_man, rules_associated_to_query, cpt, size_queue, print_advancment))\n",
    "        processes.append(x)\n",
    "        x.start()\n",
    "        \n",
    "    for index, process in enumerate(processes):\n",
    "        process.join()\n",
    "\n",
    "    prediction_per_instance_test = prediction_per_instance_man.copy()"
   ]
  },
  {
   "cell_type": "markdown",
   "id": "513438fa-dd4b-470d-9f6d-9c07be54db68",
   "metadata": {
    "papermill": {
     "duration": 0.090114,
     "end_time": "2021-07-30T06:13:54.687949",
     "exception": false,
     "start_time": "2021-07-30T06:13:54.597835",
     "status": "completed"
    },
    "tags": []
   },
   "source": [
    "# DB15K"
   ]
  },
  {
   "cell_type": "markdown",
   "id": "e4f31362-e81b-42f0-82e1-9ea89591869b",
   "metadata": {
    "papermill": {
     "duration": 0.087731,
     "end_time": "2021-07-30T06:13:54.866742",
     "exception": false,
     "start_time": "2021-07-30T06:13:54.779011",
     "status": "completed"
    },
    "tags": []
   },
   "source": [
    "data = open(root_source_DB+\"numericals.txt\", \"r\")\n",
    "\n",
    "numerical_predicate = set()\n",
    "\n",
    "for predicate in data:\n",
    "    numerical_predicate.add(predicate.split(\"\\n\")[0])\n",
    "    \n",
    "data.close()"
   ]
  },
  {
   "cell_type": "markdown",
   "id": "55e0fd79-3bbf-49cb-a36d-638126c6d9c0",
   "metadata": {
    "papermill": {
     "duration": 0.090035,
     "end_time": "2021-07-30T06:13:55.047707",
     "exception": false,
     "start_time": "2021-07-30T06:13:54.957672",
     "status": "completed"
    },
    "tags": []
   },
   "source": [
    "thresholds = np.arange(0.25,1,0.25) #[0.25, 0.50, 0.75]\n",
    "thresholds_str = [\"-\"+(str(int(i*100))) for i in thresholds]"
   ]
  },
  {
   "cell_type": "markdown",
   "id": "62ef2ba7-d268-4b36-8f29-7fefc76b3be9",
   "metadata": {
    "papermill": {
     "duration": 0.08795,
     "end_time": "2021-07-30T06:13:55.224679",
     "exception": false,
     "start_time": "2021-07-30T06:13:55.136729",
     "status": "completed"
    },
    "tags": []
   },
   "source": [
    "def give_group(value, groups):\n",
    "    for i, value_group in enumerate(groups):\n",
    "        if value < value_group:\n",
    "            return i\n",
    "    return i+1\n",
    "\n",
    "def write_file(X, f, groups):\n",
    "    f.write(f\"{X['Subject']}\\t{X['Predicate']}\\t{give_group(X['Object'], groups)}\\n\")"
   ]
  },
  {
   "cell_type": "markdown",
   "id": "cf9e191b-00fd-4182-ade8-b27d8a9c641b",
   "metadata": {
    "papermill": {
     "duration": 0.093443,
     "end_time": "2021-07-30T06:13:55.412101",
     "exception": false,
     "start_time": "2021-07-30T06:13:55.318658",
     "status": "completed"
    },
    "tags": []
   },
   "source": [
    "data = open(root_source_DB+\"train.txt\", \"r\")\n",
    "f = open(store_data_DB, \"w\")\n",
    "\n",
    "dic_predicate = {}\n",
    "\n",
    "for line in data: \n",
    "    line_split = line.split(\"\\n\")[0].split(\" \")\n",
    "    if len(line_split) == 1:\n",
    "        line_split = line.split(\"\\n\")[0].split(\"\\t\")\n",
    "    if line_split[1] in numerical_predicate:\n",
    "        line_split[2] = float(line_split[2]) \n",
    "        line_split = tuple(line_split)\n",
    "        if line_split[1] in dic_predicate.keys():\n",
    "            dic_predicate[line_split[1]].add(line_split)\n",
    "        else : \n",
    "            dic_predicate[line_split[1]] = {line_split}\n",
    "    else:\n",
    "        f.write(line)\n",
    "    \n",
    "data.close()\n",
    "f.close()"
   ]
  },
  {
   "cell_type": "markdown",
   "id": "43a53897-6a00-4655-af39-5bccf7165721",
   "metadata": {
    "papermill": {
     "duration": 0.09346,
     "end_time": "2021-07-30T06:13:55.599886",
     "exception": false,
     "start_time": "2021-07-30T06:13:55.506426",
     "status": "completed"
    },
    "tags": []
   },
   "source": [
    "f = open(store_data_DB, \"a\")\n",
    "\n",
    "for key in dic_predicate.keys():\n",
    "    tp_df = pd.DataFrame.from_dict(dic_predicate[key]).rename(columns={0: \"Subject\", 1: \"Predicate\", 2: \"Object\"})\n",
    "    tp_df_describe = tp_df[\"Object\"].quantile(thresholds)\n",
    "    tp_df.apply(write_file, args=(f, tp_df_describe), axis=1)\n",
    "\n",
    "f.close()"
   ]
  },
  {
   "cell_type": "markdown",
   "id": "f626ca0e-ba58-46e7-9664-29d19ca78815",
   "metadata": {
    "papermill": {
     "duration": 0.094585,
     "end_time": "2021-07-30T06:13:55.788967",
     "exception": false,
     "start_time": "2021-07-30T06:13:55.694382",
     "status": "completed"
    },
    "tags": []
   },
   "source": [
    "res = check_output(f'java -jar ./../amie3.jar {store_data_DB}', shell=True)\n",
    "\n",
    "res_parsed = parse_amie(res)"
   ]
  },
  {
   "cell_type": "markdown",
   "id": "b9ec953a-eeb5-4645-813f-02fc78b2025e",
   "metadata": {
    "papermill": {
     "duration": 0.090153,
     "end_time": "2021-07-30T06:13:55.973023",
     "exception": false,
     "start_time": "2021-07-30T06:13:55.882870",
     "status": "completed"
    },
    "tags": []
   },
   "source": [
    "len(res_parsed)"
   ]
  },
  {
   "cell_type": "markdown",
   "id": "ddf0e1f4-51c8-4a4d-a238-83fe71e71728",
   "metadata": {
    "jupyter": {
     "outputs_hidden": true
    },
    "papermill": {
     "duration": 0.087107,
     "end_time": "2021-07-30T06:13:56.148005",
     "exception": false,
     "start_time": "2021-07-30T06:13:56.060898",
     "status": "completed"
    },
    "tags": []
   },
   "source": [
    "res_parsed"
   ]
  },
  {
   "cell_type": "markdown",
   "id": "8a4cddb8-7bc5-43d9-8bbb-306bf9766994",
   "metadata": {
    "papermill": {
     "duration": 0.086157,
     "end_time": "2021-07-30T06:13:56.321439",
     "exception": false,
     "start_time": "2021-07-30T06:13:56.235282",
     "status": "completed"
    },
    "tags": []
   },
   "source": [
    "### Number of numericals in the rules"
   ]
  },
  {
   "cell_type": "markdown",
   "id": "0ee91653-b6ab-4fdd-9842-9652181cb79b",
   "metadata": {
    "papermill": {
     "duration": 0.085134,
     "end_time": "2021-07-30T06:13:56.492682",
     "exception": false,
     "start_time": "2021-07-30T06:13:56.407548",
     "status": "completed"
    },
    "tags": []
   },
   "source": [
    "def predicate_is_numerical(atom, numerical_predicate):\n",
    "    return atom.predicate in numerical_predicate\n",
    "\n",
    "rule_with_numerical_in_hyp = 0\n",
    "rule_with_numerical_in_conc = 0\n",
    "rule_with_numerical = 0\n",
    "\n",
    "for rule in res_parsed:\n",
    "    num = False\n",
    "    for hyp in rule.hypotheses:\n",
    "        if predicate_is_numerical(hyp, numerical_predicate):\n",
    "            rule_with_numerical_in_hyp+=1\n",
    "            num = True\n",
    "            break\n",
    "    if predicate_is_numerical(rule.conclusion, numerical_predicate):\n",
    "        rule_with_numerical_in_conc+=1\n",
    "        num=True\n",
    "    if num:\n",
    "        rule_with_numerical += 1\n",
    "    \n",
    "print(\"Rule with numerical : \", rule_with_numerical)\n",
    "print(\"Rule without numerical : \", len(res_parsed) - rule_with_numerical)\n",
    "print(\"Rule with numerical in hypotheses : \", rule_with_numerical_in_hyp)\n",
    "print(\"Rule with numerical in conclusion : \", rule_with_numerical_in_conc)"
   ]
  },
  {
   "cell_type": "code",
   "execution_count": null,
   "id": "2a9b48c0-221a-4459-94f7-17f37d18a843",
   "metadata": {
    "papermill": {
     "duration": 0.085587,
     "end_time": "2021-07-30T06:13:56.664547",
     "exception": false,
     "start_time": "2021-07-30T06:13:56.578960",
     "status": "completed"
    },
    "tags": []
   },
   "outputs": [],
   "source": []
  }
 ],
 "metadata": {
  "kernelspec": {
   "display_name": "Python 3",
   "language": "python",
   "name": "python3"
  },
  "language_info": {
   "codemirror_mode": {
    "name": "ipython",
    "version": 3
   },
   "file_extension": ".py",
   "mimetype": "text/x-python",
   "name": "python",
   "nbconvert_exporter": "python",
   "pygments_lexer": "ipython3",
   "version": "3.8.5"
  },
  "papermill": {
   "default_parameters": {},
   "duration": 36128.639812,
   "end_time": "2021-07-30T06:14:03.968785",
   "environment_variables": {},
   "exception": null,
   "input_path": "ST_rdf.ipynb",
   "output_path": "res/2021-07-29-22-11/ST_rdf.ipynb",
   "parameters": {},
   "start_time": "2021-07-29T20:11:55.328973",
   "version": "2.3.3"
  }
 },
 "nbformat": 4,
 "nbformat_minor": 5
}