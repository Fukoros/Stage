{
 "cells": [
  {
   "cell_type": "markdown",
   "id": "1aa4dac3",
   "metadata": {
    "tags": [
     "papermill-error-cell-tag"
    ]
   },
   "source": [
    "<span style=\"color:red; font-family:Helvetica Neue, Helvetica, Arial, sans-serif; font-size:2em;\">An Exception was encountered at '<a href=\"#papermill-error-cell\">In [20]</a>'.</span>"
   ]
  },
  {
   "cell_type": "code",
   "execution_count": 1,
   "id": "6f4df3e8-3c77-422f-83ee-8af6e2d5eea6",
   "metadata": {
    "execution": {
     "iopub.execute_input": "2021-07-29T18:55:17.970472Z",
     "iopub.status.busy": "2021-07-29T18:55:17.969557Z",
     "iopub.status.idle": "2021-07-29T18:55:19.596965Z",
     "shell.execute_reply": "2021-07-29T18:55:19.595630Z"
    },
    "papermill": {
     "duration": 1.695031,
     "end_time": "2021-07-29T18:55:19.597277",
     "exception": false,
     "start_time": "2021-07-29T18:55:17.902246",
     "status": "completed"
    },
    "tags": []
   },
   "outputs": [],
   "source": [
    "import pandas as pd \n",
    "import numpy as np\n",
    "import os\n",
    "from subprocess import check_output\n",
    "import shutil\n",
    "import rdflib\n",
    "from multiprocessing import Process, Manager, Queue\n",
    "import multiprocessing\n",
    "\n",
    "from rule import *\n",
    "from amie import *\n",
    "from experiment import *"
   ]
  },
  {
   "cell_type": "code",
   "execution_count": 2,
   "id": "55f158aa-318d-4902-bf5c-e10cc9278b1c",
   "metadata": {
    "execution": {
     "iopub.execute_input": "2021-07-29T18:55:19.700107Z",
     "iopub.status.busy": "2021-07-29T18:55:19.698776Z",
     "iopub.status.idle": "2021-07-29T18:55:19.702092Z",
     "shell.execute_reply": "2021-07-29T18:55:19.703116Z"
    },
    "papermill": {
     "duration": 0.058555,
     "end_time": "2021-07-29T18:55:19.703432",
     "exception": false,
     "start_time": "2021-07-29T18:55:19.644877",
     "status": "completed"
    },
    "tags": []
   },
   "outputs": [],
   "source": [
    "root_source_FB = \"./../../FB15k_mail/\"\n",
    "root_source_DB = \"./../../DB15k_mail/\"\n",
    "\n",
    "root_data_FB = \"./../../Data_mail/FB_LTE_GT_\"\n",
    "root_data_DB = \"./../../Data_mail/DB_LTE_GT_\""
   ]
  },
  {
   "cell_type": "markdown",
   "id": "5ba56f36-0b8b-48b5-bc3f-871074efd132",
   "metadata": {
    "papermill": {
     "duration": 0.033524,
     "end_time": "2021-07-29T18:55:19.782574",
     "exception": false,
     "start_time": "2021-07-29T18:55:19.749050",
     "status": "completed"
    },
    "tags": []
   },
   "source": [
    "# FB15K "
   ]
  },
  {
   "cell_type": "markdown",
   "id": "d443c858-86b5-440d-ba2a-d53fbd1d09aa",
   "metadata": {
    "papermill": {
     "duration": 0.025361,
     "end_time": "2021-07-29T18:55:19.836569",
     "exception": false,
     "start_time": "2021-07-29T18:55:19.811208",
     "status": "completed"
    },
    "tags": []
   },
   "source": [
    "### Prepare the data\n",
    "\n",
    "As we need a baseline for Amie, we are not going to change the value of anything. "
   ]
  },
  {
   "cell_type": "code",
   "execution_count": 3,
   "id": "26367f12-8c1c-4781-a60d-3d6c265e823c",
   "metadata": {
    "execution": {
     "iopub.execute_input": "2021-07-29T18:55:19.890488Z",
     "iopub.status.busy": "2021-07-29T18:55:19.889929Z",
     "iopub.status.idle": "2021-07-29T18:55:19.895484Z",
     "shell.execute_reply": "2021-07-29T18:55:19.895797Z"
    },
    "papermill": {
     "duration": 0.035278,
     "end_time": "2021-07-29T18:55:19.895916",
     "exception": false,
     "start_time": "2021-07-29T18:55:19.860638",
     "status": "completed"
    },
    "tags": []
   },
   "outputs": [],
   "source": [
    "data = open(root_source_FB+\"numericals.txt\", \"r\")\n",
    "\n",
    "numerical_predicate = set()\n",
    "\n",
    "for predicate in data:\n",
    "    numerical_predicate.add(predicate.split(\"\\n\")[0])\n",
    "    \n",
    "data.close()"
   ]
  },
  {
   "cell_type": "code",
   "execution_count": 4,
   "id": "48a31c9e-d0ef-4975-9101-b355e827c59a",
   "metadata": {
    "execution": {
     "iopub.execute_input": "2021-07-29T18:55:19.939012Z",
     "iopub.status.busy": "2021-07-29T18:55:19.938592Z",
     "iopub.status.idle": "2021-07-29T18:55:19.942406Z",
     "shell.execute_reply": "2021-07-29T18:55:19.942043Z"
    },
    "papermill": {
     "duration": 0.029139,
     "end_time": "2021-07-29T18:55:19.942505",
     "exception": false,
     "start_time": "2021-07-29T18:55:19.913366",
     "status": "completed"
    },
    "tags": []
   },
   "outputs": [],
   "source": [
    "thresholds = np.arange(0.25,1,0.25) #[0.25, 0.50, 0.75]\n",
    "thresholds_str = [\"-\"+(str(int(i*100))) for i in thresholds]"
   ]
  },
  {
   "cell_type": "code",
   "execution_count": 5,
   "id": "6c2ba460-c1ca-4055-8ca9-e09bf10db405",
   "metadata": {
    "execution": {
     "iopub.execute_input": "2021-07-29T18:55:19.987624Z",
     "iopub.status.busy": "2021-07-29T18:55:19.987218Z",
     "iopub.status.idle": "2021-07-29T18:55:19.990731Z",
     "shell.execute_reply": "2021-07-29T18:55:19.990380Z"
    },
    "papermill": {
     "duration": 0.030086,
     "end_time": "2021-07-29T18:55:19.990827",
     "exception": false,
     "start_time": "2021-07-29T18:55:19.960741",
     "status": "completed"
    },
    "tags": []
   },
   "outputs": [],
   "source": [
    "def write_file(X, f, threshold, comparator):\n",
    "    f.write(f\"<http:{X['Subject']}>\\t{X['Predicate'][:-1]}_LTE_{threshold}>\\t<http:/{X['Object']<=comparator}>\\n\")\n",
    "    f.write(f\"<http:{X['Subject']}>\\t{X['Predicate'][:-1]}_GT_{threshold}>\\t<http:/{X['Object']>comparator}>\\n\")"
   ]
  },
  {
   "cell_type": "code",
   "execution_count": 6,
   "id": "9a88239e-a71b-4031-9ee4-702b54d93eb7",
   "metadata": {
    "execution": {
     "iopub.execute_input": "2021-07-29T18:55:20.038716Z",
     "iopub.status.busy": "2021-07-29T18:55:20.038290Z",
     "iopub.status.idle": "2021-07-29T18:55:20.984813Z",
     "shell.execute_reply": "2021-07-29T18:55:20.983721Z"
    },
    "papermill": {
     "duration": 0.976082,
     "end_time": "2021-07-29T18:55:20.985075",
     "exception": false,
     "start_time": "2021-07-29T18:55:20.008993",
     "status": "completed"
    },
    "tags": []
   },
   "outputs": [],
   "source": [
    "data = open(root_source_FB+\"train.txt\", \"r\")\n",
    "f = open(root_data_FB+\"train.tsv\", \"w\")\n",
    "\n",
    "dic_predicate = {}\n",
    "\n",
    "for line in data:\n",
    "    line_split = line.split(\"\\n\")[0].split(\"\\t\")\n",
    "    if line_split[1] in numerical_predicate:\n",
    "        line_split[2] = float(line_split[2]) \n",
    "        line_split = tuple(line_split)\n",
    "        if line_split[1] in dic_predicate.keys():\n",
    "            dic_predicate[line_split[1]].add(line_split)\n",
    "        else : \n",
    "            dic_predicate[line_split[1]] = {line_split}\n",
    "    else:\n",
    "        for var in line_split:\n",
    "            f.write('<http:'+var+'>\\t')\n",
    "        f.write(\"\\n\")\n",
    "    \n",
    "data.close()\n",
    "f.close()"
   ]
  },
  {
   "cell_type": "code",
   "execution_count": 7,
   "id": "0be17586-1335-4bb9-bfc1-def4fae71c62",
   "metadata": {
    "execution": {
     "iopub.execute_input": "2021-07-29T18:55:21.078020Z",
     "iopub.status.busy": "2021-07-29T18:55:21.077306Z",
     "iopub.status.idle": "2021-07-29T18:55:23.718118Z",
     "shell.execute_reply": "2021-07-29T18:55:23.717011Z"
    },
    "papermill": {
     "duration": 2.684225,
     "end_time": "2021-07-29T18:55:23.718381",
     "exception": false,
     "start_time": "2021-07-29T18:55:21.034156",
     "status": "completed"
    },
    "tags": []
   },
   "outputs": [],
   "source": [
    "f = open(root_data_FB+\"train.tsv\", \"a\")\n",
    "\n",
    "for key in dic_predicate.keys():\n",
    "    tp_df = pd.DataFrame.from_dict(dic_predicate[key]).rename(columns={0: \"Subject\", 1: \"Predicate\", 2: \"Object\"})\n",
    "    tp_df_describe = tp_df[\"Object\"].quantile(thresholds)\n",
    "    for threshold in thresholds: \n",
    "        tp_df.apply(write_file, args=(f, threshold, tp_df_describe[threshold]), axis=1)\n",
    "\n",
    "f.close()"
   ]
  },
  {
   "cell_type": "markdown",
   "id": "af5ee43d-f386-45ce-9f91-4bcec2a029ee",
   "metadata": {
    "papermill": {
     "duration": 0.035166,
     "end_time": "2021-07-29T18:55:23.802829",
     "exception": false,
     "start_time": "2021-07-29T18:55:23.767663",
     "status": "completed"
    },
    "tags": []
   },
   "source": [
    "### Launch Amie"
   ]
  },
  {
   "cell_type": "code",
   "execution_count": 8,
   "id": "4e0e7a85-cde5-4f70-be50-30cf796a339e",
   "metadata": {
    "execution": {
     "iopub.execute_input": "2021-07-29T18:55:23.871800Z",
     "iopub.status.busy": "2021-07-29T18:55:23.865929Z",
     "iopub.status.idle": "2021-07-29T19:03:40.987195Z",
     "shell.execute_reply": "2021-07-29T19:03:40.986739Z"
    },
    "papermill": {
     "duration": 497.154603,
     "end_time": "2021-07-29T19:03:40.987295",
     "exception": false,
     "start_time": "2021-07-29T18:55:23.832692",
     "status": "completed"
    },
    "tags": []
   },
   "outputs": [
    {
     "name": "stderr",
     "output_type": "stream",
     "text": [
      "Using the default schema relations\n"
     ]
    }
   ],
   "source": [
    "res = check_output(f'java -jar ./../amie3.jar {root_data_FB+\"train.tsv\"}', shell=True)\n",
    "\n",
    "res_parsed = parse_amie(res)"
   ]
  },
  {
   "cell_type": "code",
   "execution_count": 9,
   "id": "917d3d9a-6556-4f22-acec-d17a69094871",
   "metadata": {
    "execution": {
     "iopub.execute_input": "2021-07-29T19:03:41.037714Z",
     "iopub.status.busy": "2021-07-29T19:03:41.037149Z",
     "iopub.status.idle": "2021-07-29T19:03:41.040288Z",
     "shell.execute_reply": "2021-07-29T19:03:41.039871Z"
    },
    "papermill": {
     "duration": 0.032602,
     "end_time": "2021-07-29T19:03:41.040390",
     "exception": false,
     "start_time": "2021-07-29T19:03:41.007788",
     "status": "completed"
    },
    "tags": []
   },
   "outputs": [
    {
     "data": {
      "text/plain": [
       "339508"
      ]
     },
     "execution_count": 9,
     "metadata": {},
     "output_type": "execute_result"
    }
   ],
   "source": [
    "len(res_parsed)"
   ]
  },
  {
   "cell_type": "code",
   "execution_count": 10,
   "id": "d9464d25-1536-431c-a949-351dbe24df6a",
   "metadata": {
    "execution": {
     "iopub.execute_input": "2021-07-29T19:03:41.085110Z",
     "iopub.status.busy": "2021-07-29T19:03:41.084436Z",
     "iopub.status.idle": "2021-07-29T19:03:41.086525Z",
     "shell.execute_reply": "2021-07-29T19:03:41.086084Z"
    },
    "papermill": {
     "duration": 0.025248,
     "end_time": "2021-07-29T19:03:41.086642",
     "exception": false,
     "start_time": "2021-07-29T19:03:41.061394",
     "status": "completed"
    },
    "tags": []
   },
   "outputs": [],
   "source": [
    "# res_parsed"
   ]
  },
  {
   "cell_type": "markdown",
   "id": "966b15ff-d8aa-492c-98fb-c4380e35642f",
   "metadata": {
    "papermill": {
     "duration": 0.018606,
     "end_time": "2021-07-29T19:03:41.123882",
     "exception": false,
     "start_time": "2021-07-29T19:03:41.105276",
     "status": "completed"
    },
    "tags": []
   },
   "source": [
    "### Clean rules"
   ]
  },
  {
   "cell_type": "code",
   "execution_count": 11,
   "id": "fc54516b-6da0-4f0d-b3d2-c022c82b0b34",
   "metadata": {
    "execution": {
     "iopub.execute_input": "2021-07-29T19:03:41.268176Z",
     "iopub.status.busy": "2021-07-29T19:03:41.231563Z",
     "iopub.status.idle": "2021-07-29T19:03:41.441322Z",
     "shell.execute_reply": "2021-07-29T19:03:41.440869Z"
    },
    "papermill": {
     "duration": 0.298551,
     "end_time": "2021-07-29T19:03:41.441418",
     "exception": false,
     "start_time": "2021-07-29T19:03:41.142867",
     "status": "completed"
    },
    "tags": []
   },
   "outputs": [],
   "source": [
    "res_parsed_clean = res_parsed.copy()\n",
    "for i in res_parsed:\n",
    "    if len(i.hypotheses) == 1:\n",
    "        if (i.hypotheses[0].predicate.split(\"LTE\")[0] == i.conclusion.predicate.split(\"LTE\")[0]) and len(i.hypotheses[0].predicate.split(\"LTE\")) == 2:\n",
    "#             print(i)\n",
    "            res_parsed_clean.remove(i)"
   ]
  },
  {
   "cell_type": "code",
   "execution_count": 12,
   "id": "beebc365-62e1-44f7-b86b-6c5d53f1f901",
   "metadata": {
    "execution": {
     "iopub.execute_input": "2021-07-29T19:03:41.483033Z",
     "iopub.status.busy": "2021-07-29T19:03:41.482519Z",
     "iopub.status.idle": "2021-07-29T19:03:41.485428Z",
     "shell.execute_reply": "2021-07-29T19:03:41.485023Z"
    },
    "papermill": {
     "duration": 0.025517,
     "end_time": "2021-07-29T19:03:41.485524",
     "exception": false,
     "start_time": "2021-07-29T19:03:41.460007",
     "status": "completed"
    },
    "tags": []
   },
   "outputs": [
    {
     "data": {
      "text/plain": [
       "339358"
      ]
     },
     "execution_count": 12,
     "metadata": {},
     "output_type": "execute_result"
    }
   ],
   "source": [
    "len(res_parsed_clean)"
   ]
  },
  {
   "cell_type": "markdown",
   "id": "ead04fd0-3a4e-41b5-8c11-37e9029405af",
   "metadata": {
    "papermill": {
     "duration": 0.018777,
     "end_time": "2021-07-29T19:03:41.523097",
     "exception": false,
     "start_time": "2021-07-29T19:03:41.504320",
     "status": "completed"
    },
    "tags": []
   },
   "source": [
    "### Number of numericals in the rules"
   ]
  },
  {
   "cell_type": "code",
   "execution_count": 13,
   "id": "d57b4760-5e79-48ba-a938-ec9b088c55c3",
   "metadata": {
    "execution": {
     "iopub.execute_input": "2021-07-29T19:03:41.568310Z",
     "iopub.status.busy": "2021-07-29T19:03:41.567879Z",
     "iopub.status.idle": "2021-07-29T19:03:43.823549Z",
     "shell.execute_reply": "2021-07-29T19:03:43.823178Z"
    },
    "papermill": {
     "duration": 2.281278,
     "end_time": "2021-07-29T19:03:43.823657",
     "exception": false,
     "start_time": "2021-07-29T19:03:41.542379",
     "status": "completed"
    },
    "tags": []
   },
   "outputs": [
    {
     "name": "stdout",
     "output_type": "stream",
     "text": [
      "Rule with numerical :  299626\n",
      "Rule without numerical :  39882\n",
      "Rule with numerical in hypotheses :  299626\n",
      "Rule with numerical in conclusion :  292008\n"
     ]
    }
   ],
   "source": [
    "num_f = open(\"LTE_GT_num_rules.txt\", \"w\")\n",
    "symb_f = open(\"LTE_GT_symb_rules.txt\", \"w\")\n",
    "\n",
    "def predicate_is_numerical(atom, numerical_predicate):\n",
    "    return \"LTE\" in atom.predicate or \"GT\" in atom.predicate or atom.objectD.isdigit()\n",
    "\n",
    "rule_with_numerical_in_hyp = 0\n",
    "rule_with_numerical_in_conc = 0\n",
    "rule_with_numerical = 0\n",
    "\n",
    "for rule in res_parsed:\n",
    "    num = False\n",
    "    for hyp in rule.hypotheses:\n",
    "        if predicate_is_numerical(hyp, numerical_predicate):\n",
    "            rule_with_numerical_in_hyp+=1\n",
    "            num = True\n",
    "            break\n",
    "    if predicate_is_numerical(rule.conclusion, numerical_predicate):\n",
    "        rule_with_numerical_in_conc+=1\n",
    "        num=True\n",
    "    if num:\n",
    "        rule_with_numerical += 1\n",
    "        num_f.write(str(rule)+\"\\n\")\n",
    "    else:\n",
    "        symb_f.write(str(rule)+\"\\n\")\n",
    "    \n",
    "print(\"Rule with numerical : \", rule_with_numerical)\n",
    "print(\"Rule without numerical : \", len(res_parsed) - rule_with_numerical)\n",
    "print(\"Rule with numerical in hypotheses : \", rule_with_numerical_in_hyp)\n",
    "print(\"Rule with numerical in conclusion : \", rule_with_numerical_in_conc)\n",
    "\n",
    "num_f.close()\n",
    "symb_f.close()"
   ]
  },
  {
   "cell_type": "markdown",
   "id": "6a3a98b9-73e3-4f5c-b7aa-a4e9731408f9",
   "metadata": {
    "papermill": {
     "duration": 0.019613,
     "end_time": "2021-07-29T19:03:43.863810",
     "exception": false,
     "start_time": "2021-07-29T19:03:43.844197",
     "status": "completed"
    },
    "tags": []
   },
   "source": [
    "### Test the rules through test"
   ]
  },
  {
   "cell_type": "code",
   "execution_count": 14,
   "id": "4a24423f-560e-4af8-bb18-5e5d56f557cc",
   "metadata": {
    "execution": {
     "iopub.execute_input": "2021-07-29T19:03:43.907165Z",
     "iopub.status.busy": "2021-07-29T19:03:43.906743Z",
     "iopub.status.idle": "2021-07-29T19:03:44.390826Z",
     "shell.execute_reply": "2021-07-29T19:03:44.390396Z"
    },
    "papermill": {
     "duration": 0.507844,
     "end_time": "2021-07-29T19:03:44.390927",
     "exception": false,
     "start_time": "2021-07-29T19:03:43.883083",
     "status": "completed"
    },
    "tags": []
   },
   "outputs": [],
   "source": [
    "data = open(root_data_FB+\"train.tsv\", \"r\")\n",
    "f = open(root_data_FB+\"train_rdflib.nt\", \"w\")\n",
    "\n",
    "for line in data:\n",
    "    f.write(line.split(\"\\n\")[0]+\" . \\n\")\n",
    "\n",
    "data.close()\n",
    "f.close()"
   ]
  },
  {
   "cell_type": "code",
   "execution_count": 15,
   "id": "1e5569b4-3f47-4621-b540-fc8b8b281fd8",
   "metadata": {
    "execution": {
     "iopub.execute_input": "2021-07-29T19:03:44.434569Z",
     "iopub.status.busy": "2021-07-29T19:03:44.433913Z",
     "iopub.status.idle": "2021-07-29T19:03:44.601028Z",
     "shell.execute_reply": "2021-07-29T19:03:44.600576Z"
    },
    "papermill": {
     "duration": 0.190639,
     "end_time": "2021-07-29T19:03:44.601126",
     "exception": false,
     "start_time": "2021-07-29T19:03:44.410487",
     "status": "completed"
    },
    "tags": []
   },
   "outputs": [],
   "source": [
    "data = open(root_source_FB+\"test.txt\", \"r\")\n",
    "\n",
    "set_instances_to_predict = set()\n",
    "\n",
    "for line in data:\n",
    "    line_splited = line.split(\"\\n\")[0].split(\"\\t\")\n",
    "    for i in range(len(line_splited)):\n",
    "        line_splited[i] = \"<http:\"+line_splited[i]+\">\"\n",
    "    set_instances_to_predict.add(tuple(line_splited))\n",
    "        \n",
    "data.close()"
   ]
  },
  {
   "cell_type": "code",
   "execution_count": 16,
   "id": "bf28bd7a-270c-49e7-add2-085d66a3fd5a",
   "metadata": {
    "execution": {
     "iopub.execute_input": "2021-07-29T19:03:44.643309Z",
     "iopub.status.busy": "2021-07-29T19:03:44.642866Z",
     "iopub.status.idle": "2021-07-29T19:03:44.645641Z",
     "shell.execute_reply": "2021-07-29T19:03:44.645233Z"
    },
    "papermill": {
     "duration": 0.025195,
     "end_time": "2021-07-29T19:03:44.645734",
     "exception": false,
     "start_time": "2021-07-29T19:03:44.620539",
     "status": "completed"
    },
    "tags": []
   },
   "outputs": [
    {
     "name": "stdout",
     "output_type": "stream",
     "text": [
      "59250\n"
     ]
    }
   ],
   "source": [
    "print(len(set_instances_to_predict))"
   ]
  },
  {
   "cell_type": "code",
   "execution_count": 17,
   "id": "bb040cec-27c2-4ebb-a8f7-290e556b35e2",
   "metadata": {
    "execution": {
     "iopub.execute_input": "2021-07-29T19:03:44.759866Z",
     "iopub.status.busy": "2021-07-29T19:03:44.723172Z",
     "iopub.status.idle": "2021-07-29T19:03:45.913706Z",
     "shell.execute_reply": "2021-07-29T19:03:45.913227Z"
    },
    "papermill": {
     "duration": 1.249188,
     "end_time": "2021-07-29T19:03:45.913813",
     "exception": false,
     "start_time": "2021-07-29T19:03:44.664625",
     "status": "completed"
    },
    "tags": []
   },
   "outputs": [],
   "source": [
    "rules_associated_to_query = {}\n",
    "\n",
    "for rule in res_parsed:\n",
    "    if rule.conclusion.predicate in rules_associated_to_query.keys():\n",
    "        rules_associated_to_query[rule.conclusion.predicate].add(rule)\n",
    "    else:\n",
    "        rules_associated_to_query[rule.conclusion.predicate] = set()\n",
    "        rules_associated_to_query[rule.conclusion.predicate].add(rule)"
   ]
  },
  {
   "cell_type": "code",
   "execution_count": 18,
   "id": "7a01425c-9d1a-402f-925a-dad5cb6eda71",
   "metadata": {
    "execution": {
     "iopub.execute_input": "2021-07-29T19:03:45.999778Z",
     "iopub.status.busy": "2021-07-29T19:03:45.999261Z",
     "iopub.status.idle": "2021-07-29T19:04:02.006805Z",
     "shell.execute_reply": "2021-07-29T19:04:02.005731Z"
    },
    "papermill": {
     "duration": 16.07223,
     "end_time": "2021-07-29T19:04:02.007084",
     "exception": false,
     "start_time": "2021-07-29T19:03:45.934854",
     "status": "completed"
    },
    "tags": []
   },
   "outputs": [
    {
     "data": {
      "text/plain": [
       "<Graph identifier=Ned3268864f9d41cf8a79750025c730eb (<class 'rdflib.graph.Graph'>)>"
      ]
     },
     "execution_count": 18,
     "metadata": {},
     "output_type": "execute_result"
    }
   ],
   "source": [
    "g = rdflib.Graph()\n",
    "g.parse(root_data_FB+\"train_rdflib.nt\")"
   ]
  },
  {
   "cell_type": "code",
   "execution_count": 19,
   "id": "f224508f-b9d3-475b-beda-48bc4bddc84c",
   "metadata": {
    "execution": {
     "iopub.execute_input": "2021-07-29T19:04:02.104354Z",
     "iopub.status.busy": "2021-07-29T19:04:02.103341Z",
     "iopub.status.idle": "2021-07-29T19:04:02.106684Z",
     "shell.execute_reply": "2021-07-29T19:04:02.106106Z"
    },
    "papermill": {
     "duration": 0.047493,
     "end_time": "2021-07-29T19:04:02.106830",
     "exception": false,
     "start_time": "2021-07-29T19:04:02.059337",
     "status": "completed"
    },
    "tags": []
   },
   "outputs": [],
   "source": [
    "def print_rules_nicely(rule):\n",
    "    toprint = \"\"\n",
    "    for hyp in rule.hypotheses:\n",
    "        toprint += hyp.predicate+\" & \"\n",
    "    toprint = toprint[:-2]\n",
    "    toprint += \"=>\"+rule.conclusion.predicate\n",
    "    print(toprint)"
   ]
  },
  {
   "cell_type": "markdown",
   "id": "719bd58f",
   "metadata": {
    "tags": [
     "papermill-error-cell-tag"
    ]
   },
   "source": [
    "<span id=\"papermill-error-cell\" style=\"color:red; font-family:Helvetica Neue, Helvetica, Arial, sans-serif; font-size:2em;\">Execution using papermill encountered an exception here and stopped:</span>"
   ]
  },
  {
   "cell_type": "code",
   "execution_count": 20,
   "id": "d011b1a3-592a-43fb-b25e-c04535b15258",
   "metadata": {
    "execution": {
     "iopub.execute_input": "2021-07-29T19:04:02.177565Z",
     "iopub.status.busy": "2021-07-29T19:04:02.177050Z",
     "iopub.status.idle": "2021-07-29T19:04:02.315705Z",
     "shell.execute_reply": "2021-07-29T19:04:02.314253Z"
    },
    "papermill": {
     "duration": 0.178212,
     "end_time": "2021-07-29T19:04:02.316388",
     "exception": true,
     "start_time": "2021-07-29T19:04:02.138176",
     "status": "failed"
    },
    "tags": []
   },
   "outputs": [
    {
     "ename": "SyntaxError",
     "evalue": "invalid syntax (<unknown>, line 85)",
     "output_type": "error",
     "traceback": [
      "Traceback \u001b[0;36m(most recent call last)\u001b[0m:\n",
      "  File \u001b[1;32m\"/mnt/beegfs/home/soulard/miniconda3/lib/python3.8/site-packages/IPython/core/interactiveshell.py\"\u001b[0m, line \u001b[1;32m3441\u001b[0m, in \u001b[1;35mrun_code\u001b[0m\n    exec(code_obj, self.user_global_ns, self.user_ns)\n",
      "  File \u001b[1;32m\"/tmp/ipykernel_66789/2684360029.py\"\u001b[0m, line \u001b[1;32m1\u001b[0m, in \u001b[1;35m<module>\u001b[0m\n    get_ipython().run_cell_magic('time', '', '\\ndef predict_instance(name, g, queue, prediction_per_instance_man, rules_associated_to_query, cpt, total_length, print_advancment):\\n    \\n    print(f\"Process n°{name} : Launched\")\\n    \\n    while not queue.empty():\\n        \\n        instance = queue.get()\\n        \\n        dict_tp = {}\\n        \\n        if instance[1] in rules_associated_to_query.keys():\\n            for rule in rules_associated_to_query[instance[1]]:\\n                try:\\n                    qres = g.query(create_query(rule, instance[2]))\\n\\n                    set_res = set()\\n                    bool_res = False\\n                    for row in qres:\\n                        bool_res = True\\n                        set_res.add(str(row.a))\\n\\n                    if bool_res:\\n                        dict_tp[rule] = set_res\\n            \\n                except:\\n                    print(create_query(rule, instance[2]))\\n                    \\n            prediction_per_instance_man[instance] = dict_tp\\n            \\n        else:\\n            prediction_per_instance_man[instance] = {}\\n        \\n        cpt.value += 1\\n        if (cpt.value/total_length > print_advancment.value):\\n            print(print_advancment.value*100, \"%\")\\n            print_advancment.value+=0.1\\n        \\n    print(f\"Process n°{name} : Finished\")   \\n    \\nq = Queue()\\nprediction_per_instance = {}\\n\\nfor instance in list(set_instances_to_predict):\\n    q.put(instance)\\n\\nsize_queue = q.qsize()\\n\\nprint(\"Queue finished\")\\n\\nwith Manager() as manager:\\n\\n    processes_to_create = multiprocessing.cpu_count()-2\\n    processes = list()\\n\\n    prediction_per_instance_man = manager.dict()\\n    cpt = manager.Value(\"cpt\",0)\\n    print_advancment = manager.Value(\"print_advancment\",0)\\n\\n    for name in range(processes_to_create):\\n        x = Process(target=predict_instance, args=(name, g, q, prediction_per_instance_man, rules_associated_to_query, cpt, size_queue, print_advancment))\\n        processes.append(x)\\n        x.start()\\n        \\n    for index, process in enumerate(processes):\\n        process.join()\\n    \\n    print(\"copy\")\\n    \\n    df_prediction = {}\\n    \\n    cpt = 0\\n    advcement = 0.1\\n    total_length = len(prediction_per_instance_man)\\n    \\n    del g\\n\\n    for prediction_instance in prediction_per_instance_man:\\n        df_rules = {}\\n        cpt += 1\\n        for rule in prediction_per_instance_man[prediction_instance]:\\n            df_rules[rule] = [set(prediction_per_instance_man[prediction_instance][rule]), rule.stdConfidence, rule.pcaConfidence]\\n        df_prediction[prediction_instance] = pd.DataFrame.from_dict(df_rules, orient=\"index\", columns=[\"Prediction\", \"Std Confidence\", \"Pca Confidence\"])\\n        \\n        if (cpt/total_length > advcement):\\n            print(advcement *100, %)\\n            advcement+=0.1\\n        \\n    print(\"----- Democracy -----\")\\n    hit_at(df_prediction, democracy, 1)\\n    hit_at(df_prediction, democracy, 5)\\n    hit_at(df_prediction, democracy, 10)\\n    hit_at(df_prediction, democracy, 1000)\\n\\n    print(\"----- Expert -----\")\\n    hit_at(df_prediction, expert, 1)\\n    hit_at(df_prediction, expert, 5)\\n    hit_at(df_prediction, expert, 10)\\n    hit_at(df_prediction, expert, 1000)\\n')\n",
      "  File \u001b[1;32m\"/mnt/beegfs/home/soulard/miniconda3/lib/python3.8/site-packages/IPython/core/interactiveshell.py\"\u001b[0m, line \u001b[1;32m2403\u001b[0m, in \u001b[1;35mrun_cell_magic\u001b[0m\n    result = fn(*args, **kwargs)\n",
      "  File \u001b[1;32m\"/mnt/beegfs/home/soulard/miniconda3/lib/python3.8/site-packages/decorator.py\"\u001b[0m, line \u001b[1;32m232\u001b[0m, in \u001b[1;35mfun\u001b[0m\n    return caller(func, *(extras + args), **kw)\n",
      "  File \u001b[1;32m\"/mnt/beegfs/home/soulard/miniconda3/lib/python3.8/site-packages/IPython/core/magic.py\"\u001b[0m, line \u001b[1;32m187\u001b[0m, in \u001b[1;35m<lambda>\u001b[0m\n    call = lambda f, *a, **k: f(*a, **k)\n",
      "  File \u001b[1;32m\"/mnt/beegfs/home/soulard/miniconda3/lib/python3.8/site-packages/IPython/core/magics/execution.py\"\u001b[0m, line \u001b[1;32m1277\u001b[0m, in \u001b[1;35mtime\u001b[0m\n    expr_ast = self.shell.compile.ast_parse(expr)\n",
      "\u001b[0;36m  File \u001b[0;32m\"/mnt/beegfs/home/soulard/miniconda3/lib/python3.8/site-packages/IPython/core/compilerop.py\"\u001b[0;36m, line \u001b[0;32m101\u001b[0;36m, in \u001b[0;35mast_parse\u001b[0;36m\u001b[0m\n\u001b[0;31m    return compile(source, filename, symbol, self.flags | PyCF_ONLY_AST, 1)\u001b[0m\n",
      "\u001b[0;36m  File \u001b[0;32m\"<unknown>\"\u001b[0;36m, line \u001b[0;32m85\u001b[0m\n\u001b[0;31m    print(advcement *100, %)\u001b[0m\n\u001b[0m                          ^\u001b[0m\n\u001b[0;31mSyntaxError\u001b[0m\u001b[0;31m:\u001b[0m invalid syntax\n"
     ]
    }
   ],
   "source": [
    "%%time\n",
    "\n",
    "def predict_instance(name, g, queue, prediction_per_instance_man, rules_associated_to_query, cpt, total_length, print_advancment):\n",
    "    \n",
    "    print(f\"Process n°{name} : Launched\")\n",
    "    \n",
    "    while not queue.empty():\n",
    "        \n",
    "        instance = queue.get()\n",
    "        \n",
    "        dict_tp = {}\n",
    "        \n",
    "        if instance[1] in rules_associated_to_query.keys():\n",
    "            for rule in rules_associated_to_query[instance[1]]:\n",
    "                try:\n",
    "                    qres = g.query(create_query(rule, instance[2]))\n",
    "\n",
    "                    set_res = set()\n",
    "                    bool_res = False\n",
    "                    for row in qres:\n",
    "                        bool_res = True\n",
    "                        set_res.add(str(row.a))\n",
    "\n",
    "                    if bool_res:\n",
    "                        dict_tp[rule] = set_res\n",
    "            \n",
    "                except:\n",
    "                    print(create_query(rule, instance[2]))\n",
    "                    \n",
    "            prediction_per_instance_man[instance] = dict_tp\n",
    "            \n",
    "        else:\n",
    "            prediction_per_instance_man[instance] = {}\n",
    "        \n",
    "        cpt.value += 1\n",
    "        if (cpt.value/total_length > print_advancment.value):\n",
    "            print(print_advancment.value*100, \"%\")\n",
    "            print_advancment.value+=0.1\n",
    "        \n",
    "    print(f\"Process n°{name} : Finished\")   \n",
    "    \n",
    "q = Queue()\n",
    "prediction_per_instance = {}\n",
    "\n",
    "for instance in list(set_instances_to_predict):\n",
    "    q.put(instance)\n",
    "\n",
    "size_queue = q.qsize()\n",
    "\n",
    "print(\"Queue finished\")\n",
    "\n",
    "with Manager() as manager:\n",
    "\n",
    "    processes_to_create = multiprocessing.cpu_count()-1\n",
    "    processes = list()\n",
    "\n",
    "    prediction_per_instance_man = manager.dict()\n",
    "    cpt = manager.Value(\"cpt\",0)\n",
    "    print_advancment = manager.Value(\"print_advancment\",0)\n",
    "\n",
    "    for name in range(processes_to_create):\n",
    "        x = Process(target=predict_instance, args=(name, g, q, prediction_per_instance_man, rules_associated_to_query, cpt, size_queue, print_advancment))\n",
    "        processes.append(x)\n",
    "        x.start()\n",
    "        \n",
    "    for index, process in enumerate(processes):\n",
    "        process.join()\n",
    "    \n",
    "    print(\"copy\")\n",
    "    \n",
    "    df_prediction = {}\n",
    "    \n",
    "    cpt = 0\n",
    "    advcement = 0.1\n",
    "    total_length = len(prediction_per_instance_man)\n",
    "    \n",
    "    del g\n",
    "\n",
    "    for prediction_instance in prediction_per_instance_man:\n",
    "        df_rules = {}\n",
    "        cpt += 1\n",
    "        for rule in prediction_per_instance_man[prediction_instance]:\n",
    "            df_rules[rule] = [set(prediction_per_instance_man[prediction_instance][rule]), rule.stdConfidence, rule.pcaConfidence]\n",
    "        df_prediction[prediction_instance] = pd.DataFrame.from_dict(df_rules, orient=\"index\", columns=[\"Prediction\", \"Std Confidence\", \"Pca Confidence\"])\n",
    "        \n",
    "        if (cpt/total_length > advcement):\n",
    "            print(advcement *100, \"%\")\n",
    "            advcement+=0.1\n",
    "        \n",
    "    print(\"----- Democracy -----\")\n",
    "    hit_at(df_prediction, democracy, 1)\n",
    "    hit_at(df_prediction, democracy, 5)\n",
    "    hit_at(df_prediction, democracy, 10)\n",
    "    hit_at(df_prediction, democracy, 1000)\n",
    "\n",
    "    print(\"----- Expert -----\")\n",
    "    hit_at(df_prediction, expert, 1)\n",
    "    hit_at(df_prediction, expert, 5)\n",
    "    hit_at(df_prediction, expert, 10)\n",
    "    hit_at(df_prediction, expert, 1000)"
   ]
  },
  {
   "cell_type": "code",
   "execution_count": null,
   "id": "638df3a7-1a20-495a-b312-aa71ef71e5a4",
   "metadata": {
    "papermill": {
     "duration": null,
     "end_time": null,
     "exception": null,
     "start_time": null,
     "status": "pending"
    },
    "tags": []
   },
   "outputs": [],
   "source": [
    "len(prediction_per_instance.keys())"
   ]
  },
  {
   "cell_type": "code",
   "execution_count": null,
   "id": "59896456-05d1-4657-94f6-ce13c5a33ffe",
   "metadata": {
    "papermill": {
     "duration": null,
     "end_time": null,
     "exception": null,
     "start_time": null,
     "status": "pending"
    },
    "tags": []
   },
   "outputs": [],
   "source": [
    "df_prediction = {}\n",
    "\n",
    "for prediction_instance in prediction_per_instance:\n",
    "    df_rules = {}\n",
    "    for rule in prediction_per_instance[prediction_instance]:\n",
    "        df_rules[rule] = [set(prediction_per_instance[prediction_instance][rule]), rule.stdConfidence, rule.pcaConfidence]\n",
    "    df_prediction[prediction_instance] = pd.DataFrame.from_dict(df_rules, orient=\"index\", columns=[\"Prediction\", \"Std Confidence\", \"Pca Confidence\"])"
   ]
  },
  {
   "cell_type": "code",
   "execution_count": null,
   "id": "e53eeb00-a8d7-465c-ae98-b5e2331b733d",
   "metadata": {
    "papermill": {
     "duration": null,
     "end_time": null,
     "exception": null,
     "start_time": null,
     "status": "pending"
    },
    "tags": []
   },
   "outputs": [],
   "source": [
    "print(\"----- Democracy -----\")\n",
    "hit_at(df_prediction, democracy, 2)\n",
    "hit_at(df_prediction, democracy, 5)\n",
    "hit_at(df_prediction, democracy, 10)\n",
    "hit_at(df_prediction, democracy, 1000)\n",
    "\n",
    "print(\"----- Expert -----\")\n",
    "hit_at(df_prediction, expert, 2)\n",
    "hit_at(df_prediction, expert, 5)\n",
    "hit_at(df_prediction, expert, 10)\n",
    "hit_at(df_prediction, expert, 1000)"
   ]
  },
  {
   "cell_type": "code",
   "execution_count": null,
   "id": "447a66f2-90b7-4997-b9c2-db9becccd92e",
   "metadata": {
    "papermill": {
     "duration": null,
     "end_time": null,
     "exception": null,
     "start_time": null,
     "status": "pending"
    },
    "tags": []
   },
   "outputs": [],
   "source": [
    "%%time\n",
    "\n",
    "def predict_instance(name, g, instances, prediction_per_instance_man, rules_associated_to_query, cpt, total_length, print_advancment):\n",
    "    \n",
    "    print(f\"Process n°{name} : Launched\")\n",
    "    \n",
    "    for instance in instances:\n",
    "        \n",
    "        dict_tp = {}\n",
    "        if instance[1] in rules_associated_to_query.keys():\n",
    "            for rule in rules_associated_to_query[instance[1]]:\n",
    "                try:\n",
    "                    qres = g.query(create_query(rule, instance[2]))\n",
    "                    tp = create_query(rule, instance[2])\n",
    "                    if (\"LTE\"  in tp) or (\"GT\" in tp):\n",
    "                        print(tp)\n",
    "\n",
    "                    set_res = set()\n",
    "                    bool_res = False\n",
    "                    for row in qres:\n",
    "                        bool_res = True\n",
    "                        set_res.add(str(row.a))\n",
    "\n",
    "                    if bool_res:\n",
    "                        dict_tp[rule] = set_res\n",
    "            \n",
    "                except:\n",
    "                    print(create_query(rule, instance[2]))\n",
    "                    \n",
    "            prediction_per_instance_man[instance] = dict_tp\n",
    "            \n",
    "        else:\n",
    "            prediction_per_instance_man[instance] = {}\n",
    "        \n",
    "        cpt.value += 1\n",
    "        if (cpt.value/total_length > print_advancment.value):\n",
    "            print(cpt)\n",
    "            print_advancment.value+=0.1\n",
    "        \n",
    "    print(f\"Process n°{name} : Finished\")\n",
    "\n",
    "prediction_per_instance_test = {}\n",
    "\n",
    "size_queue = len(list(set_instances_to_predict)[:100])\n",
    "\n",
    "with Manager() as manager:\n",
    "\n",
    "    processes_to_create = 1#multiprocessing.cpu_count()-3\n",
    "    processes = list()\n",
    "\n",
    "    prediction_per_instance_man = manager.dict()\n",
    "    cpt = manager.Value(\"cpt\",0)\n",
    "    print_advancment = manager.Value(\"print_advancment\",0)\n",
    "    \n",
    "    instances_list = list(set_instances_to_predict)[:100]\n",
    "\n",
    "    for name in range(processes_to_create):\n",
    "        x = Process(target=predict_instance, args=(name, g, instances_list[int(np.floor(name*len(instances_list)/processes_to_create)): int(np.floor((name+1)*len(instances_list)/processes_to_create))], \n",
    "                                                   prediction_per_instance_man, rules_associated_to_query, cpt, size_queue, print_advancment))\n",
    "        processes.append(x)\n",
    "        x.start()\n",
    "        \n",
    "    for index, process in enumerate(processes):\n",
    "        process.join()\n",
    "\n",
    "    prediction_per_instance_test = prediction_per_instance_man.copy()"
   ]
  },
  {
   "cell_type": "markdown",
   "id": "de5ee228-47b2-470c-b636-8455a29ead27",
   "metadata": {
    "papermill": {
     "duration": null,
     "end_time": null,
     "exception": null,
     "start_time": null,
     "status": "pending"
    },
    "tags": []
   },
   "source": [
    "# DB15K "
   ]
  },
  {
   "cell_type": "markdown",
   "id": "4d0f29d8-63d2-49bc-9c81-7b7dc9d2e6f6",
   "metadata": {
    "papermill": {
     "duration": null,
     "end_time": null,
     "exception": null,
     "start_time": null,
     "status": "pending"
    },
    "tags": []
   },
   "source": [
    "### Prepare the data\n",
    "\n",
    "As we need a baseline for Amie, we are not going to change the value of anything. "
   ]
  },
  {
   "cell_type": "code",
   "execution_count": null,
   "id": "96160111-1cf0-4ba9-bbea-a7e73eb79364",
   "metadata": {
    "papermill": {
     "duration": null,
     "end_time": null,
     "exception": null,
     "start_time": null,
     "status": "pending"
    },
    "tags": []
   },
   "outputs": [],
   "source": [
    "data = open(root_source_DB+\"numericals.txt\", \"r\")\n",
    "\n",
    "numerical_predicate = set()\n",
    "\n",
    "for predicate in data:\n",
    "    numerical_predicate.add(predicate.split(\"\\n\")[0])\n",
    "    \n",
    "data.close()"
   ]
  },
  {
   "cell_type": "code",
   "execution_count": null,
   "id": "2ed41fd1-2e6a-434d-8113-9821f62e7394",
   "metadata": {
    "papermill": {
     "duration": null,
     "end_time": null,
     "exception": null,
     "start_time": null,
     "status": "pending"
    },
    "tags": []
   },
   "outputs": [],
   "source": [
    "thresholds = np.arange(0.25,1,0.25) #[0.25, 0.50, 0.75]\n",
    "thresholds_str = [\"-\"+(str(int(i*100))) for i in thresholds]"
   ]
  },
  {
   "cell_type": "code",
   "execution_count": null,
   "id": "a1e8c906-f977-458d-b786-4cd54c57b4df",
   "metadata": {
    "papermill": {
     "duration": null,
     "end_time": null,
     "exception": null,
     "start_time": null,
     "status": "pending"
    },
    "tags": []
   },
   "outputs": [],
   "source": [
    "data = open(root_source_DB+\"train.txt\", \"r\")\n",
    "f = open(store_data_DB, \"w\")\n",
    "\n",
    "dic_predicate = {}\n",
    "\n",
    "for line in data:\n",
    "    line_split = line.split(\"\\n\")[0].split(\" \")\n",
    "    if len(line_split) == 1:\n",
    "        line_split = line.split(\"\\n\")[0].split(\"\\t\")\n",
    "    if line_split[1] in numerical_predicate:\n",
    "        line_split[2] = float(line_split[2]) \n",
    "        line_split = tuple(line_split)\n",
    "        if line_split[1] in dic_predicate.keys():\n",
    "            dic_predicate[line_split[1]].add(line_split)\n",
    "        else : \n",
    "            dic_predicate[line_split[1]] = {line_split}\n",
    "    else:\n",
    "        f.write(line)\n",
    "    \n",
    "data.close()\n",
    "f.close()"
   ]
  },
  {
   "cell_type": "code",
   "execution_count": null,
   "id": "3c71a054-48e8-4b94-8f1a-d1e4ccf3b3d4",
   "metadata": {
    "papermill": {
     "duration": null,
     "end_time": null,
     "exception": null,
     "start_time": null,
     "status": "pending"
    },
    "tags": []
   },
   "outputs": [],
   "source": [
    "f = open(store_data_DB, \"a\")\n",
    "\n",
    "for key in dic_predicate.keys():\n",
    "    tp_df = pd.DataFrame.from_dict(dic_predicate[key]).rename(columns={0: \"Subject\", 1: \"Predicate\", 2: \"Object\"})\n",
    "    tp_df_describe = tp_df[\"Object\"].quantile(thresholds)\n",
    "    for threshold in thresholds: \n",
    "        tp_df.apply(write_file, args=(f, threshold, tp_df_describe[threshold]), axis=1)\n",
    "\n",
    "f.close()"
   ]
  },
  {
   "cell_type": "markdown",
   "id": "ada6cd06-8d3a-4554-8997-59036d7dd2a3",
   "metadata": {
    "papermill": {
     "duration": null,
     "end_time": null,
     "exception": null,
     "start_time": null,
     "status": "pending"
    },
    "tags": []
   },
   "source": [
    "### Launch Amie"
   ]
  },
  {
   "cell_type": "code",
   "execution_count": null,
   "id": "98239605-ff0f-4d17-a551-f58287611043",
   "metadata": {
    "papermill": {
     "duration": null,
     "end_time": null,
     "exception": null,
     "start_time": null,
     "status": "pending"
    },
    "tags": []
   },
   "outputs": [],
   "source": [
    "res = check_output(f'java -jar ./../amie3.jar {store_data_DB}', shell=True)\n",
    "\n",
    "res_parsed = parse_amie(res)"
   ]
  },
  {
   "cell_type": "code",
   "execution_count": null,
   "id": "294b5daf-a6bb-4f2b-87de-762746c07934",
   "metadata": {
    "papermill": {
     "duration": null,
     "end_time": null,
     "exception": null,
     "start_time": null,
     "status": "pending"
    },
    "tags": []
   },
   "outputs": [],
   "source": [
    "len(res_parsed)"
   ]
  },
  {
   "cell_type": "code",
   "execution_count": null,
   "id": "4eae7847-e2c8-4eb6-afab-2ae64bb89acc",
   "metadata": {
    "collapsed": true,
    "jupyter": {
     "outputs_hidden": true
    },
    "papermill": {
     "duration": null,
     "end_time": null,
     "exception": null,
     "start_time": null,
     "status": "pending"
    },
    "tags": []
   },
   "outputs": [],
   "source": [
    "res_parsed"
   ]
  },
  {
   "cell_type": "markdown",
   "id": "a71be8ec-aa75-4cdb-ba82-5f8b20170ac2",
   "metadata": {
    "papermill": {
     "duration": null,
     "end_time": null,
     "exception": null,
     "start_time": null,
     "status": "pending"
    },
    "tags": []
   },
   "source": [
    "### Clean rules"
   ]
  },
  {
   "cell_type": "code",
   "execution_count": null,
   "id": "a90dbf1e-c2de-4ff0-8931-b7dbad4057c4",
   "metadata": {
    "collapsed": true,
    "jupyter": {
     "outputs_hidden": true
    },
    "papermill": {
     "duration": null,
     "end_time": null,
     "exception": null,
     "start_time": null,
     "status": "pending"
    },
    "tags": []
   },
   "outputs": [],
   "source": [
    "res_parsed_clean = res_parsed.copy()\n",
    "for i in res_parsed:\n",
    "    if len(i.hypotheses) == 1:\n",
    "        if (i.hypotheses[0].predicate.split(\"LTE\")[0] == i.conclusion.predicate.split(\"LTE\")[0]) and len(i.hypotheses[0].predicate.split(\"LTE\")) == 2:\n",
    "            print(i)\n",
    "            res_parsed_clean.remove(i)"
   ]
  },
  {
   "cell_type": "code",
   "execution_count": null,
   "id": "bcd74a86-4d5f-43d1-aad6-82c72bd68ec0",
   "metadata": {
    "papermill": {
     "duration": null,
     "end_time": null,
     "exception": null,
     "start_time": null,
     "status": "pending"
    },
    "tags": []
   },
   "outputs": [],
   "source": [
    "len(res_parsed_clean)"
   ]
  },
  {
   "cell_type": "markdown",
   "id": "fc30999d-f37a-49d7-b613-cdcd31369f97",
   "metadata": {
    "papermill": {
     "duration": null,
     "end_time": null,
     "exception": null,
     "start_time": null,
     "status": "pending"
    },
    "tags": []
   },
   "source": [
    "### Number of numericals in the rules"
   ]
  },
  {
   "cell_type": "code",
   "execution_count": null,
   "id": "2c31eaf9-dfc3-4344-9738-6d4de41ed4f5",
   "metadata": {
    "papermill": {
     "duration": null,
     "end_time": null,
     "exception": null,
     "start_time": null,
     "status": "pending"
    },
    "tags": []
   },
   "outputs": [],
   "source": [
    "def predicate_is_numerical(atom):\n",
    "    return \"LTE\" in atom.predicate or \"GT\" in atom.predicate or atom.objectD.isdigit()\n",
    "\n",
    "rule_with_numerical_in_hyp = 0\n",
    "rule_with_numerical_in_conc = 0\n",
    "rule_with_numerical = 0\n",
    "\n",
    "for rule in res_parsed_clean:\n",
    "    num = False\n",
    "    for hyp in rule.hypotheses:\n",
    "        if predicate_is_numerical(hyp):\n",
    "            rule_with_numerical_in_hyp+=1\n",
    "            num = True\n",
    "            break\n",
    "    if predicate_is_numerical(rule.conclusion):\n",
    "        rule_with_numerical_in_conc+=1\n",
    "        num=True\n",
    "    if num:\n",
    "        rule_with_numerical += 1\n",
    "    \n",
    "print(\"Rule with numerical : \", rule_with_numerical)\n",
    "print(\"Rule without numerical : \", len(res_parsed_clean) - rule_with_numerical)\n",
    "print(\"Rule with numerical in hypotheses : \", rule_with_numerical_in_hyp)\n",
    "print(\"Rule with numerical in conclusion : \", rule_with_numerical_in_conc)"
   ]
  },
  {
   "cell_type": "code",
   "execution_count": null,
   "id": "c33852c8-c047-423f-a486-de49119add01",
   "metadata": {
    "papermill": {
     "duration": null,
     "end_time": null,
     "exception": null,
     "start_time": null,
     "status": "pending"
    },
    "tags": []
   },
   "outputs": [],
   "source": []
  }
 ],
 "metadata": {
  "kernelspec": {
   "display_name": "Python 3",
   "language": "python",
   "name": "python3"
  },
  "language_info": {
   "codemirror_mode": {
    "name": "ipython",
    "version": 3
   },
   "file_extension": ".py",
   "mimetype": "text/x-python",
   "name": "python",
   "nbconvert_exporter": "python",
   "pygments_lexer": "ipython3",
   "version": "3.8.8"
  },
  "papermill": {
   "default_parameters": {},
   "duration": 531.32983,
   "end_time": "2021-07-29T19:04:05.949877",
   "environment_variables": {},
   "exception": true,
   "input_path": "DT_LTE_GT_rdf.ipynb",
   "output_path": "res/2021-07-29-20-55/DT_LTE_GT_rdf.ipynb",
   "parameters": {},
   "start_time": "2021-07-29T18:55:14.620047",
   "version": "2.3.3"
  }
 },
 "nbformat": 4,
 "nbformat_minor": 5
}
