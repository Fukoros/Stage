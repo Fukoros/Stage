{
 "cells": [
  {
   "cell_type": "markdown",
   "id": "ba6271d4",
   "metadata": {
    "tags": [
     "papermill-error-cell-tag"
    ]
   },
   "source": [
    "<span style=\"color:red; font-family:Helvetica Neue, Helvetica, Arial, sans-serif; font-size:2em;\">An Exception was encountered at '<a href=\"#papermill-error-cell\">In [26]</a>'.</span>"
   ]
  },
  {
   "cell_type": "code",
   "execution_count": 1,
   "id": "5ccfe1be-27ef-4c58-9b1f-d17590588ad7",
   "metadata": {
    "execution": {
     "iopub.execute_input": "2021-07-29T19:52:36.056871Z",
     "iopub.status.busy": "2021-07-29T19:52:36.055999Z",
     "iopub.status.idle": "2021-07-29T19:52:40.216442Z",
     "shell.execute_reply": "2021-07-29T19:52:40.215030Z"
    },
    "papermill": {
     "duration": 4.223099,
     "end_time": "2021-07-29T19:52:40.216744",
     "exception": false,
     "start_time": "2021-07-29T19:52:35.993645",
     "status": "completed"
    },
    "tags": []
   },
   "outputs": [],
   "source": [
    "import pandas as pd \n",
    "import numpy as np\n",
    "import os\n",
    "from subprocess import check_output\n",
    "import shutil\n",
    "import rdflib\n",
    "from multiprocessing import Process, Manager, Queue\n",
    "import multiprocessing\n",
    "\n",
    "from rule import *\n",
    "from amie import *\n",
    "from experiment import *"
   ]
  },
  {
   "cell_type": "code",
   "execution_count": 2,
   "id": "4d339699-ef25-4e14-ab90-1539b8a65b1c",
   "metadata": {
    "execution": {
     "iopub.execute_input": "2021-07-29T19:52:40.305101Z",
     "iopub.status.busy": "2021-07-29T19:52:40.303819Z",
     "iopub.status.idle": "2021-07-29T19:52:40.307751Z",
     "shell.execute_reply": "2021-07-29T19:52:40.306689Z"
    },
    "papermill": {
     "duration": 0.04854,
     "end_time": "2021-07-29T19:52:40.308005",
     "exception": false,
     "start_time": "2021-07-29T19:52:40.259465",
     "status": "completed"
    },
    "tags": []
   },
   "outputs": [],
   "source": [
    "root_source_FB = \"./../../FB15k_mail/\"\n",
    "root_source_DB = \"./../../DB15k_mail/\"\n",
    "\n",
    "root_data_FB = \"./../../Data_mail/FB_ST_\"\n",
    "root_data_DB = \"./../../Data_mail/DB_ST_\""
   ]
  },
  {
   "cell_type": "markdown",
   "id": "c45cd6d1-909f-4936-bccc-67dfdac2e699",
   "metadata": {
    "papermill": {
     "duration": 0.031419,
     "end_time": "2021-07-29T19:52:40.379484",
     "exception": false,
     "start_time": "2021-07-29T19:52:40.348065",
     "status": "completed"
    },
    "tags": []
   },
   "source": [
    "# FB15K"
   ]
  },
  {
   "cell_type": "code",
   "execution_count": 3,
   "id": "6e4e20cb-244b-494b-8a4e-7c10cf6e3dec",
   "metadata": {
    "execution": {
     "iopub.execute_input": "2021-07-29T19:52:40.439837Z",
     "iopub.status.busy": "2021-07-29T19:52:40.439231Z",
     "iopub.status.idle": "2021-07-29T19:52:40.460140Z",
     "shell.execute_reply": "2021-07-29T19:52:40.460589Z"
    },
    "papermill": {
     "duration": 0.053059,
     "end_time": "2021-07-29T19:52:40.460771",
     "exception": false,
     "start_time": "2021-07-29T19:52:40.407712",
     "status": "completed"
    },
    "tags": []
   },
   "outputs": [],
   "source": [
    "data = open(root_source_FB+\"numericals.txt\", \"r\")\n",
    "\n",
    "numerical_predicate = set()\n",
    "\n",
    "for predicate in data:\n",
    "    numerical_predicate.add(predicate.split(\"\\n\")[0])\n",
    "    \n",
    "data.close()"
   ]
  },
  {
   "cell_type": "code",
   "execution_count": 4,
   "id": "59a8103d-e0bc-4278-9d31-b087111ca0c7",
   "metadata": {
    "execution": {
     "iopub.execute_input": "2021-07-29T19:52:40.509414Z",
     "iopub.status.busy": "2021-07-29T19:52:40.508943Z",
     "iopub.status.idle": "2021-07-29T19:52:40.512906Z",
     "shell.execute_reply": "2021-07-29T19:52:40.512506Z"
    },
    "papermill": {
     "duration": 0.031269,
     "end_time": "2021-07-29T19:52:40.513012",
     "exception": false,
     "start_time": "2021-07-29T19:52:40.481743",
     "status": "completed"
    },
    "tags": []
   },
   "outputs": [],
   "source": [
    "thresholds = np.arange(0.25,1,0.25) #[0.25, 0.50, 0.75]\n",
    "thresholds_str = [\"-\"+(str(int(i*100))) for i in thresholds]"
   ]
  },
  {
   "cell_type": "code",
   "execution_count": 5,
   "id": "950b8375-1b3e-442d-be5e-cceee402303d",
   "metadata": {
    "execution": {
     "iopub.execute_input": "2021-07-29T19:52:40.557377Z",
     "iopub.status.busy": "2021-07-29T19:52:40.556961Z",
     "iopub.status.idle": "2021-07-29T19:52:40.561113Z",
     "shell.execute_reply": "2021-07-29T19:52:40.560705Z"
    },
    "papermill": {
     "duration": 0.029861,
     "end_time": "2021-07-29T19:52:40.561210",
     "exception": false,
     "start_time": "2021-07-29T19:52:40.531349",
     "status": "completed"
    },
    "tags": []
   },
   "outputs": [],
   "source": [
    "def give_group(value, groups):\n",
    "    for i, value_group in enumerate(groups):\n",
    "        if value < value_group:\n",
    "            return i\n",
    "    return i+1\n",
    "\n",
    "def write_file(X, f, groups):\n",
    "    f.write(f\"<http:{X['Subject']}>\\t{X['Predicate']}\\t<http:/{give_group(X['Object'], groups)}>\\n\")"
   ]
  },
  {
   "cell_type": "code",
   "execution_count": 6,
   "id": "4177a3a8-4698-4281-af44-b03a18c5b5be",
   "metadata": {
    "execution": {
     "iopub.execute_input": "2021-07-29T19:52:40.606505Z",
     "iopub.status.busy": "2021-07-29T19:52:40.606094Z",
     "iopub.status.idle": "2021-07-29T19:52:41.476195Z",
     "shell.execute_reply": "2021-07-29T19:52:41.474982Z"
    },
    "papermill": {
     "duration": 0.899343,
     "end_time": "2021-07-29T19:52:41.476450",
     "exception": false,
     "start_time": "2021-07-29T19:52:40.577107",
     "status": "completed"
    },
    "tags": []
   },
   "outputs": [],
   "source": [
    "data = open(root_source_FB+\"train.txt\", \"r\")\n",
    "f = open(root_data_FB+\"train.tsv\", \"w\")\n",
    "\n",
    "dic_predicate = {}\n",
    "\n",
    "for line in data: \n",
    "    line_split = line.split(\"\\n\")[0].split(\"\\t\")\n",
    "    if line_split[1] in numerical_predicate:\n",
    "        line_split[2] = float(line_split[2]) \n",
    "        line_split = tuple(line_split)\n",
    "        if line_split[1] in dic_predicate.keys():\n",
    "            dic_predicate[line_split[1]].add(line_split)\n",
    "        else : \n",
    "            dic_predicate[line_split[1]] = {line_split}\n",
    "    else:\n",
    "        f.write('<http:'+line_split[0]+'>\\t<http:'+line_split[1]+'>\\t'+'<http:'+line_split[2]+'>\\n')\n",
    "    \n",
    "data.close()\n",
    "f.close()"
   ]
  },
  {
   "cell_type": "code",
   "execution_count": 7,
   "id": "3a06f084-388f-408b-96ca-5fe8743869ca",
   "metadata": {
    "execution": {
     "iopub.execute_input": "2021-07-29T19:52:41.561821Z",
     "iopub.status.busy": "2021-07-29T19:52:41.561082Z",
     "iopub.status.idle": "2021-07-29T19:52:42.411287Z",
     "shell.execute_reply": "2021-07-29T19:52:42.410820Z"
    },
    "papermill": {
     "duration": 0.891168,
     "end_time": "2021-07-29T19:52:42.411401",
     "exception": false,
     "start_time": "2021-07-29T19:52:41.520233",
     "status": "completed"
    },
    "tags": []
   },
   "outputs": [],
   "source": [
    "f = open(root_data_FB+\"train.tsv\", \"a\")\n",
    "\n",
    "for key in dic_predicate.keys():\n",
    "    tp_df = pd.DataFrame.from_dict(dic_predicate[key]).rename(columns={0: \"Subject\", 1: \"Predicate\", 2: \"Object\"})\n",
    "    tp_df_describe = tp_df[\"Object\"].quantile(thresholds)\n",
    "    tp_df.apply(write_file, args=(f, tp_df_describe), axis=1)\n",
    "\n",
    "f.close()"
   ]
  },
  {
   "cell_type": "code",
   "execution_count": 8,
   "id": "c961d454-55af-4ff5-9dac-f3300c616fe5",
   "metadata": {
    "execution": {
     "iopub.execute_input": "2021-07-29T19:52:42.457803Z",
     "iopub.status.busy": "2021-07-29T19:52:42.452304Z",
     "iopub.status.idle": "2021-07-29T19:53:35.714060Z",
     "shell.execute_reply": "2021-07-29T19:53:35.713003Z"
    },
    "papermill": {
     "duration": 53.283875,
     "end_time": "2021-07-29T19:53:35.714296",
     "exception": false,
     "start_time": "2021-07-29T19:52:42.430421",
     "status": "completed"
    },
    "tags": []
   },
   "outputs": [
    {
     "name": "stderr",
     "output_type": "stream",
     "text": [
      "Using the default schema relations\n"
     ]
    }
   ],
   "source": [
    "res = check_output(f'java -jar ./../amie3.jar {root_data_FB+\"train.tsv\"}', shell=True)\n",
    "\n",
    "res_parsed = parse_amie(res)"
   ]
  },
  {
   "cell_type": "code",
   "execution_count": 9,
   "id": "140341d9-47b6-4074-9995-d736d6627217",
   "metadata": {
    "execution": {
     "iopub.execute_input": "2021-07-29T19:53:35.803406Z",
     "iopub.status.busy": "2021-07-29T19:53:35.802645Z",
     "iopub.status.idle": "2021-07-29T19:53:35.806910Z",
     "shell.execute_reply": "2021-07-29T19:53:35.806331Z"
    },
    "papermill": {
     "duration": 0.050844,
     "end_time": "2021-07-29T19:53:35.807061",
     "exception": false,
     "start_time": "2021-07-29T19:53:35.756217",
     "status": "completed"
    },
    "tags": []
   },
   "outputs": [
    {
     "data": {
      "text/plain": [
       "46163"
      ]
     },
     "execution_count": 9,
     "metadata": {},
     "output_type": "execute_result"
    }
   ],
   "source": [
    "len(res_parsed)"
   ]
  },
  {
   "cell_type": "code",
   "execution_count": 10,
   "id": "d6174c2c-7d25-49b9-8052-53504d8d63e5",
   "metadata": {
    "execution": {
     "iopub.execute_input": "2021-07-29T19:53:35.856013Z",
     "iopub.status.busy": "2021-07-29T19:53:35.855408Z",
     "iopub.status.idle": "2021-07-29T19:53:35.858008Z",
     "shell.execute_reply": "2021-07-29T19:53:35.857512Z"
    },
    "papermill": {
     "duration": 0.027886,
     "end_time": "2021-07-29T19:53:35.858112",
     "exception": false,
     "start_time": "2021-07-29T19:53:35.830226",
     "status": "completed"
    },
    "tags": []
   },
   "outputs": [],
   "source": [
    "# res_parsed"
   ]
  },
  {
   "cell_type": "markdown",
   "id": "321fb741-b154-4724-97ab-3c1ad7e830aa",
   "metadata": {
    "papermill": {
     "duration": 0.017937,
     "end_time": "2021-07-29T19:53:35.895661",
     "exception": false,
     "start_time": "2021-07-29T19:53:35.877724",
     "status": "completed"
    },
    "tags": []
   },
   "source": [
    "### Number of numericals in the rules"
   ]
  },
  {
   "cell_type": "code",
   "execution_count": 11,
   "id": "9c1e63fa-de23-4b4e-95a7-6eca19eda177",
   "metadata": {
    "execution": {
     "iopub.execute_input": "2021-07-29T19:53:35.936278Z",
     "iopub.status.busy": "2021-07-29T19:53:35.935815Z",
     "iopub.status.idle": "2021-07-29T19:53:36.252170Z",
     "shell.execute_reply": "2021-07-29T19:53:36.251796Z"
    },
    "papermill": {
     "duration": 0.339356,
     "end_time": "2021-07-29T19:53:36.252281",
     "exception": false,
     "start_time": "2021-07-29T19:53:35.912925",
     "status": "completed"
    },
    "tags": []
   },
   "outputs": [
    {
     "name": "stdout",
     "output_type": "stream",
     "text": [
      "Rule with numerical :  6281\n",
      "Rule without numerical :  39882\n",
      "Rule with numerical in hypotheses :  6281\n",
      "Rule with numerical in conclusion :  6059\n"
     ]
    }
   ],
   "source": [
    "num_f = open(\"ST_num_rules.txt\", \"w\")\n",
    "symb_f = open(\"ST_symb_rules.txt\", \"w\")\n",
    "\n",
    "def predicate_is_numerical(atom, numerical_predicate):\n",
    "    return atom.predicate in numerical_predicate\n",
    "\n",
    "rule_with_numerical_in_hyp = 0\n",
    "rule_with_numerical_in_conc = 0\n",
    "rule_with_numerical = 0\n",
    "\n",
    "for rule in res_parsed:\n",
    "    num = False\n",
    "    for hyp in rule.hypotheses:\n",
    "        if predicate_is_numerical(hyp, numerical_predicate):\n",
    "            rule_with_numerical_in_hyp+=1\n",
    "            num = True\n",
    "            break\n",
    "    if predicate_is_numerical(rule.conclusion, numerical_predicate):\n",
    "        rule_with_numerical_in_conc+=1\n",
    "        num=True\n",
    "    if num:\n",
    "        rule_with_numerical += 1\n",
    "        num_f.write(str(rule)+\"\\n\")\n",
    "    else:\n",
    "        symb_f.write(str(rule)+\"\\n\")\n",
    "    \n",
    "print(\"Rule with numerical : \", rule_with_numerical)\n",
    "print(\"Rule without numerical : \", len(res_parsed) - rule_with_numerical)\n",
    "print(\"Rule with numerical in hypotheses : \", rule_with_numerical_in_hyp)\n",
    "print(\"Rule with numerical in conclusion : \", rule_with_numerical_in_conc)\n",
    "\n",
    "num_f.close()\n",
    "symb_f.close()"
   ]
  },
  {
   "cell_type": "markdown",
   "id": "c555a35b-ad79-498b-bfd7-9876754725cf",
   "metadata": {
    "papermill": {
     "duration": 0.017116,
     "end_time": "2021-07-29T19:53:36.286849",
     "exception": false,
     "start_time": "2021-07-29T19:53:36.269733",
     "status": "completed"
    },
    "tags": []
   },
   "source": [
    "### Test the rules through test"
   ]
  },
  {
   "cell_type": "code",
   "execution_count": 12,
   "id": "9794da5d-edf0-4c0b-8c7f-959747bf7d9e",
   "metadata": {
    "execution": {
     "iopub.execute_input": "2021-07-29T19:53:36.326024Z",
     "iopub.status.busy": "2021-07-29T19:53:36.325380Z",
     "iopub.status.idle": "2021-07-29T19:53:36.706325Z",
     "shell.execute_reply": "2021-07-29T19:53:36.705852Z"
    },
    "papermill": {
     "duration": 0.402426,
     "end_time": "2021-07-29T19:53:36.706426",
     "exception": false,
     "start_time": "2021-07-29T19:53:36.304000",
     "status": "completed"
    },
    "tags": []
   },
   "outputs": [],
   "source": [
    "data = open(root_data_FB+\"train.tsv\", \"r\")\n",
    "f = open(root_data_FB+\"train_rdflib.nt\", \"w\")\n",
    "\n",
    "for line in data:\n",
    "    f.write(line.split(\"\\n\")[0]+\" . \\n\")\n",
    "\n",
    "data.close()\n",
    "f.close()"
   ]
  },
  {
   "cell_type": "code",
   "execution_count": 13,
   "id": "8e30cdc7-25e0-408a-a5b1-308ca5d32652",
   "metadata": {
    "execution": {
     "iopub.execute_input": "2021-07-29T19:53:36.752027Z",
     "iopub.status.busy": "2021-07-29T19:53:36.749450Z",
     "iopub.status.idle": "2021-07-29T19:53:36.905594Z",
     "shell.execute_reply": "2021-07-29T19:53:36.905097Z"
    },
    "papermill": {
     "duration": 0.17961,
     "end_time": "2021-07-29T19:53:36.905729",
     "exception": false,
     "start_time": "2021-07-29T19:53:36.726119",
     "status": "completed"
    },
    "tags": []
   },
   "outputs": [],
   "source": [
    "data = open(root_source_FB+\"test.txt\", \"r\")\n",
    "\n",
    "set_instances_to_predict = set()\n",
    "\n",
    "for line in data:\n",
    "    line_splited = line.split(\"\\n\")[0].split(\"\\t\")\n",
    "    for i in range(len(line_splited)):\n",
    "        line_splited[i] = \"<http:\"+line_splited[i]+\">\"\n",
    "    set_instances_to_predict.add(tuple(line_splited))\n",
    "        \n",
    "data.close()"
   ]
  },
  {
   "cell_type": "code",
   "execution_count": 14,
   "id": "d6f95c12-527b-41ba-9909-604b5b7833f6",
   "metadata": {
    "execution": {
     "iopub.execute_input": "2021-07-29T19:53:36.946910Z",
     "iopub.status.busy": "2021-07-29T19:53:36.946356Z",
     "iopub.status.idle": "2021-07-29T19:53:36.949232Z",
     "shell.execute_reply": "2021-07-29T19:53:36.948805Z"
    },
    "papermill": {
     "duration": 0.02446,
     "end_time": "2021-07-29T19:53:36.949328",
     "exception": false,
     "start_time": "2021-07-29T19:53:36.924868",
     "status": "completed"
    },
    "tags": []
   },
   "outputs": [
    {
     "name": "stdout",
     "output_type": "stream",
     "text": [
      "59250\n"
     ]
    }
   ],
   "source": [
    "print(len(set_instances_to_predict))"
   ]
  },
  {
   "cell_type": "code",
   "execution_count": 15,
   "id": "3ebd2d77-2fb2-4549-80a9-4a6e446ca529",
   "metadata": {
    "execution": {
     "iopub.execute_input": "2021-07-29T19:53:37.071099Z",
     "iopub.status.busy": "2021-07-29T19:53:37.034282Z",
     "iopub.status.idle": "2021-07-29T19:53:37.149977Z",
     "shell.execute_reply": "2021-07-29T19:53:37.149562Z"
    },
    "papermill": {
     "duration": 0.183835,
     "end_time": "2021-07-29T19:53:37.150074",
     "exception": false,
     "start_time": "2021-07-29T19:53:36.966239",
     "status": "completed"
    },
    "tags": []
   },
   "outputs": [],
   "source": [
    "rules_associated_to_query = {}\n",
    "\n",
    "for rule in res_parsed:\n",
    "    if rule.conclusion.predicate in rules_associated_to_query.keys():\n",
    "        rules_associated_to_query[rule.conclusion.predicate].add(rule)\n",
    "    else:\n",
    "        rules_associated_to_query[rule.conclusion.predicate] = set()\n",
    "        rules_associated_to_query[rule.conclusion.predicate].add(rule)"
   ]
  },
  {
   "cell_type": "code",
   "execution_count": 16,
   "id": "24a12c08-c4b6-458c-bc34-88061112a617",
   "metadata": {
    "execution": {
     "iopub.execute_input": "2021-07-29T19:53:37.189726Z",
     "iopub.status.busy": "2021-07-29T19:53:37.189227Z",
     "iopub.status.idle": "2021-07-29T19:53:50.336983Z",
     "shell.execute_reply": "2021-07-29T19:53:50.336583Z"
    },
    "papermill": {
     "duration": 13.169201,
     "end_time": "2021-07-29T19:53:50.337087",
     "exception": false,
     "start_time": "2021-07-29T19:53:37.167886",
     "status": "completed"
    },
    "tags": []
   },
   "outputs": [
    {
     "data": {
      "text/plain": [
       "<Graph identifier=N5346755583eb43cdbab91b5d0c8a2a7a (<class 'rdflib.graph.Graph'>)>"
      ]
     },
     "execution_count": 16,
     "metadata": {},
     "output_type": "execute_result"
    }
   ],
   "source": [
    "g = rdflib.Graph()\n",
    "g.parse(root_data_FB+\"train_rdflib.nt\")"
   ]
  },
  {
   "cell_type": "code",
   "execution_count": 17,
   "id": "4d8518f7-0d2c-4aa6-a683-4aa92ce70be8",
   "metadata": {
    "execution": {
     "iopub.execute_input": "2021-07-29T19:53:50.382242Z",
     "iopub.status.busy": "2021-07-29T19:53:50.381701Z",
     "iopub.status.idle": "2021-07-29T19:53:50.384298Z",
     "shell.execute_reply": "2021-07-29T19:53:50.383855Z"
    },
    "papermill": {
     "duration": 0.025982,
     "end_time": "2021-07-29T19:53:50.384398",
     "exception": false,
     "start_time": "2021-07-29T19:53:50.358416",
     "status": "completed"
    },
    "tags": []
   },
   "outputs": [],
   "source": [
    "def print_rules_nicely(rule):\n",
    "    toprint = \"\"\n",
    "    for hyp in rule.hypotheses:\n",
    "        toprint += hyp.predicate+\" & \"\n",
    "    toprint = toprint[:-2]\n",
    "    toprint += \"=>\"+rule.conclusion.predicate\n",
    "    print(toprint)"
   ]
  },
  {
   "cell_type": "code",
   "execution_count": 18,
   "id": "25e7fc40-3ff5-4a16-a495-dcd05b24c25c",
   "metadata": {
    "execution": {
     "iopub.execute_input": "2021-07-29T19:53:50.428936Z",
     "iopub.status.busy": "2021-07-29T19:53:50.428306Z",
     "iopub.status.idle": "2021-07-29T19:54:50.955742Z",
     "shell.execute_reply": "2021-07-29T19:54:50.956723Z"
    },
    "papermill": {
     "duration": 60.554768,
     "end_time": "2021-07-29T19:54:50.957025",
     "exception": false,
     "start_time": "2021-07-29T19:53:50.402257",
     "status": "completed"
    },
    "tags": []
   },
   "outputs": [
    {
     "name": "stdout",
     "output_type": "stream",
     "text": [
      "Queue finished\n"
     ]
    },
    {
     "name": "stdout",
     "output_type": "stream",
     "text": [
      "Process n°0 : Launched"
     ]
    },
    {
     "name": "stdout",
     "output_type": "stream",
     "text": [
      "\n"
     ]
    },
    {
     "name": "stdout",
     "output_type": "stream",
     "text": [
      "Process n°1 : Launched"
     ]
    },
    {
     "name": "stdout",
     "output_type": "stream",
     "text": [
      "\n"
     ]
    },
    {
     "name": "stdout",
     "output_type": "stream",
     "text": [
      "Process n°2 : Launched"
     ]
    },
    {
     "name": "stdout",
     "output_type": "stream",
     "text": [
      "\n"
     ]
    },
    {
     "name": "stdout",
     "output_type": "stream",
     "text": [
      "Process n°3 : Launched"
     ]
    },
    {
     "name": "stdout",
     "output_type": "stream",
     "text": [
      "\n"
     ]
    },
    {
     "name": "stdout",
     "output_type": "stream",
     "text": [
      "Process n°4 : Launched"
     ]
    },
    {
     "name": "stdout",
     "output_type": "stream",
     "text": [
      "\n"
     ]
    },
    {
     "name": "stdout",
     "output_type": "stream",
     "text": [
      "Process n°5 : Launched"
     ]
    },
    {
     "name": "stdout",
     "output_type": "stream",
     "text": [
      "\n"
     ]
    },
    {
     "name": "stdout",
     "output_type": "stream",
     "text": [
      "Process n°6 : Launched"
     ]
    },
    {
     "name": "stdout",
     "output_type": "stream",
     "text": [
      "\n"
     ]
    },
    {
     "name": "stdout",
     "output_type": "stream",
     "text": [
      "Process n°9 : Launched"
     ]
    },
    {
     "name": "stdout",
     "output_type": "stream",
     "text": [
      "Process n°7 : Launched"
     ]
    },
    {
     "name": "stdout",
     "output_type": "stream",
     "text": [
      "\n"
     ]
    },
    {
     "name": "stdout",
     "output_type": "stream",
     "text": [
      "\n"
     ]
    },
    {
     "name": "stdout",
     "output_type": "stream",
     "text": [
      "Process n°8 : Launched"
     ]
    },
    {
     "name": "stdout",
     "output_type": "stream",
     "text": [
      "Process n°11 : Launched"
     ]
    },
    {
     "name": "stdout",
     "output_type": "stream",
     "text": [
      "\n"
     ]
    },
    {
     "name": "stdout",
     "output_type": "stream",
     "text": [
      "Process n°10 : Launched"
     ]
    },
    {
     "name": "stdout",
     "output_type": "stream",
     "text": [
      "\n"
     ]
    },
    {
     "name": "stdout",
     "output_type": "stream",
     "text": [
      "\n"
     ]
    },
    {
     "name": "stdout",
     "output_type": "stream",
     "text": [
      "Process n°13 : Launched"
     ]
    },
    {
     "name": "stdout",
     "output_type": "stream",
     "text": [
      "Process n°12 : Launched"
     ]
    },
    {
     "name": "stdout",
     "output_type": "stream",
     "text": [
      "\n"
     ]
    },
    {
     "name": "stdout",
     "output_type": "stream",
     "text": [
      "Process n°14 : Launched"
     ]
    },
    {
     "name": "stdout",
     "output_type": "stream",
     "text": [
      "\n"
     ]
    },
    {
     "name": "stdout",
     "output_type": "stream",
     "text": [
      "\n"
     ]
    },
    {
     "name": "stdout",
     "output_type": "stream",
     "text": [
      "Process n°15 : Launched"
     ]
    },
    {
     "name": "stdout",
     "output_type": "stream",
     "text": [
      "\n"
     ]
    },
    {
     "name": "stdout",
     "output_type": "stream",
     "text": [
      "Process n°16 : Launched"
     ]
    },
    {
     "name": "stdout",
     "output_type": "stream",
     "text": [
      "\n"
     ]
    },
    {
     "name": "stdout",
     "output_type": "stream",
     "text": [
      "Process n°17 : Launched"
     ]
    },
    {
     "name": "stdout",
     "output_type": "stream",
     "text": [
      "\n"
     ]
    },
    {
     "name": "stdout",
     "output_type": "stream",
     "text": [
      "Process n°19 : Launched"
     ]
    },
    {
     "name": "stdout",
     "output_type": "stream",
     "text": [
      "\n"
     ]
    },
    {
     "name": "stdout",
     "output_type": "stream",
     "text": [
      "Process n°18 : Launched"
     ]
    },
    {
     "name": "stdout",
     "output_type": "stream",
     "text": [
      "\n"
     ]
    },
    {
     "name": "stdout",
     "output_type": "stream",
     "text": [
      "Process n°20 : Launched"
     ]
    },
    {
     "name": "stdout",
     "output_type": "stream",
     "text": [
      "Process n°21 : Launched"
     ]
    },
    {
     "name": "stdout",
     "output_type": "stream",
     "text": [
      "\n"
     ]
    },
    {
     "name": "stdout",
     "output_type": "stream",
     "text": [
      "\n"
     ]
    },
    {
     "name": "stdout",
     "output_type": "stream",
     "text": [
      "Process n°22 : Launched"
     ]
    },
    {
     "name": "stdout",
     "output_type": "stream",
     "text": [
      "\n"
     ]
    },
    {
     "name": "stdout",
     "output_type": "stream",
     "text": [
      "Process n°23 : Launched"
     ]
    },
    {
     "name": "stdout",
     "output_type": "stream",
     "text": [
      "\n"
     ]
    },
    {
     "name": "stdout",
     "output_type": "stream",
     "text": [
      "Process n°24 : Launched"
     ]
    },
    {
     "name": "stdout",
     "output_type": "stream",
     "text": [
      "Process n°25 : Launched"
     ]
    },
    {
     "name": "stdout",
     "output_type": "stream",
     "text": [
      "\n"
     ]
    },
    {
     "name": "stdout",
     "output_type": "stream",
     "text": [
      "\n"
     ]
    },
    {
     "name": "stdout",
     "output_type": "stream",
     "text": [
      "Process n°26 : Launched"
     ]
    },
    {
     "name": "stdout",
     "output_type": "stream",
     "text": [
      "\n"
     ]
    },
    {
     "name": "stdout",
     "output_type": "stream",
     "text": [
      "Process n°27 : Launched"
     ]
    },
    {
     "name": "stdout",
     "output_type": "stream",
     "text": [
      "\n"
     ]
    },
    {
     "name": "stdout",
     "output_type": "stream",
     "text": [
      "Process n°28 : Launched"
     ]
    },
    {
     "name": "stdout",
     "output_type": "stream",
     "text": [
      "\n"
     ]
    },
    {
     "name": "stdout",
     "output_type": "stream",
     "text": [
      "Process n°31 : Launched"
     ]
    },
    {
     "name": "stdout",
     "output_type": "stream",
     "text": [
      "\n"
     ]
    },
    {
     "name": "stdout",
     "output_type": "stream",
     "text": [
      "Process n°29 : Launched"
     ]
    },
    {
     "name": "stdout",
     "output_type": "stream",
     "text": [
      "\n"
     ]
    },
    {
     "name": "stdout",
     "output_type": "stream",
     "text": [
      "Process n°30 : Launched"
     ]
    },
    {
     "name": "stdout",
     "output_type": "stream",
     "text": [
      "Process n°32 : Launched"
     ]
    },
    {
     "name": "stdout",
     "output_type": "stream",
     "text": [
      "\n"
     ]
    },
    {
     "name": "stdout",
     "output_type": "stream",
     "text": [
      "\n"
     ]
    },
    {
     "name": "stdout",
     "output_type": "stream",
     "text": [
      "Process n°33 : Launched"
     ]
    },
    {
     "name": "stdout",
     "output_type": "stream",
     "text": [
      "Process n°34 : Launched"
     ]
    },
    {
     "name": "stdout",
     "output_type": "stream",
     "text": [
      "\n"
     ]
    },
    {
     "name": "stdout",
     "output_type": "stream",
     "text": [
      "Process n°35 : Launched"
     ]
    },
    {
     "name": "stdout",
     "output_type": "stream",
     "text": [
      "\n"
     ]
    },
    {
     "name": "stdout",
     "output_type": "stream",
     "text": [
      "\n"
     ]
    },
    {
     "name": "stdout",
     "output_type": "stream",
     "text": [
      "Process n°36 : Launched"
     ]
    },
    {
     "name": "stdout",
     "output_type": "stream",
     "text": [
      "\n"
     ]
    },
    {
     "name": "stderr",
     "output_type": "stream",
     "text": [
      "Process Process-36:\n"
     ]
    },
    {
     "name": "stdout",
     "output_type": "stream",
     "text": [
      "Process n°37 : Launched"
     ]
    },
    {
     "name": "stdout",
     "output_type": "stream",
     "text": [
      "Process n°38 : Launched"
     ]
    },
    {
     "name": "stdout",
     "output_type": "stream",
     "text": [
      "\n"
     ]
    },
    {
     "name": "stdout",
     "output_type": "stream",
     "text": [
      "\n"
     ]
    },
    {
     "name": "stdout",
     "output_type": "stream",
     "text": [
      "Process n°39 : Launched"
     ]
    },
    {
     "name": "stdout",
     "output_type": "stream",
     "text": [
      "\n"
     ]
    },
    {
     "name": "stdout",
     "output_type": "stream",
     "text": [
      "Process n°40 : Launched"
     ]
    },
    {
     "name": "stdout",
     "output_type": "stream",
     "text": [
      "Process n°41 : Launched"
     ]
    },
    {
     "name": "stdout",
     "output_type": "stream",
     "text": [
      "\n"
     ]
    },
    {
     "name": "stdout",
     "output_type": "stream",
     "text": [
      "\n"
     ]
    },
    {
     "name": "stdout",
     "output_type": "stream",
     "text": [
      "Process n°42 : Launched"
     ]
    },
    {
     "name": "stdout",
     "output_type": "stream",
     "text": [
      "\n"
     ]
    },
    {
     "name": "stdout",
     "output_type": "stream",
     "text": [
      "Process n°43 : Launched"
     ]
    },
    {
     "name": "stdout",
     "output_type": "stream",
     "text": [
      "\n"
     ]
    },
    {
     "name": "stderr",
     "output_type": "stream",
     "text": [
      "Traceback (most recent call last):\n"
     ]
    },
    {
     "name": "stdout",
     "output_type": "stream",
     "text": [
      "Process n°44 : Launched"
     ]
    },
    {
     "name": "stdout",
     "output_type": "stream",
     "text": [
      "\n"
     ]
    },
    {
     "name": "stderr",
     "output_type": "stream",
     "text": [
      "  File \"/mnt/beegfs/home/soulard/miniconda3/lib/python3.8/multiprocessing/process.py\", line 315, in _bootstrap\n",
      "    self.run()\n"
     ]
    },
    {
     "name": "stdout",
     "output_type": "stream",
     "text": [
      "Process n°46 : Launched"
     ]
    },
    {
     "name": "stdout",
     "output_type": "stream",
     "text": [
      "Process n°45 : Launched"
     ]
    },
    {
     "name": "stdout",
     "output_type": "stream",
     "text": [
      "\n"
     ]
    },
    {
     "name": "stdout",
     "output_type": "stream",
     "text": [
      "\n"
     ]
    },
    {
     "name": "stderr",
     "output_type": "stream",
     "text": [
      "  File \"/mnt/beegfs/home/soulard/miniconda3/lib/python3.8/multiprocessing/process.py\", line 108, in run\n",
      "    self._target(*self._args, **self._kwargs)\n"
     ]
    },
    {
     "name": "stdout",
     "output_type": "stream",
     "text": [
      "Process n°47 : Launched"
     ]
    },
    {
     "name": "stdout",
     "output_type": "stream",
     "text": [
      "Process n°48 : Launched"
     ]
    },
    {
     "name": "stderr",
     "output_type": "stream",
     "text": [
      "  File \"<timed exec>\", line 35, in predict_instance\n"
     ]
    },
    {
     "name": "stdout",
     "output_type": "stream",
     "text": [
      "\n"
     ]
    },
    {
     "name": "stdout",
     "output_type": "stream",
     "text": [
      "\n"
     ]
    },
    {
     "name": "stderr",
     "output_type": "stream",
     "text": [
      "TypeError: unsupported operand type(s) for +: 'int' and 'str'\n"
     ]
    },
    {
     "name": "stdout",
     "output_type": "stream",
     "text": [
      "Process n°49 : Launched"
     ]
    },
    {
     "name": "stdout",
     "output_type": "stream",
     "text": [
      "Process n°50 : Launched"
     ]
    },
    {
     "name": "stdout",
     "output_type": "stream",
     "text": [
      "\n"
     ]
    },
    {
     "name": "stdout",
     "output_type": "stream",
     "text": [
      "Process n°51 : Launched"
     ]
    },
    {
     "name": "stdout",
     "output_type": "stream",
     "text": [
      "Process n°52 : Launched"
     ]
    },
    {
     "name": "stdout",
     "output_type": "stream",
     "text": [
      "\n"
     ]
    },
    {
     "name": "stdout",
     "output_type": "stream",
     "text": [
      "Process n°53 : Launched"
     ]
    },
    {
     "name": "stdout",
     "output_type": "stream",
     "text": [
      "\n"
     ]
    },
    {
     "name": "stdout",
     "output_type": "stream",
     "text": [
      "\n"
     ]
    },
    {
     "name": "stdout",
     "output_type": "stream",
     "text": [
      "\n"
     ]
    },
    {
     "name": "stdout",
     "output_type": "stream",
     "text": [
      "Process n°54 : Launched"
     ]
    },
    {
     "name": "stdout",
     "output_type": "stream",
     "text": [
      "\n"
     ]
    },
    {
     "name": "stdout",
     "output_type": "stream",
     "text": [
      "Process n°55 : Launched"
     ]
    },
    {
     "name": "stdout",
     "output_type": "stream",
     "text": [
      "\n"
     ]
    },
    {
     "name": "stdout",
     "output_type": "stream",
     "text": [
      "Process n°56 : Launched"
     ]
    },
    {
     "name": "stdout",
     "output_type": "stream",
     "text": [
      "Process n°57 : Launched"
     ]
    },
    {
     "name": "stdout",
     "output_type": "stream",
     "text": [
      "\n"
     ]
    },
    {
     "name": "stdout",
     "output_type": "stream",
     "text": [
      "Process n°58 : Launched"
     ]
    },
    {
     "name": "stdout",
     "output_type": "stream",
     "text": [
      "\n"
     ]
    },
    {
     "name": "stdout",
     "output_type": "stream",
     "text": [
      "\n"
     ]
    },
    {
     "name": "stdout",
     "output_type": "stream",
     "text": [
      "Process n°59 : Launched"
     ]
    },
    {
     "name": "stdout",
     "output_type": "stream",
     "text": [
      "\n"
     ]
    },
    {
     "name": "stdout",
     "output_type": "stream",
     "text": [
      "Process n°61 : Launched"
     ]
    },
    {
     "name": "stdout",
     "output_type": "stream",
     "text": [
      "Process n°60 : Launched"
     ]
    },
    {
     "name": "stdout",
     "output_type": "stream",
     "text": [
      "Process n°62 : Launched"
     ]
    },
    {
     "name": "stdout",
     "output_type": "stream",
     "text": [
      "\n"
     ]
    },
    {
     "name": "stdout",
     "output_type": "stream",
     "text": [
      "\n"
     ]
    },
    {
     "name": "stdout",
     "output_type": "stream",
     "text": [
      "Process n°63 : Launched"
     ]
    },
    {
     "name": "stdout",
     "output_type": "stream",
     "text": [
      "\n"
     ]
    },
    {
     "name": "stdout",
     "output_type": "stream",
     "text": [
      "\n"
     ]
    },
    {
     "name": "stdout",
     "output_type": "stream",
     "text": [
      "Process n°64 : Launched"
     ]
    },
    {
     "name": "stdout",
     "output_type": "stream",
     "text": [
      "\n"
     ]
    },
    {
     "name": "stdout",
     "output_type": "stream",
     "text": [
      "Process n°65 : Launched"
     ]
    },
    {
     "name": "stdout",
     "output_type": "stream",
     "text": [
      "Process n°66 : Launched"
     ]
    },
    {
     "name": "stdout",
     "output_type": "stream",
     "text": [
      "Process n°67 : Launched"
     ]
    },
    {
     "name": "stdout",
     "output_type": "stream",
     "text": [
      "\n"
     ]
    },
    {
     "name": "stdout",
     "output_type": "stream",
     "text": [
      "\n"
     ]
    },
    {
     "name": "stdout",
     "output_type": "stream",
     "text": [
      "\n"
     ]
    },
    {
     "name": "stdout",
     "output_type": "stream",
     "text": [
      "Process n°68 : Launched"
     ]
    },
    {
     "name": "stdout",
     "output_type": "stream",
     "text": [
      "\n"
     ]
    },
    {
     "name": "stdout",
     "output_type": "stream",
     "text": [
      "Process n°69 : Launched"
     ]
    },
    {
     "name": "stdout",
     "output_type": "stream",
     "text": [
      "\n"
     ]
    },
    {
     "name": "stdout",
     "output_type": "stream",
     "text": [
      "Process n°70 : Launched"
     ]
    },
    {
     "name": "stdout",
     "output_type": "stream",
     "text": [
      "\n"
     ]
    },
    {
     "name": "stdout",
     "output_type": "stream",
     "text": [
      "Process n°71 : Launched"
     ]
    },
    {
     "name": "stdout",
     "output_type": "stream",
     "text": [
      "Process n°73 : Launched"
     ]
    },
    {
     "name": "stdout",
     "output_type": "stream",
     "text": [
      "\n"
     ]
    },
    {
     "name": "stdout",
     "output_type": "stream",
     "text": [
      "Process n°72 : Launched"
     ]
    },
    {
     "name": "stdout",
     "output_type": "stream",
     "text": [
      "\n"
     ]
    },
    {
     "name": "stdout",
     "output_type": "stream",
     "text": [
      "Process n°75 : Launched"
     ]
    },
    {
     "name": "stdout",
     "output_type": "stream",
     "text": [
      "\n"
     ]
    },
    {
     "name": "stdout",
     "output_type": "stream",
     "text": [
      "Process n°74 : Launched"
     ]
    },
    {
     "name": "stdout",
     "output_type": "stream",
     "text": [
      "\n"
     ]
    },
    {
     "name": "stdout",
     "output_type": "stream",
     "text": [
      "Process n°76 : Launched"
     ]
    },
    {
     "name": "stdout",
     "output_type": "stream",
     "text": [
      "\n"
     ]
    },
    {
     "name": "stdout",
     "output_type": "stream",
     "text": [
      "\n"
     ]
    },
    {
     "name": "stderr",
     "output_type": "stream",
     "text": [
      "Process Process-6:\n"
     ]
    },
    {
     "name": "stderr",
     "output_type": "stream",
     "text": [
      "Traceback (most recent call last):\n"
     ]
    },
    {
     "name": "stderr",
     "output_type": "stream",
     "text": [
      "  File \"/mnt/beegfs/home/soulard/miniconda3/lib/python3.8/multiprocessing/process.py\", line 315, in _bootstrap\n",
      "    self.run()\n"
     ]
    },
    {
     "name": "stderr",
     "output_type": "stream",
     "text": [
      "  File \"/mnt/beegfs/home/soulard/miniconda3/lib/python3.8/multiprocessing/process.py\", line 108, in run\n",
      "    self._target(*self._args, **self._kwargs)\n"
     ]
    },
    {
     "name": "stderr",
     "output_type": "stream",
     "text": [
      "  File \"<timed exec>\", line 35, in predict_instance\n"
     ]
    },
    {
     "name": "stderr",
     "output_type": "stream",
     "text": [
      "TypeError: unsupported operand type(s) for +: 'int' and 'str'\n"
     ]
    },
    {
     "name": "stderr",
     "output_type": "stream",
     "text": [
      "Process Process-25:\n"
     ]
    },
    {
     "name": "stderr",
     "output_type": "stream",
     "text": [
      "Traceback (most recent call last):\n"
     ]
    },
    {
     "name": "stderr",
     "output_type": "stream",
     "text": [
      "  File \"/mnt/beegfs/home/soulard/miniconda3/lib/python3.8/multiprocessing/process.py\", line 315, in _bootstrap\n",
      "    self.run()\n"
     ]
    },
    {
     "name": "stderr",
     "output_type": "stream",
     "text": [
      "  File \"/mnt/beegfs/home/soulard/miniconda3/lib/python3.8/multiprocessing/process.py\", line 108, in run\n",
      "    self._target(*self._args, **self._kwargs)\n"
     ]
    },
    {
     "name": "stderr",
     "output_type": "stream",
     "text": [
      "  File \"<timed exec>\", line 35, in predict_instance\n"
     ]
    },
    {
     "name": "stderr",
     "output_type": "stream",
     "text": [
      "TypeError: unsupported operand type(s) for +: 'int' and 'str'\n"
     ]
    },
    {
     "name": "stderr",
     "output_type": "stream",
     "text": [
      "Process Process-3:\n"
     ]
    },
    {
     "name": "stderr",
     "output_type": "stream",
     "text": [
      "Traceback (most recent call last):\n"
     ]
    },
    {
     "name": "stderr",
     "output_type": "stream",
     "text": [
      "  File \"/mnt/beegfs/home/soulard/miniconda3/lib/python3.8/multiprocessing/process.py\", line 315, in _bootstrap\n",
      "    self.run()\n"
     ]
    },
    {
     "name": "stderr",
     "output_type": "stream",
     "text": [
      "  File \"/mnt/beegfs/home/soulard/miniconda3/lib/python3.8/multiprocessing/process.py\", line 108, in run\n",
      "    self._target(*self._args, **self._kwargs)\n"
     ]
    },
    {
     "name": "stderr",
     "output_type": "stream",
     "text": [
      "  File \"<timed exec>\", line 35, in predict_instance\n"
     ]
    },
    {
     "name": "stderr",
     "output_type": "stream",
     "text": [
      "TypeError: unsupported operand type(s) for +: 'int' and 'str'\n"
     ]
    },
    {
     "name": "stderr",
     "output_type": "stream",
     "text": [
      "Process Process-9:\n"
     ]
    },
    {
     "name": "stderr",
     "output_type": "stream",
     "text": [
      "Traceback (most recent call last):\n"
     ]
    },
    {
     "name": "stderr",
     "output_type": "stream",
     "text": [
      "  File \"/mnt/beegfs/home/soulard/miniconda3/lib/python3.8/multiprocessing/process.py\", line 315, in _bootstrap\n",
      "    self.run()\n"
     ]
    },
    {
     "name": "stderr",
     "output_type": "stream",
     "text": [
      "  File \"/mnt/beegfs/home/soulard/miniconda3/lib/python3.8/multiprocessing/process.py\", line 108, in run\n",
      "    self._target(*self._args, **self._kwargs)\n"
     ]
    },
    {
     "name": "stderr",
     "output_type": "stream",
     "text": [
      "  File \"<timed exec>\", line 35, in predict_instance\n"
     ]
    },
    {
     "name": "stderr",
     "output_type": "stream",
     "text": [
      "TypeError: unsupported operand type(s) for +: 'int' and 'str'\n"
     ]
    },
    {
     "name": "stderr",
     "output_type": "stream",
     "text": [
      "Process Process-29:\n"
     ]
    },
    {
     "name": "stderr",
     "output_type": "stream",
     "text": [
      "Traceback (most recent call last):\n"
     ]
    },
    {
     "name": "stderr",
     "output_type": "stream",
     "text": [
      "Process Process-11:\n"
     ]
    },
    {
     "name": "stderr",
     "output_type": "stream",
     "text": [
      "  File \"/mnt/beegfs/home/soulard/miniconda3/lib/python3.8/multiprocessing/process.py\", line 315, in _bootstrap\n",
      "    self.run()\n"
     ]
    },
    {
     "name": "stderr",
     "output_type": "stream",
     "text": [
      "Process Process-16:\n"
     ]
    },
    {
     "name": "stderr",
     "output_type": "stream",
     "text": [
      "Traceback (most recent call last):\n"
     ]
    },
    {
     "name": "stderr",
     "output_type": "stream",
     "text": [
      "  File \"/mnt/beegfs/home/soulard/miniconda3/lib/python3.8/multiprocessing/process.py\", line 108, in run\n",
      "    self._target(*self._args, **self._kwargs)\n"
     ]
    },
    {
     "name": "stderr",
     "output_type": "stream",
     "text": [
      "Traceback (most recent call last):\n"
     ]
    },
    {
     "name": "stderr",
     "output_type": "stream",
     "text": [
      "  File \"/mnt/beegfs/home/soulard/miniconda3/lib/python3.8/multiprocessing/process.py\", line 315, in _bootstrap\n",
      "    self.run()\n"
     ]
    },
    {
     "name": "stderr",
     "output_type": "stream",
     "text": [
      "  File \"<timed exec>\", line 35, in predict_instance\n"
     ]
    },
    {
     "name": "stderr",
     "output_type": "stream",
     "text": [
      "  File \"/mnt/beegfs/home/soulard/miniconda3/lib/python3.8/multiprocessing/process.py\", line 108, in run\n",
      "    self._target(*self._args, **self._kwargs)\n"
     ]
    },
    {
     "name": "stderr",
     "output_type": "stream",
     "text": [
      "  File \"/mnt/beegfs/home/soulard/miniconda3/lib/python3.8/multiprocessing/process.py\", line 315, in _bootstrap\n",
      "    self.run()\n"
     ]
    },
    {
     "name": "stderr",
     "output_type": "stream",
     "text": [
      "TypeError: unsupported operand type(s) for +: 'int' and 'str'\n"
     ]
    },
    {
     "name": "stderr",
     "output_type": "stream",
     "text": [
      "  File \"/mnt/beegfs/home/soulard/miniconda3/lib/python3.8/multiprocessing/process.py\", line 108, in run\n",
      "    self._target(*self._args, **self._kwargs)\n"
     ]
    },
    {
     "name": "stderr",
     "output_type": "stream",
     "text": [
      "  File \"<timed exec>\", line 35, in predict_instance\n"
     ]
    },
    {
     "name": "stderr",
     "output_type": "stream",
     "text": [
      "TypeError: unsupported operand type(s) for +: 'int' and 'str'\n"
     ]
    },
    {
     "name": "stderr",
     "output_type": "stream",
     "text": [
      "  File \"<timed exec>\", line 35, in predict_instance\n"
     ]
    },
    {
     "name": "stderr",
     "output_type": "stream",
     "text": [
      "TypeError: unsupported operand type(s) for +: 'int' and 'str'\n"
     ]
    },
    {
     "name": "stderr",
     "output_type": "stream",
     "text": [
      "Process Process-10:\n"
     ]
    },
    {
     "name": "stderr",
     "output_type": "stream",
     "text": [
      "Traceback (most recent call last):\n"
     ]
    },
    {
     "name": "stderr",
     "output_type": "stream",
     "text": [
      "  File \"/mnt/beegfs/home/soulard/miniconda3/lib/python3.8/multiprocessing/process.py\", line 315, in _bootstrap\n",
      "    self.run()\n"
     ]
    },
    {
     "name": "stderr",
     "output_type": "stream",
     "text": [
      "Process Process-22:\n"
     ]
    },
    {
     "name": "stderr",
     "output_type": "stream",
     "text": [
      "  File \"/mnt/beegfs/home/soulard/miniconda3/lib/python3.8/multiprocessing/process.py\", line 108, in run\n",
      "    self._target(*self._args, **self._kwargs)\n"
     ]
    },
    {
     "name": "stderr",
     "output_type": "stream",
     "text": [
      "  File \"<timed exec>\", line 35, in predict_instance\n"
     ]
    },
    {
     "name": "stderr",
     "output_type": "stream",
     "text": [
      "Traceback (most recent call last):\n"
     ]
    },
    {
     "name": "stderr",
     "output_type": "stream",
     "text": [
      "TypeError: unsupported operand type(s) for +: 'int' and 'str'\n"
     ]
    },
    {
     "name": "stderr",
     "output_type": "stream",
     "text": [
      "  File \"/mnt/beegfs/home/soulard/miniconda3/lib/python3.8/multiprocessing/process.py\", line 315, in _bootstrap\n",
      "    self.run()\n"
     ]
    },
    {
     "name": "stderr",
     "output_type": "stream",
     "text": [
      "  File \"/mnt/beegfs/home/soulard/miniconda3/lib/python3.8/multiprocessing/process.py\", line 108, in run\n",
      "    self._target(*self._args, **self._kwargs)\n"
     ]
    },
    {
     "name": "stderr",
     "output_type": "stream",
     "text": [
      "  File \"<timed exec>\", line 35, in predict_instance\n"
     ]
    },
    {
     "name": "stderr",
     "output_type": "stream",
     "text": [
      "TypeError: unsupported operand type(s) for +: 'int' and 'str'\n"
     ]
    },
    {
     "name": "stderr",
     "output_type": "stream",
     "text": [
      "Process Process-73:\n"
     ]
    },
    {
     "name": "stderr",
     "output_type": "stream",
     "text": [
      "Traceback (most recent call last):\n"
     ]
    },
    {
     "name": "stderr",
     "output_type": "stream",
     "text": [
      "  File \"/mnt/beegfs/home/soulard/miniconda3/lib/python3.8/multiprocessing/process.py\", line 315, in _bootstrap\n",
      "    self.run()\n"
     ]
    },
    {
     "name": "stderr",
     "output_type": "stream",
     "text": [
      "  File \"/mnt/beegfs/home/soulard/miniconda3/lib/python3.8/multiprocessing/process.py\", line 108, in run\n",
      "    self._target(*self._args, **self._kwargs)\n"
     ]
    },
    {
     "name": "stderr",
     "output_type": "stream",
     "text": [
      "Process Process-23:\n"
     ]
    },
    {
     "name": "stderr",
     "output_type": "stream",
     "text": [
      "  File \"<timed exec>\", line 35, in predict_instance\n"
     ]
    },
    {
     "name": "stderr",
     "output_type": "stream",
     "text": [
      "Traceback (most recent call last):\n"
     ]
    },
    {
     "name": "stderr",
     "output_type": "stream",
     "text": [
      "TypeError: unsupported operand type(s) for +: 'int' and 'str'\n"
     ]
    },
    {
     "name": "stderr",
     "output_type": "stream",
     "text": [
      "  File \"/mnt/beegfs/home/soulard/miniconda3/lib/python3.8/multiprocessing/process.py\", line 315, in _bootstrap\n",
      "    self.run()\n"
     ]
    },
    {
     "name": "stderr",
     "output_type": "stream",
     "text": [
      "  File \"/mnt/beegfs/home/soulard/miniconda3/lib/python3.8/multiprocessing/process.py\", line 108, in run\n",
      "    self._target(*self._args, **self._kwargs)\n"
     ]
    },
    {
     "name": "stderr",
     "output_type": "stream",
     "text": [
      "  File \"<timed exec>\", line 35, in predict_instance\n"
     ]
    },
    {
     "name": "stderr",
     "output_type": "stream",
     "text": [
      "TypeError: unsupported operand type(s) for +: 'int' and 'str'\n"
     ]
    },
    {
     "name": "stderr",
     "output_type": "stream",
     "text": [
      "Process Process-38:\n"
     ]
    },
    {
     "name": "stderr",
     "output_type": "stream",
     "text": [
      "Traceback (most recent call last):\n"
     ]
    },
    {
     "name": "stderr",
     "output_type": "stream",
     "text": [
      "  File \"/mnt/beegfs/home/soulard/miniconda3/lib/python3.8/multiprocessing/process.py\", line 315, in _bootstrap\n",
      "    self.run()\n"
     ]
    },
    {
     "name": "stderr",
     "output_type": "stream",
     "text": [
      "  File \"/mnt/beegfs/home/soulard/miniconda3/lib/python3.8/multiprocessing/process.py\", line 108, in run\n",
      "    self._target(*self._args, **self._kwargs)\n"
     ]
    },
    {
     "name": "stderr",
     "output_type": "stream",
     "text": [
      "Process Process-41:\n"
     ]
    },
    {
     "name": "stderr",
     "output_type": "stream",
     "text": [
      "Traceback (most recent call last):\n"
     ]
    },
    {
     "name": "stderr",
     "output_type": "stream",
     "text": [
      "  File \"<timed exec>\", line 35, in predict_instance\n"
     ]
    },
    {
     "name": "stderr",
     "output_type": "stream",
     "text": [
      "TypeError: unsupported operand type(s) for +: 'int' and 'str'\n"
     ]
    },
    {
     "name": "stderr",
     "output_type": "stream",
     "text": [
      "  File \"/mnt/beegfs/home/soulard/miniconda3/lib/python3.8/multiprocessing/process.py\", line 315, in _bootstrap\n",
      "    self.run()\n"
     ]
    },
    {
     "name": "stderr",
     "output_type": "stream",
     "text": [
      "  File \"/mnt/beegfs/home/soulard/miniconda3/lib/python3.8/multiprocessing/process.py\", line 108, in run\n",
      "    self._target(*self._args, **self._kwargs)\n"
     ]
    },
    {
     "name": "stderr",
     "output_type": "stream",
     "text": [
      "  File \"<timed exec>\", line 35, in predict_instance\n"
     ]
    },
    {
     "name": "stderr",
     "output_type": "stream",
     "text": [
      "TypeError: unsupported operand type(s) for +: 'int' and 'str'\n"
     ]
    },
    {
     "name": "stderr",
     "output_type": "stream",
     "text": [
      "Process Process-2:\n"
     ]
    },
    {
     "name": "stderr",
     "output_type": "stream",
     "text": [
      "Traceback (most recent call last):\n"
     ]
    },
    {
     "name": "stderr",
     "output_type": "stream",
     "text": [
      "  File \"/mnt/beegfs/home/soulard/miniconda3/lib/python3.8/multiprocessing/process.py\", line 315, in _bootstrap\n",
      "    self.run()\n"
     ]
    },
    {
     "name": "stderr",
     "output_type": "stream",
     "text": [
      "  File \"/mnt/beegfs/home/soulard/miniconda3/lib/python3.8/multiprocessing/process.py\", line 108, in run\n",
      "    self._target(*self._args, **self._kwargs)\n"
     ]
    },
    {
     "name": "stderr",
     "output_type": "stream",
     "text": [
      "  File \"<timed exec>\", line 35, in predict_instance\n"
     ]
    },
    {
     "name": "stderr",
     "output_type": "stream",
     "text": [
      "TypeError: unsupported operand type(s) for +: 'int' and 'str'\n"
     ]
    },
    {
     "name": "stderr",
     "output_type": "stream",
     "text": [
      "Process Process-14:\n"
     ]
    },
    {
     "name": "stderr",
     "output_type": "stream",
     "text": [
      "Traceback (most recent call last):\n"
     ]
    },
    {
     "name": "stderr",
     "output_type": "stream",
     "text": [
      "  File \"/mnt/beegfs/home/soulard/miniconda3/lib/python3.8/multiprocessing/process.py\", line 315, in _bootstrap\n",
      "    self.run()\n"
     ]
    },
    {
     "name": "stderr",
     "output_type": "stream",
     "text": [
      "  File \"/mnt/beegfs/home/soulard/miniconda3/lib/python3.8/multiprocessing/process.py\", line 108, in run\n",
      "    self._target(*self._args, **self._kwargs)\n"
     ]
    },
    {
     "name": "stderr",
     "output_type": "stream",
     "text": [
      "  File \"<timed exec>\", line 35, in predict_instance\n"
     ]
    },
    {
     "name": "stderr",
     "output_type": "stream",
     "text": [
      "TypeError: unsupported operand type(s) for +: 'int' and 'str'\n"
     ]
    },
    {
     "name": "stderr",
     "output_type": "stream",
     "text": [
      "Process Process-46:\n"
     ]
    },
    {
     "name": "stderr",
     "output_type": "stream",
     "text": [
      "Traceback (most recent call last):\n"
     ]
    },
    {
     "name": "stderr",
     "output_type": "stream",
     "text": [
      "  File \"/mnt/beegfs/home/soulard/miniconda3/lib/python3.8/multiprocessing/process.py\", line 315, in _bootstrap\n",
      "    self.run()\n"
     ]
    },
    {
     "name": "stderr",
     "output_type": "stream",
     "text": [
      "  File \"/mnt/beegfs/home/soulard/miniconda3/lib/python3.8/multiprocessing/process.py\", line 108, in run\n",
      "    self._target(*self._args, **self._kwargs)\n"
     ]
    },
    {
     "name": "stderr",
     "output_type": "stream",
     "text": [
      "  File \"<timed exec>\", line 35, in predict_instance\n"
     ]
    },
    {
     "name": "stderr",
     "output_type": "stream",
     "text": [
      "TypeError: unsupported operand type(s) for +: 'int' and 'str'\n"
     ]
    },
    {
     "name": "stderr",
     "output_type": "stream",
     "text": [
      "Process Process-7:\n"
     ]
    },
    {
     "name": "stderr",
     "output_type": "stream",
     "text": [
      "Process Process-4:\n"
     ]
    },
    {
     "name": "stderr",
     "output_type": "stream",
     "text": [
      "Traceback (most recent call last):\n"
     ]
    },
    {
     "name": "stderr",
     "output_type": "stream",
     "text": [
      "Traceback (most recent call last):\n"
     ]
    },
    {
     "name": "stderr",
     "output_type": "stream",
     "text": [
      "  File \"/mnt/beegfs/home/soulard/miniconda3/lib/python3.8/multiprocessing/process.py\", line 315, in _bootstrap\n",
      "    self.run()\n"
     ]
    },
    {
     "name": "stderr",
     "output_type": "stream",
     "text": [
      "  File \"/mnt/beegfs/home/soulard/miniconda3/lib/python3.8/multiprocessing/process.py\", line 108, in run\n",
      "    self._target(*self._args, **self._kwargs)\n"
     ]
    },
    {
     "name": "stderr",
     "output_type": "stream",
     "text": [
      "  File \"/mnt/beegfs/home/soulard/miniconda3/lib/python3.8/multiprocessing/process.py\", line 315, in _bootstrap\n",
      "    self.run()\n"
     ]
    },
    {
     "name": "stderr",
     "output_type": "stream",
     "text": [
      "  File \"<timed exec>\", line 35, in predict_instance\n"
     ]
    },
    {
     "name": "stderr",
     "output_type": "stream",
     "text": [
      "TypeError: unsupported operand type(s) for +: 'int' and 'str'\n"
     ]
    },
    {
     "name": "stderr",
     "output_type": "stream",
     "text": [
      "  File \"/mnt/beegfs/home/soulard/miniconda3/lib/python3.8/multiprocessing/process.py\", line 108, in run\n",
      "    self._target(*self._args, **self._kwargs)\n"
     ]
    },
    {
     "name": "stderr",
     "output_type": "stream",
     "text": [
      "  File \"<timed exec>\", line 35, in predict_instance\n"
     ]
    },
    {
     "name": "stderr",
     "output_type": "stream",
     "text": [
      "TypeError: unsupported operand type(s) for +: 'int' and 'str'\n"
     ]
    },
    {
     "name": "stderr",
     "output_type": "stream",
     "text": [
      "Process Process-13:\n"
     ]
    },
    {
     "name": "stderr",
     "output_type": "stream",
     "text": [
      "Traceback (most recent call last):\n"
     ]
    },
    {
     "name": "stderr",
     "output_type": "stream",
     "text": [
      "  File \"/mnt/beegfs/home/soulard/miniconda3/lib/python3.8/multiprocessing/process.py\", line 315, in _bootstrap\n",
      "    self.run()\n"
     ]
    },
    {
     "name": "stderr",
     "output_type": "stream",
     "text": [
      "  File \"/mnt/beegfs/home/soulard/miniconda3/lib/python3.8/multiprocessing/process.py\", line 108, in run\n",
      "    self._target(*self._args, **self._kwargs)\n"
     ]
    },
    {
     "name": "stderr",
     "output_type": "stream",
     "text": [
      "  File \"<timed exec>\", line 35, in predict_instance\n"
     ]
    },
    {
     "name": "stderr",
     "output_type": "stream",
     "text": [
      "TypeError: unsupported operand type(s) for +: 'int' and 'str'\n"
     ]
    },
    {
     "name": "stderr",
     "output_type": "stream",
     "text": [
      "Process Process-40:\n"
     ]
    },
    {
     "name": "stderr",
     "output_type": "stream",
     "text": [
      "Traceback (most recent call last):\n"
     ]
    },
    {
     "name": "stderr",
     "output_type": "stream",
     "text": [
      "  File \"/mnt/beegfs/home/soulard/miniconda3/lib/python3.8/multiprocessing/process.py\", line 315, in _bootstrap\n",
      "    self.run()\n"
     ]
    },
    {
     "name": "stderr",
     "output_type": "stream",
     "text": [
      "  File \"/mnt/beegfs/home/soulard/miniconda3/lib/python3.8/multiprocessing/process.py\", line 108, in run\n",
      "    self._target(*self._args, **self._kwargs)\n"
     ]
    },
    {
     "name": "stderr",
     "output_type": "stream",
     "text": [
      "  File \"<timed exec>\", line 35, in predict_instance\n"
     ]
    },
    {
     "name": "stderr",
     "output_type": "stream",
     "text": [
      "TypeError: unsupported operand type(s) for +: 'int' and 'str'\n"
     ]
    },
    {
     "name": "stderr",
     "output_type": "stream",
     "text": [
      "Process Process-35:\n"
     ]
    },
    {
     "name": "stderr",
     "output_type": "stream",
     "text": [
      "Traceback (most recent call last):\n"
     ]
    },
    {
     "name": "stderr",
     "output_type": "stream",
     "text": [
      "  File \"/mnt/beegfs/home/soulard/miniconda3/lib/python3.8/multiprocessing/process.py\", line 315, in _bootstrap\n",
      "    self.run()\n"
     ]
    },
    {
     "name": "stderr",
     "output_type": "stream",
     "text": [
      "  File \"/mnt/beegfs/home/soulard/miniconda3/lib/python3.8/multiprocessing/process.py\", line 108, in run\n",
      "    self._target(*self._args, **self._kwargs)\n"
     ]
    },
    {
     "name": "stderr",
     "output_type": "stream",
     "text": [
      "  File \"<timed exec>\", line 35, in predict_instance\n"
     ]
    },
    {
     "name": "stderr",
     "output_type": "stream",
     "text": [
      "TypeError: unsupported operand type(s) for +: 'int' and 'str'\n"
     ]
    },
    {
     "name": "stderr",
     "output_type": "stream",
     "text": [
      "Process Process-52:\n"
     ]
    },
    {
     "name": "stderr",
     "output_type": "stream",
     "text": [
      "Traceback (most recent call last):\n"
     ]
    },
    {
     "name": "stderr",
     "output_type": "stream",
     "text": [
      "  File \"/mnt/beegfs/home/soulard/miniconda3/lib/python3.8/multiprocessing/process.py\", line 315, in _bootstrap\n",
      "    self.run()\n"
     ]
    },
    {
     "name": "stderr",
     "output_type": "stream",
     "text": [
      "  File \"/mnt/beegfs/home/soulard/miniconda3/lib/python3.8/multiprocessing/process.py\", line 108, in run\n",
      "    self._target(*self._args, **self._kwargs)\n"
     ]
    },
    {
     "name": "stderr",
     "output_type": "stream",
     "text": [
      "  File \"<timed exec>\", line 35, in predict_instance\n"
     ]
    },
    {
     "name": "stderr",
     "output_type": "stream",
     "text": [
      "TypeError: unsupported operand type(s) for +: 'int' and 'str'\n"
     ]
    },
    {
     "name": "stderr",
     "output_type": "stream",
     "text": [
      "Process Process-74:\n"
     ]
    },
    {
     "name": "stderr",
     "output_type": "stream",
     "text": [
      "Traceback (most recent call last):\n"
     ]
    },
    {
     "name": "stderr",
     "output_type": "stream",
     "text": [
      "  File \"/mnt/beegfs/home/soulard/miniconda3/lib/python3.8/multiprocessing/process.py\", line 315, in _bootstrap\n",
      "    self.run()\n"
     ]
    },
    {
     "name": "stderr",
     "output_type": "stream",
     "text": [
      "  File \"/mnt/beegfs/home/soulard/miniconda3/lib/python3.8/multiprocessing/process.py\", line 108, in run\n",
      "    self._target(*self._args, **self._kwargs)\n"
     ]
    },
    {
     "name": "stderr",
     "output_type": "stream",
     "text": [
      "  File \"<timed exec>\", line 35, in predict_instance\n"
     ]
    },
    {
     "name": "stderr",
     "output_type": "stream",
     "text": [
      "TypeError: unsupported operand type(s) for +: 'int' and 'str'\n"
     ]
    },
    {
     "name": "stderr",
     "output_type": "stream",
     "text": [
      "Process Process-49:\n"
     ]
    },
    {
     "name": "stderr",
     "output_type": "stream",
     "text": [
      "Traceback (most recent call last):\n"
     ]
    },
    {
     "name": "stderr",
     "output_type": "stream",
     "text": [
      "  File \"/mnt/beegfs/home/soulard/miniconda3/lib/python3.8/multiprocessing/process.py\", line 315, in _bootstrap\n",
      "    self.run()\n"
     ]
    },
    {
     "name": "stderr",
     "output_type": "stream",
     "text": [
      "  File \"/mnt/beegfs/home/soulard/miniconda3/lib/python3.8/multiprocessing/process.py\", line 108, in run\n",
      "    self._target(*self._args, **self._kwargs)\n"
     ]
    },
    {
     "name": "stderr",
     "output_type": "stream",
     "text": [
      "  File \"<timed exec>\", line 35, in predict_instance\n"
     ]
    },
    {
     "name": "stderr",
     "output_type": "stream",
     "text": [
      "Process Process-50:\n"
     ]
    },
    {
     "name": "stderr",
     "output_type": "stream",
     "text": [
      "Traceback (most recent call last):\n"
     ]
    },
    {
     "name": "stderr",
     "output_type": "stream",
     "text": [
      "TypeError: unsupported operand type(s) for +: 'int' and 'str'\n"
     ]
    },
    {
     "name": "stderr",
     "output_type": "stream",
     "text": [
      "  File \"/mnt/beegfs/home/soulard/miniconda3/lib/python3.8/multiprocessing/process.py\", line 315, in _bootstrap\n",
      "    self.run()\n"
     ]
    },
    {
     "name": "stderr",
     "output_type": "stream",
     "text": [
      "  File \"/mnt/beegfs/home/soulard/miniconda3/lib/python3.8/multiprocessing/process.py\", line 108, in run\n",
      "    self._target(*self._args, **self._kwargs)\n"
     ]
    },
    {
     "name": "stderr",
     "output_type": "stream",
     "text": [
      "Process Process-37:\n"
     ]
    },
    {
     "name": "stderr",
     "output_type": "stream",
     "text": [
      "  File \"<timed exec>\", line 35, in predict_instance\n"
     ]
    },
    {
     "name": "stderr",
     "output_type": "stream",
     "text": [
      "TypeError: unsupported operand type(s) for +: 'int' and 'str'\n"
     ]
    },
    {
     "name": "stderr",
     "output_type": "stream",
     "text": [
      "Process Process-8:\n"
     ]
    },
    {
     "name": "stderr",
     "output_type": "stream",
     "text": [
      "Traceback (most recent call last):\n"
     ]
    },
    {
     "name": "stderr",
     "output_type": "stream",
     "text": [
      "  File \"/mnt/beegfs/home/soulard/miniconda3/lib/python3.8/multiprocessing/process.py\", line 315, in _bootstrap\n",
      "    self.run()\n"
     ]
    },
    {
     "name": "stderr",
     "output_type": "stream",
     "text": [
      "Traceback (most recent call last):\n"
     ]
    },
    {
     "name": "stderr",
     "output_type": "stream",
     "text": [
      "  File \"/mnt/beegfs/home/soulard/miniconda3/lib/python3.8/multiprocessing/process.py\", line 108, in run\n",
      "    self._target(*self._args, **self._kwargs)\n"
     ]
    },
    {
     "name": "stderr",
     "output_type": "stream",
     "text": [
      "  File \"/mnt/beegfs/home/soulard/miniconda3/lib/python3.8/multiprocessing/process.py\", line 315, in _bootstrap\n",
      "    self.run()\n"
     ]
    },
    {
     "name": "stderr",
     "output_type": "stream",
     "text": [
      "  File \"<timed exec>\", line 35, in predict_instance\n"
     ]
    },
    {
     "name": "stderr",
     "output_type": "stream",
     "text": [
      "  File \"/mnt/beegfs/home/soulard/miniconda3/lib/python3.8/multiprocessing/process.py\", line 108, in run\n",
      "    self._target(*self._args, **self._kwargs)\n"
     ]
    },
    {
     "name": "stderr",
     "output_type": "stream",
     "text": [
      "TypeError: unsupported operand type(s) for +: 'int' and 'str'\n"
     ]
    },
    {
     "name": "stderr",
     "output_type": "stream",
     "text": [
      "  File \"<timed exec>\", line 35, in predict_instance\n"
     ]
    },
    {
     "name": "stderr",
     "output_type": "stream",
     "text": [
      "TypeError: unsupported operand type(s) for +: 'int' and 'str'\n"
     ]
    },
    {
     "name": "stderr",
     "output_type": "stream",
     "text": [
      "Process Process-51:\n"
     ]
    },
    {
     "name": "stderr",
     "output_type": "stream",
     "text": [
      "Traceback (most recent call last):\n"
     ]
    },
    {
     "name": "stderr",
     "output_type": "stream",
     "text": [
      "  File \"/mnt/beegfs/home/soulard/miniconda3/lib/python3.8/multiprocessing/process.py\", line 315, in _bootstrap\n",
      "    self.run()\n"
     ]
    },
    {
     "name": "stderr",
     "output_type": "stream",
     "text": [
      "  File \"/mnt/beegfs/home/soulard/miniconda3/lib/python3.8/multiprocessing/process.py\", line 108, in run\n",
      "    self._target(*self._args, **self._kwargs)\n"
     ]
    },
    {
     "name": "stderr",
     "output_type": "stream",
     "text": [
      "  File \"<timed exec>\", line 35, in predict_instance\n"
     ]
    },
    {
     "name": "stderr",
     "output_type": "stream",
     "text": [
      "TypeError: unsupported operand type(s) for +: 'int' and 'str'\n"
     ]
    },
    {
     "name": "stderr",
     "output_type": "stream",
     "text": [
      "Process Process-47:\n"
     ]
    },
    {
     "name": "stderr",
     "output_type": "stream",
     "text": [
      "Process Process-55:\n"
     ]
    },
    {
     "name": "stderr",
     "output_type": "stream",
     "text": [
      "Traceback (most recent call last):\n"
     ]
    },
    {
     "name": "stderr",
     "output_type": "stream",
     "text": [
      "  File \"/mnt/beegfs/home/soulard/miniconda3/lib/python3.8/multiprocessing/process.py\", line 315, in _bootstrap\n",
      "    self.run()\n"
     ]
    },
    {
     "name": "stderr",
     "output_type": "stream",
     "text": [
      "Traceback (most recent call last):\n"
     ]
    },
    {
     "name": "stderr",
     "output_type": "stream",
     "text": [
      "  File \"/mnt/beegfs/home/soulard/miniconda3/lib/python3.8/multiprocessing/process.py\", line 108, in run\n",
      "    self._target(*self._args, **self._kwargs)\n"
     ]
    },
    {
     "name": "stderr",
     "output_type": "stream",
     "text": [
      "  File \"/mnt/beegfs/home/soulard/miniconda3/lib/python3.8/multiprocessing/process.py\", line 315, in _bootstrap\n",
      "    self.run()\n"
     ]
    },
    {
     "name": "stderr",
     "output_type": "stream",
     "text": [
      "  File \"<timed exec>\", line 35, in predict_instance\n"
     ]
    },
    {
     "name": "stderr",
     "output_type": "stream",
     "text": [
      "TypeError: unsupported operand type(s) for +: 'int' and 'str'\n"
     ]
    },
    {
     "name": "stderr",
     "output_type": "stream",
     "text": [
      "  File \"/mnt/beegfs/home/soulard/miniconda3/lib/python3.8/multiprocessing/process.py\", line 108, in run\n",
      "    self._target(*self._args, **self._kwargs)\n"
     ]
    },
    {
     "name": "stderr",
     "output_type": "stream",
     "text": [
      "  File \"<timed exec>\", line 35, in predict_instance\n"
     ]
    },
    {
     "name": "stderr",
     "output_type": "stream",
     "text": [
      "TypeError: unsupported operand type(s) for +: 'int' and 'str'\n"
     ]
    },
    {
     "name": "stderr",
     "output_type": "stream",
     "text": [
      "Process Process-57:\n"
     ]
    },
    {
     "name": "stderr",
     "output_type": "stream",
     "text": [
      "Traceback (most recent call last):\n"
     ]
    },
    {
     "name": "stderr",
     "output_type": "stream",
     "text": [
      "Process Process-68:\n"
     ]
    },
    {
     "name": "stderr",
     "output_type": "stream",
     "text": [
      "  File \"/mnt/beegfs/home/soulard/miniconda3/lib/python3.8/multiprocessing/process.py\", line 315, in _bootstrap\n",
      "    self.run()\n"
     ]
    },
    {
     "name": "stderr",
     "output_type": "stream",
     "text": [
      "Process Process-42:\n"
     ]
    },
    {
     "name": "stderr",
     "output_type": "stream",
     "text": [
      "Traceback (most recent call last):\n"
     ]
    },
    {
     "name": "stderr",
     "output_type": "stream",
     "text": [
      "  File \"/mnt/beegfs/home/soulard/miniconda3/lib/python3.8/multiprocessing/process.py\", line 108, in run\n",
      "    self._target(*self._args, **self._kwargs)\n"
     ]
    },
    {
     "name": "stderr",
     "output_type": "stream",
     "text": [
      "  File \"<timed exec>\", line 35, in predict_instance\n"
     ]
    },
    {
     "name": "stderr",
     "output_type": "stream",
     "text": [
      "Traceback (most recent call last):\n"
     ]
    },
    {
     "name": "stderr",
     "output_type": "stream",
     "text": [
      "  File \"/mnt/beegfs/home/soulard/miniconda3/lib/python3.8/multiprocessing/process.py\", line 315, in _bootstrap\n",
      "    self.run()\n"
     ]
    },
    {
     "name": "stderr",
     "output_type": "stream",
     "text": [
      "  File \"/mnt/beegfs/home/soulard/miniconda3/lib/python3.8/multiprocessing/process.py\", line 315, in _bootstrap\n",
      "    self.run()\n"
     ]
    },
    {
     "name": "stderr",
     "output_type": "stream",
     "text": [
      "  File \"/mnt/beegfs/home/soulard/miniconda3/lib/python3.8/multiprocessing/process.py\", line 108, in run\n",
      "    self._target(*self._args, **self._kwargs)\n"
     ]
    },
    {
     "name": "stderr",
     "output_type": "stream",
     "text": [
      "TypeError: unsupported operand type(s) for +: 'int' and 'str'\n"
     ]
    },
    {
     "name": "stderr",
     "output_type": "stream",
     "text": [
      "  File \"/mnt/beegfs/home/soulard/miniconda3/lib/python3.8/multiprocessing/process.py\", line 108, in run\n",
      "    self._target(*self._args, **self._kwargs)\n"
     ]
    },
    {
     "name": "stderr",
     "output_type": "stream",
     "text": [
      "Process Process-31:\n"
     ]
    },
    {
     "name": "stderr",
     "output_type": "stream",
     "text": [
      "  File \"<timed exec>\", line 35, in predict_instance\n"
     ]
    },
    {
     "name": "stderr",
     "output_type": "stream",
     "text": [
      "Process Process-15:\n"
     ]
    },
    {
     "name": "stderr",
     "output_type": "stream",
     "text": [
      "  File \"<timed exec>\", line 35, in predict_instance\n"
     ]
    },
    {
     "name": "stderr",
     "output_type": "stream",
     "text": [
      "Traceback (most recent call last):\n"
     ]
    },
    {
     "name": "stderr",
     "output_type": "stream",
     "text": [
      "TypeError: unsupported operand type(s) for +: 'int' and 'str'\n"
     ]
    },
    {
     "name": "stderr",
     "output_type": "stream",
     "text": [
      "Traceback (most recent call last):\n"
     ]
    },
    {
     "name": "stderr",
     "output_type": "stream",
     "text": [
      "TypeError: unsupported operand type(s) for +: 'int' and 'str'\n"
     ]
    },
    {
     "name": "stderr",
     "output_type": "stream",
     "text": [
      "  File \"/mnt/beegfs/home/soulard/miniconda3/lib/python3.8/multiprocessing/process.py\", line 315, in _bootstrap\n",
      "    self.run()\n"
     ]
    },
    {
     "name": "stderr",
     "output_type": "stream",
     "text": [
      "  File \"/mnt/beegfs/home/soulard/miniconda3/lib/python3.8/multiprocessing/process.py\", line 108, in run\n",
      "    self._target(*self._args, **self._kwargs)\n"
     ]
    },
    {
     "name": "stderr",
     "output_type": "stream",
     "text": [
      "  File \"/mnt/beegfs/home/soulard/miniconda3/lib/python3.8/multiprocessing/process.py\", line 315, in _bootstrap\n",
      "    self.run()\n"
     ]
    },
    {
     "name": "stderr",
     "output_type": "stream",
     "text": [
      "  File \"<timed exec>\", line 35, in predict_instance\n"
     ]
    },
    {
     "name": "stderr",
     "output_type": "stream",
     "text": [
      "  File \"/mnt/beegfs/home/soulard/miniconda3/lib/python3.8/multiprocessing/process.py\", line 108, in run\n",
      "    self._target(*self._args, **self._kwargs)\n"
     ]
    },
    {
     "name": "stderr",
     "output_type": "stream",
     "text": [
      "TypeError: unsupported operand type(s) for +: 'int' and 'str'\n"
     ]
    },
    {
     "name": "stderr",
     "output_type": "stream",
     "text": [
      "  File \"<timed exec>\", line 35, in predict_instance\n"
     ]
    },
    {
     "name": "stderr",
     "output_type": "stream",
     "text": [
      "TypeError: unsupported operand type(s) for +: 'int' and 'str'\n"
     ]
    },
    {
     "name": "stderr",
     "output_type": "stream",
     "text": [
      "Process Process-12:\n"
     ]
    },
    {
     "name": "stderr",
     "output_type": "stream",
     "text": [
      "Traceback (most recent call last):\n"
     ]
    },
    {
     "name": "stderr",
     "output_type": "stream",
     "text": [
      "  File \"/mnt/beegfs/home/soulard/miniconda3/lib/python3.8/multiprocessing/process.py\", line 315, in _bootstrap\n",
      "    self.run()\n"
     ]
    },
    {
     "name": "stderr",
     "output_type": "stream",
     "text": [
      "  File \"/mnt/beegfs/home/soulard/miniconda3/lib/python3.8/multiprocessing/process.py\", line 108, in run\n",
      "    self._target(*self._args, **self._kwargs)\n"
     ]
    },
    {
     "name": "stderr",
     "output_type": "stream",
     "text": [
      "  File \"<timed exec>\", line 35, in predict_instance\n"
     ]
    },
    {
     "name": "stderr",
     "output_type": "stream",
     "text": [
      "TypeError: unsupported operand type(s) for +: 'int' and 'str'\n"
     ]
    },
    {
     "name": "stderr",
     "output_type": "stream",
     "text": [
      "Process Process-71:\n"
     ]
    },
    {
     "name": "stderr",
     "output_type": "stream",
     "text": [
      "Traceback (most recent call last):\n"
     ]
    },
    {
     "name": "stderr",
     "output_type": "stream",
     "text": [
      "  File \"/mnt/beegfs/home/soulard/miniconda3/lib/python3.8/multiprocessing/process.py\", line 315, in _bootstrap\n",
      "    self.run()\n"
     ]
    },
    {
     "name": "stderr",
     "output_type": "stream",
     "text": [
      "  File \"/mnt/beegfs/home/soulard/miniconda3/lib/python3.8/multiprocessing/process.py\", line 108, in run\n",
      "    self._target(*self._args, **self._kwargs)\n"
     ]
    },
    {
     "name": "stderr",
     "output_type": "stream",
     "text": [
      "  File \"<timed exec>\", line 35, in predict_instance\n"
     ]
    },
    {
     "name": "stderr",
     "output_type": "stream",
     "text": [
      "TypeError: unsupported operand type(s) for +: 'int' and 'str'\n"
     ]
    },
    {
     "name": "stderr",
     "output_type": "stream",
     "text": [
      "Process Process-78:\n"
     ]
    },
    {
     "name": "stderr",
     "output_type": "stream",
     "text": [
      "Traceback (most recent call last):\n"
     ]
    },
    {
     "name": "stderr",
     "output_type": "stream",
     "text": [
      "  File \"/mnt/beegfs/home/soulard/miniconda3/lib/python3.8/multiprocessing/process.py\", line 315, in _bootstrap\n",
      "    self.run()\n"
     ]
    },
    {
     "name": "stderr",
     "output_type": "stream",
     "text": [
      "  File \"/mnt/beegfs/home/soulard/miniconda3/lib/python3.8/multiprocessing/process.py\", line 108, in run\n",
      "    self._target(*self._args, **self._kwargs)\n"
     ]
    },
    {
     "name": "stderr",
     "output_type": "stream",
     "text": [
      "Process Process-63:\n"
     ]
    },
    {
     "name": "stderr",
     "output_type": "stream",
     "text": [
      "Traceback (most recent call last):\n"
     ]
    },
    {
     "name": "stderr",
     "output_type": "stream",
     "text": [
      "  File \"<timed exec>\", line 35, in predict_instance\n"
     ]
    },
    {
     "name": "stderr",
     "output_type": "stream",
     "text": [
      "  File \"/mnt/beegfs/home/soulard/miniconda3/lib/python3.8/multiprocessing/process.py\", line 315, in _bootstrap\n",
      "    self.run()\n"
     ]
    },
    {
     "name": "stderr",
     "output_type": "stream",
     "text": [
      "  File \"/mnt/beegfs/home/soulard/miniconda3/lib/python3.8/multiprocessing/process.py\", line 108, in run\n",
      "    self._target(*self._args, **self._kwargs)\n"
     ]
    },
    {
     "name": "stderr",
     "output_type": "stream",
     "text": [
      "  File \"<timed exec>\", line 35, in predict_instance\n"
     ]
    },
    {
     "name": "stderr",
     "output_type": "stream",
     "text": [
      "TypeError: unsupported operand type(s) for +: 'int' and 'str'\n"
     ]
    },
    {
     "name": "stderr",
     "output_type": "stream",
     "text": [
      "TypeError: unsupported operand type(s) for +: 'int' and 'str'\n"
     ]
    },
    {
     "name": "stderr",
     "output_type": "stream",
     "text": [
      "Process Process-33:\n"
     ]
    },
    {
     "name": "stderr",
     "output_type": "stream",
     "text": [
      "Process Process-67:\n"
     ]
    },
    {
     "name": "stderr",
     "output_type": "stream",
     "text": [
      "Traceback (most recent call last):\n"
     ]
    },
    {
     "name": "stderr",
     "output_type": "stream",
     "text": [
      "Traceback (most recent call last):\n"
     ]
    },
    {
     "name": "stderr",
     "output_type": "stream",
     "text": [
      "  File \"/mnt/beegfs/home/soulard/miniconda3/lib/python3.8/multiprocessing/process.py\", line 315, in _bootstrap\n",
      "    self.run()\n"
     ]
    },
    {
     "name": "stderr",
     "output_type": "stream",
     "text": [
      "  File \"/mnt/beegfs/home/soulard/miniconda3/lib/python3.8/multiprocessing/process.py\", line 108, in run\n",
      "    self._target(*self._args, **self._kwargs)\n"
     ]
    },
    {
     "name": "stderr",
     "output_type": "stream",
     "text": [
      "  File \"<timed exec>\", line 35, in predict_instance\n"
     ]
    },
    {
     "name": "stderr",
     "output_type": "stream",
     "text": [
      "  File \"/mnt/beegfs/home/soulard/miniconda3/lib/python3.8/multiprocessing/process.py\", line 315, in _bootstrap\n",
      "    self.run()\n"
     ]
    },
    {
     "name": "stderr",
     "output_type": "stream",
     "text": [
      "TypeError: unsupported operand type(s) for +: 'int' and 'str'\n"
     ]
    },
    {
     "name": "stderr",
     "output_type": "stream",
     "text": [
      "  File \"/mnt/beegfs/home/soulard/miniconda3/lib/python3.8/multiprocessing/process.py\", line 108, in run\n",
      "    self._target(*self._args, **self._kwargs)\n"
     ]
    },
    {
     "name": "stderr",
     "output_type": "stream",
     "text": [
      "  File \"<timed exec>\", line 35, in predict_instance\n"
     ]
    },
    {
     "name": "stderr",
     "output_type": "stream",
     "text": [
      "TypeError: unsupported operand type(s) for +: 'int' and 'str'\n"
     ]
    },
    {
     "name": "stderr",
     "output_type": "stream",
     "text": [
      "Process Process-58:\n"
     ]
    },
    {
     "name": "stderr",
     "output_type": "stream",
     "text": [
      "Traceback (most recent call last):\n"
     ]
    },
    {
     "name": "stderr",
     "output_type": "stream",
     "text": [
      "Process Process-65:\n"
     ]
    },
    {
     "name": "stderr",
     "output_type": "stream",
     "text": [
      "  File \"/mnt/beegfs/home/soulard/miniconda3/lib/python3.8/multiprocessing/process.py\", line 315, in _bootstrap\n",
      "    self.run()\n"
     ]
    },
    {
     "name": "stderr",
     "output_type": "stream",
     "text": [
      "Traceback (most recent call last):\n"
     ]
    },
    {
     "name": "stderr",
     "output_type": "stream",
     "text": [
      "  File \"/mnt/beegfs/home/soulard/miniconda3/lib/python3.8/multiprocessing/process.py\", line 108, in run\n",
      "    self._target(*self._args, **self._kwargs)\n"
     ]
    },
    {
     "name": "stderr",
     "output_type": "stream",
     "text": [
      "Process Process-20:\n"
     ]
    },
    {
     "name": "stderr",
     "output_type": "stream",
     "text": [
      "  File \"/mnt/beegfs/home/soulard/miniconda3/lib/python3.8/multiprocessing/process.py\", line 315, in _bootstrap\n",
      "    self.run()\n"
     ]
    },
    {
     "name": "stderr",
     "output_type": "stream",
     "text": [
      "  File \"<timed exec>\", line 35, in predict_instance\n"
     ]
    },
    {
     "name": "stderr",
     "output_type": "stream",
     "text": [
      "  File \"/mnt/beegfs/home/soulard/miniconda3/lib/python3.8/multiprocessing/process.py\", line 108, in run\n",
      "    self._target(*self._args, **self._kwargs)\n"
     ]
    },
    {
     "name": "stderr",
     "output_type": "stream",
     "text": [
      "TypeError: unsupported operand type(s) for +: 'int' and 'str'\n"
     ]
    },
    {
     "name": "stderr",
     "output_type": "stream",
     "text": [
      "  File \"<timed exec>\", line 35, in predict_instance\n"
     ]
    },
    {
     "name": "stderr",
     "output_type": "stream",
     "text": [
      "Traceback (most recent call last):\n"
     ]
    },
    {
     "name": "stderr",
     "output_type": "stream",
     "text": [
      "TypeError: unsupported operand type(s) for +: 'int' and 'str'\n"
     ]
    },
    {
     "name": "stderr",
     "output_type": "stream",
     "text": [
      "  File \"/mnt/beegfs/home/soulard/miniconda3/lib/python3.8/multiprocessing/process.py\", line 315, in _bootstrap\n",
      "    self.run()\n"
     ]
    },
    {
     "name": "stderr",
     "output_type": "stream",
     "text": [
      "  File \"/mnt/beegfs/home/soulard/miniconda3/lib/python3.8/multiprocessing/process.py\", line 108, in run\n",
      "    self._target(*self._args, **self._kwargs)\n"
     ]
    },
    {
     "name": "stderr",
     "output_type": "stream",
     "text": [
      "  File \"<timed exec>\", line 35, in predict_instance\n"
     ]
    },
    {
     "name": "stderr",
     "output_type": "stream",
     "text": [
      "TypeError: unsupported operand type(s) for +: 'int' and 'str'\n"
     ]
    },
    {
     "name": "stderr",
     "output_type": "stream",
     "text": [
      "Process Process-77:\n"
     ]
    },
    {
     "name": "stderr",
     "output_type": "stream",
     "text": [
      "Traceback (most recent call last):\n"
     ]
    },
    {
     "name": "stderr",
     "output_type": "stream",
     "text": [
      "Process Process-64:\n"
     ]
    },
    {
     "name": "stderr",
     "output_type": "stream",
     "text": [
      "  File \"/mnt/beegfs/home/soulard/miniconda3/lib/python3.8/multiprocessing/process.py\", line 315, in _bootstrap\n",
      "    self.run()\n"
     ]
    },
    {
     "name": "stderr",
     "output_type": "stream",
     "text": [
      "Traceback (most recent call last):\n"
     ]
    },
    {
     "name": "stderr",
     "output_type": "stream",
     "text": [
      "  File \"/mnt/beegfs/home/soulard/miniconda3/lib/python3.8/multiprocessing/process.py\", line 108, in run\n",
      "    self._target(*self._args, **self._kwargs)\n"
     ]
    },
    {
     "name": "stderr",
     "output_type": "stream",
     "text": [
      "  File \"/mnt/beegfs/home/soulard/miniconda3/lib/python3.8/multiprocessing/process.py\", line 315, in _bootstrap\n",
      "    self.run()\n"
     ]
    },
    {
     "name": "stderr",
     "output_type": "stream",
     "text": [
      "  File \"/mnt/beegfs/home/soulard/miniconda3/lib/python3.8/multiprocessing/process.py\", line 108, in run\n",
      "    self._target(*self._args, **self._kwargs)\n"
     ]
    },
    {
     "name": "stderr",
     "output_type": "stream",
     "text": [
      "  File \"<timed exec>\", line 35, in predict_instance\n"
     ]
    },
    {
     "name": "stderr",
     "output_type": "stream",
     "text": [
      "  File \"<timed exec>\", line 35, in predict_instance\n"
     ]
    },
    {
     "name": "stderr",
     "output_type": "stream",
     "text": [
      "TypeError: unsupported operand type(s) for +: 'int' and 'str'\n"
     ]
    },
    {
     "name": "stderr",
     "output_type": "stream",
     "text": [
      "TypeError: unsupported operand type(s) for +: 'int' and 'str'\n"
     ]
    },
    {
     "name": "stderr",
     "output_type": "stream",
     "text": [
      "Process Process-44:\n"
     ]
    },
    {
     "name": "stderr",
     "output_type": "stream",
     "text": [
      "Process Process-34:\n"
     ]
    },
    {
     "name": "stderr",
     "output_type": "stream",
     "text": [
      "Process Process-76:\n"
     ]
    },
    {
     "name": "stderr",
     "output_type": "stream",
     "text": [
      "Process Process-27:\n"
     ]
    },
    {
     "name": "stderr",
     "output_type": "stream",
     "text": [
      "Traceback (most recent call last):\n"
     ]
    },
    {
     "name": "stderr",
     "output_type": "stream",
     "text": [
      "Process Process-60:\n"
     ]
    },
    {
     "name": "stderr",
     "output_type": "stream",
     "text": [
      "Traceback (most recent call last):\n"
     ]
    },
    {
     "name": "stderr",
     "output_type": "stream",
     "text": [
      "Process Process-5:\n"
     ]
    },
    {
     "name": "stderr",
     "output_type": "stream",
     "text": [
      "Traceback (most recent call last):\n"
     ]
    },
    {
     "name": "stderr",
     "output_type": "stream",
     "text": [
      "  File \"/mnt/beegfs/home/soulard/miniconda3/lib/python3.8/multiprocessing/process.py\", line 315, in _bootstrap\n",
      "    self.run()\n"
     ]
    },
    {
     "name": "stderr",
     "output_type": "stream",
     "text": [
      "Traceback (most recent call last):\n"
     ]
    },
    {
     "name": "stderr",
     "output_type": "stream",
     "text": [
      "Traceback (most recent call last):\n"
     ]
    },
    {
     "name": "stderr",
     "output_type": "stream",
     "text": [
      "  File \"/mnt/beegfs/home/soulard/miniconda3/lib/python3.8/multiprocessing/process.py\", line 315, in _bootstrap\n",
      "    self.run()\n"
     ]
    },
    {
     "name": "stderr",
     "output_type": "stream",
     "text": [
      "  File \"/mnt/beegfs/home/soulard/miniconda3/lib/python3.8/multiprocessing/process.py\", line 108, in run\n",
      "    self._target(*self._args, **self._kwargs)\n"
     ]
    },
    {
     "name": "stderr",
     "output_type": "stream",
     "text": [
      "  File \"/mnt/beegfs/home/soulard/miniconda3/lib/python3.8/multiprocessing/process.py\", line 315, in _bootstrap\n",
      "    self.run()\n"
     ]
    },
    {
     "name": "stderr",
     "output_type": "stream",
     "text": [
      "  File \"/mnt/beegfs/home/soulard/miniconda3/lib/python3.8/multiprocessing/process.py\", line 315, in _bootstrap\n",
      "    self.run()\n"
     ]
    },
    {
     "name": "stderr",
     "output_type": "stream",
     "text": [
      "  File \"/mnt/beegfs/home/soulard/miniconda3/lib/python3.8/multiprocessing/process.py\", line 315, in _bootstrap\n",
      "    self.run()\n"
     ]
    },
    {
     "name": "stderr",
     "output_type": "stream",
     "text": [
      "  File \"/mnt/beegfs/home/soulard/miniconda3/lib/python3.8/multiprocessing/process.py\", line 108, in run\n",
      "    self._target(*self._args, **self._kwargs)\n"
     ]
    },
    {
     "name": "stderr",
     "output_type": "stream",
     "text": [
      "Traceback (most recent call last):\n"
     ]
    },
    {
     "name": "stderr",
     "output_type": "stream",
     "text": [
      "  File \"<timed exec>\", line 35, in predict_instance\n"
     ]
    },
    {
     "name": "stderr",
     "output_type": "stream",
     "text": [
      "Process Process-70:\n"
     ]
    },
    {
     "name": "stderr",
     "output_type": "stream",
     "text": [
      "  File \"/mnt/beegfs/home/soulard/miniconda3/lib/python3.8/multiprocessing/process.py\", line 108, in run\n",
      "    self._target(*self._args, **self._kwargs)\n"
     ]
    },
    {
     "name": "stderr",
     "output_type": "stream",
     "text": [
      "  File \"/mnt/beegfs/home/soulard/miniconda3/lib/python3.8/multiprocessing/process.py\", line 108, in run\n",
      "    self._target(*self._args, **self._kwargs)\n"
     ]
    },
    {
     "name": "stderr",
     "output_type": "stream",
     "text": [
      "  File \"<timed exec>\", line 35, in predict_instance\n"
     ]
    },
    {
     "name": "stderr",
     "output_type": "stream",
     "text": [
      "  File \"/mnt/beegfs/home/soulard/miniconda3/lib/python3.8/multiprocessing/process.py\", line 108, in run\n",
      "    self._target(*self._args, **self._kwargs)\n"
     ]
    },
    {
     "name": "stderr",
     "output_type": "stream",
     "text": [
      "TypeError: unsupported operand type(s) for +: 'int' and 'str'\n"
     ]
    },
    {
     "name": "stderr",
     "output_type": "stream",
     "text": [
      "Traceback (most recent call last):\n"
     ]
    },
    {
     "name": "stderr",
     "output_type": "stream",
     "text": [
      "  File \"<timed exec>\", line 35, in predict_instance\n"
     ]
    },
    {
     "name": "stderr",
     "output_type": "stream",
     "text": [
      "TypeError: unsupported operand type(s) for +: 'int' and 'str'\n"
     ]
    },
    {
     "name": "stderr",
     "output_type": "stream",
     "text": [
      "Process Process-69:\n"
     ]
    },
    {
     "name": "stderr",
     "output_type": "stream",
     "text": [
      "  File \"/mnt/beegfs/home/soulard/miniconda3/lib/python3.8/multiprocessing/process.py\", line 315, in _bootstrap\n",
      "    self.run()\n"
     ]
    },
    {
     "name": "stderr",
     "output_type": "stream",
     "text": [
      "  File \"<timed exec>\", line 35, in predict_instance\n"
     ]
    },
    {
     "name": "stderr",
     "output_type": "stream",
     "text": [
      "Process Process-66:\n"
     ]
    },
    {
     "name": "stderr",
     "output_type": "stream",
     "text": [
      "  File \"<timed exec>\", line 35, in predict_instance\n"
     ]
    },
    {
     "name": "stderr",
     "output_type": "stream",
     "text": [
      "  File \"/mnt/beegfs/home/soulard/miniconda3/lib/python3.8/multiprocessing/process.py\", line 108, in run\n",
      "    self._target(*self._args, **self._kwargs)\n"
     ]
    },
    {
     "name": "stderr",
     "output_type": "stream",
     "text": [
      "TypeError: unsupported operand type(s) for +: 'int' and 'str'\n"
     ]
    },
    {
     "name": "stderr",
     "output_type": "stream",
     "text": [
      "TypeError: unsupported operand type(s) for +: 'int' and 'str'\n"
     ]
    },
    {
     "name": "stderr",
     "output_type": "stream",
     "text": [
      "  File \"/mnt/beegfs/home/soulard/miniconda3/lib/python3.8/multiprocessing/process.py\", line 315, in _bootstrap\n",
      "    self.run()\n"
     ]
    },
    {
     "name": "stderr",
     "output_type": "stream",
     "text": [
      "Process Process-54:\n"
     ]
    },
    {
     "name": "stderr",
     "output_type": "stream",
     "text": [
      "  File \"<timed exec>\", line 35, in predict_instance\n"
     ]
    },
    {
     "name": "stderr",
     "output_type": "stream",
     "text": [
      "  File \"/mnt/beegfs/home/soulard/miniconda3/lib/python3.8/multiprocessing/process.py\", line 108, in run\n",
      "    self._target(*self._args, **self._kwargs)\n"
     ]
    },
    {
     "name": "stderr",
     "output_type": "stream",
     "text": [
      "TypeError: unsupported operand type(s) for +: 'int' and 'str'\n"
     ]
    },
    {
     "name": "stderr",
     "output_type": "stream",
     "text": [
      "Traceback (most recent call last):\n"
     ]
    },
    {
     "name": "stderr",
     "output_type": "stream",
     "text": [
      "Traceback (most recent call last):\n"
     ]
    },
    {
     "name": "stderr",
     "output_type": "stream",
     "text": [
      "Process Process-24:\n"
     ]
    },
    {
     "name": "stderr",
     "output_type": "stream",
     "text": [
      "TypeError: unsupported operand type(s) for +: 'int' and 'str'\n"
     ]
    },
    {
     "name": "stderr",
     "output_type": "stream",
     "text": [
      "  File \"<timed exec>\", line 35, in predict_instance\n"
     ]
    },
    {
     "name": "stderr",
     "output_type": "stream",
     "text": [
      "  File \"/mnt/beegfs/home/soulard/miniconda3/lib/python3.8/multiprocessing/process.py\", line 315, in _bootstrap\n",
      "    self.run()\n"
     ]
    },
    {
     "name": "stderr",
     "output_type": "stream",
     "text": [
      "Traceback (most recent call last):\n"
     ]
    },
    {
     "name": "stderr",
     "output_type": "stream",
     "text": [
      "  File \"/mnt/beegfs/home/soulard/miniconda3/lib/python3.8/multiprocessing/process.py\", line 315, in _bootstrap\n",
      "    self.run()\n"
     ]
    },
    {
     "name": "stderr",
     "output_type": "stream",
     "text": [
      "  File \"/mnt/beegfs/home/soulard/miniconda3/lib/python3.8/multiprocessing/process.py\", line 315, in _bootstrap\n",
      "    self.run()\n"
     ]
    },
    {
     "name": "stderr",
     "output_type": "stream",
     "text": [
      "  File \"/mnt/beegfs/home/soulard/miniconda3/lib/python3.8/multiprocessing/process.py\", line 108, in run\n",
      "    self._target(*self._args, **self._kwargs)\n"
     ]
    },
    {
     "name": "stderr",
     "output_type": "stream",
     "text": [
      "Traceback (most recent call last):\n"
     ]
    },
    {
     "name": "stderr",
     "output_type": "stream",
     "text": [
      "Process Process-75:\n"
     ]
    },
    {
     "name": "stderr",
     "output_type": "stream",
     "text": [
      "TypeError: unsupported operand type(s) for +: 'int' and 'str'\n"
     ]
    },
    {
     "name": "stderr",
     "output_type": "stream",
     "text": [
      "  File \"/mnt/beegfs/home/soulard/miniconda3/lib/python3.8/multiprocessing/process.py\", line 108, in run\n",
      "    self._target(*self._args, **self._kwargs)\n"
     ]
    },
    {
     "name": "stderr",
     "output_type": "stream",
     "text": [
      "  File \"/mnt/beegfs/home/soulard/miniconda3/lib/python3.8/multiprocessing/process.py\", line 315, in _bootstrap\n",
      "    self.run()\n"
     ]
    },
    {
     "name": "stderr",
     "output_type": "stream",
     "text": [
      "  File \"<timed exec>\", line 35, in predict_instance\n"
     ]
    },
    {
     "name": "stderr",
     "output_type": "stream",
     "text": [
      "Traceback (most recent call last):\n"
     ]
    },
    {
     "name": "stderr",
     "output_type": "stream",
     "text": [
      "  File \"<timed exec>\", line 35, in predict_instance\n"
     ]
    },
    {
     "name": "stderr",
     "output_type": "stream",
     "text": [
      "  File \"/mnt/beegfs/home/soulard/miniconda3/lib/python3.8/multiprocessing/process.py\", line 108, in run\n",
      "    self._target(*self._args, **self._kwargs)\n"
     ]
    },
    {
     "name": "stderr",
     "output_type": "stream",
     "text": [
      "  File \"/mnt/beegfs/home/soulard/miniconda3/lib/python3.8/multiprocessing/process.py\", line 108, in run\n",
      "    self._target(*self._args, **self._kwargs)\n"
     ]
    },
    {
     "name": "stderr",
     "output_type": "stream",
     "text": [
      "TypeError: unsupported operand type(s) for +: 'int' and 'str'\n"
     ]
    },
    {
     "name": "stderr",
     "output_type": "stream",
     "text": [
      "  File \"/mnt/beegfs/home/soulard/miniconda3/lib/python3.8/multiprocessing/process.py\", line 315, in _bootstrap\n",
      "    self.run()\n"
     ]
    },
    {
     "name": "stderr",
     "output_type": "stream",
     "text": [
      "TypeError: unsupported operand type(s) for +: 'int' and 'str'\n"
     ]
    },
    {
     "name": "stderr",
     "output_type": "stream",
     "text": [
      "  File \"<timed exec>\", line 35, in predict_instance\n"
     ]
    },
    {
     "name": "stderr",
     "output_type": "stream",
     "text": [
      "  File \"<timed exec>\", line 35, in predict_instance\n"
     ]
    },
    {
     "name": "stderr",
     "output_type": "stream",
     "text": [
      "  File \"/mnt/beegfs/home/soulard/miniconda3/lib/python3.8/multiprocessing/process.py\", line 108, in run\n",
      "    self._target(*self._args, **self._kwargs)\n"
     ]
    },
    {
     "name": "stderr",
     "output_type": "stream",
     "text": [
      "TypeError: unsupported operand type(s) for +: 'int' and 'str'\n"
     ]
    },
    {
     "name": "stderr",
     "output_type": "stream",
     "text": [
      "TypeError: unsupported operand type(s) for +: 'int' and 'str'\n"
     ]
    },
    {
     "name": "stderr",
     "output_type": "stream",
     "text": [
      "  File \"<timed exec>\", line 35, in predict_instance\n"
     ]
    },
    {
     "name": "stderr",
     "output_type": "stream",
     "text": [
      "TypeError: unsupported operand type(s) for +: 'int' and 'str'\n"
     ]
    },
    {
     "name": "stderr",
     "output_type": "stream",
     "text": [
      "Process Process-18:\n"
     ]
    },
    {
     "name": "stderr",
     "output_type": "stream",
     "text": [
      "Process Process-62:\n"
     ]
    },
    {
     "name": "stderr",
     "output_type": "stream",
     "text": [
      "Traceback (most recent call last):\n"
     ]
    },
    {
     "name": "stderr",
     "output_type": "stream",
     "text": [
      "Traceback (most recent call last):\n"
     ]
    },
    {
     "name": "stderr",
     "output_type": "stream",
     "text": [
      "  File \"/mnt/beegfs/home/soulard/miniconda3/lib/python3.8/multiprocessing/process.py\", line 315, in _bootstrap\n",
      "    self.run()\n"
     ]
    },
    {
     "name": "stderr",
     "output_type": "stream",
     "text": [
      "  File \"/mnt/beegfs/home/soulard/miniconda3/lib/python3.8/multiprocessing/process.py\", line 315, in _bootstrap\n",
      "    self.run()\n"
     ]
    },
    {
     "name": "stderr",
     "output_type": "stream",
     "text": [
      "  File \"/mnt/beegfs/home/soulard/miniconda3/lib/python3.8/multiprocessing/process.py\", line 108, in run\n",
      "    self._target(*self._args, **self._kwargs)\n"
     ]
    },
    {
     "name": "stderr",
     "output_type": "stream",
     "text": [
      "  File \"/mnt/beegfs/home/soulard/miniconda3/lib/python3.8/multiprocessing/process.py\", line 108, in run\n",
      "    self._target(*self._args, **self._kwargs)\n"
     ]
    },
    {
     "name": "stderr",
     "output_type": "stream",
     "text": [
      "Process Process-61:\n"
     ]
    },
    {
     "name": "stderr",
     "output_type": "stream",
     "text": [
      "  File \"<timed exec>\", line 35, in predict_instance\n"
     ]
    },
    {
     "name": "stderr",
     "output_type": "stream",
     "text": [
      "  File \"<timed exec>\", line 35, in predict_instance\n"
     ]
    },
    {
     "name": "stderr",
     "output_type": "stream",
     "text": [
      "Traceback (most recent call last):\n"
     ]
    },
    {
     "name": "stderr",
     "output_type": "stream",
     "text": [
      "TypeError: unsupported operand type(s) for +: 'int' and 'str'\n"
     ]
    },
    {
     "name": "stderr",
     "output_type": "stream",
     "text": [
      "TypeError: unsupported operand type(s) for +: 'int' and 'str'\n"
     ]
    },
    {
     "name": "stderr",
     "output_type": "stream",
     "text": [
      "  File \"/mnt/beegfs/home/soulard/miniconda3/lib/python3.8/multiprocessing/process.py\", line 315, in _bootstrap\n",
      "    self.run()\n"
     ]
    },
    {
     "name": "stderr",
     "output_type": "stream",
     "text": [
      "  File \"/mnt/beegfs/home/soulard/miniconda3/lib/python3.8/multiprocessing/process.py\", line 108, in run\n",
      "    self._target(*self._args, **self._kwargs)\n"
     ]
    },
    {
     "name": "stderr",
     "output_type": "stream",
     "text": [
      "  File \"<timed exec>\", line 35, in predict_instance\n"
     ]
    },
    {
     "name": "stderr",
     "output_type": "stream",
     "text": [
      "TypeError: unsupported operand type(s) for +: 'int' and 'str'\n"
     ]
    },
    {
     "name": "stderr",
     "output_type": "stream",
     "text": [
      "Process Process-56:\n"
     ]
    },
    {
     "name": "stderr",
     "output_type": "stream",
     "text": [
      "Traceback (most recent call last):\n"
     ]
    },
    {
     "name": "stderr",
     "output_type": "stream",
     "text": [
      "  File \"/mnt/beegfs/home/soulard/miniconda3/lib/python3.8/multiprocessing/process.py\", line 315, in _bootstrap\n",
      "    self.run()\n"
     ]
    },
    {
     "name": "stderr",
     "output_type": "stream",
     "text": [
      "Process Process-39:\n"
     ]
    },
    {
     "name": "stderr",
     "output_type": "stream",
     "text": [
      "  File \"/mnt/beegfs/home/soulard/miniconda3/lib/python3.8/multiprocessing/process.py\", line 108, in run\n",
      "    self._target(*self._args, **self._kwargs)\n"
     ]
    },
    {
     "name": "stderr",
     "output_type": "stream",
     "text": [
      "  File \"<timed exec>\", line 35, in predict_instance\n"
     ]
    },
    {
     "name": "stderr",
     "output_type": "stream",
     "text": [
      "Traceback (most recent call last):\n"
     ]
    },
    {
     "name": "stderr",
     "output_type": "stream",
     "text": [
      "  File \"/mnt/beegfs/home/soulard/miniconda3/lib/python3.8/multiprocessing/process.py\", line 315, in _bootstrap\n",
      "    self.run()\n"
     ]
    },
    {
     "name": "stderr",
     "output_type": "stream",
     "text": [
      "TypeError: unsupported operand type(s) for +: 'int' and 'str'\n"
     ]
    },
    {
     "name": "stderr",
     "output_type": "stream",
     "text": [
      "  File \"/mnt/beegfs/home/soulard/miniconda3/lib/python3.8/multiprocessing/process.py\", line 108, in run\n",
      "    self._target(*self._args, **self._kwargs)\n"
     ]
    },
    {
     "name": "stderr",
     "output_type": "stream",
     "text": [
      "  File \"<timed exec>\", line 35, in predict_instance\n"
     ]
    },
    {
     "name": "stderr",
     "output_type": "stream",
     "text": [
      "TypeError: unsupported operand type(s) for +: 'int' and 'str'\n"
     ]
    },
    {
     "name": "stderr",
     "output_type": "stream",
     "text": [
      "Process Process-17:\n"
     ]
    },
    {
     "name": "stderr",
     "output_type": "stream",
     "text": [
      "Traceback (most recent call last):\n"
     ]
    },
    {
     "name": "stderr",
     "output_type": "stream",
     "text": [
      "  File \"/mnt/beegfs/home/soulard/miniconda3/lib/python3.8/multiprocessing/process.py\", line 315, in _bootstrap\n",
      "    self.run()\n"
     ]
    },
    {
     "name": "stderr",
     "output_type": "stream",
     "text": [
      "  File \"/mnt/beegfs/home/soulard/miniconda3/lib/python3.8/multiprocessing/process.py\", line 108, in run\n",
      "    self._target(*self._args, **self._kwargs)\n"
     ]
    },
    {
     "name": "stderr",
     "output_type": "stream",
     "text": [
      "  File \"<timed exec>\", line 35, in predict_instance\n"
     ]
    },
    {
     "name": "stderr",
     "output_type": "stream",
     "text": [
      "TypeError: unsupported operand type(s) for +: 'int' and 'str'\n"
     ]
    },
    {
     "name": "stderr",
     "output_type": "stream",
     "text": [
      "Process Process-45:\n"
     ]
    },
    {
     "name": "stderr",
     "output_type": "stream",
     "text": [
      "Traceback (most recent call last):\n"
     ]
    },
    {
     "name": "stderr",
     "output_type": "stream",
     "text": [
      "  File \"/mnt/beegfs/home/soulard/miniconda3/lib/python3.8/multiprocessing/process.py\", line 315, in _bootstrap\n",
      "    self.run()\n"
     ]
    },
    {
     "name": "stderr",
     "output_type": "stream",
     "text": [
      "  File \"/mnt/beegfs/home/soulard/miniconda3/lib/python3.8/multiprocessing/process.py\", line 108, in run\n",
      "    self._target(*self._args, **self._kwargs)\n"
     ]
    },
    {
     "name": "stderr",
     "output_type": "stream",
     "text": [
      "  File \"<timed exec>\", line 35, in predict_instance\n"
     ]
    },
    {
     "name": "stderr",
     "output_type": "stream",
     "text": [
      "TypeError: unsupported operand type(s) for +: 'int' and 'str'\n"
     ]
    },
    {
     "name": "stderr",
     "output_type": "stream",
     "text": [
      "Process Process-48:\n"
     ]
    },
    {
     "name": "stderr",
     "output_type": "stream",
     "text": [
      "Traceback (most recent call last):\n"
     ]
    },
    {
     "name": "stderr",
     "output_type": "stream",
     "text": [
      "  File \"/mnt/beegfs/home/soulard/miniconda3/lib/python3.8/multiprocessing/process.py\", line 315, in _bootstrap\n",
      "    self.run()\n"
     ]
    },
    {
     "name": "stderr",
     "output_type": "stream",
     "text": [
      "  File \"/mnt/beegfs/home/soulard/miniconda3/lib/python3.8/multiprocessing/process.py\", line 108, in run\n",
      "    self._target(*self._args, **self._kwargs)\n"
     ]
    },
    {
     "name": "stderr",
     "output_type": "stream",
     "text": [
      "Process Process-26:\n"
     ]
    },
    {
     "name": "stderr",
     "output_type": "stream",
     "text": [
      "  File \"<timed exec>\", line 35, in predict_instance\n"
     ]
    },
    {
     "name": "stderr",
     "output_type": "stream",
     "text": [
      "Traceback (most recent call last):\n"
     ]
    },
    {
     "name": "stderr",
     "output_type": "stream",
     "text": [
      "TypeError: unsupported operand type(s) for +: 'int' and 'str'\n"
     ]
    },
    {
     "name": "stderr",
     "output_type": "stream",
     "text": [
      "  File \"/mnt/beegfs/home/soulard/miniconda3/lib/python3.8/multiprocessing/process.py\", line 315, in _bootstrap\n",
      "    self.run()\n"
     ]
    },
    {
     "name": "stderr",
     "output_type": "stream",
     "text": [
      "  File \"/mnt/beegfs/home/soulard/miniconda3/lib/python3.8/multiprocessing/process.py\", line 108, in run\n",
      "    self._target(*self._args, **self._kwargs)\n"
     ]
    },
    {
     "name": "stderr",
     "output_type": "stream",
     "text": [
      "  File \"<timed exec>\", line 35, in predict_instance\n"
     ]
    },
    {
     "name": "stderr",
     "output_type": "stream",
     "text": [
      "TypeError: unsupported operand type(s) for +: 'int' and 'str'\n"
     ]
    },
    {
     "name": "stderr",
     "output_type": "stream",
     "text": [
      "Process Process-28:\n"
     ]
    },
    {
     "name": "stderr",
     "output_type": "stream",
     "text": [
      "Traceback (most recent call last):\n"
     ]
    },
    {
     "name": "stderr",
     "output_type": "stream",
     "text": [
      "  File \"/mnt/beegfs/home/soulard/miniconda3/lib/python3.8/multiprocessing/process.py\", line 315, in _bootstrap\n",
      "    self.run()\n"
     ]
    },
    {
     "name": "stderr",
     "output_type": "stream",
     "text": [
      "  File \"/mnt/beegfs/home/soulard/miniconda3/lib/python3.8/multiprocessing/process.py\", line 108, in run\n",
      "    self._target(*self._args, **self._kwargs)\n"
     ]
    },
    {
     "name": "stderr",
     "output_type": "stream",
     "text": [
      "Process Process-32:\n"
     ]
    },
    {
     "name": "stderr",
     "output_type": "stream",
     "text": [
      "  File \"<timed exec>\", line 35, in predict_instance\n"
     ]
    },
    {
     "name": "stderr",
     "output_type": "stream",
     "text": [
      "Traceback (most recent call last):\n"
     ]
    },
    {
     "name": "stderr",
     "output_type": "stream",
     "text": [
      "TypeError: unsupported operand type(s) for +: 'int' and 'str'\n"
     ]
    },
    {
     "name": "stderr",
     "output_type": "stream",
     "text": [
      "  File \"/mnt/beegfs/home/soulard/miniconda3/lib/python3.8/multiprocessing/process.py\", line 315, in _bootstrap\n",
      "    self.run()\n"
     ]
    },
    {
     "name": "stderr",
     "output_type": "stream",
     "text": [
      "  File \"/mnt/beegfs/home/soulard/miniconda3/lib/python3.8/multiprocessing/process.py\", line 108, in run\n",
      "    self._target(*self._args, **self._kwargs)\n"
     ]
    },
    {
     "name": "stderr",
     "output_type": "stream",
     "text": [
      "  File \"<timed exec>\", line 35, in predict_instance\n"
     ]
    },
    {
     "name": "stderr",
     "output_type": "stream",
     "text": [
      "TypeError: unsupported operand type(s) for +: 'int' and 'str'\n"
     ]
    },
    {
     "name": "stderr",
     "output_type": "stream",
     "text": [
      "Process Process-59:\n"
     ]
    },
    {
     "name": "stderr",
     "output_type": "stream",
     "text": [
      "Traceback (most recent call last):\n"
     ]
    },
    {
     "name": "stderr",
     "output_type": "stream",
     "text": [
      "  File \"/mnt/beegfs/home/soulard/miniconda3/lib/python3.8/multiprocessing/process.py\", line 315, in _bootstrap\n",
      "    self.run()\n"
     ]
    },
    {
     "name": "stderr",
     "output_type": "stream",
     "text": [
      "  File \"/mnt/beegfs/home/soulard/miniconda3/lib/python3.8/multiprocessing/process.py\", line 108, in run\n",
      "    self._target(*self._args, **self._kwargs)\n"
     ]
    },
    {
     "name": "stderr",
     "output_type": "stream",
     "text": [
      "  File \"<timed exec>\", line 35, in predict_instance\n"
     ]
    },
    {
     "name": "stderr",
     "output_type": "stream",
     "text": [
      "TypeError: unsupported operand type(s) for +: 'int' and 'str'\n"
     ]
    },
    {
     "name": "stderr",
     "output_type": "stream",
     "text": [
      "Process Process-19:\n"
     ]
    },
    {
     "name": "stderr",
     "output_type": "stream",
     "text": [
      "Traceback (most recent call last):\n"
     ]
    },
    {
     "name": "stderr",
     "output_type": "stream",
     "text": [
      "  File \"/mnt/beegfs/home/soulard/miniconda3/lib/python3.8/multiprocessing/process.py\", line 315, in _bootstrap\n",
      "    self.run()\n"
     ]
    },
    {
     "name": "stderr",
     "output_type": "stream",
     "text": [
      "  File \"/mnt/beegfs/home/soulard/miniconda3/lib/python3.8/multiprocessing/process.py\", line 108, in run\n",
      "    self._target(*self._args, **self._kwargs)\n"
     ]
    },
    {
     "name": "stderr",
     "output_type": "stream",
     "text": [
      "  File \"<timed exec>\", line 35, in predict_instance\n"
     ]
    },
    {
     "name": "stderr",
     "output_type": "stream",
     "text": [
      "TypeError: unsupported operand type(s) for +: 'int' and 'str'\n"
     ]
    },
    {
     "name": "stderr",
     "output_type": "stream",
     "text": [
      "Process Process-72:\n"
     ]
    },
    {
     "name": "stderr",
     "output_type": "stream",
     "text": [
      "Traceback (most recent call last):\n"
     ]
    },
    {
     "name": "stderr",
     "output_type": "stream",
     "text": [
      "  File \"/mnt/beegfs/home/soulard/miniconda3/lib/python3.8/multiprocessing/process.py\", line 315, in _bootstrap\n",
      "    self.run()\n"
     ]
    },
    {
     "name": "stderr",
     "output_type": "stream",
     "text": [
      "  File \"/mnt/beegfs/home/soulard/miniconda3/lib/python3.8/multiprocessing/process.py\", line 108, in run\n",
      "    self._target(*self._args, **self._kwargs)\n"
     ]
    },
    {
     "name": "stderr",
     "output_type": "stream",
     "text": [
      "  File \"<timed exec>\", line 35, in predict_instance\n"
     ]
    },
    {
     "name": "stderr",
     "output_type": "stream",
     "text": [
      "TypeError: unsupported operand type(s) for +: 'int' and 'str'\n"
     ]
    },
    {
     "name": "stderr",
     "output_type": "stream",
     "text": [
      "Process Process-30:\n"
     ]
    },
    {
     "name": "stderr",
     "output_type": "stream",
     "text": [
      "Traceback (most recent call last):\n"
     ]
    },
    {
     "name": "stderr",
     "output_type": "stream",
     "text": [
      "  File \"/mnt/beegfs/home/soulard/miniconda3/lib/python3.8/multiprocessing/process.py\", line 315, in _bootstrap\n",
      "    self.run()\n"
     ]
    },
    {
     "name": "stderr",
     "output_type": "stream",
     "text": [
      "  File \"/mnt/beegfs/home/soulard/miniconda3/lib/python3.8/multiprocessing/process.py\", line 108, in run\n",
      "    self._target(*self._args, **self._kwargs)\n"
     ]
    },
    {
     "name": "stderr",
     "output_type": "stream",
     "text": [
      "  File \"<timed exec>\", line 35, in predict_instance\n"
     ]
    },
    {
     "name": "stderr",
     "output_type": "stream",
     "text": [
      "TypeError: unsupported operand type(s) for +: 'int' and 'str'\n"
     ]
    },
    {
     "name": "stderr",
     "output_type": "stream",
     "text": [
      "Process Process-21:\n"
     ]
    },
    {
     "name": "stderr",
     "output_type": "stream",
     "text": [
      "Traceback (most recent call last):\n"
     ]
    },
    {
     "name": "stderr",
     "output_type": "stream",
     "text": [
      "  File \"/mnt/beegfs/home/soulard/miniconda3/lib/python3.8/multiprocessing/process.py\", line 315, in _bootstrap\n",
      "    self.run()\n"
     ]
    },
    {
     "name": "stderr",
     "output_type": "stream",
     "text": [
      "  File \"/mnt/beegfs/home/soulard/miniconda3/lib/python3.8/multiprocessing/process.py\", line 108, in run\n",
      "    self._target(*self._args, **self._kwargs)\n"
     ]
    },
    {
     "name": "stderr",
     "output_type": "stream",
     "text": [
      "  File \"<timed exec>\", line 35, in predict_instance\n"
     ]
    },
    {
     "name": "stderr",
     "output_type": "stream",
     "text": [
      "TypeError: unsupported operand type(s) for +: 'int' and 'str'\n"
     ]
    },
    {
     "name": "stderr",
     "output_type": "stream",
     "text": [
      "Process Process-53:\n"
     ]
    },
    {
     "name": "stderr",
     "output_type": "stream",
     "text": [
      "Traceback (most recent call last):\n"
     ]
    },
    {
     "name": "stderr",
     "output_type": "stream",
     "text": [
      "  File \"/mnt/beegfs/home/soulard/miniconda3/lib/python3.8/multiprocessing/process.py\", line 315, in _bootstrap\n",
      "    self.run()\n"
     ]
    },
    {
     "name": "stderr",
     "output_type": "stream",
     "text": [
      "  File \"/mnt/beegfs/home/soulard/miniconda3/lib/python3.8/multiprocessing/process.py\", line 108, in run\n",
      "    self._target(*self._args, **self._kwargs)\n"
     ]
    },
    {
     "name": "stderr",
     "output_type": "stream",
     "text": [
      "  File \"<timed exec>\", line 35, in predict_instance\n"
     ]
    },
    {
     "name": "stderr",
     "output_type": "stream",
     "text": [
      "TypeError: unsupported operand type(s) for +: 'int' and 'str'\n"
     ]
    },
    {
     "name": "stderr",
     "output_type": "stream",
     "text": [
      "Process Process-43:\n"
     ]
    },
    {
     "name": "stderr",
     "output_type": "stream",
     "text": [
      "Traceback (most recent call last):\n"
     ]
    },
    {
     "name": "stderr",
     "output_type": "stream",
     "text": [
      "  File \"/mnt/beegfs/home/soulard/miniconda3/lib/python3.8/multiprocessing/process.py\", line 315, in _bootstrap\n",
      "    self.run()\n"
     ]
    },
    {
     "name": "stderr",
     "output_type": "stream",
     "text": [
      "  File \"/mnt/beegfs/home/soulard/miniconda3/lib/python3.8/multiprocessing/process.py\", line 108, in run\n",
      "    self._target(*self._args, **self._kwargs)\n"
     ]
    },
    {
     "name": "stderr",
     "output_type": "stream",
     "text": [
      "  File \"<timed exec>\", line 35, in predict_instance\n"
     ]
    },
    {
     "name": "stderr",
     "output_type": "stream",
     "text": [
      "TypeError: unsupported operand type(s) for +: 'int' and 'str'\n"
     ]
    },
    {
     "name": "stdout",
     "output_type": "stream",
     "text": [
      "Start Copy\n"
     ]
    },
    {
     "name": "stdout",
     "output_type": "stream",
     "text": [
      "CPU times: user 1.2 s, sys: 1.38 s, total: 2.57 s\n",
      "Wall time: 1min\n"
     ]
    }
   ],
   "source": [
    "%%time\n",
    "\n",
    "def predict_instance(name, g, queue, prediction_per_instance_man, rules_associated_to_query, cpt, total_length, print_advancment, print_advancment_precise):\n",
    "    \n",
    "    print(f\"Process n°{name} : Launched\")\n",
    "    \n",
    "    while not queue.empty():\n",
    "        \n",
    "        instance = queue.get()\n",
    "        \n",
    "        dict_tp = {}\n",
    "        \n",
    "        if instance[1] in rules_associated_to_query.keys():\n",
    "            for rule in rules_associated_to_query[instance[1]]:\n",
    "                try:\n",
    "                    qres = g.query(create_query(rule, instance[2]))\n",
    "\n",
    "                    set_res = set()\n",
    "                    bool_res = False\n",
    "                    for row in qres:\n",
    "                        bool_res = True\n",
    "                        set_res.add(str(row.a))\n",
    "\n",
    "                    if bool_res:\n",
    "                        dict_tp[rule] = set_res\n",
    "            \n",
    "                except:\n",
    "                    print(create_query(rule, instance[2]))\n",
    "                    \n",
    "            prediction_per_instance_man[instance] = dict_tp\n",
    "            \n",
    "        else:\n",
    "            prediction_per_instance_man[instance] = {}\n",
    "        \n",
    "        cpt.value += 1\n",
    "        if (cpt.value/total_length > print_advancment.value ):\n",
    "            print(print_advancment.value*100+\" %\")\n",
    "            print_advancment.value+=0.1\n",
    "        if (cpt.value/total_length > print_advancment_precise.value):\n",
    "            print(print_advancment_precise.value*100+\" %\")\n",
    "            print_advancment_precise.value+=0.01\n",
    "        \n",
    "    print(f\"Process n°{name} : Finished\")   \n",
    "    \n",
    "q = Queue()\n",
    "prediction_per_instance = {}\n",
    "\n",
    "for instance in list(set_instances_to_predict):\n",
    "    q.put(instance)\n",
    "\n",
    "size_queue = q.qsize()\n",
    "\n",
    "print(\"Queue finished\")\n",
    "\n",
    "with Manager() as manager:\n",
    "\n",
    "    processes_to_create = multiprocessing.cpu_count()-3\n",
    "    processes = list()\n",
    "\n",
    "    prediction_per_instance_man = manager.dict()\n",
    "    cpt = manager.Value(\"cpt\",0)\n",
    "    print_advancment = manager.Value(\"print_advancment\", 0)\n",
    "    print_advancment_precise = manager.Value(\"print_advancment_precise\", 0.9)\n",
    "\n",
    "    for name in range(processes_to_create):\n",
    "        x = Process(target=predict_instance, args=(name, g, q, prediction_per_instance_man, rules_associated_to_query, cpt, size_queue, print_advancment, print_advancment_precise))\n",
    "        processes.append(x)\n",
    "        x.start()\n",
    "        \n",
    "    for index, process in enumerate(processes):\n",
    "        process.join()\n",
    "        \n",
    "    print(\"Start Copy\")\n",
    "    prediction_per_instance = prediction_per_instance_man.copy()"
   ]
  },
  {
   "cell_type": "code",
   "execution_count": 19,
   "id": "f55fc970-d584-4a6e-a823-467f5af5ee6c",
   "metadata": {
    "execution": {
     "iopub.execute_input": "2021-07-29T19:54:51.312987Z",
     "iopub.status.busy": "2021-07-29T19:54:51.312577Z",
     "iopub.status.idle": "2021-07-29T19:54:51.318443Z",
     "shell.execute_reply": "2021-07-29T19:54:51.318075Z"
    },
    "papermill": {
     "duration": 0.146727,
     "end_time": "2021-07-29T19:54:51.318546",
     "exception": false,
     "start_time": "2021-07-29T19:54:51.171819",
     "status": "completed"
    },
    "tags": []
   },
   "outputs": [
    {
     "data": {
      "text/plain": [
       "77"
      ]
     },
     "execution_count": 19,
     "metadata": {},
     "output_type": "execute_result"
    }
   ],
   "source": [
    "len(prediction_per_instance.keys())"
   ]
  },
  {
   "cell_type": "code",
   "execution_count": 20,
   "id": "0c7ab433-0579-4f8a-824f-1fc9680b5e92",
   "metadata": {
    "execution": {
     "iopub.execute_input": "2021-07-29T19:54:51.732003Z",
     "iopub.status.busy": "2021-07-29T19:54:51.613358Z",
     "iopub.status.idle": "2021-07-29T19:54:51.734310Z",
     "shell.execute_reply": "2021-07-29T19:54:51.735288Z"
    },
    "papermill": {
     "duration": 0.283174,
     "end_time": "2021-07-29T19:54:51.735593",
     "exception": false,
     "start_time": "2021-07-29T19:54:51.452419",
     "status": "completed"
    },
    "tags": []
   },
   "outputs": [],
   "source": [
    "df_prediction = {}\n",
    "\n",
    "for prediction_instance in prediction_per_instance:\n",
    "    df_rules = {}\n",
    "    for rule in prediction_per_instance[prediction_instance]:\n",
    "        df_rules[rule] = [set(prediction_per_instance[prediction_instance][rule]), rule.stdConfidence, rule.pcaConfidence]\n",
    "    df_prediction[prediction_instance] = pd.DataFrame.from_dict(df_rules, orient=\"index\", columns=[\"Prediction\", \"Std Confidence\", \"Pca Confidence\"])"
   ]
  },
  {
   "cell_type": "code",
   "execution_count": 21,
   "id": "5c7c704e-23f3-424d-b11b-4cf0e438a32c",
   "metadata": {
    "execution": {
     "iopub.execute_input": "2021-07-29T19:54:52.109628Z",
     "iopub.status.busy": "2021-07-29T19:54:52.085316Z",
     "iopub.status.idle": "2021-07-29T19:54:53.341423Z",
     "shell.execute_reply": "2021-07-29T19:54:53.342441Z"
    },
    "papermill": {
     "duration": 1.399673,
     "end_time": "2021-07-29T19:54:53.342827",
     "exception": false,
     "start_time": "2021-07-29T19:54:51.943154",
     "status": "completed"
    },
    "tags": []
   },
   "outputs": [
    {
     "name": "stdout",
     "output_type": "stream",
     "text": [
      "----- Democracy -----\n"
     ]
    },
    {
     "name": "stdout",
     "output_type": "stream",
     "text": [
      "0.2077922077922078\n",
      "0.3246753246753247\n"
     ]
    },
    {
     "name": "stdout",
     "output_type": "stream",
     "text": [
      "0.4155844155844156\n",
      "0.8441558441558441\n",
      "----- Expert -----\n"
     ]
    },
    {
     "name": "stdout",
     "output_type": "stream",
     "text": [
      "0.14285714285714285\n",
      "0.16883116883116883\n",
      "0.22077922077922077\n"
     ]
    },
    {
     "name": "stdout",
     "output_type": "stream",
     "text": [
      "0.2857142857142857\n"
     ]
    }
   ],
   "source": [
    "print(\"----- Democracy -----\")\n",
    "hit_at(df_prediction, democracy, 2)\n",
    "hit_at(df_prediction, democracy, 5)\n",
    "hit_at(df_prediction, democracy, 10)\n",
    "hit_at(df_prediction, democracy, 1000)\n",
    "\n",
    "print(\"----- Expert -----\")\n",
    "hit_at(df_prediction, expert, 2)\n",
    "hit_at(df_prediction, expert, 5)\n",
    "hit_at(df_prediction, expert, 10)\n",
    "hit_at(df_prediction, expert, 1000)"
   ]
  },
  {
   "cell_type": "markdown",
   "id": "ad82855a-420c-46e5-85bc-42d89517380f",
   "metadata": {
    "papermill": {
     "duration": 0.132747,
     "end_time": "2021-07-29T19:54:53.691752",
     "exception": false,
     "start_time": "2021-07-29T19:54:53.559005",
     "status": "completed"
    },
    "tags": []
   },
   "source": [
    "test"
   ]
  },
  {
   "cell_type": "code",
   "execution_count": 22,
   "id": "abd505e4-0a96-481d-bc16-31d34f260342",
   "metadata": {
    "collapsed": true,
    "execution": {
     "iopub.execute_input": "2021-07-29T19:54:53.979468Z",
     "iopub.status.busy": "2021-07-29T19:54:53.978860Z",
     "iopub.status.idle": "2021-07-29T19:54:55.916926Z",
     "shell.execute_reply": "2021-07-29T19:54:55.917240Z"
    },
    "jupyter": {
     "outputs_hidden": true
    },
    "papermill": {
     "duration": 2.094335,
     "end_time": "2021-07-29T19:54:55.917365",
     "exception": false,
     "start_time": "2021-07-29T19:54:53.823030",
     "status": "completed"
    },
    "tags": []
   },
   "outputs": [
    {
     "name": "stdout",
     "output_type": "stream",
     "text": [
      "Process n°0 : Launched"
     ]
    },
    {
     "name": "stdout",
     "output_type": "stream",
     "text": [
      "\n"
     ]
    },
    {
     "name": "stdout",
     "output_type": "stream",
     "text": [
      "\n",
      "    SELECT DISTINCT ?a\n",
      "    WHERE {\n",
      "?f <http:/award/award_nominee/award_nominations./award/award_nomination/award_nominee> <http:/m/02bh9> .\n",
      "?a <http:/tv/tv_program/tv_producer./tv/tv_producer_term/producer> ?f .\n",
      "}"
     ]
    },
    {
     "name": "stdout",
     "output_type": "stream",
     "text": [
      "\n"
     ]
    },
    {
     "name": "stdout",
     "output_type": "stream",
     "text": [
      "\n",
      "    SELECT DISTINCT ?a\n",
      "    WHERE {\n",
      "<http:/m/02bh9> <http:/tv/tv_producer/programs_produced./tv/tv_producer_term/program> ?a .\n",
      "?a <http:/tv/tv_program/recurring_writers./tv/tv_program_writer_relationship/writer> <http:/m/02bh9> .\n",
      "}"
     ]
    },
    {
     "name": "stdout",
     "output_type": "stream",
     "text": [
      "\n"
     ]
    },
    {
     "name": "stdout",
     "output_type": "stream",
     "text": [
      "\n",
      "    SELECT DISTINCT ?a\n",
      "    WHERE {\n",
      "<http:/m/02bh9> <http:/award/award_nominee/award_nominations./award/award_nomination/nominated_for> ?a .\n",
      "<http:/m/02bh9> <http:/film/producer/film> ?a .\n",
      "}"
     ]
    },
    {
     "name": "stdout",
     "output_type": "stream",
     "text": [
      "\n"
     ]
    },
    {
     "name": "stdout",
     "output_type": "stream",
     "text": [
      "\n",
      "    SELECT DISTINCT ?a\n",
      "    WHERE {\n",
      "<http:/m/02bh9> <http:/film/writer/film> ?a .\n",
      "}"
     ]
    },
    {
     "name": "stdout",
     "output_type": "stream",
     "text": [
      "\n"
     ]
    },
    {
     "name": "stdout",
     "output_type": "stream",
     "text": [
      "\n",
      "    SELECT DISTINCT ?a\n",
      "    WHERE {\n",
      "?e <http:/award/award_nominee/award_nominations./award/award_nomination/award_nominee> <http:/m/02bh9> .\n",
      "?e <http:/tv/tv_writer/tv_programs./tv/tv_program_writer_relationship/tv_program> ?a .\n",
      "}"
     ]
    },
    {
     "name": "stdout",
     "output_type": "stream",
     "text": [
      "\n"
     ]
    },
    {
     "name": "stdout",
     "output_type": "stream",
     "text": [
      "\n",
      "    SELECT DISTINCT ?a\n",
      "    WHERE {\n",
      "?a <http:/award/award_nominated_work/award_nominations./award/award_nomination/award_nominee> <http:/m/02bh9> .\n",
      "<http:/m/02bh9> <http:/tv/tv_actor/starring_roles./tv/regular_tv_appearance/series> ?a .\n",
      "}"
     ]
    },
    {
     "name": "stdout",
     "output_type": "stream",
     "text": [
      "\n"
     ]
    },
    {
     "name": "stdout",
     "output_type": "stream",
     "text": [
      "\n",
      "    SELECT DISTINCT ?a\n",
      "    WHERE {\n",
      "?a <http:/tv/tv_program/original_network./tv/tv_network_duration/network> <http:/m/02bh9> .\n",
      "}"
     ]
    },
    {
     "name": "stdout",
     "output_type": "stream",
     "text": [
      "\n"
     ]
    },
    {
     "name": "stdout",
     "output_type": "stream",
     "text": [
      "\n",
      "    SELECT DISTINCT ?a\n",
      "    WHERE {\n",
      "<http:/m/02bh9> <http:/award/award_nominee/award_nominations./award/award_nomination/award_nominee> ?f .\n",
      "?a <http:/tv/tv_program/program_creator> ?f .\n",
      "}"
     ]
    },
    {
     "name": "stdout",
     "output_type": "stream",
     "text": [
      "\n"
     ]
    },
    {
     "name": "stdout",
     "output_type": "stream",
     "text": [
      "\n",
      "    SELECT DISTINCT ?a\n",
      "    WHERE {\n",
      "?a <http:/award/award_nominated_work/award_nominations./award/award_nomination/award_nominee> <http:/m/02bh9> .\n",
      "?a <http:/tv/tv_program/recurring_writers./tv/tv_program_writer_relationship/writer> <http:/m/02bh9> .\n",
      "}"
     ]
    },
    {
     "name": "stdout",
     "output_type": "stream",
     "text": [
      "\n"
     ]
    },
    {
     "name": "stdout",
     "output_type": "stream",
     "text": [
      "\n",
      "    SELECT DISTINCT ?a\n",
      "    WHERE {\n",
      "<http:/m/02bh9> <http:/award/award_winner/awards_won./award/award_honor/honored_for> ?a .\n",
      "<http:/m/02bh9> <http:/tv/tv_actor/starring_roles./tv/regular_tv_appearance/series> ?a .\n",
      "}"
     ]
    },
    {
     "name": "stdout",
     "output_type": "stream",
     "text": [
      "\n"
     ]
    },
    {
     "name": "stdout",
     "output_type": "stream",
     "text": [
      "\n",
      "    SELECT DISTINCT ?a\n",
      "    WHERE {\n",
      "<http:/m/02bh9> <http:/award/award_nominee/award_nominations./award/award_nomination/award_nominee> ?f .\n",
      "?a <http:/award/award_winning_work/awards_won./award/award_honor/award_winner> ?f .\n",
      "}"
     ]
    },
    {
     "name": "stdout",
     "output_type": "stream",
     "text": [
      "\n"
     ]
    },
    {
     "name": "stdout",
     "output_type": "stream",
     "text": [
      "\n",
      "    SELECT DISTINCT ?a\n",
      "    WHERE {\n",
      "<http:/m/02bh9> <http:/tv/tv_actor/starring_roles./tv/regular_tv_appearance/series> ?a .\n",
      "?a <http:/tv/tv_program/regular_cast./tv/regular_tv_appearance/actor> <http:/m/02bh9> .\n",
      "}"
     ]
    },
    {
     "name": "stdout",
     "output_type": "stream",
     "text": [
      "\n"
     ]
    },
    {
     "name": "stdout",
     "output_type": "stream",
     "text": [
      "\n",
      "    SELECT DISTINCT ?a\n",
      "    WHERE {\n",
      "<http:/m/02bh9> <http:/award/award_winner/awards_won./award/award_honor/honored_for> ?f .\n",
      "?a <http:/film/film/prequel> ?f .\n",
      "}"
     ]
    },
    {
     "name": "stdout",
     "output_type": "stream",
     "text": [
      "\n"
     ]
    },
    {
     "name": "stdout",
     "output_type": "stream",
     "text": [
      "\n",
      "    SELECT DISTINCT ?a\n",
      "    WHERE {\n",
      "?e <http:/award/award_winner/awards_won./award/award_honor/award_winner> <http:/m/02bh9> .\n",
      "?e <http:/tv/tv_producer/programs_produced./tv/tv_producer_term/program> ?a .\n",
      "}"
     ]
    },
    {
     "name": "stdout",
     "output_type": "stream",
     "text": [
      "\n"
     ]
    },
    {
     "name": "stdout",
     "output_type": "stream",
     "text": [
      "\n",
      "    SELECT DISTINCT ?a\n",
      "    WHERE {\n",
      "<http:/m/02bh9> <http:/award/award_nominee/award_nominations./award/award_nomination/nominated_for> ?f .\n",
      "?f <http:/film/film/sequel> ?a .\n",
      "}"
     ]
    },
    {
     "name": "stdout",
     "output_type": "stream",
     "text": [
      "\n"
     ]
    },
    {
     "name": "stdout",
     "output_type": "stream",
     "text": [
      "\n",
      "    SELECT DISTINCT ?a\n",
      "    WHERE {\n",
      "?e <http:/award/award_winner/awards_won./award/award_honor/award_winner> <http:/m/02bh9> .\n",
      "?e <http:/film/director/film> ?a .\n",
      "}"
     ]
    },
    {
     "name": "stdout",
     "output_type": "stream",
     "text": [
      "\n"
     ]
    },
    {
     "name": "stdout",
     "output_type": "stream",
     "text": [
      "\n",
      "    SELECT DISTINCT ?a\n",
      "    WHERE {\n",
      "?f <http:/award/award_winner/awards_won./award/award_honor/award_winner> <http:/m/02bh9> .\n",
      "?a <http:/award/award_winning_work/awards_won./award/award_honor/award_winner> ?f .\n",
      "}"
     ]
    },
    {
     "name": "stdout",
     "output_type": "stream",
     "text": [
      "\n"
     ]
    },
    {
     "name": "stdout",
     "output_type": "stream",
     "text": [
      "\n",
      "    SELECT DISTINCT ?a\n",
      "    WHERE {\n",
      "?a <http:/film/film/film_production_design_by> <http:/m/02bh9> .\n",
      "}"
     ]
    },
    {
     "name": "stdout",
     "output_type": "stream",
     "text": [
      "\n"
     ]
    },
    {
     "name": "stdout",
     "output_type": "stream",
     "text": [
      "\n",
      "    SELECT DISTINCT ?a\n",
      "    WHERE {\n",
      "<http:/m/02bh9> <http:/film/actor/film./film/performance/film> ?a .\n",
      "<http:/m/02bh9> <http:/film/producer/film> ?a .\n",
      "}"
     ]
    },
    {
     "name": "stdout",
     "output_type": "stream",
     "text": [
      "\n"
     ]
    },
    {
     "name": "stdout",
     "output_type": "stream",
     "text": [
      "\n",
      "    SELECT DISTINCT ?a\n",
      "    WHERE {\n",
      "?e <http:/award/award_nominee/award_nominations./award/award_nomination/award_nominee> <http:/m/02bh9> .\n",
      "?e <http:/tv/tv_producer/programs_produced./tv/tv_producer_term/program> ?a .\n",
      "}"
     ]
    },
    {
     "name": "stdout",
     "output_type": "stream",
     "text": [
      "\n"
     ]
    },
    {
     "name": "stdout",
     "output_type": "stream",
     "text": [
      "\n",
      "    SELECT DISTINCT ?a\n",
      "    WHERE {\n",
      "<http:/m/02bh9> <http:/award/award_nominee/award_nominations./award/award_nomination/nominated_for> ?a .\n",
      "<http:/m/02bh9> <http:/award/award_winner/awards_won./award/award_honor/honored_for> ?a .\n",
      "}"
     ]
    },
    {
     "name": "stdout",
     "output_type": "stream",
     "text": [
      "\n"
     ]
    },
    {
     "name": "stdout",
     "output_type": "stream",
     "text": [
      "\n",
      "    SELECT DISTINCT ?a\n",
      "    WHERE {\n",
      "?a <http:/film/film/directed_by> <http:/m/02bh9> .\n",
      "}"
     ]
    },
    {
     "name": "stdout",
     "output_type": "stream",
     "text": [
      "\n"
     ]
    },
    {
     "name": "stdout",
     "output_type": "stream",
     "text": [
      "\n",
      "    SELECT DISTINCT ?a\n",
      "    WHERE {\n",
      "<http:/m/02bh9> <http:/award/award_winner/awards_won./award/award_honor/honored_for> ?a .\n",
      "<http:/m/02bh9> <http:/tv/tv_producer/programs_produced./tv/tv_producer_term/program> ?a .\n",
      "}"
     ]
    },
    {
     "name": "stdout",
     "output_type": "stream",
     "text": [
      "\n"
     ]
    },
    {
     "name": "stdout",
     "output_type": "stream",
     "text": [
      "\n",
      "    SELECT DISTINCT ?a\n",
      "    WHERE {\n",
      "<http:/m/02bh9> <http:/award/award_winner/awards_won./award/award_honor/award_winner> ?f .\n",
      "?a <http:/tv/tv_program/recurring_writers./tv/tv_program_writer_relationship/writer> ?f .\n",
      "}"
     ]
    },
    {
     "name": "stdout",
     "output_type": "stream",
     "text": [
      "\n"
     ]
    },
    {
     "name": "stdout",
     "output_type": "stream",
     "text": [
      "\n",
      "    SELECT DISTINCT ?a\n",
      "    WHERE {\n",
      "?a <http:/film/film/cinematography> <http:/m/02bh9> .\n",
      "}"
     ]
    },
    {
     "name": "stdout",
     "output_type": "stream",
     "text": [
      "\n"
     ]
    },
    {
     "name": "stdout",
     "output_type": "stream",
     "text": [
      "\n",
      "    SELECT DISTINCT ?a\n",
      "    WHERE {\n",
      "?a <http:/award/award_nominated_work/award_nominations./award/award_nomination/award_nominee> <http:/m/02bh9> .\n",
      "<http:/m/02bh9> <http:/tv/tv_producer/programs_produced./tv/tv_producer_term/program> ?a .\n",
      "}"
     ]
    },
    {
     "name": "stdout",
     "output_type": "stream",
     "text": [
      "\n"
     ]
    },
    {
     "name": "stdout",
     "output_type": "stream",
     "text": [
      "\n",
      "    SELECT DISTINCT ?a\n",
      "    WHERE {\n",
      "<http:/m/02bh9> <http:/award/award_winner/awards_won./award/award_honor/award_winner> ?f .\n",
      "?a <http:/film/film/directed_by> ?f .\n",
      "}"
     ]
    },
    {
     "name": "stdout",
     "output_type": "stream",
     "text": [
      "\n"
     ]
    },
    {
     "name": "stdout",
     "output_type": "stream",
     "text": [
      "\n",
      "    SELECT DISTINCT ?a\n",
      "    WHERE {\n",
      "?f <http:/award/award_winner/awards_won./award/award_honor/award_winner> <http:/m/02bh9> .\n",
      "?a <http:/tv/tv_program/program_creator> ?f .\n",
      "}"
     ]
    },
    {
     "name": "stdout",
     "output_type": "stream",
     "text": [
      "\n"
     ]
    },
    {
     "name": "stdout",
     "output_type": "stream",
     "text": [
      "\n",
      "    SELECT DISTINCT ?a\n",
      "    WHERE {\n",
      "?f <http:/base/popstra/celebrity/friendship./base/popstra/friendship/participant> <http:/m/02bh9> .\n",
      "?a <http:/tv/tv_program/regular_cast./tv/regular_tv_appearance/actor> ?f .\n",
      "}"
     ]
    },
    {
     "name": "stdout",
     "output_type": "stream",
     "text": [
      "\n"
     ]
    },
    {
     "name": "stdout",
     "output_type": "stream",
     "text": [
      "\n",
      "    SELECT DISTINCT ?a\n",
      "    WHERE {\n",
      "<http:/m/02bh9> <http:/film/actor/film./film/performance/film> ?f .\n",
      "?a <http:/film/film/sequel> ?f .\n",
      "}"
     ]
    },
    {
     "name": "stdout",
     "output_type": "stream",
     "text": [
      "\n"
     ]
    },
    {
     "name": "stdout",
     "output_type": "stream",
     "text": [
      "\n",
      "    SELECT DISTINCT ?a\n",
      "    WHERE {\n",
      "<http:/m/02bh9> <http:/film/film_story_contributor/film_story_credits> ?a .\n",
      "}"
     ]
    },
    {
     "name": "stdout",
     "output_type": "stream",
     "text": [
      "\n"
     ]
    },
    {
     "name": "stdout",
     "output_type": "stream",
     "text": [
      "\n",
      "    SELECT DISTINCT ?a\n",
      "    WHERE {\n",
      "<http:/m/02bh9> <http:/award/award_winner/awards_won./award/award_honor/honored_for> ?f .\n",
      "?f <http:/film/film/sequel> ?a .\n",
      "}"
     ]
    },
    {
     "name": "stdout",
     "output_type": "stream",
     "text": [
      "\n"
     ]
    },
    {
     "name": "stdout",
     "output_type": "stream",
     "text": [
      "\n",
      "    SELECT DISTINCT ?a\n",
      "    WHERE {\n",
      "?a <http:/film/film/starring./film/performance/actor> <http:/m/02bh9> .\n",
      "?a <http:/film/film/written_by> <http:/m/02bh9> .\n",
      "}"
     ]
    },
    {
     "name": "stdout",
     "output_type": "stream",
     "text": [
      "\n"
     ]
    },
    {
     "name": "stdout",
     "output_type": "stream",
     "text": [
      "\n",
      "    SELECT DISTINCT ?a\n",
      "    WHERE {\n",
      "<http:/m/02bh9> <http:/film/director/film> ?a .\n",
      "?a <http:/film/film/produced_by> <http:/m/02bh9> .\n",
      "}"
     ]
    },
    {
     "name": "stdout",
     "output_type": "stream",
     "text": [
      "\n"
     ]
    },
    {
     "name": "stdout",
     "output_type": "stream",
     "text": [
      "\n",
      "    SELECT DISTINCT ?a\n",
      "    WHERE {\n",
      "?a <http:/tv/tv_program/program_creator> <http:/m/02bh9> .\n",
      "}"
     ]
    },
    {
     "name": "stdout",
     "output_type": "stream",
     "text": [
      "\n"
     ]
    },
    {
     "name": "stdout",
     "output_type": "stream",
     "text": [
      "\n",
      "    SELECT DISTINCT ?a\n",
      "    WHERE {\n",
      "<http:/m/02bh9> <http:/award/award_nominee/award_nominations./award/award_nomination/nominated_for> ?a .\n",
      "<http:/m/02bh9> <http:/tv/tv_writer/tv_programs./tv/tv_program_writer_relationship/tv_program> ?a .\n",
      "}"
     ]
    },
    {
     "name": "stdout",
     "output_type": "stream",
     "text": [
      "\n"
     ]
    },
    {
     "name": "stdout",
     "output_type": "stream",
     "text": [
      "\n",
      "    SELECT DISTINCT ?a\n",
      "    WHERE {\n",
      "?e <http:/award/award_winning_work/awards_won./award/award_honor/award_winner> <http:/m/02bh9> .\n",
      "?e <http:/film/film/prequel> ?a .\n",
      "}"
     ]
    },
    {
     "name": "stdout",
     "output_type": "stream",
     "text": [
      "\n"
     ]
    },
    {
     "name": "stdout",
     "output_type": "stream",
     "text": [
      "\n",
      "    SELECT DISTINCT ?a\n",
      "    WHERE {\n",
      "<http:/m/02bh9> <http:/tv/tv_producer/programs_produced./tv/tv_producer_term/program> ?a .\n",
      "<http:/m/02bh9> <http:/tv/tv_writer/tv_programs./tv/tv_program_writer_relationship/tv_program> ?a .\n",
      "}"
     ]
    },
    {
     "name": "stdout",
     "output_type": "stream",
     "text": [
      "\n"
     ]
    },
    {
     "name": "stdout",
     "output_type": "stream",
     "text": [
      "\n",
      "    SELECT DISTINCT ?a\n",
      "    WHERE {\n",
      "<http:/m/02bh9> <http:/award/award_winner/awards_won./award/award_honor/award_winner> ?f .\n",
      "?f <http:/tv/tv_program_creator/programs_created> ?a .\n",
      "}"
     ]
    },
    {
     "name": "stdout",
     "output_type": "stream",
     "text": [
      "\n"
     ]
    },
    {
     "name": "stdout",
     "output_type": "stream",
     "text": [
      "\n",
      "    SELECT DISTINCT ?a\n",
      "    WHERE {\n",
      "<http:/m/02bh9> <http:/award/award_nominee/award_nominations./award/award_nomination/nominated_for> ?a .\n",
      "<http:/m/02bh9> <http:/film/producer/films_executive_produced> ?a .\n",
      "}"
     ]
    },
    {
     "name": "stdout",
     "output_type": "stream",
     "text": [
      "\n"
     ]
    },
    {
     "name": "stdout",
     "output_type": "stream",
     "text": [
      "\n",
      "    SELECT DISTINCT ?a\n",
      "    WHERE {\n",
      "?f <http:/award/award_winning_work/awards_won./award/award_honor/award_winner> <http:/m/02bh9> .\n",
      "?a <http:/film/film/prequel> ?f .\n",
      "}"
     ]
    },
    {
     "name": "stdout",
     "output_type": "stream",
     "text": [
      "\n"
     ]
    },
    {
     "name": "stdout",
     "output_type": "stream",
     "text": [
      "\n",
      "    SELECT DISTINCT ?a\n",
      "    WHERE {\n",
      "?a <http:/film/film/directed_by> <http:/m/02bh9> .\n",
      "?a <http:/film/film/produced_by> <http:/m/02bh9> .\n",
      "}"
     ]
    },
    {
     "name": "stdout",
     "output_type": "stream",
     "text": [
      "\n"
     ]
    },
    {
     "name": "stdout",
     "output_type": "stream",
     "text": [
      "\n",
      "    SELECT DISTINCT ?a\n",
      "    WHERE {\n",
      "?a <http:/film/film/directed_by> <http:/m/02bh9> .\n",
      "<http:/m/02bh9> <http:/film/writer/film> ?a .\n",
      "}"
     ]
    },
    {
     "name": "stdout",
     "output_type": "stream",
     "text": [
      "\n"
     ]
    },
    {
     "name": "stdout",
     "output_type": "stream",
     "text": [
      "\n",
      "    SELECT DISTINCT ?a\n",
      "    WHERE {\n",
      "<http:/m/02bh9> <http:/film/director/film> ?a .\n",
      "?a <http:/film/film/written_by> <http:/m/02bh9> .\n",
      "}"
     ]
    },
    {
     "name": "stdout",
     "output_type": "stream",
     "text": [
      "\n"
     ]
    },
    {
     "name": "stdout",
     "output_type": "stream",
     "text": [
      "\n",
      "    SELECT DISTINCT ?a\n",
      "    WHERE {\n",
      "?e <http:/award/award_winning_work/awards_won./award/award_honor/award_winner> <http:/m/02bh9> .\n",
      "?e <http:/award/award_winning_work/awards_won./award/award_honor/honored_for> ?a .\n",
      "}"
     ]
    },
    {
     "name": "stdout",
     "output_type": "stream",
     "text": [
      "\n"
     ]
    },
    {
     "name": "stdout",
     "output_type": "stream",
     "text": [
      "\n",
      "    SELECT DISTINCT ?a\n",
      "    WHERE {\n",
      "<http:/m/02bh9> <http:/award/award_winner/awards_won./award/award_honor/honored_for> ?a .\n",
      "?a <http:/tv/tv_program/program_creator> <http:/m/02bh9> .\n",
      "}"
     ]
    },
    {
     "name": "stdout",
     "output_type": "stream",
     "text": [
      "\n"
     ]
    },
    {
     "name": "stdout",
     "output_type": "stream",
     "text": [
      "\n",
      "    SELECT DISTINCT ?a\n",
      "    WHERE {\n",
      "<http:/m/02bh9> <http:/award/award_nominee/award_nominations./award/award_nomination/award_nominee> ?f .\n",
      "?a <http:/tv/tv_program/recurring_writers./tv/tv_program_writer_relationship/writer> ?f .\n",
      "}"
     ]
    },
    {
     "name": "stdout",
     "output_type": "stream",
     "text": [
      "\n"
     ]
    },
    {
     "name": "stdout",
     "output_type": "stream",
     "text": [
      "\n",
      "    SELECT DISTINCT ?a\n",
      "    WHERE {\n",
      "?a <http:/film/film/directed_by> <http:/m/02bh9> .\n",
      "?a <http:/film/film/written_by> <http:/m/02bh9> .\n",
      "}"
     ]
    },
    {
     "name": "stdout",
     "output_type": "stream",
     "text": [
      "\n"
     ]
    },
    {
     "name": "stdout",
     "output_type": "stream",
     "text": [
      "\n",
      "    SELECT DISTINCT ?a\n",
      "    WHERE {\n",
      "?a <http:/award/award_nominated_work/award_nominations./award/award_nomination/award_nominee> <http:/m/02bh9> .\n",
      "<http:/m/02bh9> <http:/tv/tv_program_creator/programs_created> ?a .\n",
      "}"
     ]
    },
    {
     "name": "stdout",
     "output_type": "stream",
     "text": [
      "\n"
     ]
    },
    {
     "name": "stdout",
     "output_type": "stream",
     "text": [
      "\n",
      "    SELECT DISTINCT ?a\n",
      "    WHERE {\n",
      "<http:/m/02bh9> <http:/film/producer/film> ?a .\n",
      "<http:/m/02bh9> <http:/film/writer/film> ?a .\n",
      "}"
     ]
    },
    {
     "name": "stdout",
     "output_type": "stream",
     "text": [
      "\n"
     ]
    },
    {
     "name": "stdout",
     "output_type": "stream",
     "text": [
      "\n",
      "    SELECT DISTINCT ?a\n",
      "    WHERE {\n",
      "<http:/m/02bh9> <http:/award/award_nominee/award_nominations./award/award_nomination/nominated_for> ?a .\n",
      "<http:/m/02bh9> <http:/film/writer/film> ?a .\n",
      "}"
     ]
    },
    {
     "name": "stdout",
     "output_type": "stream",
     "text": [
      "\n"
     ]
    },
    {
     "name": "stdout",
     "output_type": "stream",
     "text": [
      "\n",
      "    SELECT DISTINCT ?a\n",
      "    WHERE {\n",
      "<http:/m/02bh9> <http:/award/award_nominee/award_nominations./award/award_nomination/nominated_for> ?f .\n",
      "?f <http:/film/film/prequel> ?a .\n",
      "}"
     ]
    },
    {
     "name": "stdout",
     "output_type": "stream",
     "text": [
      "\n"
     ]
    },
    {
     "name": "stdout",
     "output_type": "stream",
     "text": [
      "\n",
      "    SELECT DISTINCT ?a\n",
      "    WHERE {\n",
      "?f <http:/award/award_nominated_work/award_nominations./award/award_nomination/award_nominee> <http:/m/02bh9> .\n",
      "?a <http:/film/film/sequel> ?f .\n",
      "}"
     ]
    },
    {
     "name": "stdout",
     "output_type": "stream",
     "text": [
      "\n"
     ]
    },
    {
     "name": "stdout",
     "output_type": "stream",
     "text": [
      "\n",
      "    SELECT DISTINCT ?a\n",
      "    WHERE {\n",
      "<http:/m/02bh9> <http:/award/award_nominee/award_nominations./award/award_nomination/nominated_for> ?a .\n",
      "?a <http:/tv/tv_program/recurring_writers./tv/tv_program_writer_relationship/writer> <http:/m/02bh9> .\n",
      "}"
     ]
    },
    {
     "name": "stdout",
     "output_type": "stream",
     "text": [
      "\n"
     ]
    },
    {
     "name": "stdout",
     "output_type": "stream",
     "text": [
      "\n",
      "    SELECT DISTINCT ?a\n",
      "    WHERE {\n",
      "?a <http:/tv/tv_program/recurring_writers./tv/tv_program_writer_relationship/writer> <http:/m/02bh9> .\n",
      "?a <http:/tv/tv_program/tv_producer./tv/tv_producer_term/producer> <http:/m/02bh9> .\n",
      "}"
     ]
    },
    {
     "name": "stdout",
     "output_type": "stream",
     "text": [
      "\n"
     ]
    },
    {
     "name": "stdout",
     "output_type": "stream",
     "text": [
      "\n",
      "    SELECT DISTINCT ?a\n",
      "    WHERE {\n",
      "<http:/m/02bh9> <http:/award/award_winner/awards_won./award/award_honor/honored_for> ?a .\n",
      "?a <http:/tv/tv_program/tv_producer./tv/tv_producer_term/producer> <http:/m/02bh9> .\n",
      "}"
     ]
    },
    {
     "name": "stdout",
     "output_type": "stream",
     "text": [
      "\n"
     ]
    },
    {
     "name": "stdout",
     "output_type": "stream",
     "text": [
      "\n",
      "    SELECT DISTINCT ?a\n",
      "    WHERE {\n",
      "<http:/m/02bh9> <http:/award/award_nominee/award_nominations./award/award_nomination/nominated_for> ?a .\n",
      "?a <http:/tv/tv_program/regular_cast./tv/regular_tv_appearance/actor> <http:/m/02bh9> .\n",
      "}"
     ]
    },
    {
     "name": "stdout",
     "output_type": "stream",
     "text": [
      "\n"
     ]
    },
    {
     "name": "stdout",
     "output_type": "stream",
     "text": [
      "\n",
      "    SELECT DISTINCT ?a\n",
      "    WHERE {\n",
      "?a <http:/award/award_nominated_work/award_nominations./award/award_nomination/award_nominee> <http:/m/02bh9> .\n",
      "?a <http:/film/film/produced_by> <http:/m/02bh9> .\n",
      "}"
     ]
    },
    {
     "name": "stdout",
     "output_type": "stream",
     "text": [
      "\n"
     ]
    },
    {
     "name": "stdout",
     "output_type": "stream",
     "text": [
      "\n",
      "    SELECT DISTINCT ?a\n",
      "    WHERE {\n",
      "?e <http:/award/award_winner/awards_won./award/award_honor/award_winner> <http:/m/02bh9> .\n",
      "?e <http:/tv/tv_program_creator/programs_created> ?a .\n",
      "}"
     ]
    },
    {
     "name": "stdout",
     "output_type": "stream",
     "text": [
      "\n"
     ]
    },
    {
     "name": "stdout",
     "output_type": "stream",
     "text": [
      "\n",
      "    SELECT DISTINCT ?a\n",
      "    WHERE {\n",
      "<http:/m/02bh9> <http:/award/award_nominee/award_nominations./award/award_nomination/award_nominee> ?f .\n",
      "?f <http:/tv/tv_program_creator/programs_created> ?a .\n",
      "}"
     ]
    },
    {
     "name": "stdout",
     "output_type": "stream",
     "text": [
      "\n"
     ]
    },
    {
     "name": "stdout",
     "output_type": "stream",
     "text": [
      "\n",
      "    SELECT DISTINCT ?a\n",
      "    WHERE {\n",
      "?a <http:/award/award_nominated_work/award_nominations./award/award_nomination/award_nominee> <http:/m/02bh9> .\n",
      "?a <http:/tv/tv_program/program_creator> <http:/m/02bh9> .\n",
      "}"
     ]
    },
    {
     "name": "stdout",
     "output_type": "stream",
     "text": [
      "\n"
     ]
    },
    {
     "name": "stdout",
     "output_type": "stream",
     "text": [
      "\n",
      "    SELECT DISTINCT ?a\n",
      "    WHERE {\n",
      "<http:/m/02bh9> <http:/tv/tv_producer/programs_produced./tv/tv_producer_term/program> ?a .\n",
      "<http:/m/02bh9> <http:/tv/tv_program_creator/programs_created> ?a .\n",
      "}"
     ]
    },
    {
     "name": "stdout",
     "output_type": "stream",
     "text": [
      "\n"
     ]
    },
    {
     "name": "stdout",
     "output_type": "stream",
     "text": [
      "\n",
      "    SELECT DISTINCT ?a\n",
      "    WHERE {\n",
      "?f <http:/award/award_nominated_work/award_nominations./award/award_nomination/award_nominee> <http:/m/02bh9> .\n",
      "?a <http:/award/award_winning_work/awards_won./award/award_honor/honored_for> ?f .\n",
      "}"
     ]
    },
    {
     "name": "stdout",
     "output_type": "stream",
     "text": [
      "\n"
     ]
    },
    {
     "name": "stdout",
     "output_type": "stream",
     "text": [
      "\n",
      "    SELECT DISTINCT ?a\n",
      "    WHERE {\n",
      "?e <http:/award/award_nominee/award_nominations./award/award_nomination/award_nominee> <http:/m/02bh9> .\n",
      "?e <http:/tv/tv_program_creator/programs_created> ?a .\n",
      "}"
     ]
    },
    {
     "name": "stdout",
     "output_type": "stream",
     "text": [
      "\n"
     ]
    },
    {
     "name": "stdout",
     "output_type": "stream",
     "text": [
      "\n",
      "    SELECT DISTINCT ?a\n",
      "    WHERE {\n",
      "<http:/m/02bh9> <http:/film/actor/film./film/performance/film> ?a .\n",
      "?a <http:/film/film/produced_by> <http:/m/02bh9> .\n",
      "}"
     ]
    },
    {
     "name": "stdout",
     "output_type": "stream",
     "text": [
      "\n"
     ]
    },
    {
     "name": "stdout",
     "output_type": "stream",
     "text": [
      "\n",
      "    SELECT DISTINCT ?a\n",
      "    WHERE {\n",
      "<http:/m/02bh9> <http:/tv/tv_producer/programs_produced./tv/tv_producer_term/program> ?a .\n",
      "}"
     ]
    },
    {
     "name": "stdout",
     "output_type": "stream",
     "text": [
      "\n"
     ]
    },
    {
     "name": "stdout",
     "output_type": "stream",
     "text": [
      "\n",
      "    SELECT DISTINCT ?a\n",
      "    WHERE {\n",
      "<http:/m/02bh9> <http:/tv/tv_network/programs./tv/tv_network_duration/program> ?a .\n",
      "}"
     ]
    },
    {
     "name": "stdout",
     "output_type": "stream",
     "text": [
      "\n"
     ]
    },
    {
     "name": "stdout",
     "output_type": "stream",
     "text": [
      "\n",
      "    SELECT DISTINCT ?a\n",
      "    WHERE {\n",
      "?a <http:/award/award_nominated_work/award_nominations./award/award_nomination/award_nominee> <http:/m/02bh9> .\n",
      "?a <http:/tv/tv_program/tv_producer./tv/tv_producer_term/producer> <http:/m/02bh9> .\n",
      "}"
     ]
    },
    {
     "name": "stdout",
     "output_type": "stream",
     "text": [
      "\n"
     ]
    },
    {
     "name": "stdout",
     "output_type": "stream",
     "text": [
      "\n",
      "    SELECT DISTINCT ?a\n",
      "    WHERE {\n",
      "<http:/m/02bh9> <http:/film/actor/film./film/performance/film> ?a .\n",
      "}"
     ]
    },
    {
     "name": "stdout",
     "output_type": "stream",
     "text": [
      "\n"
     ]
    },
    {
     "name": "stdout",
     "output_type": "stream",
     "text": [
      "\n",
      "    SELECT DISTINCT ?a\n",
      "    WHERE {\n",
      "<http:/m/02bh9> <http:/award/award_winner/awards_won./award/award_honor/award_winner> ?f .\n",
      "?f <http:/film/director/film> ?a .\n",
      "}"
     ]
    },
    {
     "name": "stdout",
     "output_type": "stream",
     "text": [
      "\n"
     ]
    },
    {
     "name": "stdout",
     "output_type": "stream",
     "text": [
      "\n",
      "    SELECT DISTINCT ?a\n",
      "    WHERE {\n",
      "<http:/m/02bh9> <http:/tv/tv_program_creator/programs_created> ?a .\n",
      "}"
     ]
    },
    {
     "name": "stdout",
     "output_type": "stream",
     "text": [
      "\n"
     ]
    },
    {
     "name": "stdout",
     "output_type": "stream",
     "text": [
      "\n",
      "    SELECT DISTINCT ?a\n",
      "    WHERE {\n",
      "<http:/m/02bh9> <http:/tv/tv_producer/programs_produced./tv/tv_producer_term/program> ?a .\n",
      "?a <http:/tv/tv_program/program_creator> <http:/m/02bh9> .\n",
      "}"
     ]
    },
    {
     "name": "stdout",
     "output_type": "stream",
     "text": [
      "\n"
     ]
    },
    {
     "name": "stdout",
     "output_type": "stream",
     "text": [
      "\n",
      "    SELECT DISTINCT ?a\n",
      "    WHERE {\n",
      "?a <http:/film/film/starring./film/performance/actor> <http:/m/02bh9> .\n",
      "}"
     ]
    },
    {
     "name": "stdout",
     "output_type": "stream",
     "text": [
      "\n"
     ]
    },
    {
     "name": "stdout",
     "output_type": "stream",
     "text": [
      "\n",
      "    SELECT DISTINCT ?a\n",
      "    WHERE {\n",
      "<http:/m/02bh9> <http:/award/award_nominee/award_nominations./award/award_nomination/nominated_for> ?a .\n",
      "?a <http:/film/film/executive_produced_by> <http:/m/02bh9> .\n",
      "}"
     ]
    },
    {
     "name": "stdout",
     "output_type": "stream",
     "text": [
      "\n"
     ]
    },
    {
     "name": "stdout",
     "output_type": "stream",
     "text": [
      "\n",
      "    SELECT DISTINCT ?a\n",
      "    WHERE {\n",
      "?a <http:/film/film/produced_by> <http:/m/02bh9> .\n",
      "<http:/m/02bh9> <http:/film/writer/film> ?a .\n",
      "}"
     ]
    },
    {
     "name": "stdout",
     "output_type": "stream",
     "text": [
      "\n"
     ]
    },
    {
     "name": "stdout",
     "output_type": "stream",
     "text": [
      "\n",
      "    SELECT DISTINCT ?a\n",
      "    WHERE {\n",
      "?a <http:/film/film/starring./film/performance/actor> <http:/m/02bh9> .\n",
      "<http:/m/02bh9> <http:/film/producer/film> ?a .\n",
      "}"
     ]
    },
    {
     "name": "stdout",
     "output_type": "stream",
     "text": [
      "\n"
     ]
    },
    {
     "name": "stdout",
     "output_type": "stream",
     "text": [
      "\n",
      "    SELECT DISTINCT ?a\n",
      "    WHERE {\n",
      "?a <http:/film/film/starring./film/performance/actor> <http:/m/02bh9> .\n",
      "<http:/m/02bh9> <http:/film/writer/film> ?a .\n",
      "}"
     ]
    },
    {
     "name": "stdout",
     "output_type": "stream",
     "text": [
      "\n"
     ]
    },
    {
     "name": "stdout",
     "output_type": "stream",
     "text": [
      "\n",
      "    SELECT DISTINCT ?a\n",
      "    WHERE {\n",
      "?f <http:/award/award_winner/awards_won./award/award_honor/award_winner> <http:/m/02bh9> .\n",
      "?a <http:/film/film/story_by> ?f .\n",
      "}"
     ]
    },
    {
     "name": "stdout",
     "output_type": "stream",
     "text": [
      "\n"
     ]
    },
    {
     "name": "stdout",
     "output_type": "stream",
     "text": [
      "\n",
      "    SELECT DISTINCT ?a\n",
      "    WHERE {\n",
      "<http:/m/02bh9> <http:/film/actor/film./film/performance/film> ?a .\n",
      "<http:/m/02bh9> <http:/film/director/film> ?a .\n",
      "}"
     ]
    },
    {
     "name": "stdout",
     "output_type": "stream",
     "text": [
      "\n"
     ]
    },
    {
     "name": "stdout",
     "output_type": "stream",
     "text": [
      "\n",
      "    SELECT DISTINCT ?a\n",
      "    WHERE {\n",
      "<http:/m/02bh9> <http:/award/award_winner/awards_won./award/award_honor/award_winner> ?f .\n",
      "?a <http:/tv/tv_program/tv_producer./tv/tv_producer_term/producer> ?f .\n",
      "}"
     ]
    },
    {
     "name": "stdout",
     "output_type": "stream",
     "text": [
      "\n"
     ]
    },
    {
     "name": "stdout",
     "output_type": "stream",
     "text": [
      "\n",
      "    SELECT DISTINCT ?a\n",
      "    WHERE {\n",
      "<http:/m/02bh9> <http:/film/cinematographer/film> ?a .\n",
      "}"
     ]
    },
    {
     "name": "stdout",
     "output_type": "stream",
     "text": [
      "\n"
     ]
    },
    {
     "name": "stdout",
     "output_type": "stream",
     "text": [
      "\n",
      "    SELECT DISTINCT ?a\n",
      "    WHERE {\n",
      "<http:/m/02bh9> <http:/film/director/film> ?a .\n",
      "}"
     ]
    },
    {
     "name": "stdout",
     "output_type": "stream",
     "text": [
      "\n"
     ]
    },
    {
     "name": "stdout",
     "output_type": "stream",
     "text": [
      "\n",
      "    SELECT DISTINCT ?a\n",
      "    WHERE {\n",
      "?a <http:/film/film/produced_by> <http:/m/02bh9> .\n",
      "?a <http:/film/film/written_by> <http:/m/02bh9> .\n",
      "}"
     ]
    },
    {
     "name": "stdout",
     "output_type": "stream",
     "text": [
      "\n"
     ]
    },
    {
     "name": "stdout",
     "output_type": "stream",
     "text": [
      "\n",
      "    SELECT DISTINCT ?a\n",
      "    WHERE {\n",
      "<http:/m/02bh9> <http:/film/actor/film./film/performance/film> ?a .\n",
      "?a <http:/film/film/directed_by> <http:/m/02bh9> .\n",
      "}"
     ]
    },
    {
     "name": "stdout",
     "output_type": "stream",
     "text": [
      "\n"
     ]
    },
    {
     "name": "stdout",
     "output_type": "stream",
     "text": [
      "\n",
      "    SELECT DISTINCT ?a\n",
      "    WHERE {\n",
      "?a <http:/tv/tv_program/tv_producer./tv/tv_producer_term/producer> <http:/m/02bh9> .\n",
      "}"
     ]
    },
    {
     "name": "stdout",
     "output_type": "stream",
     "text": [
      "\n"
     ]
    },
    {
     "name": "stdout",
     "output_type": "stream",
     "text": [
      "\n",
      "    SELECT DISTINCT ?a\n",
      "    WHERE {\n",
      "<http:/m/02bh9> <http:/film/director/film> ?a .\n",
      "<http:/m/02bh9> <http:/film/writer/film> ?a .\n",
      "}"
     ]
    },
    {
     "name": "stdout",
     "output_type": "stream",
     "text": [
      "\n"
     ]
    },
    {
     "name": "stdout",
     "output_type": "stream",
     "text": [
      "\n",
      "    SELECT DISTINCT ?a\n",
      "    WHERE {\n",
      "?e <http:/award/award_winner/awards_won./award/award_honor/award_winner> <http:/m/02bh9> .\n",
      "?e <http:/tv/tv_actor/starring_roles./tv/regular_tv_appearance/series> ?a .\n",
      "}"
     ]
    },
    {
     "name": "stdout",
     "output_type": "stream",
     "text": [
      "\n"
     ]
    },
    {
     "name": "stdout",
     "output_type": "stream",
     "text": [
      "\n",
      "    SELECT DISTINCT ?a\n",
      "    WHERE {\n",
      "?a <http:/award/award_nominated_work/award_nominations./award/award_nomination/nominated_for> ?f .\n",
      "<http:/m/02bh9> <http:/award/award_winner/awards_won./award/award_honor/honored_for> ?f .\n",
      "}"
     ]
    },
    {
     "name": "stdout",
     "output_type": "stream",
     "text": [
      "\n"
     ]
    },
    {
     "name": "stdout",
     "output_type": "stream",
     "text": [
      "\n",
      "    SELECT DISTINCT ?a\n",
      "    WHERE {\n",
      "?a <http:/award/award_nominated_work/award_nominations./award/award_nomination/award_nominee> <http:/m/02bh9> .\n",
      "<http:/m/02bh9> <http:/film/producer/film> ?a .\n",
      "}"
     ]
    },
    {
     "name": "stdout",
     "output_type": "stream",
     "text": [
      "\n"
     ]
    },
    {
     "name": "stdout",
     "output_type": "stream",
     "text": [
      "\n",
      "    SELECT DISTINCT ?a\n",
      "    WHERE {\n",
      "?a <http:/film/film/story_by> <http:/m/02bh9> .\n",
      "}"
     ]
    },
    {
     "name": "stdout",
     "output_type": "stream",
     "text": [
      "\n"
     ]
    },
    {
     "name": "stdout",
     "output_type": "stream",
     "text": [
      "\n",
      "    SELECT DISTINCT ?a\n",
      "    WHERE {\n",
      "?e <http:/film/film/prequel> ?a .\n",
      "?e <http:/film/film/starring./film/performance/actor> <http:/m/02bh9> .\n",
      "}"
     ]
    },
    {
     "name": "stdout",
     "output_type": "stream",
     "text": [
      "\n"
     ]
    },
    {
     "name": "stdout",
     "output_type": "stream",
     "text": [
      "\n",
      "    SELECT DISTINCT ?a\n",
      "    WHERE {\n",
      "<http:/m/02bh9> <http:/award/award_nominee/award_nominations./award/award_nomination/nominated_for> ?f .\n",
      "?a <http:/film/film/prequel> ?f .\n",
      "}"
     ]
    },
    {
     "name": "stdout",
     "output_type": "stream",
     "text": [
      "\n"
     ]
    },
    {
     "name": "stdout",
     "output_type": "stream",
     "text": [
      "\n",
      "    SELECT DISTINCT ?a\n",
      "    WHERE {\n",
      "?e <http:/award/award_winner/awards_won./award/award_honor/award_winner> <http:/m/02bh9> .\n",
      "?e <http:/award/award_winner/awards_won./award/award_honor/honored_for> ?a .\n",
      "}"
     ]
    },
    {
     "name": "stdout",
     "output_type": "stream",
     "text": [
      "\n"
     ]
    },
    {
     "name": "stdout",
     "output_type": "stream",
     "text": [
      "\n",
      "    SELECT DISTINCT ?a\n",
      "    WHERE {\n",
      "?a <http:/award/award_nominated_work/award_nominations./award/award_nomination/award_nominee> <http:/m/02bh9> .\n",
      "<http:/m/02bh9> <http:/film/director/film> ?a .\n",
      "}"
     ]
    },
    {
     "name": "stdout",
     "output_type": "stream",
     "text": [
      "\n"
     ]
    },
    {
     "name": "stdout",
     "output_type": "stream",
     "text": [
      "\n",
      "    SELECT DISTINCT ?a\n",
      "    WHERE {\n",
      "<http:/m/02bh9> <http:/award/award_winner/awards_won./award/award_honor/honored_for> ?f .\n",
      "?a <http:/film/film/sequel> ?f .\n",
      "}"
     ]
    },
    {
     "name": "stdout",
     "output_type": "stream",
     "text": [
      "\n"
     ]
    },
    {
     "name": "stdout",
     "output_type": "stream",
     "text": [
      "\n",
      "    SELECT DISTINCT ?a\n",
      "    WHERE {\n",
      "?f <http:/award/award_winning_work/awards_won./award/award_honor/award_winner> <http:/m/02bh9> .\n",
      "?a <http:/film/film/sequel> ?f .\n",
      "}"
     ]
    },
    {
     "name": "stdout",
     "output_type": "stream",
     "text": [
      "\n"
     ]
    },
    {
     "name": "stdout",
     "output_type": "stream",
     "text": [
      "\n",
      "    SELECT DISTINCT ?a\n",
      "    WHERE {\n",
      "<http:/m/02bh9> <http:/award/award_nominee/award_nominations./award/award_nomination/award_nominee> ?f .\n",
      "?a <http:/tv/tv_program/tv_producer./tv/tv_producer_term/producer> ?f .\n",
      "}"
     ]
    },
    {
     "name": "stdout",
     "output_type": "stream",
     "text": [
      "\n"
     ]
    },
    {
     "name": "stdout",
     "output_type": "stream",
     "text": [
      "\n",
      "    SELECT DISTINCT ?a\n",
      "    WHERE {\n",
      "<http:/m/02bh9> <http:/award/award_winner/awards_won./award/award_honor/award_winner> ?f .\n",
      "?a <http:/film/film/story_by> ?f .\n",
      "}"
     ]
    },
    {
     "name": "stdout",
     "output_type": "stream",
     "text": [
      "\n"
     ]
    },
    {
     "name": "stdout",
     "output_type": "stream",
     "text": [
      "\n",
      "    SELECT DISTINCT ?a\n",
      "    WHERE {\n",
      "<http:/m/02bh9> <http:/award/award_winner/awards_won./award/award_honor/award_winner> ?f .\n",
      "?f <http:/award/award_winner/awards_won./award/award_honor/honored_for> ?a .\n",
      "}"
     ]
    },
    {
     "name": "stdout",
     "output_type": "stream",
     "text": [
      "\n"
     ]
    },
    {
     "name": "stdout",
     "output_type": "stream",
     "text": [
      "\n",
      "    SELECT DISTINCT ?a\n",
      "    WHERE {\n",
      "<http:/m/02bh9> <http:/award/award_nominee/award_nominations./award/award_nomination/nominated_for> ?a .\n",
      "}"
     ]
    },
    {
     "name": "stdout",
     "output_type": "stream",
     "text": [
      "\n"
     ]
    },
    {
     "name": "stdout",
     "output_type": "stream",
     "text": [
      "\n",
      "    SELECT DISTINCT ?a\n",
      "    WHERE {\n",
      "<http:/m/02bh9> <http:/award/award_nominee/award_nominations./award/award_nomination/nominated_for> ?a .\n",
      "<http:/m/02bh9> <http:/film/actor/film./film/performance/film> ?a .\n",
      "}"
     ]
    },
    {
     "name": "stdout",
     "output_type": "stream",
     "text": [
      "\n"
     ]
    },
    {
     "name": "stdout",
     "output_type": "stream",
     "text": [
      "\n",
      "    SELECT DISTINCT ?a\n",
      "    WHERE {\n",
      "<http:/m/02bh9> <http:/award/award_winner/awards_won./award/award_honor/honored_for> ?a .\n",
      "}"
     ]
    },
    {
     "name": "stdout",
     "output_type": "stream",
     "text": [
      "\n"
     ]
    },
    {
     "name": "stdout",
     "output_type": "stream",
     "text": [
      "\n",
      "    SELECT DISTINCT ?a\n",
      "    WHERE {\n",
      "<http:/m/02bh9> <http:/film/film_crewmember/films_crewed./film/film_crew_gig/film> ?a .\n",
      "}"
     ]
    },
    {
     "name": "stdout",
     "output_type": "stream",
     "text": [
      "\n"
     ]
    },
    {
     "name": "stdout",
     "output_type": "stream",
     "text": [
      "\n",
      "    SELECT DISTINCT ?a\n",
      "    WHERE {\n",
      "?f <http:/award/award_nominee/award_nominations./award/award_nomination/award_nominee> <http:/m/02bh9> .\n",
      "?a <http:/tv/tv_program/program_creator> ?f .\n",
      "}"
     ]
    },
    {
     "name": "stdout",
     "output_type": "stream",
     "text": [
      "\n"
     ]
    },
    {
     "name": "stdout",
     "output_type": "stream",
     "text": [
      "\n",
      "    SELECT DISTINCT ?a\n",
      "    WHERE {\n",
      "?a <http:/award/award_nominated_work/award_nominations./award/award_nomination/award_nominee> <http:/m/02bh9> .\n",
      "<http:/m/02bh9> <http:/film/writer/film> ?a .\n",
      "}"
     ]
    },
    {
     "name": "stdout",
     "output_type": "stream",
     "text": [
      "\n"
     ]
    },
    {
     "name": "stdout",
     "output_type": "stream",
     "text": [
      "\n",
      "    SELECT DISTINCT ?a\n",
      "    WHERE {\n",
      "<http:/m/02bh9> <http:/award/award_nominee/award_nominations./award/award_nomination/nominated_for> ?a .\n",
      "?a <http:/film/film/directed_by> <http:/m/02bh9> .\n",
      "}"
     ]
    },
    {
     "name": "stdout",
     "output_type": "stream",
     "text": [
      "\n"
     ]
    },
    {
     "name": "stdout",
     "output_type": "stream",
     "text": [
      "\n",
      "    SELECT DISTINCT ?a\n",
      "    WHERE {\n",
      "<http:/m/02bh9> <http:/award/award_nominee/award_nominations./award/award_nomination/nominated_for> ?a .\n",
      "<http:/m/02bh9> <http:/tv/tv_producer/programs_produced./tv/tv_producer_term/program> ?a .\n",
      "}"
     ]
    },
    {
     "name": "stdout",
     "output_type": "stream",
     "text": [
      "\n"
     ]
    },
    {
     "name": "stdout",
     "output_type": "stream",
     "text": [
      "\n",
      "    SELECT DISTINCT ?a\n",
      "    WHERE {\n",
      "<http:/m/02bh9> <http:/award/award_nominee/award_nominations./award/award_nomination/nominated_for> ?a .\n",
      "<http:/m/02bh9> <http:/tv/tv_program_creator/programs_created> ?a .\n",
      "}"
     ]
    },
    {
     "name": "stdout",
     "output_type": "stream",
     "text": [
      "\n"
     ]
    },
    {
     "name": "stdout",
     "output_type": "stream",
     "text": [
      "\n",
      "    SELECT DISTINCT ?a\n",
      "    WHERE {\n",
      "?a <http:/tv/tv_program/tv_producer./tv/tv_producer_term/producer> <http:/m/02bh9> .\n",
      "<http:/m/02bh9> <http:/tv/tv_writer/tv_programs./tv/tv_program_writer_relationship/tv_program> ?a .\n",
      "}"
     ]
    },
    {
     "name": "stdout",
     "output_type": "stream",
     "text": [
      "\n"
     ]
    },
    {
     "name": "stdout",
     "output_type": "stream",
     "text": [
      "\n",
      "    SELECT DISTINCT ?a\n",
      "    WHERE {\n",
      "<http:/m/02bh9> <http:/award/award_winner/awards_won./award/award_honor/honored_for> ?f .\n",
      "?a <http:/award/award_winning_work/awards_won./award/award_honor/honored_for> ?f .\n",
      "}"
     ]
    },
    {
     "name": "stdout",
     "output_type": "stream",
     "text": [
      "\n"
     ]
    },
    {
     "name": "stdout",
     "output_type": "stream",
     "text": [
      "\n",
      "    SELECT DISTINCT ?a\n",
      "    WHERE {\n",
      "?a <http:/film/film/edited_by> <http:/m/02bh9> .\n",
      "}"
     ]
    },
    {
     "name": "stdout",
     "output_type": "stream",
     "text": [
      "\n"
     ]
    },
    {
     "name": "stdout",
     "output_type": "stream",
     "text": [
      "\n",
      "    SELECT DISTINCT ?a\n",
      "    WHERE {\n",
      "<http:/m/02bh9> <http:/base/popstra/celebrity/friendship./base/popstra/friendship/participant> ?f .\n",
      "?a <http:/tv/tv_program/regular_cast./tv/regular_tv_appearance/actor> ?f .\n",
      "}"
     ]
    },
    {
     "name": "stdout",
     "output_type": "stream",
     "text": [
      "\n"
     ]
    },
    {
     "name": "stdout",
     "output_type": "stream",
     "text": [
      "\n",
      "    SELECT DISTINCT ?a\n",
      "    WHERE {\n",
      "<http:/m/02bh9> <http:/award/award_winner/awards_won./award/award_honor/honored_for> ?a .\n",
      "<http:/m/02bh9> <http:/tv/tv_writer/tv_programs./tv/tv_program_writer_relationship/tv_program> ?a .\n",
      "}"
     ]
    },
    {
     "name": "stdout",
     "output_type": "stream",
     "text": [
      "\n"
     ]
    },
    {
     "name": "stdout",
     "output_type": "stream",
     "text": [
      "\n",
      "    SELECT DISTINCT ?a\n",
      "    WHERE {\n",
      "?e <http:/award/award_winning_work/awards_won./award/award_honor/award_winner> <http:/m/02bh9> .\n",
      "?e <http:/film/film/sequel> ?a .\n",
      "}"
     ]
    },
    {
     "name": "stdout",
     "output_type": "stream",
     "text": [
      "\n"
     ]
    },
    {
     "name": "stdout",
     "output_type": "stream",
     "text": [
      "\n",
      "    SELECT DISTINCT ?a\n",
      "    WHERE {\n",
      "?a <http:/award/award_nominated_work/award_nominations./award/award_nomination/award_nominee> <http:/m/02bh9> .\n",
      "<http:/m/02bh9> <http:/tv/tv_writer/tv_programs./tv/tv_program_writer_relationship/tv_program> ?a .\n",
      "}"
     ]
    },
    {
     "name": "stdout",
     "output_type": "stream",
     "text": [
      "\n"
     ]
    },
    {
     "name": "stdout",
     "output_type": "stream",
     "text": [
      "\n",
      "    SELECT DISTINCT ?a\n",
      "    WHERE {\n",
      "?e <http:/award/award_nominated_work/award_nominations./award/award_nomination/nominated_for> ?a .\n",
      "?e <http:/award/award_winning_work/awards_won./award/award_honor/award_winner> <http:/m/02bh9> .\n",
      "}"
     ]
    },
    {
     "name": "stdout",
     "output_type": "stream",
     "text": [
      "\n"
     ]
    },
    {
     "name": "stdout",
     "output_type": "stream",
     "text": [
      "\n",
      "    SELECT DISTINCT ?a\n",
      "    WHERE {\n",
      "<http:/m/02bh9> <http:/award/award_nominee/award_nominations./award/award_nomination/nominated_for> ?f .\n",
      "?a <http:/film/film/sequel> ?f .\n",
      "}"
     ]
    },
    {
     "name": "stdout",
     "output_type": "stream",
     "text": [
      "\n"
     ]
    },
    {
     "name": "stdout",
     "output_type": "stream",
     "text": [
      "\n",
      "    SELECT DISTINCT ?a\n",
      "    WHERE {\n",
      "?e <http:/award/award_winner/awards_won./award/award_honor/award_winner> <http:/m/02bh9> .\n",
      "?e <http:/tv/tv_writer/tv_programs./tv/tv_program_writer_relationship/tv_program> ?a .\n",
      "}"
     ]
    },
    {
     "name": "stdout",
     "output_type": "stream",
     "text": [
      "\n"
     ]
    },
    {
     "name": "stdout",
     "output_type": "stream",
     "text": [
      "\n",
      "    SELECT DISTINCT ?a\n",
      "    WHERE {\n",
      "?a <http:/film/film/directed_by> <http:/m/02bh9> .\n",
      "?a <http:/film/film/starring./film/performance/actor> <http:/m/02bh9> .\n",
      "}"
     ]
    },
    {
     "name": "stdout",
     "output_type": "stream",
     "text": [
      "\n"
     ]
    },
    {
     "name": "stdout",
     "output_type": "stream",
     "text": [
      "\n",
      "    SELECT DISTINCT ?a\n",
      "    WHERE {\n",
      "<http:/m/02bh9> <http:/award/award_winner/awards_won./award/award_honor/award_winner> ?f .\n",
      "?f <http:/tv/tv_producer/programs_produced./tv/tv_producer_term/program> ?a .\n",
      "}"
     ]
    },
    {
     "name": "stdout",
     "output_type": "stream",
     "text": [
      "\n"
     ]
    },
    {
     "name": "stdout",
     "output_type": "stream",
     "text": [
      "\n",
      "    SELECT DISTINCT ?a\n",
      "    WHERE {\n",
      "<http:/m/02bh9> <http:/film/director/film> ?a .\n",
      "?a <http:/film/film/starring./film/performance/actor> <http:/m/02bh9> .\n",
      "}"
     ]
    },
    {
     "name": "stdout",
     "output_type": "stream",
     "text": [
      "\n"
     ]
    },
    {
     "name": "stdout",
     "output_type": "stream",
     "text": [
      "\n",
      "    SELECT DISTINCT ?a\n",
      "    WHERE {\n",
      "<http:/m/02bh9> <http:/award/award_nominee/award_nominations./award/award_nomination/award_nominee> ?f .\n",
      "?f <http:/award/award_winner/awards_won./award/award_honor/honored_for> ?a .\n",
      "}"
     ]
    },
    {
     "name": "stdout",
     "output_type": "stream",
     "text": [
      "\n"
     ]
    },
    {
     "name": "stdout",
     "output_type": "stream",
     "text": [
      "\n",
      "    SELECT DISTINCT ?a\n",
      "    WHERE {\n",
      "<http:/m/02bh9> <http:/award/award_winner/awards_won./award/award_honor/honored_for> ?a .\n",
      "<http:/m/02bh9> <http:/film/film_story_contributor/film_story_credits> ?a .\n",
      "}"
     ]
    },
    {
     "name": "stdout",
     "output_type": "stream",
     "text": [
      "\n"
     ]
    },
    {
     "name": "stdout",
     "output_type": "stream",
     "text": [
      "\n",
      "    SELECT DISTINCT ?a\n",
      "    WHERE {\n",
      "?e <http:/award/award_nominee/award_nominations./award/award_nomination/award_nominee> <http:/m/02bh9> .\n",
      "?e <http:/award/award_winner/awards_won./award/award_honor/honored_for> ?a .\n",
      "}"
     ]
    },
    {
     "name": "stdout",
     "output_type": "stream",
     "text": [
      "\n"
     ]
    },
    {
     "name": "stdout",
     "output_type": "stream",
     "text": [
      "\n",
      "    SELECT DISTINCT ?a\n",
      "    WHERE {\n",
      "<http:/m/02bh9> <http:/award/award_winner/awards_won./award/award_honor/honored_for> ?a .\n",
      "?a <http:/tv/tv_program/original_network./tv/tv_network_duration/network> <http:/m/02bh9> .\n",
      "}"
     ]
    },
    {
     "name": "stdout",
     "output_type": "stream",
     "text": [
      "\n"
     ]
    },
    {
     "name": "stdout",
     "output_type": "stream",
     "text": [
      "\n",
      "    SELECT DISTINCT ?a\n",
      "    WHERE {\n",
      "?a <http:/award/award_nominated_work/award_nominations./award/award_nomination/award_nominee> <http:/m/02bh9> .\n",
      "}"
     ]
    },
    {
     "name": "stdout",
     "output_type": "stream",
     "text": [
      "\n"
     ]
    },
    {
     "name": "stdout",
     "output_type": "stream",
     "text": [
      "\n",
      "    SELECT DISTINCT ?a\n",
      "    WHERE {\n",
      "<http:/m/02bh9> <http:/film/actor/film./film/performance/film> ?a .\n",
      "?a <http:/film/film/starring./film/performance/actor> <http:/m/02bh9> .\n",
      "}"
     ]
    },
    {
     "name": "stdout",
     "output_type": "stream",
     "text": [
      "\n"
     ]
    },
    {
     "name": "stdout",
     "output_type": "stream",
     "text": [
      "\n",
      "    SELECT DISTINCT ?a\n",
      "    WHERE {\n",
      "<http:/m/02bh9> <http:/award/award_winner/awards_won./award/award_honor/honored_for> ?a .\n",
      "<http:/m/02bh9> <http:/tv/tv_network/programs./tv/tv_network_duration/program> ?a .\n",
      "}"
     ]
    },
    {
     "name": "stdout",
     "output_type": "stream",
     "text": [
      "\n"
     ]
    },
    {
     "name": "stdout",
     "output_type": "stream",
     "text": [
      "\n",
      "    SELECT DISTINCT ?a\n",
      "    WHERE {\n",
      "<http:/m/02bh9> <http:/tv/tv_writer/tv_programs./tv/tv_program_writer_relationship/tv_program> ?a .\n",
      "}"
     ]
    },
    {
     "name": "stdout",
     "output_type": "stream",
     "text": [
      "\n"
     ]
    },
    {
     "name": "stdout",
     "output_type": "stream",
     "text": [
      "\n",
      "    SELECT DISTINCT ?a\n",
      "    WHERE {\n",
      "?f <http:/award/award_winner/awards_won./award/award_honor/award_winner> <http:/m/02bh9> .\n",
      "?a <http:/tv/tv_program/recurring_writers./tv/tv_program_writer_relationship/writer> ?f .\n",
      "}"
     ]
    },
    {
     "name": "stdout",
     "output_type": "stream",
     "text": [
      "\n"
     ]
    },
    {
     "name": "stdout",
     "output_type": "stream",
     "text": [
      "\n",
      "    SELECT DISTINCT ?a\n",
      "    WHERE {\n",
      "<http:/m/02bh9> <http:/award/award_winner/awards_won./award/award_honor/honored_for> ?f .\n",
      "?f <http:/award/award_winning_work/awards_won./award/award_honor/honored_for> ?a .\n",
      "}"
     ]
    },
    {
     "name": "stdout",
     "output_type": "stream",
     "text": [
      "\n"
     ]
    },
    {
     "name": "stdout",
     "output_type": "stream",
     "text": [
      "\n",
      "    SELECT DISTINCT ?a\n",
      "    WHERE {\n",
      "?a <http:/tv/tv_program/tv_producer./tv/tv_producer_term/producer> <http:/m/02bh9> .\n",
      "<http:/m/02bh9> <http:/tv/tv_program_creator/programs_created> ?a .\n",
      "}"
     ]
    },
    {
     "name": "stdout",
     "output_type": "stream",
     "text": [
      "\n"
     ]
    },
    {
     "name": "stdout",
     "output_type": "stream",
     "text": [
      "\n",
      "    SELECT DISTINCT ?a\n",
      "    WHERE {\n",
      "<http:/m/02bh9> <http:/film/editor/film> ?a .\n",
      "}"
     ]
    },
    {
     "name": "stdout",
     "output_type": "stream",
     "text": [
      "\n"
     ]
    },
    {
     "name": "stdout",
     "output_type": "stream",
     "text": [
      "\n",
      "    SELECT DISTINCT ?a\n",
      "    WHERE {\n",
      "?a <http:/award/award_nominated_work/award_nominations./award/award_nomination/award_nominee> <http:/m/02bh9> .\n",
      "<http:/m/02bh9> <http:/film/producer/films_executive_produced> ?a .\n",
      "}"
     ]
    },
    {
     "name": "stdout",
     "output_type": "stream",
     "text": [
      "\n"
     ]
    },
    {
     "name": "stdout",
     "output_type": "stream",
     "text": [
      "\n",
      "    SELECT DISTINCT ?a\n",
      "    WHERE {\n",
      "<http:/m/02bh9> <http:/award/award_winner/awards_won./award/award_honor/honored_for> ?a .\n",
      "<http:/m/02bh9> <http:/tv/tv_program_creator/programs_created> ?a .\n",
      "}"
     ]
    },
    {
     "name": "stdout",
     "output_type": "stream",
     "text": [
      "\n"
     ]
    },
    {
     "name": "stdout",
     "output_type": "stream",
     "text": [
      "\n",
      "    SELECT DISTINCT ?a\n",
      "    WHERE {\n",
      "?f <http:/award/award_nominee/award_nominations./award/award_nomination/award_nominee> <http:/m/02bh9> .\n",
      "?a <http:/tv/tv_program/recurring_writers./tv/tv_program_writer_relationship/writer> ?f .\n",
      "}"
     ]
    },
    {
     "name": "stdout",
     "output_type": "stream",
     "text": [
      "\n"
     ]
    },
    {
     "name": "stdout",
     "output_type": "stream",
     "text": [
      "\n",
      "    SELECT DISTINCT ?a\n",
      "    WHERE {\n",
      "<http:/m/02bh9> <http:/award/award_nominee/award_nominations./award/award_nomination/award_nominee> ?f .\n",
      "?f <http:/tv/tv_writer/tv_programs./tv/tv_program_writer_relationship/tv_program> ?a .\n",
      "}"
     ]
    },
    {
     "name": "stdout",
     "output_type": "stream",
     "text": [
      "\n"
     ]
    },
    {
     "name": "stdout",
     "output_type": "stream",
     "text": [
      "\n",
      "    SELECT DISTINCT ?a\n",
      "    WHERE {\n",
      "?f <http:/award/award_nominated_work/award_nominations./award/award_nomination/nominated_for> ?a .\n",
      "<http:/m/02bh9> <http:/award/award_winner/awards_won./award/award_honor/honored_for> ?f .\n",
      "}"
     ]
    },
    {
     "name": "stdout",
     "output_type": "stream",
     "text": [
      "\n"
     ]
    },
    {
     "name": "stdout",
     "output_type": "stream",
     "text": [
      "\n",
      "    SELECT DISTINCT ?a\n",
      "    WHERE {\n",
      "?a <http:/film/film/written_by> <http:/m/02bh9> .\n",
      "<http:/m/02bh9> <http:/film/producer/film> ?a .\n",
      "}"
     ]
    },
    {
     "name": "stdout",
     "output_type": "stream",
     "text": [
      "\n"
     ]
    },
    {
     "name": "stdout",
     "output_type": "stream",
     "text": [
      "\n",
      "    SELECT DISTINCT ?a\n",
      "    WHERE {\n",
      "<http:/m/02bh9> <http:/award/award_nominee/award_nominations./award/award_nomination/award_nominee> ?f .\n",
      "?f <http:/tv/tv_producer/programs_produced./tv/tv_producer_term/program> ?a .\n",
      "}"
     ]
    },
    {
     "name": "stdout",
     "output_type": "stream",
     "text": [
      "\n"
     ]
    },
    {
     "name": "stdout",
     "output_type": "stream",
     "text": [
      "\n",
      "    SELECT DISTINCT ?a\n",
      "    WHERE {\n",
      "?e <http:/award/award_nominated_work/award_nominations./award/award_nomination/award_nominee> <http:/m/02bh9> .\n",
      "?e <http:/film/film/sequel> ?a .\n",
      "}"
     ]
    },
    {
     "name": "stdout",
     "output_type": "stream",
     "text": [
      "\n"
     ]
    },
    {
     "name": "stdout",
     "output_type": "stream",
     "text": [
      "\n",
      "    SELECT DISTINCT ?a\n",
      "    WHERE {\n",
      "?a <http:/film/film/other_crew./film/film_crew_gig/crewmember> <http:/m/02bh9> .\n",
      "}"
     ]
    },
    {
     "name": "stdout",
     "output_type": "stream",
     "text": [
      "\n"
     ]
    },
    {
     "name": "stdout",
     "output_type": "stream",
     "text": [
      "\n",
      "    SELECT DISTINCT ?a\n",
      "    WHERE {\n",
      "<http:/m/02bh9> <http:/award/award_nominee/award_nominations./award/award_nomination/nominated_for> ?a .\n",
      "?a <http:/tv/tv_program/tv_producer./tv/tv_producer_term/producer> <http:/m/02bh9> .\n",
      "}"
     ]
    },
    {
     "name": "stdout",
     "output_type": "stream",
     "text": [
      "\n"
     ]
    },
    {
     "name": "stdout",
     "output_type": "stream",
     "text": [
      "\n",
      "    SELECT DISTINCT ?a\n",
      "    WHERE {\n",
      "?a <http:/tv/tv_program/program_creator> <http:/m/02bh9> .\n",
      "<http:/m/02bh9> <http:/tv/tv_program_creator/programs_created> ?a .\n",
      "}"
     ]
    },
    {
     "name": "stdout",
     "output_type": "stream",
     "text": [
      "\n"
     ]
    },
    {
     "name": "stdout",
     "output_type": "stream",
     "text": [
      "\n",
      "    SELECT DISTINCT ?a\n",
      "    WHERE {\n",
      "?a <http:/film/film/executive_produced_by> <http:/m/02bh9> .\n",
      "<http:/m/02bh9> <http:/film/producer/films_executive_produced> ?a .\n",
      "}"
     ]
    },
    {
     "name": "stdout",
     "output_type": "stream",
     "text": [
      "\n"
     ]
    },
    {
     "name": "stdout",
     "output_type": "stream",
     "text": [
      "\n",
      "    SELECT DISTINCT ?a\n",
      "    WHERE {\n",
      "<http:/m/02bh9> <http:/tv/tv_actor/starring_roles./tv/regular_tv_appearance/series> ?a .\n",
      "}"
     ]
    },
    {
     "name": "stdout",
     "output_type": "stream",
     "text": [
      "\n"
     ]
    },
    {
     "name": "stdout",
     "output_type": "stream",
     "text": [
      "\n",
      "    SELECT DISTINCT ?a\n",
      "    WHERE {\n",
      "?f <http:/award/award_winner/awards_won./award/award_honor/award_winner> <http:/m/02bh9> .\n",
      "?a <http:/film/film/directed_by> ?f .\n",
      "}"
     ]
    },
    {
     "name": "stdout",
     "output_type": "stream",
     "text": [
      "\n"
     ]
    },
    {
     "name": "stdout",
     "output_type": "stream",
     "text": [
      "\n",
      "    SELECT DISTINCT ?a\n",
      "    WHERE {\n",
      "?f <http:/award/award_winning_work/awards_won./award/award_honor/award_winner> <http:/m/02bh9> .\n",
      "?a <http:/award/award_winning_work/awards_won./award/award_honor/honored_for> ?f .\n",
      "}"
     ]
    },
    {
     "name": "stdout",
     "output_type": "stream",
     "text": [
      "\n"
     ]
    },
    {
     "name": "stdout",
     "output_type": "stream",
     "text": [
      "\n",
      "    SELECT DISTINCT ?a\n",
      "    WHERE {\n",
      "<http:/m/02bh9> <http:/award/award_nominee/award_nominations./award/award_nomination/nominated_for> ?a .\n",
      "<http:/m/02bh9> <http:/film/director/film> ?a .\n",
      "}"
     ]
    },
    {
     "name": "stdout",
     "output_type": "stream",
     "text": [
      "\n"
     ]
    },
    {
     "name": "stdout",
     "output_type": "stream",
     "text": [
      "\n",
      "    SELECT DISTINCT ?a\n",
      "    WHERE {\n",
      "?f <http:/award/award_nominated_work/award_nominations./award/award_nomination/award_nominee> <http:/m/02bh9> .\n",
      "?a <http:/film/film/prequel> ?f .\n",
      "}"
     ]
    },
    {
     "name": "stdout",
     "output_type": "stream",
     "text": [
      "\n"
     ]
    },
    {
     "name": "stdout",
     "output_type": "stream",
     "text": [
      "\n",
      "    SELECT DISTINCT ?a\n",
      "    WHERE {\n",
      "<http:/m/02bh9> <http:/award/award_winner/awards_won./award/award_honor/honored_for> ?a .\n",
      "?a <http:/tv/tv_program/regular_cast./tv/regular_tv_appearance/actor> <http:/m/02bh9> .\n",
      "}"
     ]
    },
    {
     "name": "stdout",
     "output_type": "stream",
     "text": [
      "\n"
     ]
    },
    {
     "name": "stdout",
     "output_type": "stream",
     "text": [
      "\n",
      "    SELECT DISTINCT ?a\n",
      "    WHERE {\n",
      "<http:/m/02bh9> <http:/award/award_nominee/award_nominations./award/award_nomination/nominated_for> ?a .\n",
      "?a <http:/tv/tv_program/program_creator> <http:/m/02bh9> .\n",
      "}"
     ]
    },
    {
     "name": "stdout",
     "output_type": "stream",
     "text": [
      "\n"
     ]
    },
    {
     "name": "stdout",
     "output_type": "stream",
     "text": [
      "\n",
      "    SELECT DISTINCT ?a\n",
      "    WHERE {\n",
      "?a <http:/award/award_nominated_work/award_nominations./award/award_nomination/award_nominee> <http:/m/02bh9> .\n",
      "?a <http:/tv/tv_program/regular_cast./tv/regular_tv_appearance/actor> <http:/m/02bh9> .\n",
      "}"
     ]
    },
    {
     "name": "stdout",
     "output_type": "stream",
     "text": [
      "\n"
     ]
    },
    {
     "name": "stdout",
     "output_type": "stream",
     "text": [
      "\n",
      "    SELECT DISTINCT ?a\n",
      "    WHERE {\n",
      "<http:/m/02bh9> <http:/film/producer/film> ?a .\n",
      "}"
     ]
    },
    {
     "name": "stdout",
     "output_type": "stream",
     "text": [
      "\n"
     ]
    },
    {
     "name": "stdout",
     "output_type": "stream",
     "text": [
      "\n",
      "    SELECT DISTINCT ?a\n",
      "    WHERE {\n",
      "?a <http:/award/award_nominated_work/award_nominations./award/award_nomination/award_nominee> <http:/m/02bh9> .\n",
      "?a <http:/film/film/executive_produced_by> <http:/m/02bh9> .\n",
      "}"
     ]
    },
    {
     "name": "stdout",
     "output_type": "stream",
     "text": [
      "\n"
     ]
    },
    {
     "name": "stdout",
     "output_type": "stream",
     "text": [
      "\n",
      "    SELECT DISTINCT ?a\n",
      "    WHERE {\n",
      "<http:/m/02bh9> <http:/award/award_nominee/award_nominations./award/award_nomination/nominated_for> ?a .\n",
      "?a <http:/film/film/produced_by> <http:/m/02bh9> .\n",
      "}"
     ]
    },
    {
     "name": "stdout",
     "output_type": "stream",
     "text": [
      "\n"
     ]
    },
    {
     "name": "stdout",
     "output_type": "stream",
     "text": [
      "\n",
      "    SELECT DISTINCT ?a\n",
      "    WHERE {\n",
      "<http:/m/02bh9> <http:/film/music_contributor/film> ?a .\n",
      "}"
     ]
    },
    {
     "name": "stdout",
     "output_type": "stream",
     "text": [
      "\n"
     ]
    },
    {
     "name": "stdout",
     "output_type": "stream",
     "text": [
      "\n",
      "    SELECT DISTINCT ?a\n",
      "    WHERE {\n",
      "<http:/m/02bh9> <http:/award/award_winner/awards_won./award/award_honor/honored_for> ?f .\n",
      "?f <http:/film/film/prequel> ?a .\n",
      "}"
     ]
    },
    {
     "name": "stdout",
     "output_type": "stream",
     "text": [
      "\n"
     ]
    },
    {
     "name": "stdout",
     "output_type": "stream",
     "text": [
      "\n",
      "    SELECT DISTINCT ?a\n",
      "    WHERE {\n",
      "?a <http:/award/award_nominated_work/award_nominations./award/award_nomination/nominated_for> ?f .\n",
      "?f <http:/award/award_winning_work/awards_won./award/award_honor/award_winner> <http:/m/02bh9> .\n",
      "}"
     ]
    },
    {
     "name": "stdout",
     "output_type": "stream",
     "text": [
      "\n"
     ]
    },
    {
     "name": "stdout",
     "output_type": "stream",
     "text": [
      "\n",
      "    SELECT DISTINCT ?a\n",
      "    WHERE {\n",
      "?f <http:/award/award_winner/awards_won./award/award_honor/award_winner> <http:/m/02bh9> .\n",
      "?a <http:/tv/tv_program/regular_cast./tv/regular_tv_appearance/actor> ?f .\n",
      "}"
     ]
    },
    {
     "name": "stdout",
     "output_type": "stream",
     "text": [
      "\n"
     ]
    },
    {
     "name": "stdout",
     "output_type": "stream",
     "text": [
      "\n",
      "    SELECT DISTINCT ?a\n",
      "    WHERE {\n",
      "?a <http:/film/film/music> <http:/m/02bh9> .\n",
      "}"
     ]
    },
    {
     "name": "stdout",
     "output_type": "stream",
     "text": [
      "\n"
     ]
    },
    {
     "name": "stdout",
     "output_type": "stream",
     "text": [
      "\n",
      "    SELECT DISTINCT ?a\n",
      "    WHERE {\n",
      "?a <http:/award/award_nominated_work/award_nominations./award/award_nomination/award_nominee> <http:/m/02bh9> .\n",
      "<http:/m/02bh9> <http:/film/actor/film./film/performance/film> ?a .\n",
      "}"
     ]
    },
    {
     "name": "stdout",
     "output_type": "stream",
     "text": [
      "\n"
     ]
    },
    {
     "name": "stdout",
     "output_type": "stream",
     "text": [
      "\n",
      "    SELECT DISTINCT ?a\n",
      "    WHERE {\n",
      "<http:/m/02bh9> <http:/award/award_nominee/award_nominations./award/award_nomination/nominated_for> ?a .\n",
      "<http:/m/02bh9> <http:/tv/tv_actor/starring_roles./tv/regular_tv_appearance/series> ?a .\n",
      "}"
     ]
    },
    {
     "name": "stdout",
     "output_type": "stream",
     "text": [
      "\n"
     ]
    },
    {
     "name": "stdout",
     "output_type": "stream",
     "text": [
      "\n",
      "    SELECT DISTINCT ?a\n",
      "    WHERE {\n",
      "?a <http:/award/award_nominated_work/award_nominations./award/award_nomination/award_nominee> <http:/m/02bh9> .\n",
      "?a <http:/film/film/written_by> <http:/m/02bh9> .\n",
      "}"
     ]
    },
    {
     "name": "stdout",
     "output_type": "stream",
     "text": [
      "\n"
     ]
    },
    {
     "name": "stdout",
     "output_type": "stream",
     "text": [
      "\n",
      "    SELECT DISTINCT ?a\n",
      "    WHERE {\n",
      "<http:/m/02bh9> <http:/award/award_winner/awards_won./award/award_honor/award_winner> ?f .\n",
      "?f <http:/tv/tv_writer/tv_programs./tv/tv_program_writer_relationship/tv_program> ?a .\n",
      "}"
     ]
    },
    {
     "name": "stdout",
     "output_type": "stream",
     "text": [
      "\n"
     ]
    },
    {
     "name": "stdout",
     "output_type": "stream",
     "text": [
      "\n",
      "    SELECT DISTINCT ?a\n",
      "    WHERE {\n",
      "?a <http:/tv/tv_program/recurring_writers./tv/tv_program_writer_relationship/writer> <http:/m/02bh9> .\n",
      "}"
     ]
    },
    {
     "name": "stdout",
     "output_type": "stream",
     "text": [
      "\n"
     ]
    },
    {
     "name": "stdout",
     "output_type": "stream",
     "text": [
      "\n",
      "    SELECT DISTINCT ?a\n",
      "    WHERE {\n",
      "<http:/m/02bh9> <http:/award/award_winner/awards_won./award/award_honor/award_winner> ?f .\n",
      "?a <http:/tv/tv_program/regular_cast./tv/regular_tv_appearance/actor> ?f .\n",
      "}"
     ]
    },
    {
     "name": "stdout",
     "output_type": "stream",
     "text": [
      "\n"
     ]
    },
    {
     "name": "stdout",
     "output_type": "stream",
     "text": [
      "\n",
      "    SELECT DISTINCT ?a\n",
      "    WHERE {\n",
      "<http:/m/02bh9> <http:/award/award_winner/awards_won./award/award_honor/award_winner> ?f .\n",
      "?a <http:/tv/tv_program/program_creator> ?f .\n",
      "}"
     ]
    },
    {
     "name": "stdout",
     "output_type": "stream",
     "text": [
      "\n"
     ]
    },
    {
     "name": "stdout",
     "output_type": "stream",
     "text": [
      "\n",
      "    SELECT DISTINCT ?a\n",
      "    WHERE {\n",
      "?a <http:/tv/tv_program/regular_cast./tv/regular_tv_appearance/actor> <http:/m/02bh9> .\n",
      "}"
     ]
    },
    {
     "name": "stdout",
     "output_type": "stream",
     "text": [
      "\n"
     ]
    },
    {
     "name": "stdout",
     "output_type": "stream",
     "text": [
      "\n",
      "    SELECT DISTINCT ?a\n",
      "    WHERE {\n",
      "<http:/m/02bh9> <http:/film/producer/films_executive_produced> ?a .\n",
      "}"
     ]
    },
    {
     "name": "stdout",
     "output_type": "stream",
     "text": [
      "\n"
     ]
    },
    {
     "name": "stdout",
     "output_type": "stream",
     "text": [
      "\n",
      "    SELECT DISTINCT ?a\n",
      "    WHERE {\n",
      "?a <http:/tv/tv_program/program_creator> <http:/m/02bh9> .\n",
      "?a <http:/tv/tv_program/tv_producer./tv/tv_producer_term/producer> <http:/m/02bh9> .\n",
      "}"
     ]
    },
    {
     "name": "stdout",
     "output_type": "stream",
     "text": [
      "\n"
     ]
    },
    {
     "name": "stdout",
     "output_type": "stream",
     "text": [
      "\n",
      "    SELECT DISTINCT ?a\n",
      "    WHERE {\n",
      "?a <http:/film/film/sequel> ?f .\n",
      "?f <http:/film/film/starring./film/performance/actor> <http:/m/02bh9> .\n",
      "}"
     ]
    },
    {
     "name": "stdout",
     "output_type": "stream",
     "text": [
      "\n"
     ]
    },
    {
     "name": "stdout",
     "output_type": "stream",
     "text": [
      "\n",
      "    SELECT DISTINCT ?a\n",
      "    WHERE {\n",
      "?a <http:/film/film/executive_produced_by> <http:/m/02bh9> .\n",
      "}"
     ]
    },
    {
     "name": "stdout",
     "output_type": "stream",
     "text": [
      "\n"
     ]
    },
    {
     "name": "stdout",
     "output_type": "stream",
     "text": [
      "\n",
      "    SELECT DISTINCT ?a\n",
      "    WHERE {\n",
      "<http:/m/02bh9> <http:/award/award_winner/awards_won./award/award_honor/award_winner> ?f .\n",
      "?f <http:/tv/tv_actor/starring_roles./tv/regular_tv_appearance/series> ?a .\n",
      "}"
     ]
    },
    {
     "name": "stdout",
     "output_type": "stream",
     "text": [
      "\n"
     ]
    },
    {
     "name": "stdout",
     "output_type": "stream",
     "text": [
      "\n",
      "    SELECT DISTINCT ?a\n",
      "    WHERE {\n",
      "<http:/m/02bh9> <http:/award/award_winner/awards_won./award/award_honor/award_winner> ?f .\n",
      "?a <http:/award/award_winning_work/awards_won./award/award_honor/award_winner> ?f .\n",
      "}"
     ]
    },
    {
     "name": "stdout",
     "output_type": "stream",
     "text": [
      "\n"
     ]
    },
    {
     "name": "stdout",
     "output_type": "stream",
     "text": [
      "\n",
      "    SELECT DISTINCT ?a\n",
      "    WHERE {\n",
      "?a <http:/film/film/written_by> <http:/m/02bh9> .\n",
      "}"
     ]
    },
    {
     "name": "stdout",
     "output_type": "stream",
     "text": [
      "\n"
     ]
    },
    {
     "name": "stdout",
     "output_type": "stream",
     "text": [
      "\n",
      "    SELECT DISTINCT ?a\n",
      "    WHERE {\n",
      "<http:/m/02bh9> <http:/award/award_winner/awards_won./award/award_honor/honored_for> ?a .\n",
      "?a <http:/tv/tv_program/recurring_writers./tv/tv_program_writer_relationship/writer> <http:/m/02bh9> .\n",
      "}"
     ]
    },
    {
     "name": "stdout",
     "output_type": "stream",
     "text": [
      "\n"
     ]
    },
    {
     "name": "stdout",
     "output_type": "stream",
     "text": [
      "\n",
      "    SELECT DISTINCT ?a\n",
      "    WHERE {\n",
      "?e <http:/award/award_nominated_work/award_nominations./award/award_nomination/award_nominee> <http:/m/02bh9> .\n",
      "?e <http:/film/film/prequel> ?a .\n",
      "}"
     ]
    },
    {
     "name": "stdout",
     "output_type": "stream",
     "text": [
      "\n"
     ]
    },
    {
     "name": "stdout",
     "output_type": "stream",
     "text": [
      "\n",
      "    SELECT DISTINCT ?a\n",
      "    WHERE {\n",
      "<http:/m/02bh9> <http:/film/director/film> ?a .\n",
      "<http:/m/02bh9> <http:/film/producer/film> ?a .\n",
      "}"
     ]
    },
    {
     "name": "stdout",
     "output_type": "stream",
     "text": [
      "\n"
     ]
    },
    {
     "name": "stdout",
     "output_type": "stream",
     "text": [
      "\n",
      "    SELECT DISTINCT ?a\n",
      "    WHERE {\n",
      "?a <http:/film/film/produced_by> <http:/m/02bh9> .\n",
      "?a <http:/film/film/starring./film/performance/actor> <http:/m/02bh9> .\n",
      "}"
     ]
    },
    {
     "name": "stdout",
     "output_type": "stream",
     "text": [
      "\n"
     ]
    },
    {
     "name": "stdout",
     "output_type": "stream",
     "text": [
      "\n",
      "    SELECT DISTINCT ?a\n",
      "    WHERE {\n",
      "?f <http:/award/award_winner/awards_won./award/award_honor/award_winner> <http:/m/02bh9> .\n",
      "?a <http:/tv/tv_program/tv_producer./tv/tv_producer_term/producer> ?f .\n",
      "}"
     ]
    },
    {
     "name": "stdout",
     "output_type": "stream",
     "text": [
      "\n"
     ]
    },
    {
     "name": "stdout",
     "output_type": "stream",
     "text": [
      "\n",
      "    SELECT DISTINCT ?a\n",
      "    WHERE {\n",
      "?a <http:/film/film/produced_by> <http:/m/02bh9> .\n",
      "}"
     ]
    },
    {
     "name": "stdout",
     "output_type": "stream",
     "text": [
      "\n"
     ]
    },
    {
     "name": "stdout",
     "output_type": "stream",
     "text": [
      "\n",
      "    SELECT DISTINCT ?a\n",
      "    WHERE {\n",
      "?a <http:/film/film/directed_by> <http:/m/02bh9> .\n",
      "<http:/m/02bh9> <http:/film/producer/film> ?a .\n",
      "}"
     ]
    },
    {
     "name": "stdout",
     "output_type": "stream",
     "text": [
      "\n"
     ]
    },
    {
     "name": "stdout",
     "output_type": "stream",
     "text": [
      "\n",
      "    SELECT DISTINCT ?a\n",
      "    WHERE {\n",
      "?a <http:/award/award_nominated_work/award_nominations./award/award_nomination/award_nominee> <http:/m/02bh9> .\n",
      "?a <http:/film/film/directed_by> <http:/m/02bh9> .\n",
      "}"
     ]
    },
    {
     "name": "stdout",
     "output_type": "stream",
     "text": [
      "\n"
     ]
    },
    {
     "name": "stdout",
     "output_type": "stream",
     "text": [
      "\n",
      "    SELECT DISTINCT ?a\n",
      "    WHERE {\n",
      "<http:/m/02bh9> <http:/award/award_nominee/award_nominations./award/award_nomination/nominated_for> ?a .\n",
      "?a <http:/film/film/written_by> <http:/m/02bh9> .\n",
      "}"
     ]
    },
    {
     "name": "stdout",
     "output_type": "stream",
     "text": [
      "\n"
     ]
    },
    {
     "name": "stdout",
     "output_type": "stream",
     "text": [
      "Value('cpt', 1)"
     ]
    },
    {
     "name": "stdout",
     "output_type": "stream",
     "text": [
      "\n"
     ]
    },
    {
     "name": "stdout",
     "output_type": "stream",
     "text": [
      "Process n°0 : Finished"
     ]
    },
    {
     "name": "stdout",
     "output_type": "stream",
     "text": [
      "\n"
     ]
    },
    {
     "name": "stdout",
     "output_type": "stream",
     "text": [
      "CPU times: user 149 ms, sys: 133 ms, total: 282 ms\n",
      "Wall time: 1.95 s\n"
     ]
    }
   ],
   "source": [
    "%%time\n",
    "\n",
    "def predict_instance(name, g, instances, prediction_per_instance_man, rules_associated_to_query, cpt, total_length, print_advancment):\n",
    "    \n",
    "    print(f\"Process n°{name} : Launched\")\n",
    "    \n",
    "    for instance in instances:\n",
    "        \n",
    "        dict_tp = {}\n",
    "        if instance[1] in rules_associated_to_query.keys():\n",
    "            for rule in rules_associated_to_query[instance[1]]:\n",
    "                try:\n",
    "                    qres = g.query(create_query(rule, instance[2]))\n",
    "                    print(create_query(rule, instance[2]))\n",
    "\n",
    "                    set_res = set()\n",
    "                    bool_res = False\n",
    "                    for row in qres:\n",
    "                        bool_res = True\n",
    "                        set_res.add(str(row.a))\n",
    "\n",
    "                    if bool_res:\n",
    "                        dict_tp[rule] = set_res\n",
    "            \n",
    "                except:\n",
    "                    print(create_query(rule, instance[2]))\n",
    "                    \n",
    "            prediction_per_instance_man[instance] = dict_tp\n",
    "            \n",
    "        else:\n",
    "            prediction_per_instance_man[instance] = {}\n",
    "        \n",
    "        cpt.value += 1\n",
    "        if (cpt.value/total_length > print_advancment.value):\n",
    "            print(cpt)\n",
    "            print_advancment.value+=0.1\n",
    "        \n",
    "    print(f\"Process n°{name} : Finished\")\n",
    "\n",
    "prediction_per_instance_test = {}\n",
    "\n",
    "size_queue = len(list(set_instances_to_predict)[:10])\n",
    "\n",
    "with Manager() as manager:\n",
    "\n",
    "    processes_to_create = 1#multiprocessing.cpu_count()-3\n",
    "    processes = list()\n",
    "\n",
    "    prediction_per_instance_man = manager.dict()\n",
    "    cpt = manager.Value(\"cpt\",0)\n",
    "    print_advancment = manager.Value(\"print_advancment\",0)\n",
    "    \n",
    "    instances_list = list(set_instances_to_predict)[:1]\n",
    "\n",
    "    for name in range(processes_to_create):\n",
    "        x = Process(target=predict_instance, args=(name, g, instances_list[int(np.floor(name*len(instances_list)/processes_to_create)): int(np.floor((name+1)*len(instances_list)/processes_to_create))], \n",
    "                                                   prediction_per_instance_man, rules_associated_to_query, cpt, size_queue, print_advancment))\n",
    "        processes.append(x)\n",
    "        x.start()\n",
    "        \n",
    "    for index, process in enumerate(processes):\n",
    "        process.join()\n",
    "\n",
    "    prediction_per_instance_test = prediction_per_instance_man.copy()"
   ]
  },
  {
   "cell_type": "markdown",
   "id": "513438fa-dd4b-470d-9f6d-9c07be54db68",
   "metadata": {
    "papermill": {
     "duration": 0.194809,
     "end_time": "2021-07-29T19:54:56.307894",
     "exception": false,
     "start_time": "2021-07-29T19:54:56.113085",
     "status": "completed"
    },
    "tags": []
   },
   "source": [
    "# DB15K"
   ]
  },
  {
   "cell_type": "code",
   "execution_count": 23,
   "id": "dce69875-0f70-47e0-bf40-94f5452ec4bd",
   "metadata": {
    "execution": {
     "iopub.execute_input": "2021-07-29T19:54:56.703800Z",
     "iopub.status.busy": "2021-07-29T19:54:56.703369Z",
     "iopub.status.idle": "2021-07-29T19:54:56.722002Z",
     "shell.execute_reply": "2021-07-29T19:54:56.722333Z"
    },
    "papermill": {
     "duration": 0.219479,
     "end_time": "2021-07-29T19:54:56.722462",
     "exception": false,
     "start_time": "2021-07-29T19:54:56.502983",
     "status": "completed"
    },
    "tags": []
   },
   "outputs": [],
   "source": [
    "data = open(root_source_DB+\"numericals.txt\", \"r\")\n",
    "\n",
    "numerical_predicate = set()\n",
    "\n",
    "for predicate in data:\n",
    "    numerical_predicate.add(predicate.split(\"\\n\")[0])\n",
    "    \n",
    "data.close()"
   ]
  },
  {
   "cell_type": "code",
   "execution_count": 24,
   "id": "d31ca650-2712-4182-a718-ef3f27b5fa44",
   "metadata": {
    "execution": {
     "iopub.execute_input": "2021-07-29T19:54:57.163137Z",
     "iopub.status.busy": "2021-07-29T19:54:57.162698Z",
     "iopub.status.idle": "2021-07-29T19:54:57.166391Z",
     "shell.execute_reply": "2021-07-29T19:54:57.166751Z"
    },
    "papermill": {
     "duration": 0.246524,
     "end_time": "2021-07-29T19:54:57.166884",
     "exception": false,
     "start_time": "2021-07-29T19:54:56.920360",
     "status": "completed"
    },
    "tags": []
   },
   "outputs": [],
   "source": [
    "thresholds = np.arange(0.25,1,0.25) #[0.25, 0.50, 0.75]\n",
    "thresholds_str = [\"-\"+(str(int(i*100))) for i in thresholds]"
   ]
  },
  {
   "cell_type": "code",
   "execution_count": 25,
   "id": "e3985b1d-886c-4ccd-852e-c997ec2a75ab",
   "metadata": {
    "execution": {
     "iopub.execute_input": "2021-07-29T19:54:57.570405Z",
     "iopub.status.busy": "2021-07-29T19:54:57.569992Z",
     "iopub.status.idle": "2021-07-29T19:54:57.573570Z",
     "shell.execute_reply": "2021-07-29T19:54:57.573889Z"
    },
    "papermill": {
     "duration": 0.211828,
     "end_time": "2021-07-29T19:54:57.574013",
     "exception": false,
     "start_time": "2021-07-29T19:54:57.362185",
     "status": "completed"
    },
    "tags": []
   },
   "outputs": [],
   "source": [
    "def give_group(value, groups):\n",
    "    for i, value_group in enumerate(groups):\n",
    "        if value < value_group:\n",
    "            return i\n",
    "    return i+1\n",
    "\n",
    "def write_file(X, f, groups):\n",
    "    f.write(f\"{X['Subject']}\\t{X['Predicate']}\\t{give_group(X['Object'], groups)}\\n\")"
   ]
  },
  {
   "cell_type": "markdown",
   "id": "d9e5574b",
   "metadata": {
    "tags": [
     "papermill-error-cell-tag"
    ]
   },
   "source": [
    "<span id=\"papermill-error-cell\" style=\"color:red; font-family:Helvetica Neue, Helvetica, Arial, sans-serif; font-size:2em;\">Execution using papermill encountered an exception here and stopped:</span>"
   ]
  },
  {
   "cell_type": "code",
   "execution_count": 26,
   "id": "ce045dd5-e824-4532-b235-f9cd0a498f21",
   "metadata": {
    "execution": {
     "iopub.execute_input": "2021-07-29T19:54:57.993434Z",
     "iopub.status.busy": "2021-07-29T19:54:57.990071Z",
     "iopub.status.idle": "2021-07-29T19:54:58.464654Z",
     "shell.execute_reply": "2021-07-29T19:54:58.463698Z"
    },
    "papermill": {
     "duration": 0.692954,
     "end_time": "2021-07-29T19:54:58.465047",
     "exception": true,
     "start_time": "2021-07-29T19:54:57.772093",
     "status": "failed"
    },
    "tags": []
   },
   "outputs": [
    {
     "ename": "NameError",
     "evalue": "name 'store_data_DB' is not defined",
     "output_type": "error",
     "traceback": [
      "\u001b[0;31m---------------------------------------------------------------------------\u001b[0m",
      "\u001b[0;31mNameError\u001b[0m                                 Traceback (most recent call last)",
      "\u001b[0;32m/tmp/ipykernel_68729/2777033610.py\u001b[0m in \u001b[0;36m<module>\u001b[0;34m\u001b[0m\n\u001b[1;32m      1\u001b[0m \u001b[0mdata\u001b[0m \u001b[0;34m=\u001b[0m \u001b[0mopen\u001b[0m\u001b[0;34m(\u001b[0m\u001b[0mroot_source_DB\u001b[0m\u001b[0;34m+\u001b[0m\u001b[0;34m\"train.txt\"\u001b[0m\u001b[0;34m,\u001b[0m \u001b[0;34m\"r\"\u001b[0m\u001b[0;34m)\u001b[0m\u001b[0;34m\u001b[0m\u001b[0;34m\u001b[0m\u001b[0m\n\u001b[0;32m----> 2\u001b[0;31m \u001b[0mf\u001b[0m \u001b[0;34m=\u001b[0m \u001b[0mopen\u001b[0m\u001b[0;34m(\u001b[0m\u001b[0mstore_data_DB\u001b[0m\u001b[0;34m,\u001b[0m \u001b[0;34m\"w\"\u001b[0m\u001b[0;34m)\u001b[0m\u001b[0;34m\u001b[0m\u001b[0;34m\u001b[0m\u001b[0m\n\u001b[0m\u001b[1;32m      3\u001b[0m \u001b[0;34m\u001b[0m\u001b[0m\n\u001b[1;32m      4\u001b[0m \u001b[0mdic_predicate\u001b[0m \u001b[0;34m=\u001b[0m \u001b[0;34m{\u001b[0m\u001b[0;34m}\u001b[0m\u001b[0;34m\u001b[0m\u001b[0;34m\u001b[0m\u001b[0m\n\u001b[1;32m      5\u001b[0m \u001b[0;34m\u001b[0m\u001b[0m\n",
      "\u001b[0;31mNameError\u001b[0m: name 'store_data_DB' is not defined"
     ]
    }
   ],
   "source": [
    "data = open(root_source_DB+\"train.txt\", \"r\")\n",
    "f = open(store_data_DB, \"w\")\n",
    "\n",
    "dic_predicate = {}\n",
    "\n",
    "for line in data: \n",
    "    line_split = line.split(\"\\n\")[0].split(\" \")\n",
    "    if len(line_split) == 1:\n",
    "        line_split = line.split(\"\\n\")[0].split(\"\\t\")\n",
    "    if line_split[1] in numerical_predicate:\n",
    "        line_split[2] = float(line_split[2]) \n",
    "        line_split = tuple(line_split)\n",
    "        if line_split[1] in dic_predicate.keys():\n",
    "            dic_predicate[line_split[1]].add(line_split)\n",
    "        else : \n",
    "            dic_predicate[line_split[1]] = {line_split}\n",
    "    else:\n",
    "        f.write(line)\n",
    "    \n",
    "data.close()\n",
    "f.close()"
   ]
  },
  {
   "cell_type": "code",
   "execution_count": null,
   "id": "f1b0bf25-e7dc-4407-ab4b-de7d3c70dcce",
   "metadata": {
    "papermill": {
     "duration": null,
     "end_time": null,
     "exception": null,
     "start_time": null,
     "status": "pending"
    },
    "tags": []
   },
   "outputs": [],
   "source": [
    "f = open(store_data_DB, \"a\")\n",
    "\n",
    "for key in dic_predicate.keys():\n",
    "    tp_df = pd.DataFrame.from_dict(dic_predicate[key]).rename(columns={0: \"Subject\", 1: \"Predicate\", 2: \"Object\"})\n",
    "    tp_df_describe = tp_df[\"Object\"].quantile(thresholds)\n",
    "    tp_df.apply(write_file, args=(f, tp_df_describe), axis=1)\n",
    "\n",
    "f.close()"
   ]
  },
  {
   "cell_type": "code",
   "execution_count": null,
   "id": "fff0cd3c-7652-4feb-b0b5-a5de7da6b6c5",
   "metadata": {
    "papermill": {
     "duration": null,
     "end_time": null,
     "exception": null,
     "start_time": null,
     "status": "pending"
    },
    "tags": []
   },
   "outputs": [],
   "source": [
    "res = check_output(f'java -jar ./../amie3.jar {store_data_DB}', shell=True)\n",
    "\n",
    "res_parsed = parse_amie(res)"
   ]
  },
  {
   "cell_type": "code",
   "execution_count": null,
   "id": "e230c553-470c-4e79-b521-b0cb8245ff0c",
   "metadata": {
    "papermill": {
     "duration": null,
     "end_time": null,
     "exception": null,
     "start_time": null,
     "status": "pending"
    },
    "tags": []
   },
   "outputs": [],
   "source": [
    "len(res_parsed)"
   ]
  },
  {
   "cell_type": "code",
   "execution_count": null,
   "id": "9e11013f-915c-4831-a3ea-a042cc16e1af",
   "metadata": {
    "collapsed": true,
    "jupyter": {
     "outputs_hidden": true
    },
    "papermill": {
     "duration": null,
     "end_time": null,
     "exception": null,
     "start_time": null,
     "status": "pending"
    },
    "tags": []
   },
   "outputs": [],
   "source": [
    "res_parsed"
   ]
  },
  {
   "cell_type": "markdown",
   "id": "8a4cddb8-7bc5-43d9-8bbb-306bf9766994",
   "metadata": {
    "papermill": {
     "duration": null,
     "end_time": null,
     "exception": null,
     "start_time": null,
     "status": "pending"
    },
    "tags": []
   },
   "source": [
    "### Number of numericals in the rules"
   ]
  },
  {
   "cell_type": "code",
   "execution_count": null,
   "id": "f8a58439-aa33-4321-8dd2-83f0d5fc8084",
   "metadata": {
    "papermill": {
     "duration": null,
     "end_time": null,
     "exception": null,
     "start_time": null,
     "status": "pending"
    },
    "tags": []
   },
   "outputs": [],
   "source": [
    "def predicate_is_numerical(atom, numerical_predicate):\n",
    "    return atom.predicate in numerical_predicate\n",
    "\n",
    "rule_with_numerical_in_hyp = 0\n",
    "rule_with_numerical_in_conc = 0\n",
    "rule_with_numerical = 0\n",
    "\n",
    "for rule in res_parsed:\n",
    "    num = False\n",
    "    for hyp in rule.hypotheses:\n",
    "        if predicate_is_numerical(hyp, numerical_predicate):\n",
    "            rule_with_numerical_in_hyp+=1\n",
    "            num = True\n",
    "            break\n",
    "    if predicate_is_numerical(rule.conclusion, numerical_predicate):\n",
    "        rule_with_numerical_in_conc+=1\n",
    "        num=True\n",
    "    if num:\n",
    "        rule_with_numerical += 1\n",
    "    \n",
    "print(\"Rule with numerical : \", rule_with_numerical)\n",
    "print(\"Rule without numerical : \", len(res_parsed) - rule_with_numerical)\n",
    "print(\"Rule with numerical in hypotheses : \", rule_with_numerical_in_hyp)\n",
    "print(\"Rule with numerical in conclusion : \", rule_with_numerical_in_conc)"
   ]
  },
  {
   "cell_type": "code",
   "execution_count": null,
   "id": "2a9b48c0-221a-4459-94f7-17f37d18a843",
   "metadata": {
    "papermill": {
     "duration": null,
     "end_time": null,
     "exception": null,
     "start_time": null,
     "status": "pending"
    },
    "tags": []
   },
   "outputs": [],
   "source": []
  }
 ],
 "metadata": {
  "kernelspec": {
   "display_name": "Python 3",
   "language": "python",
   "name": "python3"
  },
  "language_info": {
   "codemirror_mode": {
    "name": "ipython",
    "version": 3
   },
   "file_extension": ".py",
   "mimetype": "text/x-python",
   "name": "python",
   "nbconvert_exporter": "python",
   "pygments_lexer": "ipython3",
   "version": "3.8.5"
  },
  "papermill": {
   "default_parameters": {},
   "duration": 150.05398,
   "end_time": "2021-07-29T19:55:01.442920",
   "environment_variables": {},
   "exception": true,
   "input_path": "ST_rdf.ipynb",
   "output_path": "res/2021-07-29-21-52/ST_rdf.ipynb",
   "parameters": {},
   "start_time": "2021-07-29T19:52:31.388940",
   "version": "2.3.3"
  }
 },
 "nbformat": 4,
 "nbformat_minor": 5
}