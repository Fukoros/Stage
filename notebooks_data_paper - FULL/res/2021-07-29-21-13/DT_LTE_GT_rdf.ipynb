{
 "cells": [
  {
   "cell_type": "code",
   "execution_count": 1,
   "id": "6f4df3e8-3c77-422f-83ee-8af6e2d5eea6",
   "metadata": {
    "execution": {
     "iopub.execute_input": "2021-07-29T19:13:16.068538Z",
     "iopub.status.busy": "2021-07-29T19:13:16.068098Z",
     "iopub.status.idle": "2021-07-29T19:13:17.642317Z",
     "shell.execute_reply": "2021-07-29T19:13:17.640969Z"
    },
    "papermill": {
     "duration": 1.604242,
     "end_time": "2021-07-29T19:13:17.642636",
     "exception": false,
     "start_time": "2021-07-29T19:13:16.038394",
     "status": "completed"
    },
    "tags": []
   },
   "outputs": [],
   "source": [
    "import pandas as pd \n",
    "import numpy as np\n",
    "import os\n",
    "from subprocess import check_output\n",
    "import shutil\n",
    "import rdflib\n",
    "from multiprocessing import Process, Manager, Queue\n",
    "import multiprocessing\n",
    "\n",
    "from rule import *\n",
    "from amie import *\n",
    "from experiment import *"
   ]
  },
  {
   "cell_type": "code",
   "execution_count": 2,
   "id": "55f158aa-318d-4902-bf5c-e10cc9278b1c",
   "metadata": {
    "execution": {
     "iopub.execute_input": "2021-07-29T19:13:17.726397Z",
     "iopub.status.busy": "2021-07-29T19:13:17.725791Z",
     "iopub.status.idle": "2021-07-29T19:13:17.729154Z",
     "shell.execute_reply": "2021-07-29T19:13:17.729601Z"
    },
    "papermill": {
     "duration": 0.039452,
     "end_time": "2021-07-29T19:13:17.729768",
     "exception": false,
     "start_time": "2021-07-29T19:13:17.690316",
     "status": "completed"
    },
    "tags": []
   },
   "outputs": [],
   "source": [
    "root_source_FB = \"./../../FB15k_mail/\"\n",
    "root_source_DB = \"./../../DB15k_mail/\"\n",
    "\n",
    "root_data_FB = \"./../../Data_mail/FB_LTE_GT_\"\n",
    "root_data_DB = \"./../../Data_mail/DB_LTE_GT_\""
   ]
  },
  {
   "cell_type": "markdown",
   "id": "5ba56f36-0b8b-48b5-bc3f-871074efd132",
   "metadata": {
    "papermill": {
     "duration": 0.022863,
     "end_time": "2021-07-29T19:13:17.777425",
     "exception": false,
     "start_time": "2021-07-29T19:13:17.754562",
     "status": "completed"
    },
    "tags": []
   },
   "source": [
    "# FB15K "
   ]
  },
  {
   "cell_type": "markdown",
   "id": "d443c858-86b5-440d-ba2a-d53fbd1d09aa",
   "metadata": {
    "papermill": {
     "duration": 0.019855,
     "end_time": "2021-07-29T19:13:17.818979",
     "exception": false,
     "start_time": "2021-07-29T19:13:17.799124",
     "status": "completed"
    },
    "tags": []
   },
   "source": [
    "### Prepare the data\n",
    "\n",
    "As we need a baseline for Amie, we are not going to change the value of anything. "
   ]
  },
  {
   "cell_type": "code",
   "execution_count": 3,
   "id": "26367f12-8c1c-4781-a60d-3d6c265e823c",
   "metadata": {
    "execution": {
     "iopub.execute_input": "2021-07-29T19:13:17.863333Z",
     "iopub.status.busy": "2021-07-29T19:13:17.862914Z",
     "iopub.status.idle": "2021-07-29T19:13:17.868540Z",
     "shell.execute_reply": "2021-07-29T19:13:17.868202Z"
    },
    "papermill": {
     "duration": 0.030668,
     "end_time": "2021-07-29T19:13:17.868651",
     "exception": false,
     "start_time": "2021-07-29T19:13:17.837983",
     "status": "completed"
    },
    "tags": []
   },
   "outputs": [],
   "source": [
    "data = open(root_source_FB+\"numericals.txt\", \"r\")\n",
    "\n",
    "numerical_predicate = set()\n",
    "\n",
    "for predicate in data:\n",
    "    numerical_predicate.add(predicate.split(\"\\n\")[0])\n",
    "    \n",
    "data.close()"
   ]
  },
  {
   "cell_type": "code",
   "execution_count": 4,
   "id": "48a31c9e-d0ef-4975-9101-b355e827c59a",
   "metadata": {
    "execution": {
     "iopub.execute_input": "2021-07-29T19:13:17.911451Z",
     "iopub.status.busy": "2021-07-29T19:13:17.911074Z",
     "iopub.status.idle": "2021-07-29T19:13:17.915514Z",
     "shell.execute_reply": "2021-07-29T19:13:17.916427Z"
    },
    "papermill": {
     "duration": 0.030306,
     "end_time": "2021-07-29T19:13:17.916722",
     "exception": false,
     "start_time": "2021-07-29T19:13:17.886416",
     "status": "completed"
    },
    "tags": []
   },
   "outputs": [],
   "source": [
    "thresholds = np.arange(0.25,1,0.25) #[0.25, 0.50, 0.75]\n",
    "thresholds_str = [\"-\"+(str(int(i*100))) for i in thresholds]"
   ]
  },
  {
   "cell_type": "code",
   "execution_count": 5,
   "id": "6c2ba460-c1ca-4055-8ca9-e09bf10db405",
   "metadata": {
    "execution": {
     "iopub.execute_input": "2021-07-29T19:13:18.003627Z",
     "iopub.status.busy": "2021-07-29T19:13:18.002533Z",
     "iopub.status.idle": "2021-07-29T19:13:18.005888Z",
     "shell.execute_reply": "2021-07-29T19:13:18.005300Z"
    },
    "papermill": {
     "duration": 0.044586,
     "end_time": "2021-07-29T19:13:18.006042",
     "exception": false,
     "start_time": "2021-07-29T19:13:17.961456",
     "status": "completed"
    },
    "tags": []
   },
   "outputs": [],
   "source": [
    "def write_file(X, f, threshold, comparator):\n",
    "    f.write(f\"<http:{X['Subject']}>\\t{X['Predicate'][:-1]}_LTE_{threshold}>\\t<http:/{X['Object']<=comparator}>\\n\")\n",
    "    f.write(f\"<http:{X['Subject']}>\\t{X['Predicate'][:-1]}_GT_{threshold}>\\t<http:/{X['Object']>comparator}>\\n\")"
   ]
  },
  {
   "cell_type": "code",
   "execution_count": 6,
   "id": "9a88239e-a71b-4031-9ee4-702b54d93eb7",
   "metadata": {
    "execution": {
     "iopub.execute_input": "2021-07-29T19:13:18.067320Z",
     "iopub.status.busy": "2021-07-29T19:13:18.066769Z",
     "iopub.status.idle": "2021-07-29T19:13:18.960517Z",
     "shell.execute_reply": "2021-07-29T19:13:18.960132Z"
    },
    "papermill": {
     "duration": 0.926392,
     "end_time": "2021-07-29T19:13:18.960631",
     "exception": false,
     "start_time": "2021-07-29T19:13:18.034239",
     "status": "completed"
    },
    "tags": []
   },
   "outputs": [],
   "source": [
    "data = open(root_source_FB+\"train.txt\", \"r\")\n",
    "f = open(root_data_FB+\"train.tsv\", \"w\")\n",
    "\n",
    "dic_predicate = {}\n",
    "\n",
    "for line in data:\n",
    "    line_split = line.split(\"\\n\")[0].split(\"\\t\")\n",
    "    if line_split[1] in numerical_predicate:\n",
    "        line_split[2] = float(line_split[2]) \n",
    "        line_split = tuple(line_split)\n",
    "        if line_split[1] in dic_predicate.keys():\n",
    "            dic_predicate[line_split[1]].add(line_split)\n",
    "        else : \n",
    "            dic_predicate[line_split[1]] = {line_split}\n",
    "    else:\n",
    "        for var in line_split:\n",
    "            f.write('<http:'+var+'>\\t')\n",
    "        f.write(\"\\n\")\n",
    "    \n",
    "data.close()\n",
    "f.close()"
   ]
  },
  {
   "cell_type": "code",
   "execution_count": 7,
   "id": "0be17586-1335-4bb9-bfc1-def4fae71c62",
   "metadata": {
    "execution": {
     "iopub.execute_input": "2021-07-29T19:13:19.004475Z",
     "iopub.status.busy": "2021-07-29T19:13:19.003759Z",
     "iopub.status.idle": "2021-07-29T19:13:21.531684Z",
     "shell.execute_reply": "2021-07-29T19:13:21.531244Z"
    },
    "papermill": {
     "duration": 2.551236,
     "end_time": "2021-07-29T19:13:21.531788",
     "exception": false,
     "start_time": "2021-07-29T19:13:18.980552",
     "status": "completed"
    },
    "tags": []
   },
   "outputs": [],
   "source": [
    "f = open(root_data_FB+\"train.tsv\", \"a\")\n",
    "\n",
    "for key in dic_predicate.keys():\n",
    "    tp_df = pd.DataFrame.from_dict(dic_predicate[key]).rename(columns={0: \"Subject\", 1: \"Predicate\", 2: \"Object\"})\n",
    "    tp_df_describe = tp_df[\"Object\"].quantile(thresholds)\n",
    "    for threshold in thresholds: \n",
    "        tp_df.apply(write_file, args=(f, threshold, tp_df_describe[threshold]), axis=1)\n",
    "\n",
    "f.close()"
   ]
  },
  {
   "cell_type": "markdown",
   "id": "af5ee43d-f386-45ce-9f91-4bcec2a029ee",
   "metadata": {
    "papermill": {
     "duration": 0.018231,
     "end_time": "2021-07-29T19:13:21.571025",
     "exception": false,
     "start_time": "2021-07-29T19:13:21.552794",
     "status": "completed"
    },
    "tags": []
   },
   "source": [
    "### Launch Amie"
   ]
  },
  {
   "cell_type": "code",
   "execution_count": 8,
   "id": "4e0e7a85-cde5-4f70-be50-30cf796a339e",
   "metadata": {
    "execution": {
     "iopub.execute_input": "2021-07-29T19:13:21.616341Z",
     "iopub.status.busy": "2021-07-29T19:13:21.610055Z",
     "iopub.status.idle": "2021-07-29T19:21:32.812668Z",
     "shell.execute_reply": "2021-07-29T19:21:32.811519Z"
    },
    "papermill": {
     "duration": 491.224683,
     "end_time": "2021-07-29T19:21:32.812946",
     "exception": false,
     "start_time": "2021-07-29T19:13:21.588263",
     "status": "completed"
    },
    "tags": []
   },
   "outputs": [
    {
     "name": "stderr",
     "output_type": "stream",
     "text": [
      "Using the default schema relations\n"
     ]
    }
   ],
   "source": [
    "res = check_output(f'java -jar ./../amie3.jar {root_data_FB+\"train.tsv\"}', shell=True)\n",
    "\n",
    "res_parsed = parse_amie(res)"
   ]
  },
  {
   "cell_type": "code",
   "execution_count": 9,
   "id": "917d3d9a-6556-4f22-acec-d17a69094871",
   "metadata": {
    "execution": {
     "iopub.execute_input": "2021-07-29T19:21:32.914163Z",
     "iopub.status.busy": "2021-07-29T19:21:32.913432Z",
     "iopub.status.idle": "2021-07-29T19:21:32.917897Z",
     "shell.execute_reply": "2021-07-29T19:21:32.917282Z"
    },
    "papermill": {
     "duration": 0.054485,
     "end_time": "2021-07-29T19:21:32.918056",
     "exception": false,
     "start_time": "2021-07-29T19:21:32.863571",
     "status": "completed"
    },
    "tags": []
   },
   "outputs": [
    {
     "data": {
      "text/plain": [
       "339508"
      ]
     },
     "execution_count": 9,
     "metadata": {},
     "output_type": "execute_result"
    }
   ],
   "source": [
    "len(res_parsed)"
   ]
  },
  {
   "cell_type": "code",
   "execution_count": 10,
   "id": "d9464d25-1536-431c-a949-351dbe24df6a",
   "metadata": {
    "execution": {
     "iopub.execute_input": "2021-07-29T19:21:32.981319Z",
     "iopub.status.busy": "2021-07-29T19:21:32.980786Z",
     "iopub.status.idle": "2021-07-29T19:21:32.984213Z",
     "shell.execute_reply": "2021-07-29T19:21:32.983769Z"
    },
    "papermill": {
     "duration": 0.035725,
     "end_time": "2021-07-29T19:21:32.984330",
     "exception": false,
     "start_time": "2021-07-29T19:21:32.948605",
     "status": "completed"
    },
    "tags": []
   },
   "outputs": [],
   "source": [
    "# res_parsed"
   ]
  },
  {
   "cell_type": "markdown",
   "id": "966b15ff-d8aa-492c-98fb-c4380e35642f",
   "metadata": {
    "papermill": {
     "duration": 0.022478,
     "end_time": "2021-07-29T19:21:33.032085",
     "exception": false,
     "start_time": "2021-07-29T19:21:33.009607",
     "status": "completed"
    },
    "tags": []
   },
   "source": [
    "### Clean rules"
   ]
  },
  {
   "cell_type": "code",
   "execution_count": 11,
   "id": "fc54516b-6da0-4f0d-b3d2-c022c82b0b34",
   "metadata": {
    "execution": {
     "iopub.execute_input": "2021-07-29T19:21:33.182399Z",
     "iopub.status.busy": "2021-07-29T19:21:33.146159Z",
     "iopub.status.idle": "2021-07-29T19:21:33.405350Z",
     "shell.execute_reply": "2021-07-29T19:21:33.404167Z"
    },
    "papermill": {
     "duration": 0.348829,
     "end_time": "2021-07-29T19:21:33.405667",
     "exception": false,
     "start_time": "2021-07-29T19:21:33.056838",
     "status": "completed"
    },
    "tags": []
   },
   "outputs": [],
   "source": [
    "res_parsed_clean = res_parsed.copy()\n",
    "for i in res_parsed:\n",
    "    if len(i.hypotheses) == 1:\n",
    "        if (i.hypotheses[0].predicate.split(\"LTE\")[0] == i.conclusion.predicate.split(\"LTE\")[0]) and len(i.hypotheses[0].predicate.split(\"LTE\")) == 2:\n",
    "#             print(i)\n",
    "            res_parsed_clean.remove(i)"
   ]
  },
  {
   "cell_type": "code",
   "execution_count": 12,
   "id": "beebc365-62e1-44f7-b86b-6c5d53f1f901",
   "metadata": {
    "execution": {
     "iopub.execute_input": "2021-07-29T19:21:33.499461Z",
     "iopub.status.busy": "2021-07-29T19:21:33.498726Z",
     "iopub.status.idle": "2021-07-29T19:21:33.502619Z",
     "shell.execute_reply": "2021-07-29T19:21:33.502031Z"
    },
    "papermill": {
     "duration": 0.046748,
     "end_time": "2021-07-29T19:21:33.502763",
     "exception": false,
     "start_time": "2021-07-29T19:21:33.456015",
     "status": "completed"
    },
    "tags": []
   },
   "outputs": [
    {
     "data": {
      "text/plain": [
       "339358"
      ]
     },
     "execution_count": 12,
     "metadata": {},
     "output_type": "execute_result"
    }
   ],
   "source": [
    "len(res_parsed_clean)"
   ]
  },
  {
   "cell_type": "markdown",
   "id": "ead04fd0-3a4e-41b5-8c11-37e9029405af",
   "metadata": {
    "papermill": {
     "duration": 0.026747,
     "end_time": "2021-07-29T19:21:33.559715",
     "exception": false,
     "start_time": "2021-07-29T19:21:33.532968",
     "status": "completed"
    },
    "tags": []
   },
   "source": [
    "### Number of numericals in the rules"
   ]
  },
  {
   "cell_type": "code",
   "execution_count": 13,
   "id": "d57b4760-5e79-48ba-a938-ec9b088c55c3",
   "metadata": {
    "execution": {
     "iopub.execute_input": "2021-07-29T19:21:33.621653Z",
     "iopub.status.busy": "2021-07-29T19:21:33.621162Z",
     "iopub.status.idle": "2021-07-29T19:21:35.915329Z",
     "shell.execute_reply": "2021-07-29T19:21:35.916353Z"
    },
    "papermill": {
     "duration": 2.331681,
     "end_time": "2021-07-29T19:21:35.916694",
     "exception": false,
     "start_time": "2021-07-29T19:21:33.585013",
     "status": "completed"
    },
    "tags": []
   },
   "outputs": [
    {
     "name": "stdout",
     "output_type": "stream",
     "text": [
      "Rule with numerical :  299626\n",
      "Rule without numerical :  39882\n",
      "Rule with numerical in hypotheses :  299626\n",
      "Rule with numerical in conclusion :  292008\n"
     ]
    }
   ],
   "source": [
    "num_f = open(\"LTE_GT_num_rules.txt\", \"w\")\n",
    "symb_f = open(\"LTE_GT_symb_rules.txt\", \"w\")\n",
    "\n",
    "def predicate_is_numerical(atom, numerical_predicate):\n",
    "    return \"LTE\" in atom.predicate or \"GT\" in atom.predicate or atom.objectD.isdigit()\n",
    "\n",
    "rule_with_numerical_in_hyp = 0\n",
    "rule_with_numerical_in_conc = 0\n",
    "rule_with_numerical = 0\n",
    "\n",
    "for rule in res_parsed:\n",
    "    num = False\n",
    "    for hyp in rule.hypotheses:\n",
    "        if predicate_is_numerical(hyp, numerical_predicate):\n",
    "            rule_with_numerical_in_hyp+=1\n",
    "            num = True\n",
    "            break\n",
    "    if predicate_is_numerical(rule.conclusion, numerical_predicate):\n",
    "        rule_with_numerical_in_conc+=1\n",
    "        num=True\n",
    "    if num:\n",
    "        rule_with_numerical += 1\n",
    "        num_f.write(str(rule)+\"\\n\")\n",
    "    else:\n",
    "        symb_f.write(str(rule)+\"\\n\")\n",
    "    \n",
    "print(\"Rule with numerical : \", rule_with_numerical)\n",
    "print(\"Rule without numerical : \", len(res_parsed) - rule_with_numerical)\n",
    "print(\"Rule with numerical in hypotheses : \", rule_with_numerical_in_hyp)\n",
    "print(\"Rule with numerical in conclusion : \", rule_with_numerical_in_conc)\n",
    "\n",
    "num_f.close()\n",
    "symb_f.close()"
   ]
  },
  {
   "cell_type": "markdown",
   "id": "6a3a98b9-73e3-4f5c-b7aa-a4e9731408f9",
   "metadata": {
    "papermill": {
     "duration": 0.03756,
     "end_time": "2021-07-29T19:21:36.005700",
     "exception": false,
     "start_time": "2021-07-29T19:21:35.968140",
     "status": "completed"
    },
    "tags": []
   },
   "source": [
    "### Test the rules through test"
   ]
  },
  {
   "cell_type": "code",
   "execution_count": 14,
   "id": "4a24423f-560e-4af8-bb18-5e5d56f557cc",
   "metadata": {
    "execution": {
     "iopub.execute_input": "2021-07-29T19:21:36.071807Z",
     "iopub.status.busy": "2021-07-29T19:21:36.071397Z",
     "iopub.status.idle": "2021-07-29T19:21:36.586090Z",
     "shell.execute_reply": "2021-07-29T19:21:36.585345Z"
    },
    "papermill": {
     "duration": 0.548826,
     "end_time": "2021-07-29T19:21:36.586269",
     "exception": false,
     "start_time": "2021-07-29T19:21:36.037443",
     "status": "completed"
    },
    "tags": []
   },
   "outputs": [],
   "source": [
    "data = open(root_data_FB+\"train.tsv\", \"r\")\n",
    "f = open(root_data_FB+\"train_rdflib.nt\", \"w\")\n",
    "\n",
    "for line in data:\n",
    "    f.write(line.split(\"\\n\")[0]+\" . \\n\")\n",
    "\n",
    "data.close()\n",
    "f.close()"
   ]
  },
  {
   "cell_type": "code",
   "execution_count": 15,
   "id": "1e5569b4-3f47-4621-b540-fc8b8b281fd8",
   "metadata": {
    "execution": {
     "iopub.execute_input": "2021-07-29T19:21:36.648375Z",
     "iopub.status.busy": "2021-07-29T19:21:36.647883Z",
     "iopub.status.idle": "2021-07-29T19:21:36.834274Z",
     "shell.execute_reply": "2021-07-29T19:21:36.833451Z"
    },
    "papermill": {
     "duration": 0.217588,
     "end_time": "2021-07-29T19:21:36.834538",
     "exception": false,
     "start_time": "2021-07-29T19:21:36.616950",
     "status": "completed"
    },
    "tags": []
   },
   "outputs": [],
   "source": [
    "data = open(root_source_FB+\"test.txt\", \"r\")\n",
    "\n",
    "set_instances_to_predict = set()\n",
    "\n",
    "for line in data:\n",
    "    line_splited = line.split(\"\\n\")[0].split(\"\\t\")\n",
    "    for i in range(len(line_splited)):\n",
    "        line_splited[i] = \"<http:\"+line_splited[i]+\">\"\n",
    "    set_instances_to_predict.add(tuple(line_splited))\n",
    "        \n",
    "data.close()"
   ]
  },
  {
   "cell_type": "code",
   "execution_count": 16,
   "id": "bf28bd7a-270c-49e7-add2-085d66a3fd5a",
   "metadata": {
    "execution": {
     "iopub.execute_input": "2021-07-29T19:21:36.929639Z",
     "iopub.status.busy": "2021-07-29T19:21:36.928941Z",
     "iopub.status.idle": "2021-07-29T19:21:36.932977Z",
     "shell.execute_reply": "2021-07-29T19:21:36.932379Z"
    },
    "papermill": {
     "duration": 0.046943,
     "end_time": "2021-07-29T19:21:36.933122",
     "exception": false,
     "start_time": "2021-07-29T19:21:36.886179",
     "status": "completed"
    },
    "tags": []
   },
   "outputs": [
    {
     "name": "stdout",
     "output_type": "stream",
     "text": [
      "59250\n"
     ]
    }
   ],
   "source": [
    "print(len(set_instances_to_predict))"
   ]
  },
  {
   "cell_type": "code",
   "execution_count": 17,
   "id": "bb040cec-27c2-4ebb-a8f7-290e556b35e2",
   "metadata": {
    "execution": {
     "iopub.execute_input": "2021-07-29T19:21:37.075524Z",
     "iopub.status.busy": "2021-07-29T19:21:37.032962Z",
     "iopub.status.idle": "2021-07-29T19:21:38.249523Z",
     "shell.execute_reply": "2021-07-29T19:21:38.248370Z"
    },
    "papermill": {
     "duration": 1.28466,
     "end_time": "2021-07-29T19:21:38.249797",
     "exception": false,
     "start_time": "2021-07-29T19:21:36.965137",
     "status": "completed"
    },
    "tags": []
   },
   "outputs": [],
   "source": [
    "rules_associated_to_query = {}\n",
    "\n",
    "for rule in res_parsed:\n",
    "    if rule.conclusion.predicate in rules_associated_to_query.keys():\n",
    "        rules_associated_to_query[rule.conclusion.predicate].add(rule)\n",
    "    else:\n",
    "        rules_associated_to_query[rule.conclusion.predicate] = set()\n",
    "        rules_associated_to_query[rule.conclusion.predicate].add(rule)"
   ]
  },
  {
   "cell_type": "code",
   "execution_count": 18,
   "id": "7a01425c-9d1a-402f-925a-dad5cb6eda71",
   "metadata": {
    "execution": {
     "iopub.execute_input": "2021-07-29T19:21:38.380193Z",
     "iopub.status.busy": "2021-07-29T19:21:38.378924Z",
     "iopub.status.idle": "2021-07-29T19:21:54.501221Z",
     "shell.execute_reply": "2021-07-29T19:21:54.502219Z"
    },
    "papermill": {
     "duration": 16.199513,
     "end_time": "2021-07-29T19:21:54.502535",
     "exception": false,
     "start_time": "2021-07-29T19:21:38.303022",
     "status": "completed"
    },
    "tags": []
   },
   "outputs": [
    {
     "data": {
      "text/plain": [
       "<Graph identifier=Na4c9f4006c5849c7bdf54a3b612959e9 (<class 'rdflib.graph.Graph'>)>"
      ]
     },
     "execution_count": 18,
     "metadata": {},
     "output_type": "execute_result"
    }
   ],
   "source": [
    "g = rdflib.Graph()\n",
    "g.parse(root_data_FB+\"train_rdflib.nt\")"
   ]
  },
  {
   "cell_type": "code",
   "execution_count": 19,
   "id": "f224508f-b9d3-475b-beda-48bc4bddc84c",
   "metadata": {
    "execution": {
     "iopub.execute_input": "2021-07-29T19:21:54.600891Z",
     "iopub.status.busy": "2021-07-29T19:21:54.600231Z",
     "iopub.status.idle": "2021-07-29T19:21:54.602949Z",
     "shell.execute_reply": "2021-07-29T19:21:54.602303Z"
    },
    "papermill": {
     "duration": 0.047308,
     "end_time": "2021-07-29T19:21:54.603094",
     "exception": false,
     "start_time": "2021-07-29T19:21:54.555786",
     "status": "completed"
    },
    "tags": []
   },
   "outputs": [],
   "source": [
    "def print_rules_nicely(rule):\n",
    "    toprint = \"\"\n",
    "    for hyp in rule.hypotheses:\n",
    "        toprint += hyp.predicate+\" & \"\n",
    "    toprint = toprint[:-2]\n",
    "    toprint += \"=>\"+rule.conclusion.predicate\n",
    "    print(toprint)"
   ]
  },
  {
   "cell_type": "code",
   "execution_count": 20,
   "id": "d011b1a3-592a-43fb-b25e-c04535b15258",
   "metadata": {
    "execution": {
     "iopub.execute_input": "2021-07-29T19:21:54.688667Z",
     "iopub.status.busy": "2021-07-29T19:21:54.687362Z"
    },
    "papermill": {
     "duration": null,
     "end_time": null,
     "exception": false,
     "start_time": "2021-07-29T19:21:54.635167",
     "status": "running"
    },
    "tags": []
   },
   "outputs": [
    {
     "name": "stdout",
     "output_type": "stream",
     "text": [
      "Queue finished\n"
     ]
    },
    {
     "name": "stdout",
     "output_type": "stream",
     "text": [
      "Process n°0 : Launched"
     ]
    },
    {
     "name": "stdout",
     "output_type": "stream",
     "text": [
      "\n"
     ]
    },
    {
     "name": "stdout",
     "output_type": "stream",
     "text": [
      "Process n°1 : Launched"
     ]
    },
    {
     "name": "stdout",
     "output_type": "stream",
     "text": [
      "\n"
     ]
    },
    {
     "name": "stdout",
     "output_type": "stream",
     "text": [
      "Process n°2 : Launched"
     ]
    },
    {
     "name": "stdout",
     "output_type": "stream",
     "text": [
      "0"
     ]
    },
    {
     "name": "stdout",
     "output_type": "stream",
     "text": [
      "\n"
     ]
    },
    {
     "name": "stdout",
     "output_type": "stream",
     "text": [
      "Process n°3 : Launched"
     ]
    },
    {
     "name": "stdout",
     "output_type": "stream",
     "text": [
      " "
     ]
    },
    {
     "name": "stdout",
     "output_type": "stream",
     "text": [
      "%"
     ]
    },
    {
     "name": "stdout",
     "output_type": "stream",
     "text": [
      "\n"
     ]
    },
    {
     "name": "stdout",
     "output_type": "stream",
     "text": [
      "\n"
     ]
    },
    {
     "name": "stdout",
     "output_type": "stream",
     "text": [
      "Process n°4 : Launched"
     ]
    },
    {
     "name": "stdout",
     "output_type": "stream",
     "text": [
      "\n"
     ]
    },
    {
     "name": "stdout",
     "output_type": "stream",
     "text": [
      "Process n°5 : Launched"
     ]
    },
    {
     "name": "stdout",
     "output_type": "stream",
     "text": [
      "\n"
     ]
    },
    {
     "name": "stdout",
     "output_type": "stream",
     "text": [
      "Process n°6 : Launched"
     ]
    },
    {
     "name": "stdout",
     "output_type": "stream",
     "text": [
      "\n"
     ]
    },
    {
     "name": "stdout",
     "output_type": "stream",
     "text": [
      "Process n°7 : Launched"
     ]
    },
    {
     "name": "stdout",
     "output_type": "stream",
     "text": [
      "\n"
     ]
    },
    {
     "name": "stdout",
     "output_type": "stream",
     "text": [
      "Process n°9 : Launched"
     ]
    },
    {
     "name": "stdout",
     "output_type": "stream",
     "text": [
      "\n"
     ]
    },
    {
     "name": "stdout",
     "output_type": "stream",
     "text": [
      "Process n°8 : Launched"
     ]
    },
    {
     "name": "stdout",
     "output_type": "stream",
     "text": [
      "\n"
     ]
    },
    {
     "name": "stdout",
     "output_type": "stream",
     "text": [
      "Process n°10 : Launched"
     ]
    },
    {
     "name": "stdout",
     "output_type": "stream",
     "text": [
      "Process n°11 : Launched"
     ]
    },
    {
     "name": "stdout",
     "output_type": "stream",
     "text": [
      "\n"
     ]
    },
    {
     "name": "stdout",
     "output_type": "stream",
     "text": [
      "\n"
     ]
    },
    {
     "name": "stdout",
     "output_type": "stream",
     "text": [
      "Process n°12 : Launched"
     ]
    },
    {
     "name": "stdout",
     "output_type": "stream",
     "text": [
      "Process n°13 : Launched"
     ]
    },
    {
     "name": "stdout",
     "output_type": "stream",
     "text": [
      "\n"
     ]
    },
    {
     "name": "stdout",
     "output_type": "stream",
     "text": [
      "\n"
     ]
    },
    {
     "name": "stdout",
     "output_type": "stream",
     "text": [
      "Process n°14 : Launched"
     ]
    },
    {
     "name": "stdout",
     "output_type": "stream",
     "text": [
      "\n"
     ]
    },
    {
     "name": "stdout",
     "output_type": "stream",
     "text": [
      "Process n°15 : Launched"
     ]
    },
    {
     "name": "stdout",
     "output_type": "stream",
     "text": [
      "\n"
     ]
    },
    {
     "name": "stdout",
     "output_type": "stream",
     "text": [
      "Process n°16 : Launched"
     ]
    },
    {
     "name": "stdout",
     "output_type": "stream",
     "text": [
      "\n"
     ]
    },
    {
     "name": "stdout",
     "output_type": "stream",
     "text": [
      "Process n°17 : Launched"
     ]
    },
    {
     "name": "stdout",
     "output_type": "stream",
     "text": [
      "Process n°18 : Launched"
     ]
    },
    {
     "name": "stdout",
     "output_type": "stream",
     "text": [
      "\n"
     ]
    },
    {
     "name": "stdout",
     "output_type": "stream",
     "text": [
      "\n"
     ]
    },
    {
     "name": "stdout",
     "output_type": "stream",
     "text": [
      "Process n°19 : Launched"
     ]
    },
    {
     "name": "stdout",
     "output_type": "stream",
     "text": [
      "Process n°20 : Launched"
     ]
    },
    {
     "name": "stdout",
     "output_type": "stream",
     "text": [
      "\n"
     ]
    },
    {
     "name": "stdout",
     "output_type": "stream",
     "text": [
      "\n"
     ]
    },
    {
     "name": "stdout",
     "output_type": "stream",
     "text": [
      "Process n°21 : Launched"
     ]
    },
    {
     "name": "stdout",
     "output_type": "stream",
     "text": [
      "\n"
     ]
    },
    {
     "name": "stdout",
     "output_type": "stream",
     "text": [
      "Process n°22 : Launched"
     ]
    },
    {
     "name": "stdout",
     "output_type": "stream",
     "text": [
      "\n"
     ]
    },
    {
     "name": "stdout",
     "output_type": "stream",
     "text": [
      "Process n°23 : Launched"
     ]
    },
    {
     "name": "stdout",
     "output_type": "stream",
     "text": [
      "\n"
     ]
    },
    {
     "name": "stdout",
     "output_type": "stream",
     "text": [
      "Process n°24 : Launched"
     ]
    },
    {
     "name": "stdout",
     "output_type": "stream",
     "text": [
      "\n"
     ]
    },
    {
     "name": "stdout",
     "output_type": "stream",
     "text": [
      "Process n°25 : Launched"
     ]
    },
    {
     "name": "stdout",
     "output_type": "stream",
     "text": [
      "Process n°26 : Launched"
     ]
    },
    {
     "name": "stdout",
     "output_type": "stream",
     "text": [
      "\n"
     ]
    },
    {
     "name": "stdout",
     "output_type": "stream",
     "text": [
      "\n"
     ]
    },
    {
     "name": "stdout",
     "output_type": "stream",
     "text": [
      "Process n°27 : Launched"
     ]
    },
    {
     "name": "stdout",
     "output_type": "stream",
     "text": [
      "Process n°28 : Launched"
     ]
    },
    {
     "name": "stdout",
     "output_type": "stream",
     "text": [
      "\n"
     ]
    },
    {
     "name": "stdout",
     "output_type": "stream",
     "text": [
      "\n"
     ]
    },
    {
     "name": "stdout",
     "output_type": "stream",
     "text": [
      "Process n°29 : Launched"
     ]
    },
    {
     "name": "stdout",
     "output_type": "stream",
     "text": [
      "\n"
     ]
    },
    {
     "name": "stdout",
     "output_type": "stream",
     "text": [
      "Process n°30 : Launched"
     ]
    },
    {
     "name": "stdout",
     "output_type": "stream",
     "text": [
      "Process n°31 : Launched"
     ]
    },
    {
     "name": "stdout",
     "output_type": "stream",
     "text": [
      "\n"
     ]
    },
    {
     "name": "stdout",
     "output_type": "stream",
     "text": [
      "\n"
     ]
    },
    {
     "name": "stdout",
     "output_type": "stream",
     "text": [
      "Process n°32 : Launched"
     ]
    },
    {
     "name": "stdout",
     "output_type": "stream",
     "text": [
      "\n"
     ]
    },
    {
     "name": "stdout",
     "output_type": "stream",
     "text": [
      "Process n°33 : Launched"
     ]
    },
    {
     "name": "stdout",
     "output_type": "stream",
     "text": [
      "\n"
     ]
    },
    {
     "name": "stdout",
     "output_type": "stream",
     "text": [
      "Process n°34 : Launched"
     ]
    },
    {
     "name": "stdout",
     "output_type": "stream",
     "text": [
      "\n"
     ]
    },
    {
     "name": "stdout",
     "output_type": "stream",
     "text": [
      "Process n°35 : Launched"
     ]
    },
    {
     "name": "stdout",
     "output_type": "stream",
     "text": [
      "\n"
     ]
    },
    {
     "name": "stdout",
     "output_type": "stream",
     "text": [
      "Process n°36 : Launched"
     ]
    },
    {
     "name": "stdout",
     "output_type": "stream",
     "text": [
      "\n"
     ]
    },
    {
     "name": "stdout",
     "output_type": "stream",
     "text": [
      "Process n°37 : Launched"
     ]
    },
    {
     "name": "stdout",
     "output_type": "stream",
     "text": [
      "\n"
     ]
    },
    {
     "name": "stdout",
     "output_type": "stream",
     "text": [
      "Process n°38 : Launched"
     ]
    },
    {
     "name": "stdout",
     "output_type": "stream",
     "text": [
      "\n"
     ]
    },
    {
     "name": "stdout",
     "output_type": "stream",
     "text": [
      "Process n°39 : Launched"
     ]
    },
    {
     "name": "stdout",
     "output_type": "stream",
     "text": [
      "\n"
     ]
    },
    {
     "name": "stdout",
     "output_type": "stream",
     "text": [
      "Process n°40 : Launched"
     ]
    },
    {
     "name": "stdout",
     "output_type": "stream",
     "text": [
      "\n"
     ]
    },
    {
     "name": "stdout",
     "output_type": "stream",
     "text": [
      "Process n°41 : Launched"
     ]
    },
    {
     "name": "stdout",
     "output_type": "stream",
     "text": [
      "\n"
     ]
    },
    {
     "name": "stdout",
     "output_type": "stream",
     "text": [
      "Process n°42 : Launched"
     ]
    },
    {
     "name": "stdout",
     "output_type": "stream",
     "text": [
      "\n"
     ]
    },
    {
     "name": "stdout",
     "output_type": "stream",
     "text": [
      "Process n°43 : Launched"
     ]
    },
    {
     "name": "stdout",
     "output_type": "stream",
     "text": [
      "Process n°44 : Launched"
     ]
    },
    {
     "name": "stdout",
     "output_type": "stream",
     "text": [
      "\n"
     ]
    },
    {
     "name": "stdout",
     "output_type": "stream",
     "text": [
      "\n"
     ]
    },
    {
     "name": "stdout",
     "output_type": "stream",
     "text": [
      "Process n°45 : Launched"
     ]
    },
    {
     "name": "stdout",
     "output_type": "stream",
     "text": [
      "\n"
     ]
    },
    {
     "name": "stdout",
     "output_type": "stream",
     "text": [
      "Process n°46 : Launched"
     ]
    },
    {
     "name": "stdout",
     "output_type": "stream",
     "text": [
      "\n"
     ]
    },
    {
     "name": "stdout",
     "output_type": "stream",
     "text": [
      "Process n°47 : Launched"
     ]
    },
    {
     "name": "stdout",
     "output_type": "stream",
     "text": [
      "\n"
     ]
    },
    {
     "name": "stdout",
     "output_type": "stream",
     "text": [
      "Process n°48 : Launched"
     ]
    },
    {
     "name": "stdout",
     "output_type": "stream",
     "text": [
      "\n"
     ]
    },
    {
     "name": "stdout",
     "output_type": "stream",
     "text": [
      "Process n°49 : Launched"
     ]
    },
    {
     "name": "stdout",
     "output_type": "stream",
     "text": [
      "\n"
     ]
    },
    {
     "name": "stdout",
     "output_type": "stream",
     "text": [
      "Process n°50 : Launched"
     ]
    },
    {
     "name": "stdout",
     "output_type": "stream",
     "text": [
      "\n"
     ]
    },
    {
     "name": "stdout",
     "output_type": "stream",
     "text": [
      "Process n°51 : Launched"
     ]
    },
    {
     "name": "stdout",
     "output_type": "stream",
     "text": [
      "\n"
     ]
    },
    {
     "name": "stdout",
     "output_type": "stream",
     "text": [
      "Process n°53 : Launched"
     ]
    },
    {
     "name": "stdout",
     "output_type": "stream",
     "text": [
      "Process n°52 : Launched"
     ]
    },
    {
     "name": "stdout",
     "output_type": "stream",
     "text": [
      "\n"
     ]
    },
    {
     "name": "stdout",
     "output_type": "stream",
     "text": [
      "\n"
     ]
    },
    {
     "name": "stdout",
     "output_type": "stream",
     "text": [
      "Process n°55 : Launched"
     ]
    },
    {
     "name": "stdout",
     "output_type": "stream",
     "text": [
      "Process n°54 : Launched"
     ]
    },
    {
     "name": "stdout",
     "output_type": "stream",
     "text": [
      "\n"
     ]
    },
    {
     "name": "stdout",
     "output_type": "stream",
     "text": [
      "\n"
     ]
    },
    {
     "name": "stdout",
     "output_type": "stream",
     "text": [
      "Process n°57 : Launched"
     ]
    },
    {
     "name": "stdout",
     "output_type": "stream",
     "text": [
      "Process n°56 : Launched"
     ]
    },
    {
     "name": "stdout",
     "output_type": "stream",
     "text": [
      "\n"
     ]
    },
    {
     "name": "stdout",
     "output_type": "stream",
     "text": [
      "\n"
     ]
    },
    {
     "name": "stdout",
     "output_type": "stream",
     "text": [
      "Process n°58 : Launched"
     ]
    },
    {
     "name": "stdout",
     "output_type": "stream",
     "text": [
      "\n"
     ]
    },
    {
     "name": "stdout",
     "output_type": "stream",
     "text": [
      "Process n°59 : Launched"
     ]
    },
    {
     "name": "stdout",
     "output_type": "stream",
     "text": [
      "\n"
     ]
    },
    {
     "name": "stdout",
     "output_type": "stream",
     "text": [
      "Process n°61 : Launched"
     ]
    },
    {
     "name": "stdout",
     "output_type": "stream",
     "text": [
      "Process n°60 : Launched"
     ]
    },
    {
     "name": "stdout",
     "output_type": "stream",
     "text": [
      "\n"
     ]
    },
    {
     "name": "stdout",
     "output_type": "stream",
     "text": [
      "Process n°62 : Launched"
     ]
    },
    {
     "name": "stdout",
     "output_type": "stream",
     "text": [
      "\n"
     ]
    },
    {
     "name": "stdout",
     "output_type": "stream",
     "text": [
      "\n"
     ]
    },
    {
     "name": "stdout",
     "output_type": "stream",
     "text": [
      "Process n°63 : Launched"
     ]
    },
    {
     "name": "stdout",
     "output_type": "stream",
     "text": [
      "\n"
     ]
    },
    {
     "name": "stdout",
     "output_type": "stream",
     "text": [
      "Process n°65 : Launched"
     ]
    },
    {
     "name": "stdout",
     "output_type": "stream",
     "text": [
      "Process n°64 : Launched"
     ]
    },
    {
     "name": "stdout",
     "output_type": "stream",
     "text": [
      "\n"
     ]
    },
    {
     "name": "stdout",
     "output_type": "stream",
     "text": [
      "\n"
     ]
    },
    {
     "name": "stdout",
     "output_type": "stream",
     "text": [
      "Process n°67 : Launched"
     ]
    },
    {
     "name": "stdout",
     "output_type": "stream",
     "text": [
      "Process n°66 : Launched"
     ]
    },
    {
     "name": "stdout",
     "output_type": "stream",
     "text": [
      "\n"
     ]
    },
    {
     "name": "stdout",
     "output_type": "stream",
     "text": [
      "\n"
     ]
    },
    {
     "name": "stdout",
     "output_type": "stream",
     "text": [
      "Process n°68 : Launched"
     ]
    },
    {
     "name": "stdout",
     "output_type": "stream",
     "text": [
      "Process n°69 : Launched"
     ]
    },
    {
     "name": "stdout",
     "output_type": "stream",
     "text": [
      "\n"
     ]
    },
    {
     "name": "stdout",
     "output_type": "stream",
     "text": [
      "Process n°70 : Launched"
     ]
    },
    {
     "name": "stdout",
     "output_type": "stream",
     "text": [
      "\n"
     ]
    },
    {
     "name": "stdout",
     "output_type": "stream",
     "text": [
      "\n"
     ]
    },
    {
     "name": "stdout",
     "output_type": "stream",
     "text": [
      "Process n°71 : Launched"
     ]
    },
    {
     "name": "stdout",
     "output_type": "stream",
     "text": [
      "Process n°72 : Launched"
     ]
    },
    {
     "name": "stdout",
     "output_type": "stream",
     "text": [
      "\n"
     ]
    },
    {
     "name": "stdout",
     "output_type": "stream",
     "text": [
      "\n"
     ]
    },
    {
     "name": "stdout",
     "output_type": "stream",
     "text": [
      "Process n°73 : Launched"
     ]
    },
    {
     "name": "stdout",
     "output_type": "stream",
     "text": [
      "\n"
     ]
    },
    {
     "name": "stdout",
     "output_type": "stream",
     "text": [
      "Process n°74 : Launched"
     ]
    },
    {
     "name": "stdout",
     "output_type": "stream",
     "text": [
      "\n"
     ]
    },
    {
     "name": "stdout",
     "output_type": "stream",
     "text": [
      "Process n°75 : Launched"
     ]
    },
    {
     "name": "stdout",
     "output_type": "stream",
     "text": [
      "Process n°76 : Launched"
     ]
    },
    {
     "name": "stdout",
     "output_type": "stream",
     "text": [
      "\n"
     ]
    },
    {
     "name": "stdout",
     "output_type": "stream",
     "text": [
      "\n"
     ]
    },
    {
     "name": "stdout",
     "output_type": "stream",
     "text": [
      "Process n°77 : Launched"
     ]
    },
    {
     "name": "stdout",
     "output_type": "stream",
     "text": [
      "\n"
     ]
    },
    {
     "name": "stdout",
     "output_type": "stream",
     "text": [
      "Process n°78 : Launched"
     ]
    },
    {
     "name": "stdout",
     "output_type": "stream",
     "text": [
      "\n"
     ]
    },
    {
     "name": "stdout",
     "output_type": "stream",
     "text": [
      "10.0"
     ]
    }
   ],
   "source": [
    "%%time\n",
    "\n",
    "def predict_instance(name, g, queue, prediction_per_instance_man, rules_associated_to_query, cpt, total_length, print_advancment):\n",
    "    \n",
    "    print(f\"Process n°{name} : Launched\")\n",
    "    \n",
    "    while not queue.empty():\n",
    "        \n",
    "        instance = queue.get()\n",
    "        \n",
    "        dict_tp = {}\n",
    "        \n",
    "        if instance[1] in rules_associated_to_query.keys():\n",
    "            for rule in rules_associated_to_query[instance[1]]:\n",
    "                try:\n",
    "                    qres = g.query(create_query(rule, instance[2]))\n",
    "\n",
    "                    set_res = set()\n",
    "                    bool_res = False\n",
    "                    for row in qres:\n",
    "                        bool_res = True\n",
    "                        set_res.add(str(row.a))\n",
    "\n",
    "                    if bool_res:\n",
    "                        dict_tp[rule] = set_res\n",
    "            \n",
    "                except:\n",
    "                    print(create_query(rule, instance[2]))\n",
    "                    \n",
    "            prediction_per_instance_man[instance] = dict_tp\n",
    "            \n",
    "        else:\n",
    "            prediction_per_instance_man[instance] = {}\n",
    "        \n",
    "        cpt.value += 1\n",
    "        if (cpt.value/total_length > print_advancment.value):\n",
    "            print(print_advancment.value*100, \"%\")\n",
    "            print_advancment.value+=0.1\n",
    "        \n",
    "    print(f\"Process n°{name} : Finished\")   \n",
    "    \n",
    "q = Queue()\n",
    "prediction_per_instance = {}\n",
    "\n",
    "for instance in list(set_instances_to_predict):\n",
    "    q.put(instance)\n",
    "\n",
    "size_queue = q.qsize()\n",
    "\n",
    "print(\"Queue finished\")\n",
    "\n",
    "with Manager() as manager:\n",
    "\n",
    "    processes_to_create = multiprocessing.cpu_count()-1\n",
    "    processes = list()\n",
    "\n",
    "    prediction_per_instance_man = manager.dict()\n",
    "    cpt = manager.Value(\"cpt\",0)\n",
    "    print_advancment = manager.Value(\"print_advancment\",0)\n",
    "\n",
    "    for name in range(processes_to_create):\n",
    "        x = Process(target=predict_instance, args=(name, g, q, prediction_per_instance_man, rules_associated_to_query, cpt, size_queue, print_advancment))\n",
    "        processes.append(x)\n",
    "        x.start()\n",
    "        \n",
    "    for index, process in enumerate(processes):\n",
    "        process.join()\n",
    "    \n",
    "    print(\"copy\")\n",
    "    \n",
    "    df_prediction = {}\n",
    "    \n",
    "    cpt = 0\n",
    "    advcement = 0.1\n",
    "    total_length = len(prediction_per_instance_man)\n",
    "    \n",
    "    del g\n",
    "\n",
    "    for prediction_instance in prediction_per_instance_man:\n",
    "        df_rules = {}\n",
    "        cpt += 1\n",
    "        for rule in prediction_per_instance_man[prediction_instance]:\n",
    "            df_rules[rule] = [set(prediction_per_instance_man[prediction_instance][rule]), rule.stdConfidence, rule.pcaConfidence]\n",
    "        df_prediction[prediction_instance] = pd.DataFrame.from_dict(df_rules, orient=\"index\", columns=[\"Prediction\", \"Std Confidence\", \"Pca Confidence\"])\n",
    "        \n",
    "        if (cpt/total_length > advcement):\n",
    "            print(advcement *100, \"%\")\n",
    "            advcement+=0.1\n",
    "        \n",
    "    print(\"----- Democracy -----\")\n",
    "    hit_at(df_prediction, democracy, 1)\n",
    "    hit_at(df_prediction, democracy, 5)\n",
    "    hit_at(df_prediction, democracy, 10)\n",
    "    hit_at(df_prediction, democracy, 1000)\n",
    "\n",
    "    print(\"----- Expert -----\")\n",
    "    hit_at(df_prediction, expert, 1)\n",
    "    hit_at(df_prediction, expert, 5)\n",
    "    hit_at(df_prediction, expert, 10)\n",
    "    hit_at(df_prediction, expert, 1000)"
   ]
  },
  {
   "cell_type": "code",
   "execution_count": null,
   "id": "638df3a7-1a20-495a-b312-aa71ef71e5a4",
   "metadata": {
    "papermill": {
     "duration": null,
     "end_time": null,
     "exception": null,
     "start_time": null,
     "status": "pending"
    },
    "tags": []
   },
   "outputs": [],
   "source": [
    "len(prediction_per_instance.keys())"
   ]
  },
  {
   "cell_type": "code",
   "execution_count": null,
   "id": "59896456-05d1-4657-94f6-ce13c5a33ffe",
   "metadata": {
    "papermill": {
     "duration": null,
     "end_time": null,
     "exception": null,
     "start_time": null,
     "status": "pending"
    },
    "tags": []
   },
   "outputs": [],
   "source": [
    "df_prediction = {}\n",
    "\n",
    "for prediction_instance in prediction_per_instance:\n",
    "    df_rules = {}\n",
    "    for rule in prediction_per_instance[prediction_instance]:\n",
    "        df_rules[rule] = [set(prediction_per_instance[prediction_instance][rule]), rule.stdConfidence, rule.pcaConfidence]\n",
    "    df_prediction[prediction_instance] = pd.DataFrame.from_dict(df_rules, orient=\"index\", columns=[\"Prediction\", \"Std Confidence\", \"Pca Confidence\"])"
   ]
  },
  {
   "cell_type": "code",
   "execution_count": null,
   "id": "e53eeb00-a8d7-465c-ae98-b5e2331b733d",
   "metadata": {
    "papermill": {
     "duration": null,
     "end_time": null,
     "exception": null,
     "start_time": null,
     "status": "pending"
    },
    "tags": []
   },
   "outputs": [],
   "source": [
    "print(\"----- Democracy -----\")\n",
    "hit_at(df_prediction, democracy, 2)\n",
    "hit_at(df_prediction, democracy, 5)\n",
    "hit_at(df_prediction, democracy, 10)\n",
    "hit_at(df_prediction, democracy, 1000)\n",
    "\n",
    "print(\"----- Expert -----\")\n",
    "hit_at(df_prediction, expert, 2)\n",
    "hit_at(df_prediction, expert, 5)\n",
    "hit_at(df_prediction, expert, 10)\n",
    "hit_at(df_prediction, expert, 1000)"
   ]
  },
  {
   "cell_type": "code",
   "execution_count": null,
   "id": "447a66f2-90b7-4997-b9c2-db9becccd92e",
   "metadata": {
    "papermill": {
     "duration": null,
     "end_time": null,
     "exception": null,
     "start_time": null,
     "status": "pending"
    },
    "tags": []
   },
   "outputs": [],
   "source": [
    "%%time\n",
    "\n",
    "def predict_instance(name, g, instances, prediction_per_instance_man, rules_associated_to_query, cpt, total_length, print_advancment):\n",
    "    \n",
    "    print(f\"Process n°{name} : Launched\")\n",
    "    \n",
    "    for instance in instances:\n",
    "        \n",
    "        dict_tp = {}\n",
    "        if instance[1] in rules_associated_to_query.keys():\n",
    "            for rule in rules_associated_to_query[instance[1]]:\n",
    "                try:\n",
    "                    qres = g.query(create_query(rule, instance[2]))\n",
    "                    tp = create_query(rule, instance[2])\n",
    "                    if (\"LTE\"  in tp) or (\"GT\" in tp):\n",
    "                        print(tp)\n",
    "\n",
    "                    set_res = set()\n",
    "                    bool_res = False\n",
    "                    for row in qres:\n",
    "                        bool_res = True\n",
    "                        set_res.add(str(row.a))\n",
    "\n",
    "                    if bool_res:\n",
    "                        dict_tp[rule] = set_res\n",
    "            \n",
    "                except:\n",
    "                    print(create_query(rule, instance[2]))\n",
    "                    \n",
    "            prediction_per_instance_man[instance] = dict_tp\n",
    "            \n",
    "        else:\n",
    "            prediction_per_instance_man[instance] = {}\n",
    "        \n",
    "        cpt.value += 1\n",
    "        if (cpt.value/total_length > print_advancment.value):\n",
    "            print(cpt)\n",
    "            print_advancment.value+=0.1\n",
    "        \n",
    "    print(f\"Process n°{name} : Finished\")\n",
    "\n",
    "prediction_per_instance_test = {}\n",
    "\n",
    "size_queue = len(list(set_instances_to_predict)[:100])\n",
    "\n",
    "with Manager() as manager:\n",
    "\n",
    "    processes_to_create = 1#multiprocessing.cpu_count()-3\n",
    "    processes = list()\n",
    "\n",
    "    prediction_per_instance_man = manager.dict()\n",
    "    cpt = manager.Value(\"cpt\",0)\n",
    "    print_advancment = manager.Value(\"print_advancment\",0)\n",
    "    \n",
    "    instances_list = list(set_instances_to_predict)[:100]\n",
    "\n",
    "    for name in range(processes_to_create):\n",
    "        x = Process(target=predict_instance, args=(name, g, instances_list[int(np.floor(name*len(instances_list)/processes_to_create)): int(np.floor((name+1)*len(instances_list)/processes_to_create))], \n",
    "                                                   prediction_per_instance_man, rules_associated_to_query, cpt, size_queue, print_advancment))\n",
    "        processes.append(x)\n",
    "        x.start()\n",
    "        \n",
    "    for index, process in enumerate(processes):\n",
    "        process.join()\n",
    "\n",
    "    prediction_per_instance_test = prediction_per_instance_man.copy()"
   ]
  },
  {
   "cell_type": "markdown",
   "id": "de5ee228-47b2-470c-b636-8455a29ead27",
   "metadata": {
    "papermill": {
     "duration": null,
     "end_time": null,
     "exception": null,
     "start_time": null,
     "status": "pending"
    },
    "tags": []
   },
   "source": [
    "# DB15K "
   ]
  },
  {
   "cell_type": "markdown",
   "id": "4d0f29d8-63d2-49bc-9c81-7b7dc9d2e6f6",
   "metadata": {
    "papermill": {
     "duration": null,
     "end_time": null,
     "exception": null,
     "start_time": null,
     "status": "pending"
    },
    "tags": []
   },
   "source": [
    "### Prepare the data\n",
    "\n",
    "As we need a baseline for Amie, we are not going to change the value of anything. "
   ]
  },
  {
   "cell_type": "code",
   "execution_count": null,
   "id": "96160111-1cf0-4ba9-bbea-a7e73eb79364",
   "metadata": {
    "papermill": {
     "duration": null,
     "end_time": null,
     "exception": null,
     "start_time": null,
     "status": "pending"
    },
    "tags": []
   },
   "outputs": [],
   "source": [
    "data = open(root_source_DB+\"numericals.txt\", \"r\")\n",
    "\n",
    "numerical_predicate = set()\n",
    "\n",
    "for predicate in data:\n",
    "    numerical_predicate.add(predicate.split(\"\\n\")[0])\n",
    "    \n",
    "data.close()"
   ]
  },
  {
   "cell_type": "code",
   "execution_count": null,
   "id": "2ed41fd1-2e6a-434d-8113-9821f62e7394",
   "metadata": {
    "papermill": {
     "duration": null,
     "end_time": null,
     "exception": null,
     "start_time": null,
     "status": "pending"
    },
    "tags": []
   },
   "outputs": [],
   "source": [
    "thresholds = np.arange(0.25,1,0.25) #[0.25, 0.50, 0.75]\n",
    "thresholds_str = [\"-\"+(str(int(i*100))) for i in thresholds]"
   ]
  },
  {
   "cell_type": "code",
   "execution_count": null,
   "id": "a1e8c906-f977-458d-b786-4cd54c57b4df",
   "metadata": {
    "papermill": {
     "duration": null,
     "end_time": null,
     "exception": null,
     "start_time": null,
     "status": "pending"
    },
    "tags": []
   },
   "outputs": [],
   "source": [
    "data = open(root_source_DB+\"train.txt\", \"r\")\n",
    "f = open(store_data_DB, \"w\")\n",
    "\n",
    "dic_predicate = {}\n",
    "\n",
    "for line in data:\n",
    "    line_split = line.split(\"\\n\")[0].split(\" \")\n",
    "    if len(line_split) == 1:\n",
    "        line_split = line.split(\"\\n\")[0].split(\"\\t\")\n",
    "    if line_split[1] in numerical_predicate:\n",
    "        line_split[2] = float(line_split[2]) \n",
    "        line_split = tuple(line_split)\n",
    "        if line_split[1] in dic_predicate.keys():\n",
    "            dic_predicate[line_split[1]].add(line_split)\n",
    "        else : \n",
    "            dic_predicate[line_split[1]] = {line_split}\n",
    "    else:\n",
    "        f.write(line)\n",
    "    \n",
    "data.close()\n",
    "f.close()"
   ]
  },
  {
   "cell_type": "code",
   "execution_count": null,
   "id": "3c71a054-48e8-4b94-8f1a-d1e4ccf3b3d4",
   "metadata": {
    "papermill": {
     "duration": null,
     "end_time": null,
     "exception": null,
     "start_time": null,
     "status": "pending"
    },
    "tags": []
   },
   "outputs": [],
   "source": [
    "f = open(store_data_DB, \"a\")\n",
    "\n",
    "for key in dic_predicate.keys():\n",
    "    tp_df = pd.DataFrame.from_dict(dic_predicate[key]).rename(columns={0: \"Subject\", 1: \"Predicate\", 2: \"Object\"})\n",
    "    tp_df_describe = tp_df[\"Object\"].quantile(thresholds)\n",
    "    for threshold in thresholds: \n",
    "        tp_df.apply(write_file, args=(f, threshold, tp_df_describe[threshold]), axis=1)\n",
    "\n",
    "f.close()"
   ]
  },
  {
   "cell_type": "markdown",
   "id": "ada6cd06-8d3a-4554-8997-59036d7dd2a3",
   "metadata": {
    "papermill": {
     "duration": null,
     "end_time": null,
     "exception": null,
     "start_time": null,
     "status": "pending"
    },
    "tags": []
   },
   "source": [
    "### Launch Amie"
   ]
  },
  {
   "cell_type": "code",
   "execution_count": null,
   "id": "98239605-ff0f-4d17-a551-f58287611043",
   "metadata": {
    "papermill": {
     "duration": null,
     "end_time": null,
     "exception": null,
     "start_time": null,
     "status": "pending"
    },
    "tags": []
   },
   "outputs": [],
   "source": [
    "res = check_output(f'java -jar ./../amie3.jar {store_data_DB}', shell=True)\n",
    "\n",
    "res_parsed = parse_amie(res)"
   ]
  },
  {
   "cell_type": "code",
   "execution_count": null,
   "id": "294b5daf-a6bb-4f2b-87de-762746c07934",
   "metadata": {
    "papermill": {
     "duration": null,
     "end_time": null,
     "exception": null,
     "start_time": null,
     "status": "pending"
    },
    "tags": []
   },
   "outputs": [],
   "source": [
    "len(res_parsed)"
   ]
  },
  {
   "cell_type": "code",
   "execution_count": null,
   "id": "4eae7847-e2c8-4eb6-afab-2ae64bb89acc",
   "metadata": {
    "collapsed": true,
    "jupyter": {
     "outputs_hidden": true
    },
    "papermill": {
     "duration": null,
     "end_time": null,
     "exception": null,
     "start_time": null,
     "status": "pending"
    },
    "tags": []
   },
   "outputs": [],
   "source": [
    "res_parsed"
   ]
  },
  {
   "cell_type": "markdown",
   "id": "a71be8ec-aa75-4cdb-ba82-5f8b20170ac2",
   "metadata": {
    "papermill": {
     "duration": null,
     "end_time": null,
     "exception": null,
     "start_time": null,
     "status": "pending"
    },
    "tags": []
   },
   "source": [
    "### Clean rules"
   ]
  },
  {
   "cell_type": "code",
   "execution_count": null,
   "id": "a90dbf1e-c2de-4ff0-8931-b7dbad4057c4",
   "metadata": {
    "collapsed": true,
    "jupyter": {
     "outputs_hidden": true
    },
    "papermill": {
     "duration": null,
     "end_time": null,
     "exception": null,
     "start_time": null,
     "status": "pending"
    },
    "tags": []
   },
   "outputs": [],
   "source": [
    "res_parsed_clean = res_parsed.copy()\n",
    "for i in res_parsed:\n",
    "    if len(i.hypotheses) == 1:\n",
    "        if (i.hypotheses[0].predicate.split(\"LTE\")[0] == i.conclusion.predicate.split(\"LTE\")[0]) and len(i.hypotheses[0].predicate.split(\"LTE\")) == 2:\n",
    "            print(i)\n",
    "            res_parsed_clean.remove(i)"
   ]
  },
  {
   "cell_type": "code",
   "execution_count": null,
   "id": "bcd74a86-4d5f-43d1-aad6-82c72bd68ec0",
   "metadata": {
    "papermill": {
     "duration": null,
     "end_time": null,
     "exception": null,
     "start_time": null,
     "status": "pending"
    },
    "tags": []
   },
   "outputs": [],
   "source": [
    "len(res_parsed_clean)"
   ]
  },
  {
   "cell_type": "markdown",
   "id": "fc30999d-f37a-49d7-b613-cdcd31369f97",
   "metadata": {
    "papermill": {
     "duration": null,
     "end_time": null,
     "exception": null,
     "start_time": null,
     "status": "pending"
    },
    "tags": []
   },
   "source": [
    "### Number of numericals in the rules"
   ]
  },
  {
   "cell_type": "code",
   "execution_count": null,
   "id": "2c31eaf9-dfc3-4344-9738-6d4de41ed4f5",
   "metadata": {
    "papermill": {
     "duration": null,
     "end_time": null,
     "exception": null,
     "start_time": null,
     "status": "pending"
    },
    "tags": []
   },
   "outputs": [],
   "source": [
    "def predicate_is_numerical(atom):\n",
    "    return \"LTE\" in atom.predicate or \"GT\" in atom.predicate or atom.objectD.isdigit()\n",
    "\n",
    "rule_with_numerical_in_hyp = 0\n",
    "rule_with_numerical_in_conc = 0\n",
    "rule_with_numerical = 0\n",
    "\n",
    "for rule in res_parsed_clean:\n",
    "    num = False\n",
    "    for hyp in rule.hypotheses:\n",
    "        if predicate_is_numerical(hyp):\n",
    "            rule_with_numerical_in_hyp+=1\n",
    "            num = True\n",
    "            break\n",
    "    if predicate_is_numerical(rule.conclusion):\n",
    "        rule_with_numerical_in_conc+=1\n",
    "        num=True\n",
    "    if num:\n",
    "        rule_with_numerical += 1\n",
    "    \n",
    "print(\"Rule with numerical : \", rule_with_numerical)\n",
    "print(\"Rule without numerical : \", len(res_parsed_clean) - rule_with_numerical)\n",
    "print(\"Rule with numerical in hypotheses : \", rule_with_numerical_in_hyp)\n",
    "print(\"Rule with numerical in conclusion : \", rule_with_numerical_in_conc)"
   ]
  },
  {
   "cell_type": "code",
   "execution_count": null,
   "id": "c33852c8-c047-423f-a486-de49119add01",
   "metadata": {
    "papermill": {
     "duration": null,
     "end_time": null,
     "exception": null,
     "start_time": null,
     "status": "pending"
    },
    "tags": []
   },
   "outputs": [],
   "source": []
  }
 ],
 "metadata": {
  "kernelspec": {
   "display_name": "Python 3",
   "language": "python",
   "name": "python3"
  },
  "language_info": {
   "codemirror_mode": {
    "name": "ipython",
    "version": 3
   },
   "file_extension": ".py",
   "mimetype": "text/x-python",
   "name": "python",
   "nbconvert_exporter": "python",
   "pygments_lexer": "ipython3",
   "version": "3.8.8"
  },
  "papermill": {
   "default_parameters": {},
   "duration": null,
   "end_time": null,
   "environment_variables": {},
   "exception": null,
   "input_path": "DT_LTE_GT_rdf.ipynb",
   "output_path": "res/2021-07-29-21-13/DT_LTE_GT_rdf.ipynb",
   "parameters": {},
   "start_time": "2021-07-29T19:13:12.799265",
   "version": "2.3.3"
  }
 },
 "nbformat": 4,
 "nbformat_minor": 5
}